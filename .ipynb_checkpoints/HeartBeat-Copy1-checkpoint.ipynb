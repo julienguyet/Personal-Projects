{
 "cells": [
  {
   "cell_type": "markdown",
   "metadata": {},
   "source": [
    "<h1> Introduction"
   ]
  },
  {
   "cell_type": "markdown",
   "metadata": {},
   "source": [
    "Hi and welcome to my student project! I started this project while performing Vivadata Data Science Bootcamp in Paris (October - December 2019). \n",
    "\n",
    "In the next cells of code we will analyze heartbeat sounds and try to classify each sound depending on its characteristics. Our goal? Prevent heart disease!"
   ]
  },
  {
   "cell_type": "markdown",
   "metadata": {},
   "source": [
    "   "
   ]
  },
  {
   "cell_type": "markdown",
   "metadata": {},
   "source": [
    "<h2> Importing labels for both dataset A (Apple) and dataset B (hospital)"
   ]
  },
  {
   "cell_type": "code",
   "execution_count": 1,
   "metadata": {},
   "outputs": [],
   "source": [
    "import os\n",
    "import pandas as pd\n",
    "import numpy as np\n",
    "import pylab\n",
    "import wave\n",
    "from scipy.io import wavfile as wav\n",
    "from scipy.fftpack import fft\n",
    "import numpy as np\n",
    "import matplotlib.pyplot as plt\n",
    "import librosa"
   ]
  },
  {
   "cell_type": "code",
   "execution_count": 5,
   "metadata": {},
   "outputs": [],
   "source": [
    "filepath_set_a = os.path.join('..', 'data', 'heartbeat-sounds', 'set_a.csv')"
   ]
  },
  {
   "cell_type": "code",
   "execution_count": 6,
   "metadata": {},
   "outputs": [],
   "source": [
    "filepath_set_b = os.path.join('..', 'data', 'heartbeat-sounds', 'set_b.csv')"
   ]
  },
  {
   "cell_type": "code",
   "execution_count": 7,
   "metadata": {},
   "outputs": [],
   "source": [
    "set_a = pd.read_csv(filepath_set_a)"
   ]
  },
  {
   "cell_type": "code",
   "execution_count": 8,
   "metadata": {},
   "outputs": [],
   "source": [
    "set_b = pd.read_csv(filepath_set_b)"
   ]
  },
  {
   "cell_type": "markdown",
   "metadata": {},
   "source": [
    "<h2> EDA"
   ]
  },
  {
   "cell_type": "markdown",
   "metadata": {},
   "source": [
    "Let's have a first look at our labels."
   ]
  },
  {
   "cell_type": "code",
   "execution_count": 9,
   "metadata": {},
   "outputs": [
    {
     "data": {
      "text/html": [
       "<div>\n",
       "<style scoped>\n",
       "    .dataframe tbody tr th:only-of-type {\n",
       "        vertical-align: middle;\n",
       "    }\n",
       "\n",
       "    .dataframe tbody tr th {\n",
       "        vertical-align: top;\n",
       "    }\n",
       "\n",
       "    .dataframe thead th {\n",
       "        text-align: right;\n",
       "    }\n",
       "</style>\n",
       "<table border=\"1\" class=\"dataframe\">\n",
       "  <thead>\n",
       "    <tr style=\"text-align: right;\">\n",
       "      <th></th>\n",
       "      <th>dataset</th>\n",
       "      <th>fname</th>\n",
       "      <th>label</th>\n",
       "      <th>sublabel</th>\n",
       "    </tr>\n",
       "  </thead>\n",
       "  <tbody>\n",
       "    <tr>\n",
       "      <td>0</td>\n",
       "      <td>a</td>\n",
       "      <td>set_a/artifact__201012172012.wav</td>\n",
       "      <td>artifact</td>\n",
       "      <td>NaN</td>\n",
       "    </tr>\n",
       "    <tr>\n",
       "      <td>1</td>\n",
       "      <td>a</td>\n",
       "      <td>set_a/artifact__201105040918.wav</td>\n",
       "      <td>artifact</td>\n",
       "      <td>NaN</td>\n",
       "    </tr>\n",
       "    <tr>\n",
       "      <td>2</td>\n",
       "      <td>a</td>\n",
       "      <td>set_a/artifact__201105041959.wav</td>\n",
       "      <td>artifact</td>\n",
       "      <td>NaN</td>\n",
       "    </tr>\n",
       "    <tr>\n",
       "      <td>3</td>\n",
       "      <td>a</td>\n",
       "      <td>set_a/artifact__201105051017.wav</td>\n",
       "      <td>artifact</td>\n",
       "      <td>NaN</td>\n",
       "    </tr>\n",
       "    <tr>\n",
       "      <td>4</td>\n",
       "      <td>a</td>\n",
       "      <td>set_a/artifact__201105060108.wav</td>\n",
       "      <td>artifact</td>\n",
       "      <td>NaN</td>\n",
       "    </tr>\n",
       "  </tbody>\n",
       "</table>\n",
       "</div>"
      ],
      "text/plain": [
       "  dataset                             fname     label  sublabel\n",
       "0       a  set_a/artifact__201012172012.wav  artifact       NaN\n",
       "1       a  set_a/artifact__201105040918.wav  artifact       NaN\n",
       "2       a  set_a/artifact__201105041959.wav  artifact       NaN\n",
       "3       a  set_a/artifact__201105051017.wav  artifact       NaN\n",
       "4       a  set_a/artifact__201105060108.wav  artifact       NaN"
      ]
     },
     "execution_count": 9,
     "metadata": {},
     "output_type": "execute_result"
    }
   ],
   "source": [
    "set_a.head()"
   ]
  },
  {
   "cell_type": "code",
   "execution_count": 10,
   "metadata": {},
   "outputs": [
    {
     "data": {
      "text/html": [
       "<div>\n",
       "<style scoped>\n",
       "    .dataframe tbody tr th:only-of-type {\n",
       "        vertical-align: middle;\n",
       "    }\n",
       "\n",
       "    .dataframe tbody tr th {\n",
       "        vertical-align: top;\n",
       "    }\n",
       "\n",
       "    .dataframe thead th {\n",
       "        text-align: right;\n",
       "    }\n",
       "</style>\n",
       "<table border=\"1\" class=\"dataframe\">\n",
       "  <thead>\n",
       "    <tr style=\"text-align: right;\">\n",
       "      <th></th>\n",
       "      <th>dataset</th>\n",
       "      <th>fname</th>\n",
       "      <th>label</th>\n",
       "      <th>sublabel</th>\n",
       "    </tr>\n",
       "  </thead>\n",
       "  <tbody>\n",
       "    <tr>\n",
       "      <td>0</td>\n",
       "      <td>b</td>\n",
       "      <td>set_b/Btraining_extrastole_127_1306764300147_C...</td>\n",
       "      <td>extrastole</td>\n",
       "      <td>NaN</td>\n",
       "    </tr>\n",
       "    <tr>\n",
       "      <td>1</td>\n",
       "      <td>b</td>\n",
       "      <td>set_b/Btraining_extrastole_128_1306344005749_A...</td>\n",
       "      <td>extrastole</td>\n",
       "      <td>NaN</td>\n",
       "    </tr>\n",
       "    <tr>\n",
       "      <td>2</td>\n",
       "      <td>b</td>\n",
       "      <td>set_b/Btraining_extrastole_130_1306347376079_D...</td>\n",
       "      <td>extrastole</td>\n",
       "      <td>NaN</td>\n",
       "    </tr>\n",
       "    <tr>\n",
       "      <td>3</td>\n",
       "      <td>b</td>\n",
       "      <td>set_b/Btraining_extrastole_134_1306428161797_C...</td>\n",
       "      <td>extrastole</td>\n",
       "      <td>NaN</td>\n",
       "    </tr>\n",
       "    <tr>\n",
       "      <td>4</td>\n",
       "      <td>b</td>\n",
       "      <td>set_b/Btraining_extrastole_138_1306762146980_B...</td>\n",
       "      <td>extrastole</td>\n",
       "      <td>NaN</td>\n",
       "    </tr>\n",
       "  </tbody>\n",
       "</table>\n",
       "</div>"
      ],
      "text/plain": [
       "  dataset                                              fname       label  \\\n",
       "0       b  set_b/Btraining_extrastole_127_1306764300147_C...  extrastole   \n",
       "1       b  set_b/Btraining_extrastole_128_1306344005749_A...  extrastole   \n",
       "2       b  set_b/Btraining_extrastole_130_1306347376079_D...  extrastole   \n",
       "3       b  set_b/Btraining_extrastole_134_1306428161797_C...  extrastole   \n",
       "4       b  set_b/Btraining_extrastole_138_1306762146980_B...  extrastole   \n",
       "\n",
       "  sublabel  \n",
       "0      NaN  \n",
       "1      NaN  \n",
       "2      NaN  \n",
       "3      NaN  \n",
       "4      NaN  "
      ]
     },
     "execution_count": 10,
     "metadata": {},
     "output_type": "execute_result"
    }
   ],
   "source": [
    "set_b.head()"
   ]
  },
  {
   "cell_type": "code",
   "execution_count": 11,
   "metadata": {},
   "outputs": [
    {
     "data": {
      "text/plain": [
       "artifact    40\n",
       "murmur      34\n",
       "normal      31\n",
       "extrahls    19\n",
       "Name: label, dtype: int64"
      ]
     },
     "execution_count": 11,
     "metadata": {},
     "output_type": "execute_result"
    }
   ],
   "source": [
    "set_a['label'].value_counts()"
   ]
  },
  {
   "cell_type": "code",
   "execution_count": 12,
   "metadata": {},
   "outputs": [
    {
     "data": {
      "text/plain": [
       "normal        320\n",
       "murmur         95\n",
       "extrastole     46\n",
       "Name: label, dtype: int64"
      ]
     },
     "execution_count": 12,
     "metadata": {},
     "output_type": "execute_result"
    }
   ],
   "source": [
    "set_b['label'].value_counts()"
   ]
  },
  {
   "cell_type": "code",
   "execution_count": 13,
   "metadata": {},
   "outputs": [
    {
     "data": {
      "text/plain": [
       "dataset       0\n",
       "fname         0\n",
       "label        52\n",
       "sublabel    176\n",
       "dtype: int64"
      ]
     },
     "execution_count": 13,
     "metadata": {},
     "output_type": "execute_result"
    }
   ],
   "source": [
    "set_a.isna().sum()"
   ]
  },
  {
   "cell_type": "code",
   "execution_count": 14,
   "metadata": {},
   "outputs": [
    {
     "data": {
      "text/plain": [
       "(176, 4)"
      ]
     },
     "execution_count": 14,
     "metadata": {},
     "output_type": "execute_result"
    }
   ],
   "source": [
    "set_a.shape"
   ]
  },
  {
   "cell_type": "code",
   "execution_count": 15,
   "metadata": {},
   "outputs": [
    {
     "data": {
      "text/plain": [
       "dataset       0\n",
       "fname         0\n",
       "label       195\n",
       "sublabel    507\n",
       "dtype: int64"
      ]
     },
     "execution_count": 15,
     "metadata": {},
     "output_type": "execute_result"
    }
   ],
   "source": [
    "set_b.isna().sum()"
   ]
  },
  {
   "cell_type": "markdown",
   "metadata": {},
   "source": [
    "<h4> As we can see, lots of labels and sublabels are NAN values. We can drop sublabels. \n",
    "<h4> Regarding empty labels, as we are in a medical context, I decided to drop them too: determining their nature would require the consult of a specialist that I unfortunately cannot afford."
   ]
  },
  {
   "cell_type": "code",
   "execution_count": 16,
   "metadata": {},
   "outputs": [],
   "source": [
    "set_a = set_a.drop(columns = 'sublabel')"
   ]
  },
  {
   "cell_type": "code",
   "execution_count": 17,
   "metadata": {},
   "outputs": [],
   "source": [
    "set_b = set_b.drop(columns = 'sublabel')"
   ]
  },
  {
   "cell_type": "markdown",
   "metadata": {},
   "source": [
    "Before dropping all NAN values from the labels, we will save their names. This way, it will be easier for us to remove corresponding sound files from our dataframe. "
   ]
  },
  {
   "cell_type": "code",
   "execution_count": 18,
   "metadata": {
    "scrolled": true
   },
   "outputs": [
    {
     "data": {
      "text/plain": [
       "124    set_a/__201012172010.wav\n",
       "125    set_a/__201101051105.wav\n",
       "126    set_a/__201101061552.wav\n",
       "127    set_a/__201101091156.wav\n",
       "128    set_a/__201101110659.wav\n",
       "129    set_a/__201101152256.wav\n",
       "130    set_a/__201101220549.wav\n",
       "131    set_a/__201101241434.wav\n",
       "132    set_a/__201102081033.wav\n",
       "133    set_a/__201102081045.wav\n",
       "134    set_a/__201102200848.wav\n",
       "135    set_a/__201103011036.wav\n",
       "136    set_a/__201103140236.wav\n",
       "137    set_a/__201103170122.wav\n",
       "138    set_a/__201103200518.wav\n",
       "139    set_a/__201103201314.wav\n",
       "140    set_a/__201103232251.wav\n",
       "141    set_a/__201103241336.wav\n",
       "142    set_a/__201104012144.wav\n",
       "143      set_a/__2011040239.wav\n",
       "144    set_a/__201105011546.wav\n",
       "145     set_a/__20110501548.wav\n",
       "146    set_a/__201105031730.wav\n",
       "147    set_a/__201106010807.wav\n",
       "148    set_a/__201106030607.wav\n",
       "149    set_a/__201106031556.wav\n",
       "150    set_a/__201106040930.wav\n",
       "151    set_a/__201106061104.wav\n",
       "152    set_a/__201106061215.wav\n",
       "153    set_a/__201106100606.wav\n",
       "154    set_a/__201106111419.wav\n",
       "155    set_a/__201106120928.wav\n",
       "156    set_a/__201106130440.wav\n",
       "157    set_a/__201106150614.wav\n",
       "158    set_a/__201106170857.wav\n",
       "159    set_a/__201106171155.wav\n",
       "160    set_a/__201106191034.wav\n",
       "161    set_a/__201106211725.wav\n",
       "162    set_a/__201106212102.wav\n",
       "163    set_a/__201108011111.wav\n",
       "164    set_a/__201108011113.wav\n",
       "165    set_a/__201108011116.wav\n",
       "166    set_a/__201108011117.wav\n",
       "167    set_a/__201108222222.wav\n",
       "168    set_a/__201108222225.wav\n",
       "169    set_a/__201108222228.wav\n",
       "170    set_a/__201108222234.wav\n",
       "171    set_a/__201108222241.wav\n",
       "172    set_a/__201108222244.wav\n",
       "173    set_a/__201108222247.wav\n",
       "174    set_a/__201108222254.wav\n",
       "175    set_a/__201108222257.wav\n",
       "Name: fname, dtype: object"
      ]
     },
     "execution_count": 18,
     "metadata": {},
     "output_type": "execute_result"
    }
   ],
   "source": [
    "NAN_labels_a = set_a.loc[set_a['label'].isna() == True]\n",
    "NAN_labels_a = NAN_labels_a.iloc[:,1]\n",
    "NAN_labels_a"
   ]
  },
  {
   "cell_type": "code",
   "execution_count": 19,
   "metadata": {
    "scrolled": true
   },
   "outputs": [
    {
     "data": {
      "text/plain": [
       "312    set_b/Bunlabelledtest_101_1305030823364_A.wav\n",
       "313    set_b/Bunlabelledtest_101_1305030823364_D.wav\n",
       "314    set_b/Bunlabelledtest_101_1305030823364_F.wav\n",
       "315    set_b/Bunlabelledtest_103_1305031931979_A.wav\n",
       "316    set_b/Bunlabelledtest_103_1305031931979_C.wav\n",
       "                           ...                      \n",
       "502    set_b/Bunlabelledtest_296_1311682952647_A.wav\n",
       "503    set_b/Bunlabelledtest_296_1311682952647_B.wav\n",
       "504    set_b/Bunlabelledtest_300_1311772096120_B.wav\n",
       "505    set_b/Bunlabelledtest_300_1311772096120_C.wav\n",
       "506    set_b/Bunlabelledtest_300_1311772096120_D.wav\n",
       "Name: fname, Length: 195, dtype: object"
      ]
     },
     "execution_count": 19,
     "metadata": {},
     "output_type": "execute_result"
    }
   ],
   "source": [
    "NAN_labels_b = set_b.loc[set_b['label'].isna() == True]\n",
    "NAN_labels_b = NAN_labels_b.iloc[:,1]\n",
    "NAN_labels_b"
   ]
  },
  {
   "cell_type": "code",
   "execution_count": 20,
   "metadata": {},
   "outputs": [],
   "source": [
    "# now we can drop them too."
   ]
  },
  {
   "cell_type": "code",
   "execution_count": 21,
   "metadata": {},
   "outputs": [],
   "source": [
    "set_a = set_a.dropna(subset=['label'])"
   ]
  },
  {
   "cell_type": "code",
   "execution_count": 22,
   "metadata": {},
   "outputs": [],
   "source": [
    "set_b = set_b.dropna(subset=['label'])"
   ]
  },
  {
   "cell_type": "code",
   "execution_count": 23,
   "metadata": {},
   "outputs": [
    {
     "data": {
      "text/plain": [
       "(124, 3)"
      ]
     },
     "execution_count": 23,
     "metadata": {},
     "output_type": "execute_result"
    }
   ],
   "source": [
    "set_a.shape"
   ]
  },
  {
   "cell_type": "code",
   "execution_count": 24,
   "metadata": {},
   "outputs": [
    {
     "data": {
      "text/plain": [
       "dataset    0\n",
       "fname      0\n",
       "label      0\n",
       "dtype: int64"
      ]
     },
     "execution_count": 24,
     "metadata": {},
     "output_type": "execute_result"
    }
   ],
   "source": [
    "set_a.isna().sum()"
   ]
  },
  {
   "cell_type": "code",
   "execution_count": 25,
   "metadata": {},
   "outputs": [
    {
     "data": {
      "text/plain": [
       "(461, 3)"
      ]
     },
     "execution_count": 25,
     "metadata": {},
     "output_type": "execute_result"
    }
   ],
   "source": [
    "set_b.shape"
   ]
  },
  {
   "cell_type": "code",
   "execution_count": 26,
   "metadata": {},
   "outputs": [
    {
     "data": {
      "text/plain": [
       "dataset    0\n",
       "fname      0\n",
       "label      0\n",
       "dtype: int64"
      ]
     },
     "execution_count": 26,
     "metadata": {},
     "output_type": "execute_result"
    }
   ],
   "source": [
    "set_b.isna().sum()"
   ]
  },
  {
   "cell_type": "markdown",
   "metadata": {},
   "source": [
    "<h2> Dowloading all WAV sounds files"
   ]
  },
  {
   "cell_type": "markdown",
   "metadata": {},
   "source": [
    "<h3> Starting with sounds from the Apple app (set a)"
   ]
  },
  {
   "cell_type": "code",
   "execution_count": 27,
   "metadata": {},
   "outputs": [],
   "source": [
    "filepath_sounds_a = os.path.join('..', 'data', 'heartbeat-sounds', 'set_a')"
   ]
  },
  {
   "cell_type": "code",
   "execution_count": 28,
   "metadata": {},
   "outputs": [],
   "source": [
    "def getListOfFiles(dirPath):\n",
    "    # create a list of file and sub directories in the given directory \n",
    "    \n",
    "    listOfFile = os.listdir(dirPath)\n",
    "    allFiles = list()\n",
    "    \n",
    "    # Iterate over all the entries\n",
    "    for entry in listOfFile:\n",
    "        # Create full path\n",
    "        fullPath = os.path.join(dirPath, entry)\n",
    "        # If entry is a directory then get the list of files in this directory \n",
    "        if os.path.isdir(fullPath):\n",
    "            allFiles = allFiles + getListOfFiles(fullPath)\n",
    "        else:\n",
    "            allFiles.append(fullPath)\n",
    "                \n",
    "    return allFiles"
   ]
  },
  {
   "cell_type": "code",
   "execution_count": 29,
   "metadata": {},
   "outputs": [],
   "source": [
    "all_sounds_a = getListOfFiles(filepath_sounds_a)"
   ]
  },
  {
   "cell_type": "code",
   "execution_count": 30,
   "metadata": {
    "scrolled": true
   },
   "outputs": [
    {
     "data": {
      "text/plain": [
       "['../data/heartbeat-sounds/set_a/artifact__201106161019.wav',\n",
       " '../data/heartbeat-sounds/set_a/Aunlabelledtest__201104012144.wav',\n",
       " '../data/heartbeat-sounds/set_a/Aunlabelledtest__201106111419.wav',\n",
       " '../data/heartbeat-sounds/set_a/normal__201103170121.wav',\n",
       " '../data/heartbeat-sounds/set_a/extrahls__201102241217.wav',\n",
       " '../data/heartbeat-sounds/set_a/normal__201106210943.wav',\n",
       " '../data/heartbeat-sounds/set_a/normal__201104141251.wav',\n",
       " '../data/heartbeat-sounds/set_a/Aunlabelledtest__201108222234.wav',\n",
       " '../data/heartbeat-sounds/set_a/Aunlabelledtest__201108011117.wav',\n",
       " '../data/heartbeat-sounds/set_a/Aunlabelledtest__201103170122.wav',\n",
       " '../data/heartbeat-sounds/set_a/normal__201105151450.wav',\n",
       " '../data/heartbeat-sounds/set_a/Aunlabelledtest__201108222225.wav',\n",
       " '../data/heartbeat-sounds/set_a/Aunlabelledtest__201106212102.wav',\n",
       " '../data/heartbeat-sounds/set_a/artifact__201106211430.wav',\n",
       " '../data/heartbeat-sounds/set_a/extrahls__201104270458.wav',\n",
       " '../data/heartbeat-sounds/set_a/Aunlabelledtest__201106171155.wav',\n",
       " '../data/heartbeat-sounds/set_a/Aunlabelledtest__201108222247.wav',\n",
       " '../data/heartbeat-sounds/set_a/murmur__201108222231.wav',\n",
       " '../data/heartbeat-sounds/set_a/artifact__201106221254.wav',\n",
       " '../data/heartbeat-sounds/set_a/extrahls__201101091153.wav',\n",
       " '../data/heartbeat-sounds/set_a/artifact__201105190800.wav',\n",
       " '../data/heartbeat-sounds/set_a/normal__201105011626.wav',\n",
       " '../data/heartbeat-sounds/set_a/artifact__201106050353.wav',\n",
       " '../data/heartbeat-sounds/set_a/Aunlabelledtest__201106040930.wav',\n",
       " '../data/heartbeat-sounds/set_a/murmur__201108222246.wav',\n",
       " '../data/heartbeat-sounds/set_a/Aunlabelledtest__201106211725.wav',\n",
       " '../data/heartbeat-sounds/set_a/artifact__201012172012.wav',\n",
       " '../data/heartbeat-sounds/set_a/Aunlabelledtest__201105011546.wav',\n",
       " '../data/heartbeat-sounds/set_a/extrahls__201101160808.wav',\n",
       " '../data/heartbeat-sounds/set_a/extrahls__201103200218.wav',\n",
       " '../data/heartbeat-sounds/set_a/extrahls__201101152255.wav',\n",
       " '../data/heartbeat-sounds/set_a/normal__201103221214.wav',\n",
       " '../data/heartbeat-sounds/set_a/Aunlabelledtest__201101110659.wav',\n",
       " '../data/heartbeat-sounds/set_a/normal__201102260502.wav',\n",
       " '../data/heartbeat-sounds/set_a/artifact__201106061233.wav',\n",
       " '../data/heartbeat-sounds/set_a/Aunlabelledtest__201108222254.wav',\n",
       " '../data/heartbeat-sounds/set_a/artifact__201105041959.wav',\n",
       " '../data/heartbeat-sounds/set_a/artifact__201105060108.wav',\n",
       " '../data/heartbeat-sounds/set_a/Aunlabelledtest__201108222222.wav',\n",
       " '../data/heartbeat-sounds/set_a/murmur__201108222236.wav',\n",
       " '../data/heartbeat-sounds/set_a/normal__201108011118.wav',\n",
       " '../data/heartbeat-sounds/set_a/murmur__201108222223.wav',\n",
       " '../data/heartbeat-sounds/set_a/murmur__201108222237.wav',\n",
       " '../data/heartbeat-sounds/set_a/normal__201103140132.wav',\n",
       " '../data/heartbeat-sounds/set_a/artifact__201106041452.wav',\n",
       " '../data/heartbeat-sounds/set_a/murmur__201108222248.wav',\n",
       " '../data/heartbeat-sounds/set_a/artifact__201106190520.wav',\n",
       " '../data/heartbeat-sounds/set_a/artifact__201106111119.wav',\n",
       " '../data/heartbeat-sounds/set_a/extrahls__201101160804.wav',\n",
       " '../data/heartbeat-sounds/set_a/Aunlabelledtest__201108222241.wav',\n",
       " '../data/heartbeat-sounds/set_a/murmur__201108222255.wav',\n",
       " '../data/heartbeat-sounds/set_a/artifact__201106030612.wav',\n",
       " '../data/heartbeat-sounds/set_a/Aunlabelledtest__201103011036.wav',\n",
       " '../data/heartbeat-sounds/set_a/murmur__201108222232.wav',\n",
       " '../data/heartbeat-sounds/set_a/extrahls__201104021355.wav',\n",
       " '../data/heartbeat-sounds/set_a/murmur__201102051443.wav',\n",
       " '../data/heartbeat-sounds/set_a/normal__201103090635.wav',\n",
       " '../data/heartbeat-sounds/set_a/extrahls__201103170134.wav',\n",
       " '../data/heartbeat-sounds/set_a/extrahls__201102071835.wav',\n",
       " '../data/heartbeat-sounds/set_a/murmur__201108222238.wav',\n",
       " '../data/heartbeat-sounds/set_a/Aunlabelledtest__201106191034.wav',\n",
       " '../data/heartbeat-sounds/set_a/extrahls__201101241433.wav',\n",
       " '../data/heartbeat-sounds/set_a/Aunlabelledtest__201101220549.wav',\n",
       " '../data/heartbeat-sounds/set_a/murmur__201101051104.wav',\n",
       " '../data/heartbeat-sounds/set_a/Aunlabelledtest__201103232251.wav',\n",
       " '../data/heartbeat-sounds/set_a/artifact__201105280851.wav',\n",
       " '../data/heartbeat-sounds/set_a/Aunlabelledtest__201106120928.wav',\n",
       " '../data/heartbeat-sounds/set_a/normal__201102081152.wav',\n",
       " '../data/heartbeat-sounds/set_a/normal__201101070538.wav',\n",
       " '../data/heartbeat-sounds/set_a/murmur__201108222227.wav',\n",
       " '../data/heartbeat-sounds/set_a/normal__201103140822.wav',\n",
       " '../data/heartbeat-sounds/set_a/murmur__201108222233.wav',\n",
       " '../data/heartbeat-sounds/set_a/murmur__201101180902.wav',\n",
       " '../data/heartbeat-sounds/set_a/normal__201103151912.wav',\n",
       " '../data/heartbeat-sounds/set_a/artifact__201106031558.wav',\n",
       " '../data/heartbeat-sounds/set_a/normal__201108011115.wav',\n",
       " '../data/heartbeat-sounds/set_a/Aunlabelledtest__201108011116.wav',\n",
       " '../data/heartbeat-sounds/set_a/murmur__201108222235.wav',\n",
       " '../data/heartbeat-sounds/set_a/murmur__201101051114.wav',\n",
       " '../data/heartbeat-sounds/set_a/extrahls__201104140118.wav',\n",
       " '../data/heartbeat-sounds/set_a/Aunlabelledtest__201108011113.wav',\n",
       " '../data/heartbeat-sounds/set_a/Aunlabelledtest__201106030607.wav',\n",
       " '../data/heartbeat-sounds/set_a/Aunlabelledtest__20110501548.wav',\n",
       " '../data/heartbeat-sounds/set_a/Aunlabelledtest__201108222257.wav',\n",
       " '../data/heartbeat-sounds/set_a/Aunlabelledtest__201102081033.wav',\n",
       " '../data/heartbeat-sounds/set_a/artifact__201106220340.wav',\n",
       " '../data/heartbeat-sounds/set_a/normal__201103101140.wav',\n",
       " '../data/heartbeat-sounds/set_a/artifact__201106211041.wav',\n",
       " '../data/heartbeat-sounds/set_a/artifact__201106131834.wav',\n",
       " '../data/heartbeat-sounds/set_a/artifact__201106171003.wav',\n",
       " '../data/heartbeat-sounds/set_a/normal__201102081321.wav',\n",
       " '../data/heartbeat-sounds/set_a/normal__201106221450.wav',\n",
       " '../data/heartbeat-sounds/set_a/murmur__201104021355.wav',\n",
       " '../data/heartbeat-sounds/set_a/artifact__201106161016.wav',\n",
       " '../data/heartbeat-sounds/set_a/artifact__201106110909.wav',\n",
       " '../data/heartbeat-sounds/set_a/artifact__201106101955.wav',\n",
       " '../data/heartbeat-sounds/set_a/murmur__201103291548.wav',\n",
       " '../data/heartbeat-sounds/set_a/murmur__201108222251.wav',\n",
       " '../data/heartbeat-sounds/set_a/artifact__201106070537.wav',\n",
       " '../data/heartbeat-sounds/set_a/artifact__201106161219.wav',\n",
       " '../data/heartbeat-sounds/set_a/Aunlabelledtest__201106061104.wav',\n",
       " '../data/heartbeat-sounds/set_a/Aunlabelledtest__201102200848.wav',\n",
       " '../data/heartbeat-sounds/set_a/Aunlabelledtest__201101241434.wav',\n",
       " '../data/heartbeat-sounds/set_a/normal__201104122156.wav',\n",
       " '../data/heartbeat-sounds/set_a/artifact__201106040947.wav',\n",
       " '../data/heartbeat-sounds/set_a/normal__201106111136.wav',\n",
       " '../data/heartbeat-sounds/set_a/murmur__201108222252.wav',\n",
       " '../data/heartbeat-sounds/set_a/Aunlabelledtest__2011040239.wav',\n",
       " '../data/heartbeat-sounds/set_a/Aunlabelledtest__201101051105.wav',\n",
       " '../data/heartbeat-sounds/set_a/artifact__201106021541.wav',\n",
       " '../data/heartbeat-sounds/set_a/murmur__201108222245.wav',\n",
       " '../data/heartbeat-sounds/set_a/normal__201102270940.wav',\n",
       " '../data/heartbeat-sounds/set_a/murmur__201108222256.wav',\n",
       " '../data/heartbeat-sounds/set_a/artifact__201106121445.wav',\n",
       " '../data/heartbeat-sounds/set_a/normal__201106151236.wav',\n",
       " '../data/heartbeat-sounds/set_a/murmur__201108222226.wav',\n",
       " '../data/heartbeat-sounds/set_a/Aunlabelledtest__201103200518.wav',\n",
       " '../data/heartbeat-sounds/set_a/Aunlabelledtest__201106010807.wav',\n",
       " '../data/heartbeat-sounds/set_a/murmur__201106141148.wav',\n",
       " '../data/heartbeat-sounds/set_a/Aunlabelledtest__201012172010.wav',\n",
       " '../data/heartbeat-sounds/set_a/extrahls__201104270459.wav',\n",
       " '../data/heartbeat-sounds/set_a/murmur__201102052338.wav',\n",
       " '../data/heartbeat-sounds/set_a/artifact__201106040933.wav',\n",
       " '../data/heartbeat-sounds/set_a/Aunlabelledtest__201105031730.wav',\n",
       " '../data/heartbeat-sounds/set_a/Aunlabelledtest__201108222228.wav',\n",
       " '../data/heartbeat-sounds/set_a/artifact__201106040722.wav',\n",
       " '../data/heartbeat-sounds/set_a/extrahls__201102070251.wav',\n",
       " '../data/heartbeat-sounds/set_a/normal__201106141148.wav',\n",
       " '../data/heartbeat-sounds/set_a/normal__201106221418.wav',\n",
       " '../data/heartbeat-sounds/set_a/Aunlabelledtest__201103201314.wav',\n",
       " '../data/heartbeat-sounds/set_a/extrahls__201101070953.wav',\n",
       " '../data/heartbeat-sounds/set_a/artifact__201106212112.wav',\n",
       " '../data/heartbeat-sounds/set_a/Aunlabelledtest__201106061215.wav',\n",
       " '../data/heartbeat-sounds/set_a/normal__201108011114.wav',\n",
       " '../data/heartbeat-sounds/set_a/Aunlabelledtest__201103241336.wav',\n",
       " '../data/heartbeat-sounds/set_a/artifact__201105040918.wav',\n",
       " '../data/heartbeat-sounds/set_a/murmur__201101051108.wav',\n",
       " '../data/heartbeat-sounds/set_a/extrahls__201103182227.wav',\n",
       " '../data/heartbeat-sounds/set_a/normal__201102201230.wav',\n",
       " '../data/heartbeat-sounds/set_a/Aunlabelledtest__201101091156.wav',\n",
       " '../data/heartbeat-sounds/set_a/Aunlabelledtest__201106100606.wav',\n",
       " '../data/heartbeat-sounds/set_a/normal__201105021654.wav',\n",
       " '../data/heartbeat-sounds/set_a/extrahls__201101161027.wav',\n",
       " '../data/heartbeat-sounds/set_a/Aunlabelledtest__201102081045.wav',\n",
       " '../data/heartbeat-sounds/set_a/murmur__201108222242.wav',\n",
       " '../data/heartbeat-sounds/set_a/artifact__201106141701.wav',\n",
       " '../data/heartbeat-sounds/set_a/artifact__201106010559.wav',\n",
       " '../data/heartbeat-sounds/set_a/murmur__201108222224.wav',\n",
       " '../data/heartbeat-sounds/set_a/Aunlabelledtest__201101152256.wav',\n",
       " '../data/heartbeat-sounds/set_a/extrahls__201103150114.wav',\n",
       " '../data/heartbeat-sounds/set_a/Aunlabelledtest__201106150614.wav',\n",
       " '../data/heartbeat-sounds/set_a/artifact__201105061143.wav',\n",
       " '../data/heartbeat-sounds/set_a/Aunlabelledtest__201101061552.wav',\n",
       " '../data/heartbeat-sounds/set_a/Aunlabelledtest__201106130440.wav',\n",
       " '../data/heartbeat-sounds/set_a/normal__201108011112.wav',\n",
       " '../data/heartbeat-sounds/set_a/murmur__201104291843.wav',\n",
       " '../data/heartbeat-sounds/set_a/artifact__201106131835.wav',\n",
       " '../data/heartbeat-sounds/set_a/murmur__201108222221.wav',\n",
       " '../data/heartbeat-sounds/set_a/murmur__201108222253.wav',\n",
       " '../data/heartbeat-sounds/set_a/extrahls__201101241423.wav',\n",
       " '../data/heartbeat-sounds/set_a/murmur__201108222243.wav',\n",
       " '../data/heartbeat-sounds/set_a/normal__201105021804.wav',\n",
       " '../data/heartbeat-sounds/set_a/Aunlabelledtest__201106170857.wav',\n",
       " '../data/heartbeat-sounds/set_a/Aunlabelledtest__201108011111.wav',\n",
       " '../data/heartbeat-sounds/set_a/artifact__201106121242.wav',\n",
       " '../data/heartbeat-sounds/set_a/artifact__201106101314.wav',\n",
       " '../data/heartbeat-sounds/set_a/Aunlabelledtest__201103140236.wav',\n",
       " '../data/heartbeat-sounds/set_a/artifact__201106010602.wav',\n",
       " '../data/heartbeat-sounds/set_a/normal__201101151127.wav',\n",
       " '../data/heartbeat-sounds/set_a/Aunlabelledtest__201108222244.wav',\n",
       " '../data/heartbeat-sounds/set_a/Aunlabelledtest__201106031556.wav',\n",
       " '../data/heartbeat-sounds/set_a/artifact__201106070949.wav',\n",
       " '../data/heartbeat-sounds/set_a/artifact__201105051017.wav',\n",
       " '../data/heartbeat-sounds/set_a/normal__201103140135.wav',\n",
       " '../data/heartbeat-sounds/set_a/murmur__201108222258.wav',\n",
       " '../data/heartbeat-sounds/set_a/murmur__201104241315.wav']"
      ]
     },
     "execution_count": 30,
     "metadata": {},
     "output_type": "execute_result"
    }
   ],
   "source": [
    "all_sounds_a"
   ]
  },
  {
   "cell_type": "code",
   "execution_count": 33,
   "metadata": {},
   "outputs": [],
   "source": [
    "filepath_sounds_b = os.path.join('..', 'data', 'heartbeat-sounds', 'set_b')"
   ]
  },
  {
   "cell_type": "code",
   "execution_count": 34,
   "metadata": {},
   "outputs": [],
   "source": [
    "all_sounds_b = getListOfFiles(filepath_sounds_b)"
   ]
  },
  {
   "cell_type": "markdown",
   "metadata": {},
   "source": [
    "<h3> Dropping files with no corresponding labels"
   ]
  },
  {
   "cell_type": "code",
   "execution_count": 35,
   "metadata": {},
   "outputs": [],
   "source": [
    "# Lets reload our lists of indexes for NAN labels and save them as numpy arrays.\n",
    "\n",
    "NAN_labels_a = np.array(NAN_labels_a)\n",
    "\n",
    "NAN_labels_b = np.array(NAN_labels_b)"
   ]
  },
  {
   "cell_type": "code",
   "execution_count": 36,
   "metadata": {},
   "outputs": [],
   "source": [
    "NAN_labels_a = ['../../data/heartbeat-sounds/'+NAN_labels_a[e] for e in range(len(NAN_labels_a))]"
   ]
  },
  {
   "cell_type": "code",
   "execution_count": 37,
   "metadata": {},
   "outputs": [],
   "source": [
    "all_sounds_a_modified = all_sounds_a\n",
    "all_sounds_a_modified = [s.replace('normal', '') for s in all_sounds_a_modified]\n",
    "all_sounds_a_modified = [s.replace('Aunlabelledtest', '') for s in all_sounds_a_modified]\n",
    "all_sounds_a_modified = [s.replace('extrahls', '') for s in all_sounds_a_modified]\n",
    "all_sounds_a_modified = [s.replace('artifact', '') for s in all_sounds_a_modified]\n",
    "all_sounds_a_modified = [s.replace('murmur', '') for s in all_sounds_a_modified]"
   ]
  },
  {
   "cell_type": "code",
   "execution_count": 38,
   "metadata": {},
   "outputs": [],
   "source": [
    "sounds_a_to_be_dropped = []\n",
    "for i in range(len(all_sounds_a_modified)):\n",
    "    if all_sounds_a_modified[i] in NAN_labels_a:\n",
    "        sounds_a_to_be_dropped.append(i)"
   ]
  },
  {
   "cell_type": "code",
   "execution_count": 39,
   "metadata": {},
   "outputs": [],
   "source": [
    "all_sounds_a_cleaned = []\n",
    "for i in range(len(all_sounds_a)):\n",
    "    if i not in sounds_a_to_be_dropped:\n",
    "        all_sounds_a_cleaned.append(all_sounds_a[i])"
   ]
  },
  {
   "cell_type": "code",
   "execution_count": 40,
   "metadata": {},
   "outputs": [
    {
     "data": {
      "text/plain": [
       "176"
      ]
     },
     "execution_count": 40,
     "metadata": {},
     "output_type": "execute_result"
    }
   ],
   "source": [
    "len(all_sounds_a_cleaned)"
   ]
  },
  {
   "cell_type": "code",
   "execution_count": 41,
   "metadata": {
    "scrolled": true
   },
   "outputs": [
    {
     "data": {
      "text/plain": [
       "['../data/heartbeat-sounds/set_b/extrastole__194_1308139824187_B.wav',\n",
       " '../data/heartbeat-sounds/set_b/normal_noisynormal_157_1306937583792_A.wav',\n",
       " '../data/heartbeat-sounds/set_b/Bunlabelledtest__195_1308140095331_D.wav',\n",
       " '../data/heartbeat-sounds/set_b/Bunlabelledtest__155_1306935902813_D.wav',\n",
       " '../data/heartbeat-sounds/set_b/normal__181_1308052613891_D.wav',\n",
       " '../data/heartbeat-sounds/set_b/Bunlabelledtest__157_1306937583792_C.wav',\n",
       " '../data/heartbeat-sounds/set_b/normal_noisynormal_284_1311168471850_B.wav',\n",
       " '../data/heartbeat-sounds/set_b/murmur__197_1308141235553_C.wav',\n",
       " '../data/heartbeat-sounds/set_b/Bunlabelledtest__108_1305654420093_C.wav',\n",
       " '../data/heartbeat-sounds/set_b/Bunlabelledtest__134_1306428161797_B.wav',\n",
       " '../data/heartbeat-sounds/set_b/normal_noisynormal_144_1306522408528_C.wav',\n",
       " '../data/heartbeat-sounds/set_b/normal_noisynormal_271_1309369876160_D.wav',\n",
       " '../data/heartbeat-sounds/set_b/normal_noisynormal_129_1306344506305_C.wav',\n",
       " '../data/heartbeat-sounds/set_b/normal__177_1307989650056_A1.wav',\n",
       " '../data/heartbeat-sounds/set_b/normal_noisynormal_285_1311169246969_C.wav',\n",
       " '../data/heartbeat-sounds/set_b/normal__218_1308246311449_C.wav',\n",
       " '../data/heartbeat-sounds/set_b/normal_noisynormal_181_1308052613891_A.wav',\n",
       " '../data/heartbeat-sounds/set_b/normal__209_1308162216750_A.wav',\n",
       " '../data/heartbeat-sounds/set_b/Bunlabelledtest__118_1306262335509_C2.wav',\n",
       " '../data/heartbeat-sounds/set_b/normal__125_1306332456645_B.wav',\n",
       " '../data/heartbeat-sounds/set_b/normal_noisynormal_194_1308139824187_C.wav',\n",
       " '../data/heartbeat-sounds/set_b/normal__202_1308145175747_C.wav',\n",
       " '../data/heartbeat-sounds/set_b/murmur__156_1306936373241_B.wav',\n",
       " '../data/heartbeat-sounds/set_b/normal_noisynormal_137_1306764999211_D1.wav',\n",
       " '../data/heartbeat-sounds/set_b/normal__232_1308748524018_A.wav',\n",
       " '../data/heartbeat-sounds/set_b/Bunlabelledtest__189_1308075231945_C.wav',\n",
       " '../data/heartbeat-sounds/set_b/Bunlabelledtest__147_1306523973811_D.wav',\n",
       " '../data/heartbeat-sounds/set_b/normal_noisynormal_134_1306428161797_D1.wav',\n",
       " '../data/heartbeat-sounds/set_b/Bunlabelledtest__235_1308749032454_D1.wav',\n",
       " '../data/heartbeat-sounds/set_b/Bunlabelledtest__159_1307018640315_A.wav',\n",
       " '../data/heartbeat-sounds/set_b/murmur_noisymurmur_240_1309201366049_D.wav',\n",
       " '../data/heartbeat-sounds/set_b/normal__113_1306244002866_D.wav',\n",
       " '../data/heartbeat-sounds/set_b/normal__127_1306764300147_C1.wav',\n",
       " '../data/heartbeat-sounds/set_b/Bunlabelledtest__290_1311182875320_B.wav',\n",
       " '../data/heartbeat-sounds/set_b/Bunlabelledtest__156_1306936373241_D.wav',\n",
       " '../data/heartbeat-sounds/set_b/normal_noisynormal_133_1306759619127_B1.wav',\n",
       " '../data/heartbeat-sounds/set_b/normal__146_1306778707532_D4.wav',\n",
       " '../data/heartbeat-sounds/set_b/murmur__165_1307109069581_C.wav',\n",
       " '../data/heartbeat-sounds/set_b/Bunlabelledtest__196_1308141034858_D.wav',\n",
       " '../data/heartbeat-sounds/set_b/Bunlabelledtest__296_1311682952647_A.wav',\n",
       " '../data/heartbeat-sounds/set_b/normal__210_1308162935880_D2.wav',\n",
       " '../data/heartbeat-sounds/set_b/normal_noisynormal_117_1306262456650_D.wav',\n",
       " '../data/heartbeat-sounds/set_b/Bunlabelledtest__163_1307104470471_B.wav',\n",
       " '../data/heartbeat-sounds/set_b/normal__217_1308246111629_C1.wav',\n",
       " '../data/heartbeat-sounds/set_b/normal__151_1306779785624_D.wav',\n",
       " '../data/heartbeat-sounds/set_b/Bunlabelledtest__146_1306778707532_D31.wav',\n",
       " '../data/heartbeat-sounds/set_b/normal_noisynormal_173_1307973611151_B.wav',\n",
       " '../data/heartbeat-sounds/set_b/Bunlabelledtest__231_1308748318393_B.wav',\n",
       " '../data/heartbeat-sounds/set_b/normal_noisynormal_141_1306520154450_C1.wav',\n",
       " '../data/heartbeat-sounds/set_b/normal__237_1308750231222_C.wav',\n",
       " '../data/heartbeat-sounds/set_b/normal__176_1307988171173_B.wav',\n",
       " '../data/heartbeat-sounds/set_b/normal__184_1308073010307_D.wav',\n",
       " '../data/heartbeat-sounds/set_b/Bunlabelledtest__240_1309196119795_D.wav',\n",
       " '../data/heartbeat-sounds/set_b/Bunlabelledtest__154_1306935608852_D.wav',\n",
       " '../data/heartbeat-sounds/set_b/Bunlabelledtest__165_1307109069581_B.wav',\n",
       " '../data/heartbeat-sounds/set_b/normal__154_1306935608852_B1.wav',\n",
       " '../data/heartbeat-sounds/set_b/normal_noisynormal_155_1306935902813_A.wav',\n",
       " '../data/heartbeat-sounds/set_b/normal_noisynormal_101_1305030823364_B.wav',\n",
       " '../data/heartbeat-sounds/set_b/normal__146_1306778707532_A.wav',\n",
       " '../data/heartbeat-sounds/set_b/murmur__116_1306258689913_A.wav',\n",
       " '../data/heartbeat-sounds/set_b/normal_noisynormal_125_1306332456645_D.wav',\n",
       " '../data/heartbeat-sounds/set_b/murmur__242_1309197394064_D.wav',\n",
       " '../data/heartbeat-sounds/set_b/normal_noisynormal_264_1309356143724_D.wav',\n",
       " '../data/heartbeat-sounds/set_b/murmur_noisymurmur_156_1306936373241_B1.wav',\n",
       " '../data/heartbeat-sounds/set_b/extrastole__294_1311681084248_C.wav',\n",
       " '../data/heartbeat-sounds/set_b/normal__220_1308250132896_D.wav',\n",
       " '../data/heartbeat-sounds/set_b/normal__133_1306759619127_B.wav',\n",
       " '../data/heartbeat-sounds/set_b/normal_noisynormal_157_1306937583792_B.wav',\n",
       " '../data/heartbeat-sounds/set_b/Bunlabelledtest__144_1306522408528_A.wav',\n",
       " '../data/heartbeat-sounds/set_b/normal__174_1307987737137_B1.wav',\n",
       " '../data/heartbeat-sounds/set_b/Bunlabelledtest__162_1307101835989_C.wav',\n",
       " '../data/heartbeat-sounds/set_b/Bunlabelledtest__217_1308246111629_A.wav',\n",
       " '../data/heartbeat-sounds/set_b/normal__148_1306768801551_D2.wav',\n",
       " '../data/heartbeat-sounds/set_b/normal_noisynormal_138_1306762146980_A.wav',\n",
       " '../data/heartbeat-sounds/set_b/normal_noisynormal_104_1305032492469_A.wav',\n",
       " '../data/heartbeat-sounds/set_b/normal__184_1308073010307_B.wav',\n",
       " '../data/heartbeat-sounds/set_b/normal__296_1311682952647_A2.wav',\n",
       " '../data/heartbeat-sounds/set_b/Bunlabelledtest__123_1306331925797_A.wav',\n",
       " '../data/heartbeat-sounds/set_b/murmur__193_1308078104592_C1.wav',\n",
       " '../data/heartbeat-sounds/set_b/Bunlabelledtest__179_1307990076841_D1.wav',\n",
       " '../data/heartbeat-sounds/set_b/murmur__292_1311185449649_B.wav',\n",
       " '../data/heartbeat-sounds/set_b/normal__176_1307988171173_A.wav',\n",
       " '../data/heartbeat-sounds/set_b/normal__146_1306778707532_D1.wav',\n",
       " '../data/heartbeat-sounds/set_b/normal_noisynormal_109_1305653972028_C.wav',\n",
       " '../data/heartbeat-sounds/set_b/Bunlabelledtest__287_1311170903290_D.wav',\n",
       " '../data/heartbeat-sounds/set_b/extrastole__237_1308750231222_A.wav',\n",
       " '../data/heartbeat-sounds/set_b/normal_noisynormal_110_1305655332337_A.wav',\n",
       " '../data/heartbeat-sounds/set_b/murmur__116_1306258689913_C.wav',\n",
       " '../data/heartbeat-sounds/set_b/murmur__112_1306243000964_B.wav',\n",
       " '../data/heartbeat-sounds/set_b/normal__159_1307018640315_B1.wav',\n",
       " '../data/heartbeat-sounds/set_b/Bunlabelledtest__148_1306768801551_A.wav',\n",
       " '../data/heartbeat-sounds/set_b/normal_noisynormal_188_1308074301731_A.wav',\n",
       " '../data/heartbeat-sounds/set_b/normal__140_1306519735121_D1.wav',\n",
       " '../data/heartbeat-sounds/set_b/normal__115_1306259437619_C.wav',\n",
       " '../data/heartbeat-sounds/set_b/murmur__276_1311162716489_C.wav',\n",
       " '../data/heartbeat-sounds/set_b/normal__146_1306778707532_B.wav',\n",
       " '../data/heartbeat-sounds/set_b/Bunlabelledtest__172_1307971284351_D.wav',\n",
       " '../data/heartbeat-sounds/set_b/murmur__254_1309350589009_A1.wav',\n",
       " '../data/heartbeat-sounds/set_b/Bunlabelledtest__107_1305654946865_D.wav',\n",
       " '../data/heartbeat-sounds/set_b/Bunlabelledtest__280_1311165195344_B.wav',\n",
       " '../data/heartbeat-sounds/set_b/extrastole__138_1306762146980_B.wav',\n",
       " '../data/heartbeat-sounds/set_b/normal__147_1306523973811_C.wav',\n",
       " '../data/heartbeat-sounds/set_b/Bunlabelledtest__189_1308075231945_A.wav',\n",
       " '../data/heartbeat-sounds/set_b/Bunlabelledtest__268_1309368960960_A.wav',\n",
       " '../data/heartbeat-sounds/set_b/extrastole__261_1309353556003_C.wav',\n",
       " '../data/heartbeat-sounds/set_b/murmur__122_1306325762831_C.wav',\n",
       " '../data/heartbeat-sounds/set_b/murmur_noisymurmur_288_1311164615284_C.wav',\n",
       " '../data/heartbeat-sounds/set_b/normal_noisynormal_118_1306262335509_D.wav',\n",
       " '../data/heartbeat-sounds/set_b/normal__141_1306520154450_C.wav',\n",
       " '../data/heartbeat-sounds/set_b/murmur__162_1307101835989_B.wav',\n",
       " '../data/heartbeat-sounds/set_b/murmur__164_1307106095995_B.wav',\n",
       " '../data/heartbeat-sounds/set_b/normal__218_1308246311449_C1.wav',\n",
       " '../data/heartbeat-sounds/set_b/Bunlabelledtest__201_1308144942432_B.wav',\n",
       " '../data/heartbeat-sounds/set_b/normal__139_1306519274653_A.wav',\n",
       " '../data/heartbeat-sounds/set_b/Bunlabelledtest__154_1306935608852_A2.wav',\n",
       " '../data/heartbeat-sounds/set_b/extrastole__179_1307990076841_C.wav',\n",
       " '../data/heartbeat-sounds/set_b/normal__148_1306768801551_C1.wav',\n",
       " '../data/heartbeat-sounds/set_b/normal__106_1306776721273_C1.wav',\n",
       " '../data/heartbeat-sounds/set_b/Bunlabelledtest__148_1306768801551_D.wav',\n",
       " '../data/heartbeat-sounds/set_b/murmur__122_1306325762831_D.wav',\n",
       " '../data/heartbeat-sounds/set_b/normal__286_1311170606028_A.wav',\n",
       " '../data/heartbeat-sounds/set_b/normal_noisynormal_264_1309356143724_C.wav',\n",
       " '../data/heartbeat-sounds/set_b/normal_noisynormal_129_1306344506305_A.wav',\n",
       " '../data/heartbeat-sounds/set_b/normal__137_1306764999211_C.wav',\n",
       " '../data/heartbeat-sounds/set_b/Bunlabelledtest__109_1305653646620_B.wav',\n",
       " '../data/heartbeat-sounds/set_b/normal_noisynormal_136_1306429977501_D1.wav',\n",
       " '../data/heartbeat-sounds/set_b/Bunlabelledtest__109_1305653646620_D.wav',\n",
       " '../data/heartbeat-sounds/set_b/normal__170_1307970562729_A.wav',\n",
       " '../data/heartbeat-sounds/set_b/normal_noisynormal_127_1306764300147_D1.wav',\n",
       " '../data/heartbeat-sounds/set_b/extrastole__191_1308077299430_A.wav',\n",
       " '../data/heartbeat-sounds/set_b/normal_noisynormal_170_1307970562729_C1.wav',\n",
       " '../data/heartbeat-sounds/set_b/Bunlabelledtest__282_1311166081161_D.wav',\n",
       " '../data/heartbeat-sounds/set_b/Bunlabelledtest__296_1311682952647_B.wav',\n",
       " '../data/heartbeat-sounds/set_b/normal__296_1311682952647_A1.wav',\n",
       " '../data/heartbeat-sounds/set_b/normal_noisynormal_130_1306347376079_B.wav',\n",
       " '../data/heartbeat-sounds/set_b/normal__278_1311163365896_A1.wav',\n",
       " '../data/heartbeat-sounds/set_b/Bunlabelledtest__139_1306519274653_C.wav',\n",
       " '../data/heartbeat-sounds/set_b/normal_noisynormal_173_1307973611151_C1.wav',\n",
       " '../data/heartbeat-sounds/set_b/normal__190_1308076920011_C1.wav',\n",
       " '../data/heartbeat-sounds/set_b/Bunlabelledtest__171_1307971016233_F.wav',\n",
       " '../data/heartbeat-sounds/set_b/normal__215_1308245664733_C.wav',\n",
       " '../data/heartbeat-sounds/set_b/Bunlabelledtest__174_1307987737137_C.wav',\n",
       " '../data/heartbeat-sounds/set_b/normal__128_1306344005749_B.wav',\n",
       " '../data/heartbeat-sounds/set_b/extrastole__144_1306522408528_B1.wav',\n",
       " '../data/heartbeat-sounds/set_b/Bunlabelledtest__109_1305653972028_B.wav',\n",
       " '../data/heartbeat-sounds/set_b/murmur_noisymurmur_171_1307971016233_F.wav',\n",
       " '../data/heartbeat-sounds/set_b/normal__126_1306777102824_B.wav',\n",
       " '../data/heartbeat-sounds/set_b/normal__152_1306779561195_D.wav',\n",
       " '../data/heartbeat-sounds/set_b/murmur_noisymurmur_165_1307109069581_C1.wav',\n",
       " '../data/heartbeat-sounds/set_b/normal_noisynormal_121_1306263877235_D.wav',\n",
       " '../data/heartbeat-sounds/set_b/murmur__160_1307100683334_A.wav',\n",
       " '../data/heartbeat-sounds/set_b/Bunlabelledtest__284_1311168471850_C.wav',\n",
       " '../data/heartbeat-sounds/set_b/normal__179_1307990076841_B.wav',\n",
       " '../data/heartbeat-sounds/set_b/normal_noisynormal_109_1305653972028_E.wav',\n",
       " '../data/heartbeat-sounds/set_b/Bunlabelledtest__107_1305654946865_B.wav',\n",
       " '../data/heartbeat-sounds/set_b/normal_noisynormal_270_1309369533040_B.wav',\n",
       " '../data/heartbeat-sounds/set_b/normal__170_1307970562729_B.wav',\n",
       " '../data/heartbeat-sounds/set_b/normal__153_1306848820671_D1.wav',\n",
       " '../data/heartbeat-sounds/set_b/Bunlabelledtest__294_1311681084248_D.wav',\n",
       " '../data/heartbeat-sounds/set_b/normal_noisynormal_167_1307111318050_A1.wav',\n",
       " '../data/heartbeat-sounds/set_b/extrastole__202_1308145175747_C1.wav',\n",
       " '../data/heartbeat-sounds/set_b/normal_noisynormal_167_1307111318050_B.wav',\n",
       " '../data/heartbeat-sounds/set_b/normal_noisynormal_121_1306263877235_A.wav',\n",
       " '../data/heartbeat-sounds/set_b/murmur_noisymurmur_243_1309197760898_B.wav',\n",
       " '../data/heartbeat-sounds/set_b/normal_noisynormal_189_1308075231945_A1.wav',\n",
       " '../data/heartbeat-sounds/set_b/normal_noisynormal_296_1311682952647_C.wav',\n",
       " '../data/heartbeat-sounds/set_b/normal__215_1308245664733_C1.wav',\n",
       " '../data/heartbeat-sounds/set_b/normal_noisynormal_134_1306428161797_B1.wav',\n",
       " '../data/heartbeat-sounds/set_b/murmur__171_1307971016233_E.wav',\n",
       " '../data/heartbeat-sounds/set_b/murmur__239_1309195730333_C.wav',\n",
       " '../data/heartbeat-sounds/set_b/normal__227_1308594233667_C.wav',\n",
       " '../data/heartbeat-sounds/set_b/Bunlabelledtest__153_1306848820671_D.wav',\n",
       " '../data/heartbeat-sounds/set_b/normal__172_1307971284351_B.wav',\n",
       " '../data/heartbeat-sounds/set_b/Bunlabelledtest__164_1307106095995_D.wav',\n",
       " '../data/heartbeat-sounds/set_b/normal__128_1306344005749_D1.wav',\n",
       " '../data/heartbeat-sounds/set_b/murmur_noisymurmur_240_1309201366049_C.wav',\n",
       " '../data/heartbeat-sounds/set_b/extrastole__213_1308245263936_D.wav',\n",
       " '../data/heartbeat-sounds/set_b/Bunlabelledtest__220_1308250132896_A.wav',\n",
       " '../data/heartbeat-sounds/set_b/normal__167_1307111318050_A.wav',\n",
       " '../data/heartbeat-sounds/set_b/extrastole__184_1308073010307_A.wav',\n",
       " '../data/heartbeat-sounds/set_b/normal__173_1307973611151_C.wav',\n",
       " '../data/heartbeat-sounds/set_b/normal__154_1306935608852_B.wav',\n",
       " '../data/heartbeat-sounds/set_b/Bunlabelledtest__209_1308162216750_C.wav',\n",
       " '../data/heartbeat-sounds/set_b/extrastole__202_1308145175747_C2.wav',\n",
       " '../data/heartbeat-sounds/set_b/normal__134_1306428161797_C.wav',\n",
       " '../data/heartbeat-sounds/set_b/extrastole__198_1308141739338_B.wav',\n",
       " '../data/heartbeat-sounds/set_b/Bunlabelledtest__270_1309369533040_D.wav',\n",
       " '../data/heartbeat-sounds/set_b/Bunlabelledtest__243_1309197760898_D.wav',\n",
       " '../data/heartbeat-sounds/set_b/murmur__239_1309195730333_B.wav',\n",
       " '../data/heartbeat-sounds/set_b/Bunlabelledtest__156_1306936373241_C.wav',\n",
       " '../data/heartbeat-sounds/set_b/Bunlabelledtest__141_1306520154450_A.wav',\n",
       " '../data/heartbeat-sounds/set_b/normal__152_1306779561195_C1.wav',\n",
       " '../data/heartbeat-sounds/set_b/Bunlabelledtest__193_1308078104592_A.wav',\n",
       " '../data/heartbeat-sounds/set_b/Bunlabelledtest__149_1306776016110_C.wav',\n",
       " '../data/heartbeat-sounds/set_b/Bunlabelledtest__245_1309200438094_C.wav',\n",
       " '../data/heartbeat-sounds/set_b/normal_noisynormal_296_1311682952647_D.wav',\n",
       " '../data/heartbeat-sounds/set_b/Bunlabelledtest__242_1309197394064_C.wav',\n",
       " '../data/heartbeat-sounds/set_b/Bunlabelledtest__278_1311163365896_D.wav',\n",
       " '../data/heartbeat-sounds/set_b/normal__129_1306344506305_B1.wav',\n",
       " '../data/heartbeat-sounds/set_b/normal_noisynormal_109_1305653972028_A.wav',\n",
       " '../data/heartbeat-sounds/set_b/murmur_noisymurmur_165_1307109069581_A.wav',\n",
       " '../data/heartbeat-sounds/set_b/Bunlabelledtest__163_1307104470471_D.wav',\n",
       " '../data/heartbeat-sounds/set_b/murmur__197_1308141235553_A.wav',\n",
       " '../data/heartbeat-sounds/set_b/normal__256_1309351470137_A.wav',\n",
       " '../data/heartbeat-sounds/set_b/normal__183_1308072703477_B.wav',\n",
       " '../data/heartbeat-sounds/set_b/Bunlabelledtest__117_1306262456650_B1.wav',\n",
       " '../data/heartbeat-sounds/set_b/murmur__185_1308073325396_B.wav',\n",
       " '../data/heartbeat-sounds/set_b/normal__181_1308052613891_B.wav',\n",
       " '../data/heartbeat-sounds/set_b/normal_noisynormal_178_1307989887769_B1.wav',\n",
       " '../data/heartbeat-sounds/set_b/murmur__162_1307101835989_A.wav',\n",
       " '../data/heartbeat-sounds/set_b/extrastole__237_1308750231222_C.wav',\n",
       " '../data/heartbeat-sounds/set_b/Bunlabelledtest__214_1308245489717_A1.wav',\n",
       " '../data/heartbeat-sounds/set_b/Bunlabelledtest__105_1305033453095_D.wav',\n",
       " '../data/heartbeat-sounds/set_b/Bunlabelledtest__135_1306428972976_D.wav',\n",
       " '../data/heartbeat-sounds/set_b/Bunlabelledtest__138_1306762146980_C.wav',\n",
       " '../data/heartbeat-sounds/set_b/murmur__288_1311164615284_D.wav',\n",
       " '../data/heartbeat-sounds/set_b/normal__129_1306344506305_D.wav',\n",
       " '../data/heartbeat-sounds/set_b/normal__194_1308139824187_A1.wav',\n",
       " '../data/heartbeat-sounds/set_b/murmur__248_1309201683806_C.wav',\n",
       " '../data/heartbeat-sounds/set_b/normal__210_1308162935880_B1.wav',\n",
       " '../data/heartbeat-sounds/set_b/normal__213_1308245263936_C.wav',\n",
       " '../data/heartbeat-sounds/set_b/Bunlabelledtest__274_1311075637574_C.wav',\n",
       " '../data/heartbeat-sounds/set_b/normal_noisynormal_149_1306776016110_A.wav',\n",
       " '../data/heartbeat-sounds/set_b/normal_noisynormal_159_1307018640315_A1.wav',\n",
       " '../data/heartbeat-sounds/set_b/Bunlabelledtest__194_1308139824187_C.wav',\n",
       " '../data/heartbeat-sounds/set_b/Bunlabelledtest__129_1306344506305_B.wav',\n",
       " '../data/heartbeat-sounds/set_b/Bunlabelledtest__271_1309369876160_B.wav',\n",
       " '../data/heartbeat-sounds/set_b/murmur__292_1311185449649_C.wav',\n",
       " '../data/heartbeat-sounds/set_b/Bunlabelledtest__172_1307971284351_C.wav',\n",
       " '../data/heartbeat-sounds/set_b/normal__103_1305031931979_B.wav',\n",
       " '../data/heartbeat-sounds/set_b/Bunlabelledtest__278_1311163365896_C.wav',\n",
       " '../data/heartbeat-sounds/set_b/normal_noisynormal_137_1306764999211_A2.wav',\n",
       " '../data/heartbeat-sounds/set_b/normal_noisynormal_133_1306759619127_D1.wav',\n",
       " '../data/heartbeat-sounds/set_b/normal__274_1311075637574_D.wav',\n",
       " '../data/heartbeat-sounds/set_b/Bunlabelledtest__300_1311772096120_C.wav',\n",
       " '../data/heartbeat-sounds/set_b/normal__106_1306776721273_B1.wav',\n",
       " '../data/heartbeat-sounds/set_b/normal__290_1311182875320_A.wav',\n",
       " '../data/heartbeat-sounds/set_b/normal_noisynormal_139_1306519274653_D.wav',\n",
       " '../data/heartbeat-sounds/set_b/Bunlabelledtest__237_1308750231222_C1.wav',\n",
       " '../data/heartbeat-sounds/set_b/normal__232_1308748524018_B.wav',\n",
       " '../data/heartbeat-sounds/set_b/Bunlabelledtest__245_1309198844065_A.wav',\n",
       " '../data/heartbeat-sounds/set_b/normal_noisynormal_142_1306763049574_B.wav',\n",
       " '../data/heartbeat-sounds/set_b/murmur_noisymurmur_135_1306428972976_C.wav',\n",
       " '../data/heartbeat-sounds/set_b/normal_noisynormal_169_1307970398039_A.wav',\n",
       " '../data/heartbeat-sounds/set_b/murmur__223_1308337062581_D.wav',\n",
       " '../data/heartbeat-sounds/set_b/Bunlabelledtest__204_1308159229275_B1.wav',\n",
       " '../data/heartbeat-sounds/set_b/Bunlabelledtest__171_1307971016233_C.wav',\n",
       " '../data/heartbeat-sounds/set_b/extrastole__274_1311075637574_A.wav',\n",
       " '../data/heartbeat-sounds/set_b/normal__300_1311772096120_C1.wav',\n",
       " '../data/heartbeat-sounds/set_b/normal__274_1311075637574_A1.wav',\n",
       " '../data/heartbeat-sounds/set_b/normal__262_1309355283807_A.wav',\n",
       " '../data/heartbeat-sounds/set_b/normal__186_1308073648738_D.wav',\n",
       " '../data/heartbeat-sounds/set_b/normal__103_1305031931979_D1.wav',\n",
       " '../data/heartbeat-sounds/set_b/normal__140_1306519735121_A.wav',\n",
       " '../data/heartbeat-sounds/set_b/extrastole__154_1306935608852_D2.wav',\n",
       " '../data/heartbeat-sounds/set_b/normal__224_1308337157445_C.wav',\n",
       " '../data/heartbeat-sounds/set_b/Bunlabelledtest__180_1307990956284_D.wav',\n",
       " '../data/heartbeat-sounds/set_b/Bunlabelledtest__151_1306779785624_A1.wav',\n",
       " '../data/heartbeat-sounds/set_b/normal__210_1308162935880_D1.wav',\n",
       " '../data/heartbeat-sounds/set_b/normal_noisynormal_140_1306519735121_C.wav',\n",
       " '../data/heartbeat-sounds/set_b/extrastole__148_1306768801551_B.wav',\n",
       " '../data/heartbeat-sounds/set_b/normal__186_1308073648738_C1.wav',\n",
       " '../data/heartbeat-sounds/set_b/normal__173_1307973611151_B.wav',\n",
       " '../data/heartbeat-sounds/set_b/normal_noisynormal_136_1306429977501_B.wav',\n",
       " '../data/heartbeat-sounds/set_b/murmur__281_1311165683454_A.wav',\n",
       " '../data/heartbeat-sounds/set_b/Bunlabelledtest__300_1311772096120_B.wav',\n",
       " '../data/heartbeat-sounds/set_b/murmur_noisymurmur_161_1307101199321_C.wav',\n",
       " '../data/heartbeat-sounds/set_b/Bunlabelledtest__248_1309201683806_B.wav',\n",
       " '../data/heartbeat-sounds/set_b/Bunlabelledtest__122_1306325762831_B.wav',\n",
       " '../data/heartbeat-sounds/set_b/normal__153_1306848820671_B.wav',\n",
       " '../data/heartbeat-sounds/set_b/extrastole__144_1306522408528_B.wav',\n",
       " '../data/heartbeat-sounds/set_b/normal__250_1309202496494_A.wav',\n",
       " '../data/heartbeat-sounds/set_b/murmur__240_1309196119795_B.wav',\n",
       " '../data/heartbeat-sounds/set_b/normal__168_1307970069434_A.wav',\n",
       " '../data/heartbeat-sounds/set_b/normal_noisynormal_125_1306332456645_A2.wav',\n",
       " '../data/heartbeat-sounds/set_b/extrastole__215_1308245664733_B.wav',\n",
       " '../data/heartbeat-sounds/set_b/normal__141_1306520154450_B.wav',\n",
       " '../data/heartbeat-sounds/set_b/Bunlabelledtest__121_1306263877235_B.wav',\n",
       " '../data/heartbeat-sounds/set_b/Bunlabelledtest__210_1308162935880_D.wav',\n",
       " '../data/heartbeat-sounds/set_b/Bunlabelledtest__137_1306764999211_D2.wav',\n",
       " '../data/heartbeat-sounds/set_b/murmur__293_1311680805936_B1.wav',\n",
       " '../data/heartbeat-sounds/set_b/murmur_noisymurmur_293_1311680805936_C.wav',\n",
       " '../data/heartbeat-sounds/set_b/normal__177_1307989650056_D.wav',\n",
       " '../data/heartbeat-sounds/set_b/normal__227_1308594233667_B.wav',\n",
       " '../data/heartbeat-sounds/set_b/Bunlabelledtest__229_1308594979317_C.wav',\n",
       " '../data/heartbeat-sounds/set_b/normal_noisynormal_109_1305653646620_A.wav',\n",
       " '../data/heartbeat-sounds/set_b/extrastole__128_1306344005749_A.wav',\n",
       " '../data/heartbeat-sounds/set_b/normal__294_1311681084248_B.wav',\n",
       " '../data/heartbeat-sounds/set_b/normal_noisynormal_110_1305655332337_B.wav',\n",
       " '../data/heartbeat-sounds/set_b/normal__175_1307987962616_B.wav',\n",
       " '../data/heartbeat-sounds/set_b/normal__291_1311185210672_A.wav',\n",
       " '../data/heartbeat-sounds/set_b/normal_noisynormal_144_1306522408528_A1.wav',\n",
       " '../data/heartbeat-sounds/set_b/Bunlabelledtest__207_1308159792607_B3.wav',\n",
       " '../data/heartbeat-sounds/set_b/Bunlabelledtest__167_1307111318050_C1.wav',\n",
       " '../data/heartbeat-sounds/set_b/Bunlabelledtest__217_1308246111629_D.wav',\n",
       " '../data/heartbeat-sounds/set_b/normal_noisynormal_182_1308053371395_B.wav',\n",
       " '../data/heartbeat-sounds/set_b/normal_noisynormal_132_1306758754432_B1.wav',\n",
       " '../data/heartbeat-sounds/set_b/normal_noisynormal_108_1305654420093_B.wav',\n",
       " '../data/heartbeat-sounds/set_b/normal__145_1307987561278_C.wav',\n",
       " '../data/heartbeat-sounds/set_b/normal__153_1306848820671_B1.wav',\n",
       " '../data/heartbeat-sounds/set_b/normal_noisynormal_271_1309369876160_C.wav',\n",
       " '../data/heartbeat-sounds/set_b/Bunlabelledtest__141_1306520154450_D.wav',\n",
       " '../data/heartbeat-sounds/set_b/normal__140_1306519735121_B.wav',\n",
       " '../data/heartbeat-sounds/set_b/extrastole__235_1308749032454_B.wav',\n",
       " '../data/heartbeat-sounds/set_b/normal_noisynormal_133_1306759619127_A1.wav',\n",
       " '../data/heartbeat-sounds/set_b/Bunlabelledtest__146_1306778707532_C.wav',\n",
       " '../data/heartbeat-sounds/set_b/normal__198_1308141739338_C.wav',\n",
       " '../data/heartbeat-sounds/set_b/murmur_noisymurmur_293_1311680805936_D.wav',\n",
       " '../data/heartbeat-sounds/set_b/normal_noisynormal_136_1306429977501_C.wav',\n",
       " '../data/heartbeat-sounds/set_b/normal_noisynormal_258_1309352253234_A.wav',\n",
       " '../data/heartbeat-sounds/set_b/Bunlabelledtest__143_1306763822290_D.wav',\n",
       " '../data/heartbeat-sounds/set_b/Bunlabelledtest__101_1305030823364_A.wav',\n",
       " '../data/heartbeat-sounds/set_b/normal__235_1308749032454_D.wav',\n",
       " '../data/heartbeat-sounds/set_b/Bunlabelledtest__212_1308245076477_C.wav',\n",
       " '../data/heartbeat-sounds/set_b/murmur__116_1306258689913_D.wav',\n",
       " '../data/heartbeat-sounds/set_b/normal__278_1311163365896_A.wav',\n",
       " '../data/heartbeat-sounds/set_b/murmur__211_1308163238707_C.wav',\n",
       " '../data/heartbeat-sounds/set_b/normal_noisynormal_142_1306763049574_D.wav',\n",
       " '../data/heartbeat-sounds/set_b/murmur__254_1309350589009_A.wav',\n",
       " '../data/heartbeat-sounds/set_b/normal_noisynormal_163_1307104470471_D1.wav',\n",
       " '../data/heartbeat-sounds/set_b/normal_noisynormal_123_1306331925797_B.wav',\n",
       " '../data/heartbeat-sounds/set_b/Bunlabelledtest__136_1306429977501_A.wav',\n",
       " '../data/heartbeat-sounds/set_b/murmur__200_1308144251434_C.wav',\n",
       " '../data/heartbeat-sounds/set_b/Bunlabelledtest__248_1309201683806_D.wav',\n",
       " '../data/heartbeat-sounds/set_b/extrastole__210_1308162935880_C.wav',\n",
       " '../data/heartbeat-sounds/set_b/normal__103_1305031931979_D2.wav',\n",
       " '../data/heartbeat-sounds/set_b/Bunlabelledtest__186_1308073648738_D1.wav',\n",
       " '../data/heartbeat-sounds/set_b/normal__127_1306764300147_B.wav',\n",
       " '../data/heartbeat-sounds/set_b/murmur__281_1311165683454_B.wav',\n",
       " '../data/heartbeat-sounds/set_b/Bunlabelledtest__152_1306779561195_B.wav',\n",
       " '../data/heartbeat-sounds/set_b/Bunlabelledtest__187_1308073994223_C.wav',\n",
       " '../data/heartbeat-sounds/set_b/Bunlabelledtest__116_1306258689913_B.wav',\n",
       " '../data/heartbeat-sounds/set_b/normal__274_1311075637574_B.wav',\n",
       " '../data/heartbeat-sounds/set_b/normal__149_1306776016110_C1.wav',\n",
       " '../data/heartbeat-sounds/set_b/Bunlabelledtest__255_1309351210897_B.wav',\n",
       " '../data/heartbeat-sounds/set_b/normal_noisynormal_158_1306947254705_B1.wav',\n",
       " '../data/heartbeat-sounds/set_b/normal_noisynormal_150_1306776340746_A.wav',\n",
       " '../data/heartbeat-sounds/set_b/Bunlabelledtest__113_1306244002866_C.wav',\n",
       " '../data/heartbeat-sounds/set_b/extrastole__207_1308159792607_B.wav',\n",
       " '../data/heartbeat-sounds/set_b/Bunlabelledtest__110_1305655332337_D.wav',\n",
       " '../data/heartbeat-sounds/set_b/murmur__242_1309197394064_B.wav',\n",
       " '../data/heartbeat-sounds/set_b/Bunlabelledtest__217_1308246111629_B.wav',\n",
       " '../data/heartbeat-sounds/set_b/extrastole__253_1309350256198_B.wav',\n",
       " '../data/heartbeat-sounds/set_b/Bunlabelledtest__145_1307987561278_A.wav',\n",
       " '../data/heartbeat-sounds/set_b/normal__126_1306777102824_C.wav',\n",
       " '../data/heartbeat-sounds/set_b/murmur__254_1309350589009_D.wav',\n",
       " '../data/heartbeat-sounds/set_b/normal_noisynormal_133_1306759619127_C.wav',\n",
       " '../data/heartbeat-sounds/set_b/murmur__160_1307100683334_B.wav',\n",
       " '../data/heartbeat-sounds/set_b/Bunlabelledtest__206_1308159601959_C1.wav',\n",
       " '../data/heartbeat-sounds/set_b/normal__147_1306523973811_A.wav',\n",
       " '../data/heartbeat-sounds/set_b/murmur_noisymurmur_185_1308073325396_D.wav',\n",
       " '../data/heartbeat-sounds/set_b/Bunlabelledtest__222_1308336218979_B.wav',\n",
       " '../data/heartbeat-sounds/set_b/normal__207_1308159792607_C.wav',\n",
       " '../data/heartbeat-sounds/set_b/Bunlabelledtest__154_1306935608852_D1.wav',\n",
       " '../data/heartbeat-sounds/set_b/normal__175_1307987962616_D.wav',\n",
       " '../data/heartbeat-sounds/set_b/Bunlabelledtest__106_1306776721273_B.wav',\n",
       " '../data/heartbeat-sounds/set_b/normal__159_1307018640315_B2.wav',\n",
       " '../data/heartbeat-sounds/set_b/normal__180_1307990956284_C.wav',\n",
       " '../data/heartbeat-sounds/set_b/normal__178_1307989887769_B.wav',\n",
       " '../data/heartbeat-sounds/set_b/Bunlabelledtest__145_1307987561278_D.wav',\n",
       " '../data/heartbeat-sounds/set_b/normal__230_1308595300880_B.wav',\n",
       " '../data/heartbeat-sounds/set_b/murmur_noisymurmur_164_1307106095995_C1.wav',\n",
       " '../data/heartbeat-sounds/set_b/Bunlabelledtest__109_1305653972028_D.wav',\n",
       " '../data/heartbeat-sounds/set_b/normal_noisynormal_264_1309356143724_B.wav',\n",
       " '../data/heartbeat-sounds/set_b/normal__150_1306776340746_B.wav',\n",
       " '../data/heartbeat-sounds/set_b/normal_noisynormal_141_1306520154450_B1.wav',\n",
       " '../data/heartbeat-sounds/set_b/Bunlabelledtest__227_1308594233667_D.wav',\n",
       " '../data/heartbeat-sounds/set_b/Bunlabelledtest__101_1305030823364_D.wav',\n",
       " '../data/heartbeat-sounds/set_b/Bunlabelledtest__178_1307989887769_A.wav',\n",
       " '../data/heartbeat-sounds/set_b/normal__204_1308159229275_C.wav',\n",
       " '../data/heartbeat-sounds/set_b/normal_noisynormal_118_1306262335509_B.wav',\n",
       " '../data/heartbeat-sounds/set_b/normal__137_1306764999211_D.wav',\n",
       " '../data/heartbeat-sounds/set_b/normal_noisynormal_115_1306259437619_A1.wav',\n",
       " '../data/heartbeat-sounds/set_b/normal__250_1309202496494_B.wav',\n",
       " '../data/heartbeat-sounds/set_b/normal__209_1308162216750_A1.wav',\n",
       " '../data/heartbeat-sounds/set_b/murmur__248_1309201683806_A.wav',\n",
       " '../data/heartbeat-sounds/set_b/Bunlabelledtest__209_1308162216750_B.wav',\n",
       " '../data/heartbeat-sounds/set_b/Bunlabelledtest__112_1306243000964_C.wav',\n",
       " '../data/heartbeat-sounds/set_b/Bunlabelledtest__232_1308748524018_A1.wav',\n",
       " '../data/heartbeat-sounds/set_b/normal__286_1311170606028_A1.wav',\n",
       " '../data/heartbeat-sounds/set_b/normal__280_1311165195344_A.wav',\n",
       " '../data/heartbeat-sounds/set_b/Bunlabelledtest__132_1306758754432_A.wav',\n",
       " '../data/heartbeat-sounds/set_b/Bunlabelledtest__160_1307100683334_C.wav',\n",
       " '../data/heartbeat-sounds/set_b/normal__159_1307018640315_C1.wav',\n",
       " '../data/heartbeat-sounds/set_b/Bunlabelledtest__191_1308077299430_D.wav',\n",
       " '../data/heartbeat-sounds/set_b/normal__210_1308162935880_B.wav',\n",
       " '../data/heartbeat-sounds/set_b/normal__153_1306848820671_A.wav',\n",
       " '../data/heartbeat-sounds/set_b/Bunlabelledtest__259_1309352630271_B.wav',\n",
       " '../data/heartbeat-sounds/set_b/normal_noisynormal_125_1306332456645_C.wav',\n",
       " '../data/heartbeat-sounds/set_b/normal_noisynormal_132_1306758754432_C.wav',\n",
       " '../data/heartbeat-sounds/set_b/normal_noisynormal_172_1307971284351_A.wav',\n",
       " '../data/heartbeat-sounds/set_b/normal_noisynormal_176_1307988171173_D.wav',\n",
       " '../data/heartbeat-sounds/set_b/normal__170_1307970562729_C.wav',\n",
       " '../data/heartbeat-sounds/set_b/normal__294_1311681084248_D1.wav',\n",
       " '../data/heartbeat-sounds/set_b/Bunlabelledtest__105_1305033453095_B.wav',\n",
       " '../data/heartbeat-sounds/set_b/murmur__196_1308141034858_B.wav',\n",
       " '../data/heartbeat-sounds/set_b/murmur__203_1308162026258_D.wav',\n",
       " '../data/heartbeat-sounds/set_b/normal__158_1306947254705_B2.wav',\n",
       " '../data/heartbeat-sounds/set_b/murmur_noisymurmur_243_1309197760898_C.wav',\n",
       " '../data/heartbeat-sounds/set_b/Bunlabelledtest__122_1306325762831_A.wav',\n",
       " '../data/heartbeat-sounds/set_b/Bunlabelledtest__177_1307989650056_C.wav',\n",
       " '../data/heartbeat-sounds/set_b/extrastole__127_1306764300147_C2.wav',\n",
       " '../data/heartbeat-sounds/set_b/murmur_noisymurmur_161_1307101199321_B.wav',\n",
       " '../data/heartbeat-sounds/set_b/normal__238_1309194586293_A.wav',\n",
       " '../data/heartbeat-sounds/set_b/Bunlabelledtest__103_1305031931979_C.wav',\n",
       " '../data/heartbeat-sounds/set_b/normal__151_1306779785624_A.wav',\n",
       " '../data/heartbeat-sounds/set_b/normal__299_1311770522820_C.wav',\n",
       " '../data/heartbeat-sounds/set_b/normal__128_1306344005749_D.wav',\n",
       " '../data/heartbeat-sounds/set_b/normal__174_1307987737137_B.wav',\n",
       " '../data/heartbeat-sounds/set_b/murmur__203_1308162026258_B.wav',\n",
       " '../data/heartbeat-sounds/set_b/normal_noisynormal_130_1306347376079_C.wav',\n",
       " '../data/heartbeat-sounds/set_b/murmur__112_1306243000964_D.wav',\n",
       " '../data/heartbeat-sounds/set_b/murmur_noisymurmur_272_1309370164386_C.wav',\n",
       " '../data/heartbeat-sounds/set_b/normal_noisynormal_117_1306262456650_A.wav',\n",
       " '../data/heartbeat-sounds/set_b/normal__103_1305031931979_D3.wav',\n",
       " '../data/heartbeat-sounds/set_b/normal__133_1306759619127_D.wav',\n",
       " '../data/heartbeat-sounds/set_b/murmur__245_1309200438094_B.wav',\n",
       " '../data/heartbeat-sounds/set_b/Bunlabelledtest__288_1311164615284_B.wav',\n",
       " '../data/heartbeat-sounds/set_b/normal__109_1305653646620_C.wav',\n",
       " '../data/heartbeat-sounds/set_b/Bunlabelledtest__197_1308141235553_B.wav',\n",
       " '../data/heartbeat-sounds/set_b/Bunlabelledtest__152_1306779561195_D1.wav',\n",
       " '../data/heartbeat-sounds/set_b/Bunlabelledtest__293_1311680805936_B.wav',\n",
       " '../data/heartbeat-sounds/set_b/murmur__193_1308078104592_B.wav',\n",
       " '../data/heartbeat-sounds/set_b/normal__216_1308245839516_C.wav',\n",
       " '../data/heartbeat-sounds/set_b/extrastole__151_1306779785624_B.wav',\n",
       " '../data/heartbeat-sounds/set_b/normal_noisynormal_146_1306778707532_D.wav',\n",
       " '../data/heartbeat-sounds/set_b/murmur__281_1311165683454_D.wav',\n",
       " '../data/heartbeat-sounds/set_b/murmur__244_1309198148498_B.wav',\n",
       " '../data/heartbeat-sounds/set_b/Bunlabelledtest__193_1308078104592_D.wav',\n",
       " '../data/heartbeat-sounds/set_b/Bunlabelledtest__128_1306344005749_C.wav',\n",
       " '../data/heartbeat-sounds/set_b/Bunlabelledtest__203_1308162026258_C.wav',\n",
       " '../data/heartbeat-sounds/set_b/Bunlabelledtest__180_1307990956284_B.wav',\n",
       " '../data/heartbeat-sounds/set_b/Bunlabelledtest__260_1309353164458_A.wav',\n",
       " '../data/heartbeat-sounds/set_b/murmur__240_1309201366049_B.wav',\n",
       " '../data/heartbeat-sounds/set_b/normal_noisynormal_142_1306763049574_A.wav',\n",
       " '../data/heartbeat-sounds/set_b/normal__188_1308074301731_D.wav',\n",
       " '../data/heartbeat-sounds/set_b/Bunlabelledtest__173_1307973611151_D.wav',\n",
       " '../data/heartbeat-sounds/set_b/Bunlabelledtest__167_1307111318050_D.wav',\n",
       " '../data/heartbeat-sounds/set_b/extrastole__229_1308594979317_B.wav',\n",
       " '../data/heartbeat-sounds/set_b/normal__127_1306764300147_A.wav',\n",
       " '../data/heartbeat-sounds/set_b/normal_noisynormal_234_1308748855534_B.wav',\n",
       " '../data/heartbeat-sounds/set_b/murmur__193_1308078104592_C.wav',\n",
       " '../data/heartbeat-sounds/set_b/Bunlabelledtest__213_1308245263936_B.wav',\n",
       " '../data/heartbeat-sounds/set_b/normal_noisynormal_118_1306262335509_C1.wav',\n",
       " '../data/heartbeat-sounds/set_b/normal_noisynormal_270_1309369533040_A.wav',\n",
       " '../data/heartbeat-sounds/set_b/normal_noisynormal_121_1306263877235_C.wav',\n",
       " '../data/heartbeat-sounds/set_b/Bunlabelledtest__137_1306764999211_B1.wav',\n",
       " '../data/heartbeat-sounds/set_b/normal_noisynormal_105_1305033453095_C.wav',\n",
       " '../data/heartbeat-sounds/set_b/Bunlabelledtest__150_1306776340746_D.wav',\n",
       " '../data/heartbeat-sounds/set_b/normal__168_1307970069434_A2.wav',\n",
       " '../data/heartbeat-sounds/set_b/normal__143_1306763822290_C.wav',\n",
       " '../data/heartbeat-sounds/set_b/normal__190_1308076920011_D.wav',\n",
       " '../data/heartbeat-sounds/set_b/normal_noisynormal_125_1306332456645_A1.wav',\n",
       " '../data/heartbeat-sounds/set_b/normal__274_1311075637574_B1.wav',\n",
       " '../data/heartbeat-sounds/set_b/normal_noisynormal_246_1309199278902_D.wav',\n",
       " '../data/heartbeat-sounds/set_b/normal__175_1307987962616_B1.wav',\n",
       " '../data/heartbeat-sounds/set_b/Bunlabelledtest__176_1307988171173_C.wav',\n",
       " '../data/heartbeat-sounds/set_b/normal__154_1306935608852_D.wav',\n",
       " '../data/heartbeat-sounds/set_b/extrastole__190_1308076920011_C.wav',\n",
       " '../data/heartbeat-sounds/set_b/Bunlabelledtest__239_1309195730333_D.wav',\n",
       " '../data/heartbeat-sounds/set_b/normal__146_1306778707532_D2.wav',\n",
       " '../data/heartbeat-sounds/set_b/normal__178_1307989887769_D.wav',\n",
       " '../data/heartbeat-sounds/set_b/normal__230_1308595300880_C.wav',\n",
       " '../data/heartbeat-sounds/set_b/normal__252_1309203336604_B.wav',\n",
       " '../data/heartbeat-sounds/set_b/Bunlabelledtest__216_1308245839516_B1.wav',\n",
       " '../data/heartbeat-sounds/set_b/normal__208_1308159994503_C.wav',\n",
       " '../data/heartbeat-sounds/set_b/normal_noisynormal_101_1305030823364_E.wav',\n",
       " '../data/heartbeat-sounds/set_b/Bunlabelledtest__123_1306331925797_D.wav',\n",
       " '../data/heartbeat-sounds/set_b/normal__201_1308144942432_A.wav',\n",
       " '../data/heartbeat-sounds/set_b/normal_noisynormal_113_1306244002866_B.wav',\n",
       " '../data/heartbeat-sounds/set_b/murmur__165_1307109069581_C2.wav',\n",
       " '../data/heartbeat-sounds/set_b/normal_noisynormal_117_1306262456650_C.wav',\n",
       " '../data/heartbeat-sounds/set_b/Bunlabelledtest__155_1306935902813_B2.wav',\n",
       " '../data/heartbeat-sounds/set_b/extrastole__216_1308245839516_A.wav',\n",
       " '../data/heartbeat-sounds/set_b/murmur__204_1308159229275_B.wav',\n",
       " '../data/heartbeat-sounds/set_b/Bunlabelledtest__132_1306758754432_B.wav',\n",
       " '../data/heartbeat-sounds/set_b/Bunlabelledtest__118_1306262335509_A.wav',\n",
       " '../data/heartbeat-sounds/set_b/extrastole__207_1308159792607_B1.wav',\n",
       " '../data/heartbeat-sounds/set_b/normal__143_1306763822290_B.wav',\n",
       " '../data/heartbeat-sounds/set_b/Bunlabelledtest__132_1306758754432_D.wav',\n",
       " '../data/heartbeat-sounds/set_b/murmur_noisymurmur_200_1308144251434_D.wav',\n",
       " '../data/heartbeat-sounds/set_b/Bunlabelledtest__139_1306519274653_B.wav',\n",
       " '../data/heartbeat-sounds/set_b/murmur__161_1307101199321_A.wav',\n",
       " '../data/heartbeat-sounds/set_b/normal__273_1309370841191_B.wav',\n",
       " '../data/heartbeat-sounds/set_b/normal_noisynormal_123_1306331925797_C.wav',\n",
       " '../data/heartbeat-sounds/set_b/normal__294_1311681084248_A.wav',\n",
       " '../data/heartbeat-sounds/set_b/normal__183_1308072703477_C.wav',\n",
       " '../data/heartbeat-sounds/set_b/normal_noisynormal_271_1309369876160_A.wav',\n",
       " '../data/heartbeat-sounds/set_b/Bunlabelledtest__130_1306347376079_A.wav',\n",
       " '../data/heartbeat-sounds/set_b/normal__117_1306262456650_B.wav',\n",
       " '../data/heartbeat-sounds/set_b/Bunlabelledtest__231_1308748318393_C.wav',\n",
       " '../data/heartbeat-sounds/set_b/normal_noisynormal_147_1306523973811_B.wav',\n",
       " '../data/heartbeat-sounds/set_b/Bunlabelledtest__159_1307018640315_B.wav',\n",
       " '../data/heartbeat-sounds/set_b/extrastole__153_1306848820671_C.wav',\n",
       " '../data/heartbeat-sounds/set_b/Bunlabelledtest__169_1307970398039_C1.wav',\n",
       " '../data/heartbeat-sounds/set_b/Bunlabelledtest__155_1306935902813_B.wav',\n",
       " '../data/heartbeat-sounds/set_b/Bunlabelledtest__181_1308052613891_C.wav',\n",
       " '../data/heartbeat-sounds/set_b/normal__238_1309194586293_B.wav',\n",
       " '../data/heartbeat-sounds/set_b/normal_noisynormal_125_1306332456645_B1.wav',\n",
       " '../data/heartbeat-sounds/set_b/normal__298_1311685888900_B.wav',\n",
       " '../data/heartbeat-sounds/set_b/normal__204_1308159229275_D.wav',\n",
       " '../data/heartbeat-sounds/set_b/normal_noisynormal_108_1305654420093_A.wav',\n",
       " '../data/heartbeat-sounds/set_b/Bunlabelledtest__175_1307987962616_C.wav',\n",
       " '../data/heartbeat-sounds/set_b/Bunlabelledtest__101_1305030823364_F.wav',\n",
       " '../data/heartbeat-sounds/set_b/normal_noisynormal_154_1306935608852_C.wav',\n",
       " '../data/heartbeat-sounds/set_b/Bunlabelledtest__170_1307970562729_D.wav',\n",
       " '../data/heartbeat-sounds/set_b/extrastole__275_1310990852160_B.wav',\n",
       " '../data/heartbeat-sounds/set_b/Bunlabelledtest__152_1306779561195_C.wav',\n",
       " '../data/heartbeat-sounds/set_b/murmur__195_1308140095331_C1.wav',\n",
       " '../data/heartbeat-sounds/set_b/murmur_noisymurmur_135_1306428972976_A.wav',\n",
       " '../data/heartbeat-sounds/set_b/Bunlabelledtest__300_1311772096120_D.wav',\n",
       " '../data/heartbeat-sounds/set_b/extrastole__265_1309367698923_C.wav',\n",
       " '../data/heartbeat-sounds/set_b/Bunlabelledtest__281_1311165683454_C.wav',\n",
       " '../data/heartbeat-sounds/set_b/normal__214_1308245489717_A.wav',\n",
       " '../data/heartbeat-sounds/set_b/Bunlabelledtest__254_1309350589009_B.wav',\n",
       " '../data/heartbeat-sounds/set_b/extrastole__298_1311685888900_C.wav',\n",
       " '../data/heartbeat-sounds/set_b/normal_noisynormal_155_1306935902813_C.wav',\n",
       " '../data/heartbeat-sounds/set_b/murmur__195_1308140095331_A.wav',\n",
       " '../data/heartbeat-sounds/set_b/normal__177_1307989650056_D1.wav',\n",
       " '../data/heartbeat-sounds/set_b/Bunlabelledtest__286_1311170606028_B.wav',\n",
       " '../data/heartbeat-sounds/set_b/normal__286_1311170606028_B1.wav',\n",
       " '../data/heartbeat-sounds/set_b/Bunlabelledtest__268_1309368960960_E.wav',\n",
       " '../data/heartbeat-sounds/set_b/normal__106_1306776721273_D1.wav',\n",
       " '../data/heartbeat-sounds/set_b/murmur__287_1311170903290_C.wav',\n",
       " '../data/heartbeat-sounds/set_b/normal__149_1306776016110_B.wav',\n",
       " '../data/heartbeat-sounds/set_b/Bunlabelledtest__142_1306763049574_C.wav',\n",
       " '../data/heartbeat-sounds/set_b/normal_noisynormal_151_1306779785624_C.wav',\n",
       " '../data/heartbeat-sounds/set_b/extrastole__215_1308245664733_B1.wav',\n",
       " '../data/heartbeat-sounds/set_b/Bunlabelledtest__272_1309370164386_B.wav',\n",
       " '../data/heartbeat-sounds/set_b/normal_noisynormal_207_1308159792607_D.wav',\n",
       " '../data/heartbeat-sounds/set_b/normal_noisynormal_143_1306763822290_A.wav',\n",
       " '../data/heartbeat-sounds/set_b/normal__217_1308246111629_C.wav',\n",
       " '../data/heartbeat-sounds/set_b/normal__177_1307989650056_B.wav',\n",
       " '../data/heartbeat-sounds/set_b/Bunlabelledtest__161_1307101199321_D.wav',\n",
       " '../data/heartbeat-sounds/set_b/Bunlabelledtest__125_1306332456645_B2.wav',\n",
       " '../data/heartbeat-sounds/set_b/murmur__112_1306243000964_A.wav',\n",
       " '../data/heartbeat-sounds/set_b/normal_noisynormal_141_1306520154450_A1.wav',\n",
       " '../data/heartbeat-sounds/set_b/Bunlabelledtest__106_1306776721273_D.wav',\n",
       " '../data/heartbeat-sounds/set_b/normal__179_1307990076841_D.wav',\n",
       " '../data/heartbeat-sounds/set_b/normal__106_1306776721273_D2.wav',\n",
       " '../data/heartbeat-sounds/set_b/normal_noisynormal_113_1306244002866_A.wav',\n",
       " '../data/heartbeat-sounds/set_b/normal__106_1306776721273_C2.wav',\n",
       " '../data/heartbeat-sounds/set_b/murmur_noisymurmur_231_1308748318393_A.wav',\n",
       " '../data/heartbeat-sounds/set_b/murmur_noisymurmur_292_1311185449649_D.wav',\n",
       " '../data/heartbeat-sounds/set_b/normal_noisynormal_216_1308245839516_D.wav',\n",
       " '../data/heartbeat-sounds/set_b/normal__154_1306935608852_A1.wav',\n",
       " '../data/heartbeat-sounds/set_b/normal__169_1307970398039_C.wav',\n",
       " '../data/heartbeat-sounds/set_b/normal__172_1307971284351_B1.wav',\n",
       " '../data/heartbeat-sounds/set_b/Bunlabelledtest__159_1307018640315_C.wav',\n",
       " '../data/heartbeat-sounds/set_b/murmur_noisymurmur_162_1307101835989_B_1.wav',\n",
       " '../data/heartbeat-sounds/set_b/Bunlabelledtest__232_1308748524018_D.wav',\n",
       " '../data/heartbeat-sounds/set_b/murmur__171_1307971016233_D1.wav',\n",
       " '../data/heartbeat-sounds/set_b/Bunlabelledtest__137_1306764999211_A.wav',\n",
       " '../data/heartbeat-sounds/set_b/normal__126_1306777102824_D.wav',\n",
       " '../data/heartbeat-sounds/set_b/normal__133_1306759619127_A.wav',\n",
       " '../data/heartbeat-sounds/set_b/murmur__171_1307971016233_D.wav',\n",
       " '../data/heartbeat-sounds/set_b/extrastole__209_1308162216750_D.wav',\n",
       " '../data/heartbeat-sounds/set_b/Bunlabelledtest__176_1307988171173_A1.wav',\n",
       " '../data/heartbeat-sounds/set_b/normal_noisynormal_137_1306764999211_B.wav',\n",
       " '../data/heartbeat-sounds/set_b/extrastole__134_1306428161797_C1.wav',\n",
       " '../data/heartbeat-sounds/set_b/normal__202_1308145175747_D.wav',\n",
       " '../data/heartbeat-sounds/set_b/normal_noisynormal_158_1306947254705_D.wav',\n",
       " '../data/heartbeat-sounds/set_b/normal__283_1311167409239_A.wav',\n",
       " '../data/heartbeat-sounds/set_b/normal__134_1306428161797_D.wav',\n",
       " '../data/heartbeat-sounds/set_b/normal_noisynormal_109_1305653972028_F.wav',\n",
       " '../data/heartbeat-sounds/set_b/Bunlabelledtest__186_1308073648738_C.wav',\n",
       " '../data/heartbeat-sounds/set_b/normal__232_1308748524018_B1.wav',\n",
       " '../data/heartbeat-sounds/set_b/Bunlabelledtest__134_1306428161797_A.wav',\n",
       " '../data/heartbeat-sounds/set_b/Bunlabelledtest__115_1306259437619_D.wav',\n",
       " '../data/heartbeat-sounds/set_b/Bunlabelledtest__191_1308077299430_C.wav',\n",
       " '../data/heartbeat-sounds/set_b/extrastole__130_1306347376079_D.wav',\n",
       " '../data/heartbeat-sounds/set_b/Bunlabelledtest__154_1306935608852_A.wav',\n",
       " '../data/heartbeat-sounds/set_b/normal_noisynormal_284_1311168471850_A.wav',\n",
       " '../data/heartbeat-sounds/set_b/Bunlabelledtest__126_1306777102824_C1.wav',\n",
       " '../data/heartbeat-sounds/set_b/normal__270_1309369533040_C.wav',\n",
       " '../data/heartbeat-sounds/set_b/extrastole__224_1308337157445_B.wav',\n",
       " '../data/heartbeat-sounds/set_b/Bunlabelledtest__293_1311680805936_B2.wav',\n",
       " '../data/heartbeat-sounds/set_b/extrastole__140_1306519735121_D.wav',\n",
       " '../data/heartbeat-sounds/set_b/murmur_noisymurmur_165_1307109069581_D.wav',\n",
       " '../data/heartbeat-sounds/set_b/normal__176_1307988171173_B1.wav',\n",
       " '../data/heartbeat-sounds/set_b/normal__258_1309352253234_C.wav',\n",
       " '../data/heartbeat-sounds/set_b/normal__107_1305654946865_C1.wav',\n",
       " '../data/heartbeat-sounds/set_b/normal_noisynormal_137_1306764999211_A1.wav',\n",
       " '../data/heartbeat-sounds/set_b/murmur_noisymurmur_171_1307971016233_D.wav',\n",
       " '../data/heartbeat-sounds/set_b/murmur_noisymurmur_162_1307101835989_D.wav',\n",
       " '../data/heartbeat-sounds/set_b/normal_noisynormal_168_1307970069434_A1.wav',\n",
       " '../data/heartbeat-sounds/set_b/normal__180_1307990956284_A.wav',\n",
       " '../data/heartbeat-sounds/set_b/Bunlabelledtest__184_1308073010307_C.wav',\n",
       " '../data/heartbeat-sounds/set_b/Bunlabelledtest__148_1306768801551_C.wav',\n",
       " '../data/heartbeat-sounds/set_b/Bunlabelledtest__215_1308245664733_D.wav',\n",
       " '../data/heartbeat-sounds/set_b/extrastole__216_1308245839516_B.wav',\n",
       " '../data/heartbeat-sounds/set_b/normal_noisynormal_107_1305654946865_A.wav',\n",
       " '../data/heartbeat-sounds/set_b/murmur__254_1309350589009_C.wav',\n",
       " '../data/heartbeat-sounds/set_b/normal_noisynormal_278_1311163365896_B.wav',\n",
       " '../data/heartbeat-sounds/set_b/normal__206_1308159601959_C.wav',\n",
       " '../data/heartbeat-sounds/set_b/murmur_noisymurmur_288_1311164615284_B1.wav',\n",
       " '../data/heartbeat-sounds/set_b/normal_noisynormal_106_1306776721273_A.wav',\n",
       " '../data/heartbeat-sounds/set_b/Bunlabelledtest__163_1307104470471_B1.wav',\n",
       " '../data/heartbeat-sounds/set_b/normal__220_1308250132896_C.wav',\n",
       " '../data/heartbeat-sounds/set_b/normal_noisynormal_115_1306259437619_B.wav',\n",
       " '../data/heartbeat-sounds/set_b/Bunlabelledtest__103_1305031931979_A.wav',\n",
       " '../data/heartbeat-sounds/set_b/normal__282_1311166081161_C.wav',\n",
       " '../data/heartbeat-sounds/set_b/normal__134_1306428161797_C2.wav',\n",
       " '../data/heartbeat-sounds/set_b/Bunlabelledtest__264_1309356143724_A.wav',\n",
       " '../data/heartbeat-sounds/set_b/normal__194_1308139824187_A.wav',\n",
       " '../data/heartbeat-sounds/set_b/Bunlabelledtest__136_1306429977501_D.wav',\n",
       " '../data/heartbeat-sounds/set_b/murmur_noisymurmur_160_1307100683334_D.wav',\n",
       " '../data/heartbeat-sounds/set_b/normal__267_1309368735165_A.wav',\n",
       " '../data/heartbeat-sounds/set_b/extrastole__286_1311170606028_D.wav',\n",
       " '../data/heartbeat-sounds/set_b/normal__129_1306344506305_D1.wav',\n",
       " '../data/heartbeat-sounds/set_b/Bunlabelledtest__202_1308145175747_B.wav',\n",
       " '../data/heartbeat-sounds/set_b/normal__260_1309353164458_C.wav',\n",
       " '../data/heartbeat-sounds/set_b/normal__152_1306779561195_B1.wav',\n",
       " '../data/heartbeat-sounds/set_b/extrastole__163_1307104470471_C.wav',\n",
       " '../data/heartbeat-sounds/set_b/normal__232_1308748524018_C.wav',\n",
       " '../data/heartbeat-sounds/set_b/murmur__164_1307106095995_C.wav',\n",
       " '../data/heartbeat-sounds/set_b/extrastole__249_1309202052376_C.wav',\n",
       " '../data/heartbeat-sounds/set_b/Bunlabelledtest__200_1308144251434_C1.wav',\n",
       " '../data/heartbeat-sounds/set_b/normal__159_1307018640315_A.wav',\n",
       " '../data/heartbeat-sounds/set_b/Bunlabelledtest__126_1306777102824_D1.wav',\n",
       " '../data/heartbeat-sounds/set_b/normal__235_1308749032454_C.wav',\n",
       " '../data/heartbeat-sounds/set_b/normal__295_1311682673157_D.wav',\n",
       " '../data/heartbeat-sounds/set_b/normal__155_1306935902813_B1.wav',\n",
       " '../data/heartbeat-sounds/set_b/murmur__185_1308073325396_C.wav',\n",
       " '../data/heartbeat-sounds/set_b/Bunlabelledtest__118_1306262335509_A1.wav',\n",
       " '../data/heartbeat-sounds/set_b/Bunlabelledtest__242_1309197394064_A.wav',\n",
       " '../data/heartbeat-sounds/set_b/normal__261_1309353556003_B.wav',\n",
       " '../data/heartbeat-sounds/set_b/normal__232_1308748524018_D1.wav',\n",
       " '../data/heartbeat-sounds/set_b/normal_noisynormal_198_1308141739338_D.wav',\n",
       " '../data/heartbeat-sounds/set_b/normal_noisynormal_105_1305033453095_A.wav',\n",
       " '../data/heartbeat-sounds/set_b/Bunlabelledtest__262_1309355283807_B.wav',\n",
       " '../data/heartbeat-sounds/set_b/normal__286_1311170606028_C.wav',\n",
       " '../data/heartbeat-sounds/set_b/Bunlabelledtest__169_1307970398039_B.wav',\n",
       " '../data/heartbeat-sounds/set_b/Bunlabelledtest__235_1308749032454_C1.wav',\n",
       " '../data/heartbeat-sounds/set_b/normal__188_1308074301731_C.wav',\n",
       " '../data/heartbeat-sounds/set_b/murmur__196_1308141034858_C.wav',\n",
       " '../data/heartbeat-sounds/set_b/Bunlabelledtest__176_1307988171173_C1.wav',\n",
       " '../data/heartbeat-sounds/set_b/normal__145_1307987561278_B.wav',\n",
       " '../data/heartbeat-sounds/set_b/murmur_noisymurmur_156_1306936373241_A.wav',\n",
       " '../data/heartbeat-sounds/set_b/normal__146_1306778707532_D3.wav',\n",
       " '../data/heartbeat-sounds/set_b/normal_noisynormal_137_1306764999211_C1.wav',\n",
       " '../data/heartbeat-sounds/set_b/murmur__203_1308162026258_C1.wav',\n",
       " '../data/heartbeat-sounds/set_b/murmur__195_1308140095331_C.wav',\n",
       " '../data/heartbeat-sounds/set_b/normal__191_1308077299430_B.wav',\n",
       " '../data/heartbeat-sounds/set_b/normal__150_1306776340746_C.wav',\n",
       " '../data/heartbeat-sounds/set_b/normal__167_1307111318050_C.wav',\n",
       " '../data/heartbeat-sounds/set_b/Bunlabelledtest__127_1306764300147_D.wav',\n",
       " '../data/heartbeat-sounds/set_b/normal_noisynormal_138_1306762146980_D.wav',\n",
       " '../data/heartbeat-sounds/set_b/extrastole__198_1308141739338_B1.wav',\n",
       " '../data/heartbeat-sounds/set_b/murmur__200_1308144251434_D.wav',\n",
       " '../data/heartbeat-sounds/set_b/normal_noisynormal_159_1307018640315_B.wav',\n",
       " '../data/heartbeat-sounds/set_b/murmur__240_1309196119795_C.wav',\n",
       " '../data/heartbeat-sounds/set_b/extrastole__220_1308250132896_B.wav',\n",
       " '../data/heartbeat-sounds/set_b/murmur_noisymurmur_135_1306428972976_B.wav',\n",
       " '../data/heartbeat-sounds/set_b/murmur__197_1308141235553_D.wav',\n",
       " '../data/heartbeat-sounds/set_b/normal__201_1308144942432_A1.wav']"
      ]
     },
     "execution_count": 41,
     "metadata": {},
     "output_type": "execute_result"
    }
   ],
   "source": [
    "all_sounds_b"
   ]
  },
  {
   "cell_type": "markdown",
   "metadata": {},
   "source": [
    "Fortunately, for set_b all files with no labels are only the one containing the sentence 'Bunlabelledtest' \n",
    "(for unlabelled test in set_b).\n",
    "\n",
    "Therefore, we will drop all of them from our soundfiles package. "
   ]
  },
  {
   "cell_type": "code",
   "execution_count": 42,
   "metadata": {},
   "outputs": [
    {
     "data": {
      "text/plain": [
       "656"
      ]
     },
     "execution_count": 42,
     "metadata": {},
     "output_type": "execute_result"
    }
   ],
   "source": [
    "len(all_sounds_b)"
   ]
  },
  {
   "cell_type": "code",
   "execution_count": 43,
   "metadata": {},
   "outputs": [],
   "source": [
    "for i in all_sounds_b:\n",
    "    if 'Bunlabelledtest' in i:\n",
    "        all_sounds_b.remove(i)"
   ]
  },
  {
   "cell_type": "code",
   "execution_count": 44,
   "metadata": {},
   "outputs": [
    {
     "data": {
      "text/plain": [
       "502"
      ]
     },
     "execution_count": 44,
     "metadata": {},
     "output_type": "execute_result"
    }
   ],
   "source": [
    "len(all_sounds_b)"
   ]
  },
  {
   "cell_type": "code",
   "execution_count": 45,
   "metadata": {},
   "outputs": [
    {
     "data": {
      "text/plain": [
       "['../data/heartbeat-sounds/set_b/extrastole__194_1308139824187_B.wav',\n",
       " '../data/heartbeat-sounds/set_b/normal_noisynormal_157_1306937583792_A.wav',\n",
       " '../data/heartbeat-sounds/set_b/Bunlabelledtest__155_1306935902813_D.wav',\n",
       " '../data/heartbeat-sounds/set_b/normal__181_1308052613891_D.wav',\n",
       " '../data/heartbeat-sounds/set_b/normal_noisynormal_284_1311168471850_B.wav',\n",
       " '../data/heartbeat-sounds/set_b/murmur__197_1308141235553_C.wav',\n",
       " '../data/heartbeat-sounds/set_b/Bunlabelledtest__134_1306428161797_B.wav',\n",
       " '../data/heartbeat-sounds/set_b/normal_noisynormal_144_1306522408528_C.wav',\n",
       " '../data/heartbeat-sounds/set_b/normal_noisynormal_271_1309369876160_D.wav',\n",
       " '../data/heartbeat-sounds/set_b/normal_noisynormal_129_1306344506305_C.wav',\n",
       " '../data/heartbeat-sounds/set_b/normal__177_1307989650056_A1.wav',\n",
       " '../data/heartbeat-sounds/set_b/normal_noisynormal_285_1311169246969_C.wav',\n",
       " '../data/heartbeat-sounds/set_b/normal__218_1308246311449_C.wav',\n",
       " '../data/heartbeat-sounds/set_b/normal_noisynormal_181_1308052613891_A.wav',\n",
       " '../data/heartbeat-sounds/set_b/normal__209_1308162216750_A.wav',\n",
       " '../data/heartbeat-sounds/set_b/normal__125_1306332456645_B.wav',\n",
       " '../data/heartbeat-sounds/set_b/normal_noisynormal_194_1308139824187_C.wav',\n",
       " '../data/heartbeat-sounds/set_b/normal__202_1308145175747_C.wav',\n",
       " '../data/heartbeat-sounds/set_b/murmur__156_1306936373241_B.wav',\n",
       " '../data/heartbeat-sounds/set_b/normal_noisynormal_137_1306764999211_D1.wav',\n",
       " '../data/heartbeat-sounds/set_b/normal__232_1308748524018_A.wav',\n",
       " '../data/heartbeat-sounds/set_b/Bunlabelledtest__147_1306523973811_D.wav',\n",
       " '../data/heartbeat-sounds/set_b/normal_noisynormal_134_1306428161797_D1.wav',\n",
       " '../data/heartbeat-sounds/set_b/Bunlabelledtest__159_1307018640315_A.wav',\n",
       " '../data/heartbeat-sounds/set_b/murmur_noisymurmur_240_1309201366049_D.wav',\n",
       " '../data/heartbeat-sounds/set_b/normal__113_1306244002866_D.wav',\n",
       " '../data/heartbeat-sounds/set_b/normal__127_1306764300147_C1.wav',\n",
       " '../data/heartbeat-sounds/set_b/Bunlabelledtest__156_1306936373241_D.wav',\n",
       " '../data/heartbeat-sounds/set_b/normal_noisynormal_133_1306759619127_B1.wav',\n",
       " '../data/heartbeat-sounds/set_b/normal__146_1306778707532_D4.wav',\n",
       " '../data/heartbeat-sounds/set_b/murmur__165_1307109069581_C.wav',\n",
       " '../data/heartbeat-sounds/set_b/Bunlabelledtest__296_1311682952647_A.wav',\n",
       " '../data/heartbeat-sounds/set_b/normal__210_1308162935880_D2.wav',\n",
       " '../data/heartbeat-sounds/set_b/normal_noisynormal_117_1306262456650_D.wav',\n",
       " '../data/heartbeat-sounds/set_b/normal__217_1308246111629_C1.wav',\n",
       " '../data/heartbeat-sounds/set_b/normal__151_1306779785624_D.wav',\n",
       " '../data/heartbeat-sounds/set_b/normal_noisynormal_173_1307973611151_B.wav',\n",
       " '../data/heartbeat-sounds/set_b/normal_noisynormal_141_1306520154450_C1.wav',\n",
       " '../data/heartbeat-sounds/set_b/normal__237_1308750231222_C.wav',\n",
       " '../data/heartbeat-sounds/set_b/normal__176_1307988171173_B.wav',\n",
       " '../data/heartbeat-sounds/set_b/normal__184_1308073010307_D.wav',\n",
       " '../data/heartbeat-sounds/set_b/Bunlabelledtest__154_1306935608852_D.wav',\n",
       " '../data/heartbeat-sounds/set_b/normal__154_1306935608852_B1.wav',\n",
       " '../data/heartbeat-sounds/set_b/normal_noisynormal_155_1306935902813_A.wav',\n",
       " '../data/heartbeat-sounds/set_b/normal_noisynormal_101_1305030823364_B.wav',\n",
       " '../data/heartbeat-sounds/set_b/normal__146_1306778707532_A.wav',\n",
       " '../data/heartbeat-sounds/set_b/murmur__116_1306258689913_A.wav',\n",
       " '../data/heartbeat-sounds/set_b/normal_noisynormal_125_1306332456645_D.wav',\n",
       " '../data/heartbeat-sounds/set_b/murmur__242_1309197394064_D.wav',\n",
       " '../data/heartbeat-sounds/set_b/normal_noisynormal_264_1309356143724_D.wav',\n",
       " '../data/heartbeat-sounds/set_b/murmur_noisymurmur_156_1306936373241_B1.wav',\n",
       " '../data/heartbeat-sounds/set_b/extrastole__294_1311681084248_C.wav',\n",
       " '../data/heartbeat-sounds/set_b/normal__220_1308250132896_D.wav',\n",
       " '../data/heartbeat-sounds/set_b/normal__133_1306759619127_B.wav',\n",
       " '../data/heartbeat-sounds/set_b/normal_noisynormal_157_1306937583792_B.wav',\n",
       " '../data/heartbeat-sounds/set_b/normal__174_1307987737137_B1.wav',\n",
       " '../data/heartbeat-sounds/set_b/Bunlabelledtest__217_1308246111629_A.wav',\n",
       " '../data/heartbeat-sounds/set_b/normal__148_1306768801551_D2.wav',\n",
       " '../data/heartbeat-sounds/set_b/normal_noisynormal_138_1306762146980_A.wav',\n",
       " '../data/heartbeat-sounds/set_b/normal_noisynormal_104_1305032492469_A.wav',\n",
       " '../data/heartbeat-sounds/set_b/normal__184_1308073010307_B.wav',\n",
       " '../data/heartbeat-sounds/set_b/normal__296_1311682952647_A2.wav',\n",
       " '../data/heartbeat-sounds/set_b/murmur__193_1308078104592_C1.wav',\n",
       " '../data/heartbeat-sounds/set_b/murmur__292_1311185449649_B.wav',\n",
       " '../data/heartbeat-sounds/set_b/normal__176_1307988171173_A.wav',\n",
       " '../data/heartbeat-sounds/set_b/normal__146_1306778707532_D1.wav',\n",
       " '../data/heartbeat-sounds/set_b/normal_noisynormal_109_1305653972028_C.wav',\n",
       " '../data/heartbeat-sounds/set_b/extrastole__237_1308750231222_A.wav',\n",
       " '../data/heartbeat-sounds/set_b/normal_noisynormal_110_1305655332337_A.wav',\n",
       " '../data/heartbeat-sounds/set_b/murmur__116_1306258689913_C.wav',\n",
       " '../data/heartbeat-sounds/set_b/murmur__112_1306243000964_B.wav',\n",
       " '../data/heartbeat-sounds/set_b/normal__159_1307018640315_B1.wav',\n",
       " '../data/heartbeat-sounds/set_b/normal_noisynormal_188_1308074301731_A.wav',\n",
       " '../data/heartbeat-sounds/set_b/normal__140_1306519735121_D1.wav',\n",
       " '../data/heartbeat-sounds/set_b/normal__115_1306259437619_C.wav',\n",
       " '../data/heartbeat-sounds/set_b/murmur__276_1311162716489_C.wav',\n",
       " '../data/heartbeat-sounds/set_b/normal__146_1306778707532_B.wav',\n",
       " '../data/heartbeat-sounds/set_b/murmur__254_1309350589009_A1.wav',\n",
       " '../data/heartbeat-sounds/set_b/Bunlabelledtest__280_1311165195344_B.wav',\n",
       " '../data/heartbeat-sounds/set_b/extrastole__138_1306762146980_B.wav',\n",
       " '../data/heartbeat-sounds/set_b/normal__147_1306523973811_C.wav',\n",
       " '../data/heartbeat-sounds/set_b/Bunlabelledtest__268_1309368960960_A.wav',\n",
       " '../data/heartbeat-sounds/set_b/extrastole__261_1309353556003_C.wav',\n",
       " '../data/heartbeat-sounds/set_b/murmur__122_1306325762831_C.wav',\n",
       " '../data/heartbeat-sounds/set_b/murmur_noisymurmur_288_1311164615284_C.wav',\n",
       " '../data/heartbeat-sounds/set_b/normal_noisynormal_118_1306262335509_D.wav',\n",
       " '../data/heartbeat-sounds/set_b/normal__141_1306520154450_C.wav',\n",
       " '../data/heartbeat-sounds/set_b/murmur__162_1307101835989_B.wav',\n",
       " '../data/heartbeat-sounds/set_b/murmur__164_1307106095995_B.wav',\n",
       " '../data/heartbeat-sounds/set_b/normal__218_1308246311449_C1.wav',\n",
       " '../data/heartbeat-sounds/set_b/normal__139_1306519274653_A.wav',\n",
       " '../data/heartbeat-sounds/set_b/extrastole__179_1307990076841_C.wav',\n",
       " '../data/heartbeat-sounds/set_b/normal__148_1306768801551_C1.wav',\n",
       " '../data/heartbeat-sounds/set_b/normal__106_1306776721273_C1.wav',\n",
       " '../data/heartbeat-sounds/set_b/murmur__122_1306325762831_D.wav',\n",
       " '../data/heartbeat-sounds/set_b/normal__286_1311170606028_A.wav',\n",
       " '../data/heartbeat-sounds/set_b/normal_noisynormal_264_1309356143724_C.wav',\n",
       " '../data/heartbeat-sounds/set_b/normal_noisynormal_129_1306344506305_A.wav',\n",
       " '../data/heartbeat-sounds/set_b/normal__137_1306764999211_C.wav',\n",
       " '../data/heartbeat-sounds/set_b/normal_noisynormal_136_1306429977501_D1.wav',\n",
       " '../data/heartbeat-sounds/set_b/normal__170_1307970562729_A.wav',\n",
       " '../data/heartbeat-sounds/set_b/normal_noisynormal_127_1306764300147_D1.wav',\n",
       " '../data/heartbeat-sounds/set_b/extrastole__191_1308077299430_A.wav',\n",
       " '../data/heartbeat-sounds/set_b/normal_noisynormal_170_1307970562729_C1.wav',\n",
       " '../data/heartbeat-sounds/set_b/Bunlabelledtest__296_1311682952647_B.wav',\n",
       " '../data/heartbeat-sounds/set_b/normal__296_1311682952647_A1.wav',\n",
       " '../data/heartbeat-sounds/set_b/normal_noisynormal_130_1306347376079_B.wav',\n",
       " '../data/heartbeat-sounds/set_b/normal__278_1311163365896_A1.wav',\n",
       " '../data/heartbeat-sounds/set_b/normal_noisynormal_173_1307973611151_C1.wav',\n",
       " '../data/heartbeat-sounds/set_b/normal__190_1308076920011_C1.wav',\n",
       " '../data/heartbeat-sounds/set_b/normal__215_1308245664733_C.wav',\n",
       " '../data/heartbeat-sounds/set_b/normal__128_1306344005749_B.wav',\n",
       " '../data/heartbeat-sounds/set_b/extrastole__144_1306522408528_B1.wav',\n",
       " '../data/heartbeat-sounds/set_b/murmur_noisymurmur_171_1307971016233_F.wav',\n",
       " '../data/heartbeat-sounds/set_b/normal__126_1306777102824_B.wav',\n",
       " '../data/heartbeat-sounds/set_b/normal__152_1306779561195_D.wav',\n",
       " '../data/heartbeat-sounds/set_b/murmur_noisymurmur_165_1307109069581_C1.wav',\n",
       " '../data/heartbeat-sounds/set_b/normal_noisynormal_121_1306263877235_D.wav',\n",
       " '../data/heartbeat-sounds/set_b/murmur__160_1307100683334_A.wav',\n",
       " '../data/heartbeat-sounds/set_b/normal__179_1307990076841_B.wav',\n",
       " '../data/heartbeat-sounds/set_b/normal_noisynormal_109_1305653972028_E.wav',\n",
       " '../data/heartbeat-sounds/set_b/normal_noisynormal_270_1309369533040_B.wav',\n",
       " '../data/heartbeat-sounds/set_b/normal__170_1307970562729_B.wav',\n",
       " '../data/heartbeat-sounds/set_b/normal__153_1306848820671_D1.wav',\n",
       " '../data/heartbeat-sounds/set_b/normal_noisynormal_167_1307111318050_A1.wav',\n",
       " '../data/heartbeat-sounds/set_b/extrastole__202_1308145175747_C1.wav',\n",
       " '../data/heartbeat-sounds/set_b/normal_noisynormal_167_1307111318050_B.wav',\n",
       " '../data/heartbeat-sounds/set_b/normal_noisynormal_121_1306263877235_A.wav',\n",
       " '../data/heartbeat-sounds/set_b/murmur_noisymurmur_243_1309197760898_B.wav',\n",
       " '../data/heartbeat-sounds/set_b/normal_noisynormal_189_1308075231945_A1.wav',\n",
       " '../data/heartbeat-sounds/set_b/normal_noisynormal_296_1311682952647_C.wav',\n",
       " '../data/heartbeat-sounds/set_b/normal__215_1308245664733_C1.wav',\n",
       " '../data/heartbeat-sounds/set_b/normal_noisynormal_134_1306428161797_B1.wav',\n",
       " '../data/heartbeat-sounds/set_b/murmur__171_1307971016233_E.wav',\n",
       " '../data/heartbeat-sounds/set_b/murmur__239_1309195730333_C.wav',\n",
       " '../data/heartbeat-sounds/set_b/normal__227_1308594233667_C.wav',\n",
       " '../data/heartbeat-sounds/set_b/normal__172_1307971284351_B.wav',\n",
       " '../data/heartbeat-sounds/set_b/normal__128_1306344005749_D1.wav',\n",
       " '../data/heartbeat-sounds/set_b/murmur_noisymurmur_240_1309201366049_C.wav',\n",
       " '../data/heartbeat-sounds/set_b/extrastole__213_1308245263936_D.wav',\n",
       " '../data/heartbeat-sounds/set_b/normal__167_1307111318050_A.wav',\n",
       " '../data/heartbeat-sounds/set_b/extrastole__184_1308073010307_A.wav',\n",
       " '../data/heartbeat-sounds/set_b/normal__173_1307973611151_C.wav',\n",
       " '../data/heartbeat-sounds/set_b/normal__154_1306935608852_B.wav',\n",
       " '../data/heartbeat-sounds/set_b/extrastole__202_1308145175747_C2.wav',\n",
       " '../data/heartbeat-sounds/set_b/normal__134_1306428161797_C.wav',\n",
       " '../data/heartbeat-sounds/set_b/extrastole__198_1308141739338_B.wav',\n",
       " '../data/heartbeat-sounds/set_b/Bunlabelledtest__243_1309197760898_D.wav',\n",
       " '../data/heartbeat-sounds/set_b/murmur__239_1309195730333_B.wav',\n",
       " '../data/heartbeat-sounds/set_b/Bunlabelledtest__141_1306520154450_A.wav',\n",
       " '../data/heartbeat-sounds/set_b/normal__152_1306779561195_C1.wav',\n",
       " '../data/heartbeat-sounds/set_b/Bunlabelledtest__149_1306776016110_C.wav',\n",
       " '../data/heartbeat-sounds/set_b/normal_noisynormal_296_1311682952647_D.wav',\n",
       " '../data/heartbeat-sounds/set_b/Bunlabelledtest__278_1311163365896_D.wav',\n",
       " '../data/heartbeat-sounds/set_b/normal__129_1306344506305_B1.wav',\n",
       " '../data/heartbeat-sounds/set_b/normal_noisynormal_109_1305653972028_A.wav',\n",
       " '../data/heartbeat-sounds/set_b/murmur_noisymurmur_165_1307109069581_A.wav',\n",
       " '../data/heartbeat-sounds/set_b/murmur__197_1308141235553_A.wav',\n",
       " '../data/heartbeat-sounds/set_b/normal__256_1309351470137_A.wav',\n",
       " '../data/heartbeat-sounds/set_b/normal__183_1308072703477_B.wav',\n",
       " '../data/heartbeat-sounds/set_b/murmur__185_1308073325396_B.wav',\n",
       " '../data/heartbeat-sounds/set_b/normal__181_1308052613891_B.wav',\n",
       " '../data/heartbeat-sounds/set_b/normal_noisynormal_178_1307989887769_B1.wav',\n",
       " '../data/heartbeat-sounds/set_b/murmur__162_1307101835989_A.wav',\n",
       " '../data/heartbeat-sounds/set_b/extrastole__237_1308750231222_C.wav',\n",
       " '../data/heartbeat-sounds/set_b/Bunlabelledtest__105_1305033453095_D.wav',\n",
       " '../data/heartbeat-sounds/set_b/Bunlabelledtest__138_1306762146980_C.wav',\n",
       " '../data/heartbeat-sounds/set_b/murmur__288_1311164615284_D.wav',\n",
       " '../data/heartbeat-sounds/set_b/normal__129_1306344506305_D.wav',\n",
       " '../data/heartbeat-sounds/set_b/normal__194_1308139824187_A1.wav',\n",
       " '../data/heartbeat-sounds/set_b/murmur__248_1309201683806_C.wav',\n",
       " '../data/heartbeat-sounds/set_b/normal__210_1308162935880_B1.wav',\n",
       " '../data/heartbeat-sounds/set_b/normal__213_1308245263936_C.wav',\n",
       " '../data/heartbeat-sounds/set_b/normal_noisynormal_149_1306776016110_A.wav',\n",
       " '../data/heartbeat-sounds/set_b/normal_noisynormal_159_1307018640315_A1.wav',\n",
       " '../data/heartbeat-sounds/set_b/Bunlabelledtest__129_1306344506305_B.wav',\n",
       " '../data/heartbeat-sounds/set_b/murmur__292_1311185449649_C.wav',\n",
       " '../data/heartbeat-sounds/set_b/normal__103_1305031931979_B.wav',\n",
       " '../data/heartbeat-sounds/set_b/normal_noisynormal_137_1306764999211_A2.wav',\n",
       " '../data/heartbeat-sounds/set_b/normal_noisynormal_133_1306759619127_D1.wav',\n",
       " '../data/heartbeat-sounds/set_b/normal__274_1311075637574_D.wav',\n",
       " '../data/heartbeat-sounds/set_b/normal__106_1306776721273_B1.wav',\n",
       " '../data/heartbeat-sounds/set_b/normal__290_1311182875320_A.wav',\n",
       " '../data/heartbeat-sounds/set_b/normal_noisynormal_139_1306519274653_D.wav',\n",
       " '../data/heartbeat-sounds/set_b/normal__232_1308748524018_B.wav',\n",
       " '../data/heartbeat-sounds/set_b/normal_noisynormal_142_1306763049574_B.wav',\n",
       " '../data/heartbeat-sounds/set_b/murmur_noisymurmur_135_1306428972976_C.wav',\n",
       " '../data/heartbeat-sounds/set_b/normal_noisynormal_169_1307970398039_A.wav',\n",
       " '../data/heartbeat-sounds/set_b/murmur__223_1308337062581_D.wav',\n",
       " '../data/heartbeat-sounds/set_b/Bunlabelledtest__171_1307971016233_C.wav',\n",
       " '../data/heartbeat-sounds/set_b/extrastole__274_1311075637574_A.wav',\n",
       " '../data/heartbeat-sounds/set_b/normal__300_1311772096120_C1.wav',\n",
       " '../data/heartbeat-sounds/set_b/normal__274_1311075637574_A1.wav',\n",
       " '../data/heartbeat-sounds/set_b/normal__262_1309355283807_A.wav',\n",
       " '../data/heartbeat-sounds/set_b/normal__186_1308073648738_D.wav',\n",
       " '../data/heartbeat-sounds/set_b/normal__103_1305031931979_D1.wav',\n",
       " '../data/heartbeat-sounds/set_b/normal__140_1306519735121_A.wav',\n",
       " '../data/heartbeat-sounds/set_b/extrastole__154_1306935608852_D2.wav',\n",
       " '../data/heartbeat-sounds/set_b/normal__224_1308337157445_C.wav',\n",
       " '../data/heartbeat-sounds/set_b/Bunlabelledtest__151_1306779785624_A1.wav',\n",
       " '../data/heartbeat-sounds/set_b/normal__210_1308162935880_D1.wav',\n",
       " '../data/heartbeat-sounds/set_b/normal_noisynormal_140_1306519735121_C.wav',\n",
       " '../data/heartbeat-sounds/set_b/extrastole__148_1306768801551_B.wav',\n",
       " '../data/heartbeat-sounds/set_b/normal__186_1308073648738_C1.wav',\n",
       " '../data/heartbeat-sounds/set_b/normal__173_1307973611151_B.wav',\n",
       " '../data/heartbeat-sounds/set_b/normal_noisynormal_136_1306429977501_B.wav',\n",
       " '../data/heartbeat-sounds/set_b/murmur__281_1311165683454_A.wav',\n",
       " '../data/heartbeat-sounds/set_b/murmur_noisymurmur_161_1307101199321_C.wav',\n",
       " '../data/heartbeat-sounds/set_b/Bunlabelledtest__122_1306325762831_B.wav',\n",
       " '../data/heartbeat-sounds/set_b/normal__153_1306848820671_B.wav',\n",
       " '../data/heartbeat-sounds/set_b/extrastole__144_1306522408528_B.wav',\n",
       " '../data/heartbeat-sounds/set_b/normal__250_1309202496494_A.wav',\n",
       " '../data/heartbeat-sounds/set_b/murmur__240_1309196119795_B.wav',\n",
       " '../data/heartbeat-sounds/set_b/normal__168_1307970069434_A.wav',\n",
       " '../data/heartbeat-sounds/set_b/normal_noisynormal_125_1306332456645_A2.wav',\n",
       " '../data/heartbeat-sounds/set_b/extrastole__215_1308245664733_B.wav',\n",
       " '../data/heartbeat-sounds/set_b/normal__141_1306520154450_B.wav',\n",
       " '../data/heartbeat-sounds/set_b/Bunlabelledtest__210_1308162935880_D.wav',\n",
       " '../data/heartbeat-sounds/set_b/murmur__293_1311680805936_B1.wav',\n",
       " '../data/heartbeat-sounds/set_b/murmur_noisymurmur_293_1311680805936_C.wav',\n",
       " '../data/heartbeat-sounds/set_b/normal__177_1307989650056_D.wav',\n",
       " '../data/heartbeat-sounds/set_b/normal__227_1308594233667_B.wav',\n",
       " '../data/heartbeat-sounds/set_b/normal_noisynormal_109_1305653646620_A.wav',\n",
       " '../data/heartbeat-sounds/set_b/extrastole__128_1306344005749_A.wav',\n",
       " '../data/heartbeat-sounds/set_b/normal__294_1311681084248_B.wav',\n",
       " '../data/heartbeat-sounds/set_b/normal_noisynormal_110_1305655332337_B.wav',\n",
       " '../data/heartbeat-sounds/set_b/normal__175_1307987962616_B.wav',\n",
       " '../data/heartbeat-sounds/set_b/normal__291_1311185210672_A.wav',\n",
       " '../data/heartbeat-sounds/set_b/normal_noisynormal_144_1306522408528_A1.wav',\n",
       " '../data/heartbeat-sounds/set_b/Bunlabelledtest__167_1307111318050_C1.wav',\n",
       " '../data/heartbeat-sounds/set_b/normal_noisynormal_182_1308053371395_B.wav',\n",
       " '../data/heartbeat-sounds/set_b/normal_noisynormal_132_1306758754432_B1.wav',\n",
       " '../data/heartbeat-sounds/set_b/normal_noisynormal_108_1305654420093_B.wav',\n",
       " '../data/heartbeat-sounds/set_b/normal__145_1307987561278_C.wav',\n",
       " '../data/heartbeat-sounds/set_b/normal__153_1306848820671_B1.wav',\n",
       " '../data/heartbeat-sounds/set_b/normal_noisynormal_271_1309369876160_C.wav',\n",
       " '../data/heartbeat-sounds/set_b/normal__140_1306519735121_B.wav',\n",
       " '../data/heartbeat-sounds/set_b/extrastole__235_1308749032454_B.wav',\n",
       " '../data/heartbeat-sounds/set_b/normal_noisynormal_133_1306759619127_A1.wav',\n",
       " '../data/heartbeat-sounds/set_b/normal__198_1308141739338_C.wav',\n",
       " '../data/heartbeat-sounds/set_b/murmur_noisymurmur_293_1311680805936_D.wav',\n",
       " '../data/heartbeat-sounds/set_b/normal_noisynormal_136_1306429977501_C.wav',\n",
       " '../data/heartbeat-sounds/set_b/normal_noisynormal_258_1309352253234_A.wav',\n",
       " '../data/heartbeat-sounds/set_b/Bunlabelledtest__101_1305030823364_A.wav',\n",
       " '../data/heartbeat-sounds/set_b/normal__235_1308749032454_D.wav',\n",
       " '../data/heartbeat-sounds/set_b/murmur__116_1306258689913_D.wav',\n",
       " '../data/heartbeat-sounds/set_b/normal__278_1311163365896_A.wav',\n",
       " '../data/heartbeat-sounds/set_b/murmur__211_1308163238707_C.wav',\n",
       " '../data/heartbeat-sounds/set_b/normal_noisynormal_142_1306763049574_D.wav',\n",
       " '../data/heartbeat-sounds/set_b/murmur__254_1309350589009_A.wav',\n",
       " '../data/heartbeat-sounds/set_b/normal_noisynormal_163_1307104470471_D1.wav',\n",
       " '../data/heartbeat-sounds/set_b/normal_noisynormal_123_1306331925797_B.wav',\n",
       " '../data/heartbeat-sounds/set_b/murmur__200_1308144251434_C.wav',\n",
       " '../data/heartbeat-sounds/set_b/extrastole__210_1308162935880_C.wav',\n",
       " '../data/heartbeat-sounds/set_b/normal__103_1305031931979_D2.wav',\n",
       " '../data/heartbeat-sounds/set_b/normal__127_1306764300147_B.wav',\n",
       " '../data/heartbeat-sounds/set_b/murmur__281_1311165683454_B.wav',\n",
       " '../data/heartbeat-sounds/set_b/Bunlabelledtest__187_1308073994223_C.wav',\n",
       " '../data/heartbeat-sounds/set_b/normal__274_1311075637574_B.wav',\n",
       " '../data/heartbeat-sounds/set_b/normal__149_1306776016110_C1.wav',\n",
       " '../data/heartbeat-sounds/set_b/normal_noisynormal_158_1306947254705_B1.wav',\n",
       " '../data/heartbeat-sounds/set_b/normal_noisynormal_150_1306776340746_A.wav',\n",
       " '../data/heartbeat-sounds/set_b/extrastole__207_1308159792607_B.wav',\n",
       " '../data/heartbeat-sounds/set_b/murmur__242_1309197394064_B.wav',\n",
       " '../data/heartbeat-sounds/set_b/extrastole__253_1309350256198_B.wav',\n",
       " '../data/heartbeat-sounds/set_b/normal__126_1306777102824_C.wav',\n",
       " '../data/heartbeat-sounds/set_b/murmur__254_1309350589009_D.wav',\n",
       " '../data/heartbeat-sounds/set_b/normal_noisynormal_133_1306759619127_C.wav',\n",
       " '../data/heartbeat-sounds/set_b/murmur__160_1307100683334_B.wav',\n",
       " '../data/heartbeat-sounds/set_b/normal__147_1306523973811_A.wav',\n",
       " '../data/heartbeat-sounds/set_b/murmur_noisymurmur_185_1308073325396_D.wav',\n",
       " '../data/heartbeat-sounds/set_b/normal__207_1308159792607_C.wav',\n",
       " '../data/heartbeat-sounds/set_b/normal__175_1307987962616_D.wav',\n",
       " '../data/heartbeat-sounds/set_b/normal__159_1307018640315_B2.wav',\n",
       " '../data/heartbeat-sounds/set_b/normal__180_1307990956284_C.wav',\n",
       " '../data/heartbeat-sounds/set_b/normal__178_1307989887769_B.wav',\n",
       " '../data/heartbeat-sounds/set_b/normal__230_1308595300880_B.wav',\n",
       " '../data/heartbeat-sounds/set_b/murmur_noisymurmur_164_1307106095995_C1.wav',\n",
       " '../data/heartbeat-sounds/set_b/normal_noisynormal_264_1309356143724_B.wav',\n",
       " '../data/heartbeat-sounds/set_b/normal__150_1306776340746_B.wav',\n",
       " '../data/heartbeat-sounds/set_b/normal_noisynormal_141_1306520154450_B1.wav',\n",
       " '../data/heartbeat-sounds/set_b/Bunlabelledtest__101_1305030823364_D.wav',\n",
       " '../data/heartbeat-sounds/set_b/normal__204_1308159229275_C.wav',\n",
       " '../data/heartbeat-sounds/set_b/normal_noisynormal_118_1306262335509_B.wav',\n",
       " '../data/heartbeat-sounds/set_b/normal__137_1306764999211_D.wav',\n",
       " '../data/heartbeat-sounds/set_b/normal_noisynormal_115_1306259437619_A1.wav',\n",
       " '../data/heartbeat-sounds/set_b/normal__250_1309202496494_B.wav',\n",
       " '../data/heartbeat-sounds/set_b/normal__209_1308162216750_A1.wav',\n",
       " '../data/heartbeat-sounds/set_b/murmur__248_1309201683806_A.wav',\n",
       " '../data/heartbeat-sounds/set_b/Bunlabelledtest__112_1306243000964_C.wav',\n",
       " '../data/heartbeat-sounds/set_b/normal__286_1311170606028_A1.wav',\n",
       " '../data/heartbeat-sounds/set_b/normal__280_1311165195344_A.wav',\n",
       " '../data/heartbeat-sounds/set_b/Bunlabelledtest__160_1307100683334_C.wav',\n",
       " '../data/heartbeat-sounds/set_b/normal__159_1307018640315_C1.wav',\n",
       " '../data/heartbeat-sounds/set_b/normal__210_1308162935880_B.wav',\n",
       " '../data/heartbeat-sounds/set_b/normal__153_1306848820671_A.wav',\n",
       " '../data/heartbeat-sounds/set_b/normal_noisynormal_125_1306332456645_C.wav',\n",
       " '../data/heartbeat-sounds/set_b/normal_noisynormal_132_1306758754432_C.wav',\n",
       " '../data/heartbeat-sounds/set_b/normal_noisynormal_172_1307971284351_A.wav',\n",
       " '../data/heartbeat-sounds/set_b/normal_noisynormal_176_1307988171173_D.wav',\n",
       " '../data/heartbeat-sounds/set_b/normal__170_1307970562729_C.wav',\n",
       " '../data/heartbeat-sounds/set_b/normal__294_1311681084248_D1.wav',\n",
       " '../data/heartbeat-sounds/set_b/murmur__196_1308141034858_B.wav',\n",
       " '../data/heartbeat-sounds/set_b/murmur__203_1308162026258_D.wav',\n",
       " '../data/heartbeat-sounds/set_b/normal__158_1306947254705_B2.wav',\n",
       " '../data/heartbeat-sounds/set_b/murmur_noisymurmur_243_1309197760898_C.wav',\n",
       " '../data/heartbeat-sounds/set_b/Bunlabelledtest__177_1307989650056_C.wav',\n",
       " '../data/heartbeat-sounds/set_b/extrastole__127_1306764300147_C2.wav',\n",
       " '../data/heartbeat-sounds/set_b/murmur_noisymurmur_161_1307101199321_B.wav',\n",
       " '../data/heartbeat-sounds/set_b/normal__238_1309194586293_A.wav',\n",
       " '../data/heartbeat-sounds/set_b/normal__151_1306779785624_A.wav',\n",
       " '../data/heartbeat-sounds/set_b/normal__299_1311770522820_C.wav',\n",
       " '../data/heartbeat-sounds/set_b/normal__128_1306344005749_D.wav',\n",
       " '../data/heartbeat-sounds/set_b/normal__174_1307987737137_B.wav',\n",
       " '../data/heartbeat-sounds/set_b/murmur__203_1308162026258_B.wav',\n",
       " '../data/heartbeat-sounds/set_b/normal_noisynormal_130_1306347376079_C.wav',\n",
       " '../data/heartbeat-sounds/set_b/murmur__112_1306243000964_D.wav',\n",
       " '../data/heartbeat-sounds/set_b/murmur_noisymurmur_272_1309370164386_C.wav',\n",
       " '../data/heartbeat-sounds/set_b/normal_noisynormal_117_1306262456650_A.wav',\n",
       " '../data/heartbeat-sounds/set_b/normal__103_1305031931979_D3.wav',\n",
       " '../data/heartbeat-sounds/set_b/normal__133_1306759619127_D.wav',\n",
       " '../data/heartbeat-sounds/set_b/murmur__245_1309200438094_B.wav',\n",
       " '../data/heartbeat-sounds/set_b/normal__109_1305653646620_C.wav',\n",
       " '../data/heartbeat-sounds/set_b/Bunlabelledtest__152_1306779561195_D1.wav',\n",
       " '../data/heartbeat-sounds/set_b/murmur__193_1308078104592_B.wav',\n",
       " '../data/heartbeat-sounds/set_b/normal__216_1308245839516_C.wav',\n",
       " '../data/heartbeat-sounds/set_b/extrastole__151_1306779785624_B.wav',\n",
       " '../data/heartbeat-sounds/set_b/normal_noisynormal_146_1306778707532_D.wav',\n",
       " '../data/heartbeat-sounds/set_b/murmur__281_1311165683454_D.wav',\n",
       " '../data/heartbeat-sounds/set_b/murmur__244_1309198148498_B.wav',\n",
       " '../data/heartbeat-sounds/set_b/Bunlabelledtest__128_1306344005749_C.wav',\n",
       " '../data/heartbeat-sounds/set_b/Bunlabelledtest__180_1307990956284_B.wav',\n",
       " '../data/heartbeat-sounds/set_b/murmur__240_1309201366049_B.wav',\n",
       " '../data/heartbeat-sounds/set_b/normal_noisynormal_142_1306763049574_A.wav',\n",
       " '../data/heartbeat-sounds/set_b/normal__188_1308074301731_D.wav',\n",
       " '../data/heartbeat-sounds/set_b/Bunlabelledtest__167_1307111318050_D.wav',\n",
       " '../data/heartbeat-sounds/set_b/extrastole__229_1308594979317_B.wav',\n",
       " '../data/heartbeat-sounds/set_b/normal__127_1306764300147_A.wav',\n",
       " '../data/heartbeat-sounds/set_b/normal_noisynormal_234_1308748855534_B.wav',\n",
       " '../data/heartbeat-sounds/set_b/murmur__193_1308078104592_C.wav',\n",
       " '../data/heartbeat-sounds/set_b/normal_noisynormal_118_1306262335509_C1.wav',\n",
       " '../data/heartbeat-sounds/set_b/normal_noisynormal_270_1309369533040_A.wav',\n",
       " '../data/heartbeat-sounds/set_b/normal_noisynormal_121_1306263877235_C.wav',\n",
       " '../data/heartbeat-sounds/set_b/normal_noisynormal_105_1305033453095_C.wav',\n",
       " '../data/heartbeat-sounds/set_b/normal__168_1307970069434_A2.wav',\n",
       " '../data/heartbeat-sounds/set_b/normal__143_1306763822290_C.wav',\n",
       " '../data/heartbeat-sounds/set_b/normal__190_1308076920011_D.wav',\n",
       " '../data/heartbeat-sounds/set_b/normal_noisynormal_125_1306332456645_A1.wav',\n",
       " '../data/heartbeat-sounds/set_b/normal__274_1311075637574_B1.wav',\n",
       " '../data/heartbeat-sounds/set_b/normal_noisynormal_246_1309199278902_D.wav',\n",
       " '../data/heartbeat-sounds/set_b/normal__175_1307987962616_B1.wav',\n",
       " '../data/heartbeat-sounds/set_b/normal__154_1306935608852_D.wav',\n",
       " '../data/heartbeat-sounds/set_b/extrastole__190_1308076920011_C.wav',\n",
       " '../data/heartbeat-sounds/set_b/normal__146_1306778707532_D2.wav',\n",
       " '../data/heartbeat-sounds/set_b/normal__178_1307989887769_D.wav',\n",
       " '../data/heartbeat-sounds/set_b/normal__230_1308595300880_C.wav',\n",
       " '../data/heartbeat-sounds/set_b/normal__252_1309203336604_B.wav',\n",
       " '../data/heartbeat-sounds/set_b/normal__208_1308159994503_C.wav',\n",
       " '../data/heartbeat-sounds/set_b/normal_noisynormal_101_1305030823364_E.wav',\n",
       " '../data/heartbeat-sounds/set_b/normal__201_1308144942432_A.wav',\n",
       " '../data/heartbeat-sounds/set_b/normal_noisynormal_113_1306244002866_B.wav',\n",
       " '../data/heartbeat-sounds/set_b/murmur__165_1307109069581_C2.wav',\n",
       " '../data/heartbeat-sounds/set_b/normal_noisynormal_117_1306262456650_C.wav',\n",
       " '../data/heartbeat-sounds/set_b/extrastole__216_1308245839516_A.wav',\n",
       " '../data/heartbeat-sounds/set_b/murmur__204_1308159229275_B.wav',\n",
       " '../data/heartbeat-sounds/set_b/Bunlabelledtest__118_1306262335509_A.wav',\n",
       " '../data/heartbeat-sounds/set_b/extrastole__207_1308159792607_B1.wav',\n",
       " '../data/heartbeat-sounds/set_b/normal__143_1306763822290_B.wav',\n",
       " '../data/heartbeat-sounds/set_b/murmur_noisymurmur_200_1308144251434_D.wav',\n",
       " '../data/heartbeat-sounds/set_b/murmur__161_1307101199321_A.wav',\n",
       " '../data/heartbeat-sounds/set_b/normal__273_1309370841191_B.wav',\n",
       " '../data/heartbeat-sounds/set_b/normal_noisynormal_123_1306331925797_C.wav',\n",
       " '../data/heartbeat-sounds/set_b/normal__294_1311681084248_A.wav',\n",
       " '../data/heartbeat-sounds/set_b/normal__183_1308072703477_C.wav',\n",
       " '../data/heartbeat-sounds/set_b/normal_noisynormal_271_1309369876160_A.wav',\n",
       " '../data/heartbeat-sounds/set_b/normal__117_1306262456650_B.wav',\n",
       " '../data/heartbeat-sounds/set_b/normal_noisynormal_147_1306523973811_B.wav',\n",
       " '../data/heartbeat-sounds/set_b/extrastole__153_1306848820671_C.wav',\n",
       " '../data/heartbeat-sounds/set_b/Bunlabelledtest__155_1306935902813_B.wav',\n",
       " '../data/heartbeat-sounds/set_b/normal__238_1309194586293_B.wav',\n",
       " '../data/heartbeat-sounds/set_b/normal_noisynormal_125_1306332456645_B1.wav',\n",
       " '../data/heartbeat-sounds/set_b/normal__298_1311685888900_B.wav',\n",
       " '../data/heartbeat-sounds/set_b/normal__204_1308159229275_D.wav',\n",
       " '../data/heartbeat-sounds/set_b/normal_noisynormal_108_1305654420093_A.wav',\n",
       " '../data/heartbeat-sounds/set_b/Bunlabelledtest__101_1305030823364_F.wav',\n",
       " '../data/heartbeat-sounds/set_b/normal_noisynormal_154_1306935608852_C.wav',\n",
       " '../data/heartbeat-sounds/set_b/extrastole__275_1310990852160_B.wav',\n",
       " '../data/heartbeat-sounds/set_b/murmur__195_1308140095331_C1.wav',\n",
       " '../data/heartbeat-sounds/set_b/murmur_noisymurmur_135_1306428972976_A.wav',\n",
       " '../data/heartbeat-sounds/set_b/extrastole__265_1309367698923_C.wav',\n",
       " '../data/heartbeat-sounds/set_b/normal__214_1308245489717_A.wav',\n",
       " '../data/heartbeat-sounds/set_b/extrastole__298_1311685888900_C.wav',\n",
       " '../data/heartbeat-sounds/set_b/normal_noisynormal_155_1306935902813_C.wav',\n",
       " '../data/heartbeat-sounds/set_b/murmur__195_1308140095331_A.wav',\n",
       " '../data/heartbeat-sounds/set_b/normal__177_1307989650056_D1.wav',\n",
       " '../data/heartbeat-sounds/set_b/normal__286_1311170606028_B1.wav',\n",
       " '../data/heartbeat-sounds/set_b/normal__106_1306776721273_D1.wav',\n",
       " '../data/heartbeat-sounds/set_b/murmur__287_1311170903290_C.wav',\n",
       " '../data/heartbeat-sounds/set_b/normal__149_1306776016110_B.wav',\n",
       " '../data/heartbeat-sounds/set_b/normal_noisynormal_151_1306779785624_C.wav',\n",
       " '../data/heartbeat-sounds/set_b/extrastole__215_1308245664733_B1.wav',\n",
       " '../data/heartbeat-sounds/set_b/normal_noisynormal_207_1308159792607_D.wav',\n",
       " '../data/heartbeat-sounds/set_b/normal_noisynormal_143_1306763822290_A.wav',\n",
       " '../data/heartbeat-sounds/set_b/normal__217_1308246111629_C.wav',\n",
       " '../data/heartbeat-sounds/set_b/normal__177_1307989650056_B.wav',\n",
       " '../data/heartbeat-sounds/set_b/Bunlabelledtest__125_1306332456645_B2.wav',\n",
       " '../data/heartbeat-sounds/set_b/murmur__112_1306243000964_A.wav',\n",
       " '../data/heartbeat-sounds/set_b/normal_noisynormal_141_1306520154450_A1.wav',\n",
       " '../data/heartbeat-sounds/set_b/normal__179_1307990076841_D.wav',\n",
       " '../data/heartbeat-sounds/set_b/normal__106_1306776721273_D2.wav',\n",
       " '../data/heartbeat-sounds/set_b/normal_noisynormal_113_1306244002866_A.wav',\n",
       " '../data/heartbeat-sounds/set_b/normal__106_1306776721273_C2.wav',\n",
       " '../data/heartbeat-sounds/set_b/murmur_noisymurmur_231_1308748318393_A.wav',\n",
       " '../data/heartbeat-sounds/set_b/murmur_noisymurmur_292_1311185449649_D.wav',\n",
       " '../data/heartbeat-sounds/set_b/normal_noisynormal_216_1308245839516_D.wav',\n",
       " '../data/heartbeat-sounds/set_b/normal__154_1306935608852_A1.wav',\n",
       " '../data/heartbeat-sounds/set_b/normal__169_1307970398039_C.wav',\n",
       " '../data/heartbeat-sounds/set_b/normal__172_1307971284351_B1.wav',\n",
       " '../data/heartbeat-sounds/set_b/murmur_noisymurmur_162_1307101835989_B_1.wav',\n",
       " '../data/heartbeat-sounds/set_b/murmur__171_1307971016233_D1.wav',\n",
       " '../data/heartbeat-sounds/set_b/normal__126_1306777102824_D.wav',\n",
       " '../data/heartbeat-sounds/set_b/normal__133_1306759619127_A.wav',\n",
       " '../data/heartbeat-sounds/set_b/murmur__171_1307971016233_D.wav',\n",
       " '../data/heartbeat-sounds/set_b/extrastole__209_1308162216750_D.wav',\n",
       " '../data/heartbeat-sounds/set_b/normal_noisynormal_137_1306764999211_B.wav',\n",
       " '../data/heartbeat-sounds/set_b/extrastole__134_1306428161797_C1.wav',\n",
       " '../data/heartbeat-sounds/set_b/normal__202_1308145175747_D.wav',\n",
       " '../data/heartbeat-sounds/set_b/normal_noisynormal_158_1306947254705_D.wav',\n",
       " '../data/heartbeat-sounds/set_b/normal__283_1311167409239_A.wav',\n",
       " '../data/heartbeat-sounds/set_b/normal__134_1306428161797_D.wav',\n",
       " '../data/heartbeat-sounds/set_b/normal_noisynormal_109_1305653972028_F.wav',\n",
       " '../data/heartbeat-sounds/set_b/normal__232_1308748524018_B1.wav',\n",
       " '../data/heartbeat-sounds/set_b/Bunlabelledtest__115_1306259437619_D.wav',\n",
       " '../data/heartbeat-sounds/set_b/extrastole__130_1306347376079_D.wav',\n",
       " '../data/heartbeat-sounds/set_b/normal_noisynormal_284_1311168471850_A.wav',\n",
       " '../data/heartbeat-sounds/set_b/normal__270_1309369533040_C.wav',\n",
       " '../data/heartbeat-sounds/set_b/extrastole__224_1308337157445_B.wav',\n",
       " '../data/heartbeat-sounds/set_b/extrastole__140_1306519735121_D.wav',\n",
       " '../data/heartbeat-sounds/set_b/murmur_noisymurmur_165_1307109069581_D.wav',\n",
       " '../data/heartbeat-sounds/set_b/normal__176_1307988171173_B1.wav',\n",
       " '../data/heartbeat-sounds/set_b/normal__258_1309352253234_C.wav',\n",
       " '../data/heartbeat-sounds/set_b/normal__107_1305654946865_C1.wav',\n",
       " '../data/heartbeat-sounds/set_b/normal_noisynormal_137_1306764999211_A1.wav',\n",
       " '../data/heartbeat-sounds/set_b/murmur_noisymurmur_171_1307971016233_D.wav',\n",
       " '../data/heartbeat-sounds/set_b/murmur_noisymurmur_162_1307101835989_D.wav',\n",
       " '../data/heartbeat-sounds/set_b/normal_noisynormal_168_1307970069434_A1.wav',\n",
       " '../data/heartbeat-sounds/set_b/normal__180_1307990956284_A.wav',\n",
       " '../data/heartbeat-sounds/set_b/Bunlabelledtest__148_1306768801551_C.wav',\n",
       " '../data/heartbeat-sounds/set_b/extrastole__216_1308245839516_B.wav',\n",
       " '../data/heartbeat-sounds/set_b/normal_noisynormal_107_1305654946865_A.wav',\n",
       " '../data/heartbeat-sounds/set_b/murmur__254_1309350589009_C.wav',\n",
       " '../data/heartbeat-sounds/set_b/normal_noisynormal_278_1311163365896_B.wav',\n",
       " '../data/heartbeat-sounds/set_b/normal__206_1308159601959_C.wav',\n",
       " '../data/heartbeat-sounds/set_b/murmur_noisymurmur_288_1311164615284_B1.wav',\n",
       " '../data/heartbeat-sounds/set_b/normal_noisynormal_106_1306776721273_A.wav',\n",
       " '../data/heartbeat-sounds/set_b/normal__220_1308250132896_C.wav',\n",
       " '../data/heartbeat-sounds/set_b/normal_noisynormal_115_1306259437619_B.wav',\n",
       " '../data/heartbeat-sounds/set_b/normal__282_1311166081161_C.wav',\n",
       " '../data/heartbeat-sounds/set_b/normal__134_1306428161797_C2.wav',\n",
       " '../data/heartbeat-sounds/set_b/normal__194_1308139824187_A.wav',\n",
       " '../data/heartbeat-sounds/set_b/murmur_noisymurmur_160_1307100683334_D.wav',\n",
       " '../data/heartbeat-sounds/set_b/normal__267_1309368735165_A.wav',\n",
       " '../data/heartbeat-sounds/set_b/extrastole__286_1311170606028_D.wav',\n",
       " '../data/heartbeat-sounds/set_b/normal__129_1306344506305_D1.wav',\n",
       " '../data/heartbeat-sounds/set_b/normal__260_1309353164458_C.wav',\n",
       " '../data/heartbeat-sounds/set_b/normal__152_1306779561195_B1.wav',\n",
       " '../data/heartbeat-sounds/set_b/extrastole__163_1307104470471_C.wav',\n",
       " '../data/heartbeat-sounds/set_b/normal__232_1308748524018_C.wav',\n",
       " '../data/heartbeat-sounds/set_b/murmur__164_1307106095995_C.wav',\n",
       " '../data/heartbeat-sounds/set_b/extrastole__249_1309202052376_C.wav',\n",
       " '../data/heartbeat-sounds/set_b/normal__159_1307018640315_A.wav',\n",
       " '../data/heartbeat-sounds/set_b/normal__235_1308749032454_C.wav',\n",
       " '../data/heartbeat-sounds/set_b/normal__295_1311682673157_D.wav',\n",
       " '../data/heartbeat-sounds/set_b/normal__155_1306935902813_B1.wav',\n",
       " '../data/heartbeat-sounds/set_b/murmur__185_1308073325396_C.wav',\n",
       " '../data/heartbeat-sounds/set_b/Bunlabelledtest__242_1309197394064_A.wav',\n",
       " '../data/heartbeat-sounds/set_b/normal__261_1309353556003_B.wav',\n",
       " '../data/heartbeat-sounds/set_b/normal__232_1308748524018_D1.wav',\n",
       " '../data/heartbeat-sounds/set_b/normal_noisynormal_198_1308141739338_D.wav',\n",
       " '../data/heartbeat-sounds/set_b/normal_noisynormal_105_1305033453095_A.wav',\n",
       " '../data/heartbeat-sounds/set_b/normal__286_1311170606028_C.wav',\n",
       " '../data/heartbeat-sounds/set_b/Bunlabelledtest__235_1308749032454_C1.wav',\n",
       " '../data/heartbeat-sounds/set_b/normal__188_1308074301731_C.wav',\n",
       " '../data/heartbeat-sounds/set_b/murmur__196_1308141034858_C.wav',\n",
       " '../data/heartbeat-sounds/set_b/normal__145_1307987561278_B.wav',\n",
       " '../data/heartbeat-sounds/set_b/murmur_noisymurmur_156_1306936373241_A.wav',\n",
       " '../data/heartbeat-sounds/set_b/normal__146_1306778707532_D3.wav',\n",
       " '../data/heartbeat-sounds/set_b/normal_noisynormal_137_1306764999211_C1.wav',\n",
       " '../data/heartbeat-sounds/set_b/murmur__203_1308162026258_C1.wav',\n",
       " '../data/heartbeat-sounds/set_b/murmur__195_1308140095331_C.wav',\n",
       " '../data/heartbeat-sounds/set_b/normal__191_1308077299430_B.wav',\n",
       " '../data/heartbeat-sounds/set_b/normal__150_1306776340746_C.wav',\n",
       " '../data/heartbeat-sounds/set_b/normal__167_1307111318050_C.wav',\n",
       " '../data/heartbeat-sounds/set_b/normal_noisynormal_138_1306762146980_D.wav',\n",
       " '../data/heartbeat-sounds/set_b/extrastole__198_1308141739338_B1.wav',\n",
       " '../data/heartbeat-sounds/set_b/murmur__200_1308144251434_D.wav',\n",
       " '../data/heartbeat-sounds/set_b/normal_noisynormal_159_1307018640315_B.wav',\n",
       " '../data/heartbeat-sounds/set_b/murmur__240_1309196119795_C.wav',\n",
       " '../data/heartbeat-sounds/set_b/extrastole__220_1308250132896_B.wav',\n",
       " '../data/heartbeat-sounds/set_b/murmur_noisymurmur_135_1306428972976_B.wav',\n",
       " '../data/heartbeat-sounds/set_b/murmur__197_1308141235553_D.wav',\n",
       " '../data/heartbeat-sounds/set_b/normal__201_1308144942432_A1.wav']"
      ]
     },
     "execution_count": 45,
     "metadata": {},
     "output_type": "execute_result"
    }
   ],
   "source": [
    "all_sounds_b"
   ]
  },
  {
   "cell_type": "code",
   "execution_count": 46,
   "metadata": {},
   "outputs": [],
   "source": [
    "for i in all_sounds_b:\n",
    "    if 'Bunlabelledtest' in i:\n",
    "        all_sounds_b.remove(i)"
   ]
  },
  {
   "cell_type": "code",
   "execution_count": 47,
   "metadata": {},
   "outputs": [
    {
     "data": {
      "text/plain": [
       "463"
      ]
     },
     "execution_count": 47,
     "metadata": {},
     "output_type": "execute_result"
    }
   ],
   "source": [
    "len(all_sounds_b)"
   ]
  },
  {
   "cell_type": "code",
   "execution_count": 48,
   "metadata": {},
   "outputs": [],
   "source": [
    "for i in all_sounds_b:\n",
    "    if 'Bunlabelledtest' in i:\n",
    "        all_sounds_b.remove(i)"
   ]
  },
  {
   "cell_type": "code",
   "execution_count": 49,
   "metadata": {},
   "outputs": [
    {
     "data": {
      "text/plain": [
       "461"
      ]
     },
     "execution_count": 49,
     "metadata": {},
     "output_type": "execute_result"
    }
   ],
   "source": [
    "len(all_sounds_b)"
   ]
  },
  {
   "cell_type": "code",
   "execution_count": 50,
   "metadata": {},
   "outputs": [
    {
     "data": {
      "text/plain": [
       "['../data/heartbeat-sounds/set_b/extrastole__194_1308139824187_B.wav',\n",
       " '../data/heartbeat-sounds/set_b/normal_noisynormal_157_1306937583792_A.wav',\n",
       " '../data/heartbeat-sounds/set_b/normal__181_1308052613891_D.wav',\n",
       " '../data/heartbeat-sounds/set_b/normal_noisynormal_284_1311168471850_B.wav',\n",
       " '../data/heartbeat-sounds/set_b/murmur__197_1308141235553_C.wav',\n",
       " '../data/heartbeat-sounds/set_b/normal_noisynormal_144_1306522408528_C.wav',\n",
       " '../data/heartbeat-sounds/set_b/normal_noisynormal_271_1309369876160_D.wav',\n",
       " '../data/heartbeat-sounds/set_b/normal_noisynormal_129_1306344506305_C.wav',\n",
       " '../data/heartbeat-sounds/set_b/normal__177_1307989650056_A1.wav',\n",
       " '../data/heartbeat-sounds/set_b/normal_noisynormal_285_1311169246969_C.wav',\n",
       " '../data/heartbeat-sounds/set_b/normal__218_1308246311449_C.wav',\n",
       " '../data/heartbeat-sounds/set_b/normal_noisynormal_181_1308052613891_A.wav',\n",
       " '../data/heartbeat-sounds/set_b/normal__209_1308162216750_A.wav',\n",
       " '../data/heartbeat-sounds/set_b/normal__125_1306332456645_B.wav',\n",
       " '../data/heartbeat-sounds/set_b/normal_noisynormal_194_1308139824187_C.wav',\n",
       " '../data/heartbeat-sounds/set_b/normal__202_1308145175747_C.wav',\n",
       " '../data/heartbeat-sounds/set_b/murmur__156_1306936373241_B.wav',\n",
       " '../data/heartbeat-sounds/set_b/normal_noisynormal_137_1306764999211_D1.wav',\n",
       " '../data/heartbeat-sounds/set_b/normal__232_1308748524018_A.wav',\n",
       " '../data/heartbeat-sounds/set_b/normal_noisynormal_134_1306428161797_D1.wav',\n",
       " '../data/heartbeat-sounds/set_b/murmur_noisymurmur_240_1309201366049_D.wav',\n",
       " '../data/heartbeat-sounds/set_b/normal__113_1306244002866_D.wav',\n",
       " '../data/heartbeat-sounds/set_b/normal__127_1306764300147_C1.wav',\n",
       " '../data/heartbeat-sounds/set_b/normal_noisynormal_133_1306759619127_B1.wav',\n",
       " '../data/heartbeat-sounds/set_b/normal__146_1306778707532_D4.wav',\n",
       " '../data/heartbeat-sounds/set_b/murmur__165_1307109069581_C.wav',\n",
       " '../data/heartbeat-sounds/set_b/normal__210_1308162935880_D2.wav',\n",
       " '../data/heartbeat-sounds/set_b/normal_noisynormal_117_1306262456650_D.wav',\n",
       " '../data/heartbeat-sounds/set_b/normal__217_1308246111629_C1.wav',\n",
       " '../data/heartbeat-sounds/set_b/normal__151_1306779785624_D.wav',\n",
       " '../data/heartbeat-sounds/set_b/normal_noisynormal_173_1307973611151_B.wav',\n",
       " '../data/heartbeat-sounds/set_b/normal_noisynormal_141_1306520154450_C1.wav',\n",
       " '../data/heartbeat-sounds/set_b/normal__237_1308750231222_C.wav',\n",
       " '../data/heartbeat-sounds/set_b/normal__176_1307988171173_B.wav',\n",
       " '../data/heartbeat-sounds/set_b/normal__184_1308073010307_D.wav',\n",
       " '../data/heartbeat-sounds/set_b/normal__154_1306935608852_B1.wav',\n",
       " '../data/heartbeat-sounds/set_b/normal_noisynormal_155_1306935902813_A.wav',\n",
       " '../data/heartbeat-sounds/set_b/normal_noisynormal_101_1305030823364_B.wav',\n",
       " '../data/heartbeat-sounds/set_b/normal__146_1306778707532_A.wav',\n",
       " '../data/heartbeat-sounds/set_b/murmur__116_1306258689913_A.wav',\n",
       " '../data/heartbeat-sounds/set_b/normal_noisynormal_125_1306332456645_D.wav',\n",
       " '../data/heartbeat-sounds/set_b/murmur__242_1309197394064_D.wav',\n",
       " '../data/heartbeat-sounds/set_b/normal_noisynormal_264_1309356143724_D.wav',\n",
       " '../data/heartbeat-sounds/set_b/murmur_noisymurmur_156_1306936373241_B1.wav',\n",
       " '../data/heartbeat-sounds/set_b/extrastole__294_1311681084248_C.wav',\n",
       " '../data/heartbeat-sounds/set_b/normal__220_1308250132896_D.wav',\n",
       " '../data/heartbeat-sounds/set_b/normal__133_1306759619127_B.wav',\n",
       " '../data/heartbeat-sounds/set_b/normal_noisynormal_157_1306937583792_B.wav',\n",
       " '../data/heartbeat-sounds/set_b/normal__174_1307987737137_B1.wav',\n",
       " '../data/heartbeat-sounds/set_b/normal__148_1306768801551_D2.wav',\n",
       " '../data/heartbeat-sounds/set_b/normal_noisynormal_138_1306762146980_A.wav',\n",
       " '../data/heartbeat-sounds/set_b/normal_noisynormal_104_1305032492469_A.wav',\n",
       " '../data/heartbeat-sounds/set_b/normal__184_1308073010307_B.wav',\n",
       " '../data/heartbeat-sounds/set_b/normal__296_1311682952647_A2.wav',\n",
       " '../data/heartbeat-sounds/set_b/murmur__193_1308078104592_C1.wav',\n",
       " '../data/heartbeat-sounds/set_b/murmur__292_1311185449649_B.wav',\n",
       " '../data/heartbeat-sounds/set_b/normal__176_1307988171173_A.wav',\n",
       " '../data/heartbeat-sounds/set_b/normal__146_1306778707532_D1.wav',\n",
       " '../data/heartbeat-sounds/set_b/normal_noisynormal_109_1305653972028_C.wav',\n",
       " '../data/heartbeat-sounds/set_b/extrastole__237_1308750231222_A.wav',\n",
       " '../data/heartbeat-sounds/set_b/normal_noisynormal_110_1305655332337_A.wav',\n",
       " '../data/heartbeat-sounds/set_b/murmur__116_1306258689913_C.wav',\n",
       " '../data/heartbeat-sounds/set_b/murmur__112_1306243000964_B.wav',\n",
       " '../data/heartbeat-sounds/set_b/normal__159_1307018640315_B1.wav',\n",
       " '../data/heartbeat-sounds/set_b/normal_noisynormal_188_1308074301731_A.wav',\n",
       " '../data/heartbeat-sounds/set_b/normal__140_1306519735121_D1.wav',\n",
       " '../data/heartbeat-sounds/set_b/normal__115_1306259437619_C.wav',\n",
       " '../data/heartbeat-sounds/set_b/murmur__276_1311162716489_C.wav',\n",
       " '../data/heartbeat-sounds/set_b/normal__146_1306778707532_B.wav',\n",
       " '../data/heartbeat-sounds/set_b/murmur__254_1309350589009_A1.wav',\n",
       " '../data/heartbeat-sounds/set_b/extrastole__138_1306762146980_B.wav',\n",
       " '../data/heartbeat-sounds/set_b/normal__147_1306523973811_C.wav',\n",
       " '../data/heartbeat-sounds/set_b/extrastole__261_1309353556003_C.wav',\n",
       " '../data/heartbeat-sounds/set_b/murmur__122_1306325762831_C.wav',\n",
       " '../data/heartbeat-sounds/set_b/murmur_noisymurmur_288_1311164615284_C.wav',\n",
       " '../data/heartbeat-sounds/set_b/normal_noisynormal_118_1306262335509_D.wav',\n",
       " '../data/heartbeat-sounds/set_b/normal__141_1306520154450_C.wav',\n",
       " '../data/heartbeat-sounds/set_b/murmur__162_1307101835989_B.wav',\n",
       " '../data/heartbeat-sounds/set_b/murmur__164_1307106095995_B.wav',\n",
       " '../data/heartbeat-sounds/set_b/normal__218_1308246311449_C1.wav',\n",
       " '../data/heartbeat-sounds/set_b/normal__139_1306519274653_A.wav',\n",
       " '../data/heartbeat-sounds/set_b/extrastole__179_1307990076841_C.wav',\n",
       " '../data/heartbeat-sounds/set_b/normal__148_1306768801551_C1.wav',\n",
       " '../data/heartbeat-sounds/set_b/normal__106_1306776721273_C1.wav',\n",
       " '../data/heartbeat-sounds/set_b/murmur__122_1306325762831_D.wav',\n",
       " '../data/heartbeat-sounds/set_b/normal__286_1311170606028_A.wav',\n",
       " '../data/heartbeat-sounds/set_b/normal_noisynormal_264_1309356143724_C.wav',\n",
       " '../data/heartbeat-sounds/set_b/normal_noisynormal_129_1306344506305_A.wav',\n",
       " '../data/heartbeat-sounds/set_b/normal__137_1306764999211_C.wav',\n",
       " '../data/heartbeat-sounds/set_b/normal_noisynormal_136_1306429977501_D1.wav',\n",
       " '../data/heartbeat-sounds/set_b/normal__170_1307970562729_A.wav',\n",
       " '../data/heartbeat-sounds/set_b/normal_noisynormal_127_1306764300147_D1.wav',\n",
       " '../data/heartbeat-sounds/set_b/extrastole__191_1308077299430_A.wav',\n",
       " '../data/heartbeat-sounds/set_b/normal_noisynormal_170_1307970562729_C1.wav',\n",
       " '../data/heartbeat-sounds/set_b/normal__296_1311682952647_A1.wav',\n",
       " '../data/heartbeat-sounds/set_b/normal_noisynormal_130_1306347376079_B.wav',\n",
       " '../data/heartbeat-sounds/set_b/normal__278_1311163365896_A1.wav',\n",
       " '../data/heartbeat-sounds/set_b/normal_noisynormal_173_1307973611151_C1.wav',\n",
       " '../data/heartbeat-sounds/set_b/normal__190_1308076920011_C1.wav',\n",
       " '../data/heartbeat-sounds/set_b/normal__215_1308245664733_C.wav',\n",
       " '../data/heartbeat-sounds/set_b/normal__128_1306344005749_B.wav',\n",
       " '../data/heartbeat-sounds/set_b/extrastole__144_1306522408528_B1.wav',\n",
       " '../data/heartbeat-sounds/set_b/murmur_noisymurmur_171_1307971016233_F.wav',\n",
       " '../data/heartbeat-sounds/set_b/normal__126_1306777102824_B.wav',\n",
       " '../data/heartbeat-sounds/set_b/normal__152_1306779561195_D.wav',\n",
       " '../data/heartbeat-sounds/set_b/murmur_noisymurmur_165_1307109069581_C1.wav',\n",
       " '../data/heartbeat-sounds/set_b/normal_noisynormal_121_1306263877235_D.wav',\n",
       " '../data/heartbeat-sounds/set_b/murmur__160_1307100683334_A.wav',\n",
       " '../data/heartbeat-sounds/set_b/normal__179_1307990076841_B.wav',\n",
       " '../data/heartbeat-sounds/set_b/normal_noisynormal_109_1305653972028_E.wav',\n",
       " '../data/heartbeat-sounds/set_b/normal_noisynormal_270_1309369533040_B.wav',\n",
       " '../data/heartbeat-sounds/set_b/normal__170_1307970562729_B.wav',\n",
       " '../data/heartbeat-sounds/set_b/normal__153_1306848820671_D1.wav',\n",
       " '../data/heartbeat-sounds/set_b/normal_noisynormal_167_1307111318050_A1.wav',\n",
       " '../data/heartbeat-sounds/set_b/extrastole__202_1308145175747_C1.wav',\n",
       " '../data/heartbeat-sounds/set_b/normal_noisynormal_167_1307111318050_B.wav',\n",
       " '../data/heartbeat-sounds/set_b/normal_noisynormal_121_1306263877235_A.wav',\n",
       " '../data/heartbeat-sounds/set_b/murmur_noisymurmur_243_1309197760898_B.wav',\n",
       " '../data/heartbeat-sounds/set_b/normal_noisynormal_189_1308075231945_A1.wav',\n",
       " '../data/heartbeat-sounds/set_b/normal_noisynormal_296_1311682952647_C.wav',\n",
       " '../data/heartbeat-sounds/set_b/normal__215_1308245664733_C1.wav',\n",
       " '../data/heartbeat-sounds/set_b/normal_noisynormal_134_1306428161797_B1.wav',\n",
       " '../data/heartbeat-sounds/set_b/murmur__171_1307971016233_E.wav',\n",
       " '../data/heartbeat-sounds/set_b/murmur__239_1309195730333_C.wav',\n",
       " '../data/heartbeat-sounds/set_b/normal__227_1308594233667_C.wav',\n",
       " '../data/heartbeat-sounds/set_b/normal__172_1307971284351_B.wav',\n",
       " '../data/heartbeat-sounds/set_b/normal__128_1306344005749_D1.wav',\n",
       " '../data/heartbeat-sounds/set_b/murmur_noisymurmur_240_1309201366049_C.wav',\n",
       " '../data/heartbeat-sounds/set_b/extrastole__213_1308245263936_D.wav',\n",
       " '../data/heartbeat-sounds/set_b/normal__167_1307111318050_A.wav',\n",
       " '../data/heartbeat-sounds/set_b/extrastole__184_1308073010307_A.wav',\n",
       " '../data/heartbeat-sounds/set_b/normal__173_1307973611151_C.wav',\n",
       " '../data/heartbeat-sounds/set_b/normal__154_1306935608852_B.wav',\n",
       " '../data/heartbeat-sounds/set_b/extrastole__202_1308145175747_C2.wav',\n",
       " '../data/heartbeat-sounds/set_b/normal__134_1306428161797_C.wav',\n",
       " '../data/heartbeat-sounds/set_b/extrastole__198_1308141739338_B.wav',\n",
       " '../data/heartbeat-sounds/set_b/murmur__239_1309195730333_B.wav',\n",
       " '../data/heartbeat-sounds/set_b/normal__152_1306779561195_C1.wav',\n",
       " '../data/heartbeat-sounds/set_b/normal_noisynormal_296_1311682952647_D.wav',\n",
       " '../data/heartbeat-sounds/set_b/normal__129_1306344506305_B1.wav',\n",
       " '../data/heartbeat-sounds/set_b/normal_noisynormal_109_1305653972028_A.wav',\n",
       " '../data/heartbeat-sounds/set_b/murmur_noisymurmur_165_1307109069581_A.wav',\n",
       " '../data/heartbeat-sounds/set_b/murmur__197_1308141235553_A.wav',\n",
       " '../data/heartbeat-sounds/set_b/normal__256_1309351470137_A.wav',\n",
       " '../data/heartbeat-sounds/set_b/normal__183_1308072703477_B.wav',\n",
       " '../data/heartbeat-sounds/set_b/murmur__185_1308073325396_B.wav',\n",
       " '../data/heartbeat-sounds/set_b/normal__181_1308052613891_B.wav',\n",
       " '../data/heartbeat-sounds/set_b/normal_noisynormal_178_1307989887769_B1.wav',\n",
       " '../data/heartbeat-sounds/set_b/murmur__162_1307101835989_A.wav',\n",
       " '../data/heartbeat-sounds/set_b/extrastole__237_1308750231222_C.wav',\n",
       " '../data/heartbeat-sounds/set_b/murmur__288_1311164615284_D.wav',\n",
       " '../data/heartbeat-sounds/set_b/normal__129_1306344506305_D.wav',\n",
       " '../data/heartbeat-sounds/set_b/normal__194_1308139824187_A1.wav',\n",
       " '../data/heartbeat-sounds/set_b/murmur__248_1309201683806_C.wav',\n",
       " '../data/heartbeat-sounds/set_b/normal__210_1308162935880_B1.wav',\n",
       " '../data/heartbeat-sounds/set_b/normal__213_1308245263936_C.wav',\n",
       " '../data/heartbeat-sounds/set_b/normal_noisynormal_149_1306776016110_A.wav',\n",
       " '../data/heartbeat-sounds/set_b/normal_noisynormal_159_1307018640315_A1.wav',\n",
       " '../data/heartbeat-sounds/set_b/murmur__292_1311185449649_C.wav',\n",
       " '../data/heartbeat-sounds/set_b/normal__103_1305031931979_B.wav',\n",
       " '../data/heartbeat-sounds/set_b/normal_noisynormal_137_1306764999211_A2.wav',\n",
       " '../data/heartbeat-sounds/set_b/normal_noisynormal_133_1306759619127_D1.wav',\n",
       " '../data/heartbeat-sounds/set_b/normal__274_1311075637574_D.wav',\n",
       " '../data/heartbeat-sounds/set_b/normal__106_1306776721273_B1.wav',\n",
       " '../data/heartbeat-sounds/set_b/normal__290_1311182875320_A.wav',\n",
       " '../data/heartbeat-sounds/set_b/normal_noisynormal_139_1306519274653_D.wav',\n",
       " '../data/heartbeat-sounds/set_b/normal__232_1308748524018_B.wav',\n",
       " '../data/heartbeat-sounds/set_b/normal_noisynormal_142_1306763049574_B.wav',\n",
       " '../data/heartbeat-sounds/set_b/murmur_noisymurmur_135_1306428972976_C.wav',\n",
       " '../data/heartbeat-sounds/set_b/normal_noisynormal_169_1307970398039_A.wav',\n",
       " '../data/heartbeat-sounds/set_b/murmur__223_1308337062581_D.wav',\n",
       " '../data/heartbeat-sounds/set_b/extrastole__274_1311075637574_A.wav',\n",
       " '../data/heartbeat-sounds/set_b/normal__300_1311772096120_C1.wav',\n",
       " '../data/heartbeat-sounds/set_b/normal__274_1311075637574_A1.wav',\n",
       " '../data/heartbeat-sounds/set_b/normal__262_1309355283807_A.wav',\n",
       " '../data/heartbeat-sounds/set_b/normal__186_1308073648738_D.wav',\n",
       " '../data/heartbeat-sounds/set_b/normal__103_1305031931979_D1.wav',\n",
       " '../data/heartbeat-sounds/set_b/normal__140_1306519735121_A.wav',\n",
       " '../data/heartbeat-sounds/set_b/extrastole__154_1306935608852_D2.wav',\n",
       " '../data/heartbeat-sounds/set_b/normal__224_1308337157445_C.wav',\n",
       " '../data/heartbeat-sounds/set_b/normal__210_1308162935880_D1.wav',\n",
       " '../data/heartbeat-sounds/set_b/normal_noisynormal_140_1306519735121_C.wav',\n",
       " '../data/heartbeat-sounds/set_b/extrastole__148_1306768801551_B.wav',\n",
       " '../data/heartbeat-sounds/set_b/normal__186_1308073648738_C1.wav',\n",
       " '../data/heartbeat-sounds/set_b/normal__173_1307973611151_B.wav',\n",
       " '../data/heartbeat-sounds/set_b/normal_noisynormal_136_1306429977501_B.wav',\n",
       " '../data/heartbeat-sounds/set_b/murmur__281_1311165683454_A.wav',\n",
       " '../data/heartbeat-sounds/set_b/murmur_noisymurmur_161_1307101199321_C.wav',\n",
       " '../data/heartbeat-sounds/set_b/normal__153_1306848820671_B.wav',\n",
       " '../data/heartbeat-sounds/set_b/extrastole__144_1306522408528_B.wav',\n",
       " '../data/heartbeat-sounds/set_b/normal__250_1309202496494_A.wav',\n",
       " '../data/heartbeat-sounds/set_b/murmur__240_1309196119795_B.wav',\n",
       " '../data/heartbeat-sounds/set_b/normal__168_1307970069434_A.wav',\n",
       " '../data/heartbeat-sounds/set_b/normal_noisynormal_125_1306332456645_A2.wav',\n",
       " '../data/heartbeat-sounds/set_b/extrastole__215_1308245664733_B.wav',\n",
       " '../data/heartbeat-sounds/set_b/normal__141_1306520154450_B.wav',\n",
       " '../data/heartbeat-sounds/set_b/murmur__293_1311680805936_B1.wav',\n",
       " '../data/heartbeat-sounds/set_b/murmur_noisymurmur_293_1311680805936_C.wav',\n",
       " '../data/heartbeat-sounds/set_b/normal__177_1307989650056_D.wav',\n",
       " '../data/heartbeat-sounds/set_b/normal__227_1308594233667_B.wav',\n",
       " '../data/heartbeat-sounds/set_b/normal_noisynormal_109_1305653646620_A.wav',\n",
       " '../data/heartbeat-sounds/set_b/extrastole__128_1306344005749_A.wav',\n",
       " '../data/heartbeat-sounds/set_b/normal__294_1311681084248_B.wav',\n",
       " '../data/heartbeat-sounds/set_b/normal_noisynormal_110_1305655332337_B.wav',\n",
       " '../data/heartbeat-sounds/set_b/normal__175_1307987962616_B.wav',\n",
       " '../data/heartbeat-sounds/set_b/normal__291_1311185210672_A.wav',\n",
       " '../data/heartbeat-sounds/set_b/normal_noisynormal_144_1306522408528_A1.wav',\n",
       " '../data/heartbeat-sounds/set_b/normal_noisynormal_182_1308053371395_B.wav',\n",
       " '../data/heartbeat-sounds/set_b/normal_noisynormal_132_1306758754432_B1.wav',\n",
       " '../data/heartbeat-sounds/set_b/normal_noisynormal_108_1305654420093_B.wav',\n",
       " '../data/heartbeat-sounds/set_b/normal__145_1307987561278_C.wav',\n",
       " '../data/heartbeat-sounds/set_b/normal__153_1306848820671_B1.wav',\n",
       " '../data/heartbeat-sounds/set_b/normal_noisynormal_271_1309369876160_C.wav',\n",
       " '../data/heartbeat-sounds/set_b/normal__140_1306519735121_B.wav',\n",
       " '../data/heartbeat-sounds/set_b/extrastole__235_1308749032454_B.wav',\n",
       " '../data/heartbeat-sounds/set_b/normal_noisynormal_133_1306759619127_A1.wav',\n",
       " '../data/heartbeat-sounds/set_b/normal__198_1308141739338_C.wav',\n",
       " '../data/heartbeat-sounds/set_b/murmur_noisymurmur_293_1311680805936_D.wav',\n",
       " '../data/heartbeat-sounds/set_b/normal_noisynormal_136_1306429977501_C.wav',\n",
       " '../data/heartbeat-sounds/set_b/normal_noisynormal_258_1309352253234_A.wav',\n",
       " '../data/heartbeat-sounds/set_b/normal__235_1308749032454_D.wav',\n",
       " '../data/heartbeat-sounds/set_b/murmur__116_1306258689913_D.wav',\n",
       " '../data/heartbeat-sounds/set_b/normal__278_1311163365896_A.wav',\n",
       " '../data/heartbeat-sounds/set_b/murmur__211_1308163238707_C.wav',\n",
       " '../data/heartbeat-sounds/set_b/normal_noisynormal_142_1306763049574_D.wav',\n",
       " '../data/heartbeat-sounds/set_b/murmur__254_1309350589009_A.wav',\n",
       " '../data/heartbeat-sounds/set_b/normal_noisynormal_163_1307104470471_D1.wav',\n",
       " '../data/heartbeat-sounds/set_b/normal_noisynormal_123_1306331925797_B.wav',\n",
       " '../data/heartbeat-sounds/set_b/murmur__200_1308144251434_C.wav',\n",
       " '../data/heartbeat-sounds/set_b/extrastole__210_1308162935880_C.wav',\n",
       " '../data/heartbeat-sounds/set_b/normal__103_1305031931979_D2.wav',\n",
       " '../data/heartbeat-sounds/set_b/normal__127_1306764300147_B.wav',\n",
       " '../data/heartbeat-sounds/set_b/murmur__281_1311165683454_B.wav',\n",
       " '../data/heartbeat-sounds/set_b/normal__274_1311075637574_B.wav',\n",
       " '../data/heartbeat-sounds/set_b/normal__149_1306776016110_C1.wav',\n",
       " '../data/heartbeat-sounds/set_b/normal_noisynormal_158_1306947254705_B1.wav',\n",
       " '../data/heartbeat-sounds/set_b/normal_noisynormal_150_1306776340746_A.wav',\n",
       " '../data/heartbeat-sounds/set_b/extrastole__207_1308159792607_B.wav',\n",
       " '../data/heartbeat-sounds/set_b/murmur__242_1309197394064_B.wav',\n",
       " '../data/heartbeat-sounds/set_b/extrastole__253_1309350256198_B.wav',\n",
       " '../data/heartbeat-sounds/set_b/normal__126_1306777102824_C.wav',\n",
       " '../data/heartbeat-sounds/set_b/murmur__254_1309350589009_D.wav',\n",
       " '../data/heartbeat-sounds/set_b/normal_noisynormal_133_1306759619127_C.wav',\n",
       " '../data/heartbeat-sounds/set_b/murmur__160_1307100683334_B.wav',\n",
       " '../data/heartbeat-sounds/set_b/normal__147_1306523973811_A.wav',\n",
       " '../data/heartbeat-sounds/set_b/murmur_noisymurmur_185_1308073325396_D.wav',\n",
       " '../data/heartbeat-sounds/set_b/normal__207_1308159792607_C.wav',\n",
       " '../data/heartbeat-sounds/set_b/normal__175_1307987962616_D.wav',\n",
       " '../data/heartbeat-sounds/set_b/normal__159_1307018640315_B2.wav',\n",
       " '../data/heartbeat-sounds/set_b/normal__180_1307990956284_C.wav',\n",
       " '../data/heartbeat-sounds/set_b/normal__178_1307989887769_B.wav',\n",
       " '../data/heartbeat-sounds/set_b/normal__230_1308595300880_B.wav',\n",
       " '../data/heartbeat-sounds/set_b/murmur_noisymurmur_164_1307106095995_C1.wav',\n",
       " '../data/heartbeat-sounds/set_b/normal_noisynormal_264_1309356143724_B.wav',\n",
       " '../data/heartbeat-sounds/set_b/normal__150_1306776340746_B.wav',\n",
       " '../data/heartbeat-sounds/set_b/normal_noisynormal_141_1306520154450_B1.wav',\n",
       " '../data/heartbeat-sounds/set_b/normal__204_1308159229275_C.wav',\n",
       " '../data/heartbeat-sounds/set_b/normal_noisynormal_118_1306262335509_B.wav',\n",
       " '../data/heartbeat-sounds/set_b/normal__137_1306764999211_D.wav',\n",
       " '../data/heartbeat-sounds/set_b/normal_noisynormal_115_1306259437619_A1.wav',\n",
       " '../data/heartbeat-sounds/set_b/normal__250_1309202496494_B.wav',\n",
       " '../data/heartbeat-sounds/set_b/normal__209_1308162216750_A1.wav',\n",
       " '../data/heartbeat-sounds/set_b/murmur__248_1309201683806_A.wav',\n",
       " '../data/heartbeat-sounds/set_b/normal__286_1311170606028_A1.wav',\n",
       " '../data/heartbeat-sounds/set_b/normal__280_1311165195344_A.wav',\n",
       " '../data/heartbeat-sounds/set_b/normal__159_1307018640315_C1.wav',\n",
       " '../data/heartbeat-sounds/set_b/normal__210_1308162935880_B.wav',\n",
       " '../data/heartbeat-sounds/set_b/normal__153_1306848820671_A.wav',\n",
       " '../data/heartbeat-sounds/set_b/normal_noisynormal_125_1306332456645_C.wav',\n",
       " '../data/heartbeat-sounds/set_b/normal_noisynormal_132_1306758754432_C.wav',\n",
       " '../data/heartbeat-sounds/set_b/normal_noisynormal_172_1307971284351_A.wav',\n",
       " '../data/heartbeat-sounds/set_b/normal_noisynormal_176_1307988171173_D.wav',\n",
       " '../data/heartbeat-sounds/set_b/normal__170_1307970562729_C.wav',\n",
       " '../data/heartbeat-sounds/set_b/normal__294_1311681084248_D1.wav',\n",
       " '../data/heartbeat-sounds/set_b/murmur__196_1308141034858_B.wav',\n",
       " '../data/heartbeat-sounds/set_b/murmur__203_1308162026258_D.wav',\n",
       " '../data/heartbeat-sounds/set_b/normal__158_1306947254705_B2.wav',\n",
       " '../data/heartbeat-sounds/set_b/murmur_noisymurmur_243_1309197760898_C.wav',\n",
       " '../data/heartbeat-sounds/set_b/extrastole__127_1306764300147_C2.wav',\n",
       " '../data/heartbeat-sounds/set_b/murmur_noisymurmur_161_1307101199321_B.wav',\n",
       " '../data/heartbeat-sounds/set_b/normal__238_1309194586293_A.wav',\n",
       " '../data/heartbeat-sounds/set_b/normal__151_1306779785624_A.wav',\n",
       " '../data/heartbeat-sounds/set_b/normal__299_1311770522820_C.wav',\n",
       " '../data/heartbeat-sounds/set_b/normal__128_1306344005749_D.wav',\n",
       " '../data/heartbeat-sounds/set_b/normal__174_1307987737137_B.wav',\n",
       " '../data/heartbeat-sounds/set_b/murmur__203_1308162026258_B.wav',\n",
       " '../data/heartbeat-sounds/set_b/normal_noisynormal_130_1306347376079_C.wav',\n",
       " '../data/heartbeat-sounds/set_b/murmur__112_1306243000964_D.wav',\n",
       " '../data/heartbeat-sounds/set_b/murmur_noisymurmur_272_1309370164386_C.wav',\n",
       " '../data/heartbeat-sounds/set_b/normal_noisynormal_117_1306262456650_A.wav',\n",
       " '../data/heartbeat-sounds/set_b/normal__103_1305031931979_D3.wav',\n",
       " '../data/heartbeat-sounds/set_b/normal__133_1306759619127_D.wav',\n",
       " '../data/heartbeat-sounds/set_b/murmur__245_1309200438094_B.wav',\n",
       " '../data/heartbeat-sounds/set_b/normal__109_1305653646620_C.wav',\n",
       " '../data/heartbeat-sounds/set_b/murmur__193_1308078104592_B.wav',\n",
       " '../data/heartbeat-sounds/set_b/normal__216_1308245839516_C.wav',\n",
       " '../data/heartbeat-sounds/set_b/extrastole__151_1306779785624_B.wav',\n",
       " '../data/heartbeat-sounds/set_b/normal_noisynormal_146_1306778707532_D.wav',\n",
       " '../data/heartbeat-sounds/set_b/murmur__281_1311165683454_D.wav',\n",
       " '../data/heartbeat-sounds/set_b/murmur__244_1309198148498_B.wav',\n",
       " '../data/heartbeat-sounds/set_b/murmur__240_1309201366049_B.wav',\n",
       " '../data/heartbeat-sounds/set_b/normal_noisynormal_142_1306763049574_A.wav',\n",
       " '../data/heartbeat-sounds/set_b/normal__188_1308074301731_D.wav',\n",
       " '../data/heartbeat-sounds/set_b/extrastole__229_1308594979317_B.wav',\n",
       " '../data/heartbeat-sounds/set_b/normal__127_1306764300147_A.wav',\n",
       " '../data/heartbeat-sounds/set_b/normal_noisynormal_234_1308748855534_B.wav',\n",
       " '../data/heartbeat-sounds/set_b/murmur__193_1308078104592_C.wav',\n",
       " '../data/heartbeat-sounds/set_b/normal_noisynormal_118_1306262335509_C1.wav',\n",
       " '../data/heartbeat-sounds/set_b/normal_noisynormal_270_1309369533040_A.wav',\n",
       " '../data/heartbeat-sounds/set_b/normal_noisynormal_121_1306263877235_C.wav',\n",
       " '../data/heartbeat-sounds/set_b/normal_noisynormal_105_1305033453095_C.wav',\n",
       " '../data/heartbeat-sounds/set_b/normal__168_1307970069434_A2.wav',\n",
       " '../data/heartbeat-sounds/set_b/normal__143_1306763822290_C.wav',\n",
       " '../data/heartbeat-sounds/set_b/normal__190_1308076920011_D.wav',\n",
       " '../data/heartbeat-sounds/set_b/normal_noisynormal_125_1306332456645_A1.wav',\n",
       " '../data/heartbeat-sounds/set_b/normal__274_1311075637574_B1.wav',\n",
       " '../data/heartbeat-sounds/set_b/normal_noisynormal_246_1309199278902_D.wav',\n",
       " '../data/heartbeat-sounds/set_b/normal__175_1307987962616_B1.wav',\n",
       " '../data/heartbeat-sounds/set_b/normal__154_1306935608852_D.wav',\n",
       " '../data/heartbeat-sounds/set_b/extrastole__190_1308076920011_C.wav',\n",
       " '../data/heartbeat-sounds/set_b/normal__146_1306778707532_D2.wav',\n",
       " '../data/heartbeat-sounds/set_b/normal__178_1307989887769_D.wav',\n",
       " '../data/heartbeat-sounds/set_b/normal__230_1308595300880_C.wav',\n",
       " '../data/heartbeat-sounds/set_b/normal__252_1309203336604_B.wav',\n",
       " '../data/heartbeat-sounds/set_b/normal__208_1308159994503_C.wav',\n",
       " '../data/heartbeat-sounds/set_b/normal_noisynormal_101_1305030823364_E.wav',\n",
       " '../data/heartbeat-sounds/set_b/normal__201_1308144942432_A.wav',\n",
       " '../data/heartbeat-sounds/set_b/normal_noisynormal_113_1306244002866_B.wav',\n",
       " '../data/heartbeat-sounds/set_b/murmur__165_1307109069581_C2.wav',\n",
       " '../data/heartbeat-sounds/set_b/normal_noisynormal_117_1306262456650_C.wav',\n",
       " '../data/heartbeat-sounds/set_b/extrastole__216_1308245839516_A.wav',\n",
       " '../data/heartbeat-sounds/set_b/murmur__204_1308159229275_B.wav',\n",
       " '../data/heartbeat-sounds/set_b/extrastole__207_1308159792607_B1.wav',\n",
       " '../data/heartbeat-sounds/set_b/normal__143_1306763822290_B.wav',\n",
       " '../data/heartbeat-sounds/set_b/murmur_noisymurmur_200_1308144251434_D.wav',\n",
       " '../data/heartbeat-sounds/set_b/murmur__161_1307101199321_A.wav',\n",
       " '../data/heartbeat-sounds/set_b/normal__273_1309370841191_B.wav',\n",
       " '../data/heartbeat-sounds/set_b/normal_noisynormal_123_1306331925797_C.wav',\n",
       " '../data/heartbeat-sounds/set_b/normal__294_1311681084248_A.wav',\n",
       " '../data/heartbeat-sounds/set_b/normal__183_1308072703477_C.wav',\n",
       " '../data/heartbeat-sounds/set_b/normal_noisynormal_271_1309369876160_A.wav',\n",
       " '../data/heartbeat-sounds/set_b/normal__117_1306262456650_B.wav',\n",
       " '../data/heartbeat-sounds/set_b/normal_noisynormal_147_1306523973811_B.wav',\n",
       " '../data/heartbeat-sounds/set_b/extrastole__153_1306848820671_C.wav',\n",
       " '../data/heartbeat-sounds/set_b/normal__238_1309194586293_B.wav',\n",
       " '../data/heartbeat-sounds/set_b/normal_noisynormal_125_1306332456645_B1.wav',\n",
       " '../data/heartbeat-sounds/set_b/normal__298_1311685888900_B.wav',\n",
       " '../data/heartbeat-sounds/set_b/normal__204_1308159229275_D.wav',\n",
       " '../data/heartbeat-sounds/set_b/normal_noisynormal_108_1305654420093_A.wav',\n",
       " '../data/heartbeat-sounds/set_b/normal_noisynormal_154_1306935608852_C.wav',\n",
       " '../data/heartbeat-sounds/set_b/extrastole__275_1310990852160_B.wav',\n",
       " '../data/heartbeat-sounds/set_b/murmur__195_1308140095331_C1.wav',\n",
       " '../data/heartbeat-sounds/set_b/murmur_noisymurmur_135_1306428972976_A.wav',\n",
       " '../data/heartbeat-sounds/set_b/extrastole__265_1309367698923_C.wav',\n",
       " '../data/heartbeat-sounds/set_b/normal__214_1308245489717_A.wav',\n",
       " '../data/heartbeat-sounds/set_b/extrastole__298_1311685888900_C.wav',\n",
       " '../data/heartbeat-sounds/set_b/normal_noisynormal_155_1306935902813_C.wav',\n",
       " '../data/heartbeat-sounds/set_b/murmur__195_1308140095331_A.wav',\n",
       " '../data/heartbeat-sounds/set_b/normal__177_1307989650056_D1.wav',\n",
       " '../data/heartbeat-sounds/set_b/normal__286_1311170606028_B1.wav',\n",
       " '../data/heartbeat-sounds/set_b/normal__106_1306776721273_D1.wav',\n",
       " '../data/heartbeat-sounds/set_b/murmur__287_1311170903290_C.wav',\n",
       " '../data/heartbeat-sounds/set_b/normal__149_1306776016110_B.wav',\n",
       " '../data/heartbeat-sounds/set_b/normal_noisynormal_151_1306779785624_C.wav',\n",
       " '../data/heartbeat-sounds/set_b/extrastole__215_1308245664733_B1.wav',\n",
       " '../data/heartbeat-sounds/set_b/normal_noisynormal_207_1308159792607_D.wav',\n",
       " '../data/heartbeat-sounds/set_b/normal_noisynormal_143_1306763822290_A.wav',\n",
       " '../data/heartbeat-sounds/set_b/normal__217_1308246111629_C.wav',\n",
       " '../data/heartbeat-sounds/set_b/normal__177_1307989650056_B.wav',\n",
       " '../data/heartbeat-sounds/set_b/murmur__112_1306243000964_A.wav',\n",
       " '../data/heartbeat-sounds/set_b/normal_noisynormal_141_1306520154450_A1.wav',\n",
       " '../data/heartbeat-sounds/set_b/normal__179_1307990076841_D.wav',\n",
       " '../data/heartbeat-sounds/set_b/normal__106_1306776721273_D2.wav',\n",
       " '../data/heartbeat-sounds/set_b/normal_noisynormal_113_1306244002866_A.wav',\n",
       " '../data/heartbeat-sounds/set_b/normal__106_1306776721273_C2.wav',\n",
       " '../data/heartbeat-sounds/set_b/murmur_noisymurmur_231_1308748318393_A.wav',\n",
       " '../data/heartbeat-sounds/set_b/murmur_noisymurmur_292_1311185449649_D.wav',\n",
       " '../data/heartbeat-sounds/set_b/normal_noisynormal_216_1308245839516_D.wav',\n",
       " '../data/heartbeat-sounds/set_b/normal__154_1306935608852_A1.wav',\n",
       " '../data/heartbeat-sounds/set_b/normal__169_1307970398039_C.wav',\n",
       " '../data/heartbeat-sounds/set_b/normal__172_1307971284351_B1.wav',\n",
       " '../data/heartbeat-sounds/set_b/murmur_noisymurmur_162_1307101835989_B_1.wav',\n",
       " '../data/heartbeat-sounds/set_b/murmur__171_1307971016233_D1.wav',\n",
       " '../data/heartbeat-sounds/set_b/normal__126_1306777102824_D.wav',\n",
       " '../data/heartbeat-sounds/set_b/normal__133_1306759619127_A.wav',\n",
       " '../data/heartbeat-sounds/set_b/murmur__171_1307971016233_D.wav',\n",
       " '../data/heartbeat-sounds/set_b/extrastole__209_1308162216750_D.wav',\n",
       " '../data/heartbeat-sounds/set_b/normal_noisynormal_137_1306764999211_B.wav',\n",
       " '../data/heartbeat-sounds/set_b/extrastole__134_1306428161797_C1.wav',\n",
       " '../data/heartbeat-sounds/set_b/normal__202_1308145175747_D.wav',\n",
       " '../data/heartbeat-sounds/set_b/normal_noisynormal_158_1306947254705_D.wav',\n",
       " '../data/heartbeat-sounds/set_b/normal__283_1311167409239_A.wav',\n",
       " '../data/heartbeat-sounds/set_b/normal__134_1306428161797_D.wav',\n",
       " '../data/heartbeat-sounds/set_b/normal_noisynormal_109_1305653972028_F.wav',\n",
       " '../data/heartbeat-sounds/set_b/normal__232_1308748524018_B1.wav',\n",
       " '../data/heartbeat-sounds/set_b/extrastole__130_1306347376079_D.wav',\n",
       " '../data/heartbeat-sounds/set_b/normal_noisynormal_284_1311168471850_A.wav',\n",
       " '../data/heartbeat-sounds/set_b/normal__270_1309369533040_C.wav',\n",
       " '../data/heartbeat-sounds/set_b/extrastole__224_1308337157445_B.wav',\n",
       " '../data/heartbeat-sounds/set_b/extrastole__140_1306519735121_D.wav',\n",
       " '../data/heartbeat-sounds/set_b/murmur_noisymurmur_165_1307109069581_D.wav',\n",
       " '../data/heartbeat-sounds/set_b/normal__176_1307988171173_B1.wav',\n",
       " '../data/heartbeat-sounds/set_b/normal__258_1309352253234_C.wav',\n",
       " '../data/heartbeat-sounds/set_b/normal__107_1305654946865_C1.wav',\n",
       " '../data/heartbeat-sounds/set_b/normal_noisynormal_137_1306764999211_A1.wav',\n",
       " '../data/heartbeat-sounds/set_b/murmur_noisymurmur_171_1307971016233_D.wav',\n",
       " '../data/heartbeat-sounds/set_b/murmur_noisymurmur_162_1307101835989_D.wav',\n",
       " '../data/heartbeat-sounds/set_b/normal_noisynormal_168_1307970069434_A1.wav',\n",
       " '../data/heartbeat-sounds/set_b/normal__180_1307990956284_A.wav',\n",
       " '../data/heartbeat-sounds/set_b/extrastole__216_1308245839516_B.wav',\n",
       " '../data/heartbeat-sounds/set_b/normal_noisynormal_107_1305654946865_A.wav',\n",
       " '../data/heartbeat-sounds/set_b/murmur__254_1309350589009_C.wav',\n",
       " '../data/heartbeat-sounds/set_b/normal_noisynormal_278_1311163365896_B.wav',\n",
       " '../data/heartbeat-sounds/set_b/normal__206_1308159601959_C.wav',\n",
       " '../data/heartbeat-sounds/set_b/murmur_noisymurmur_288_1311164615284_B1.wav',\n",
       " '../data/heartbeat-sounds/set_b/normal_noisynormal_106_1306776721273_A.wav',\n",
       " '../data/heartbeat-sounds/set_b/normal__220_1308250132896_C.wav',\n",
       " '../data/heartbeat-sounds/set_b/normal_noisynormal_115_1306259437619_B.wav',\n",
       " '../data/heartbeat-sounds/set_b/normal__282_1311166081161_C.wav',\n",
       " '../data/heartbeat-sounds/set_b/normal__134_1306428161797_C2.wav',\n",
       " '../data/heartbeat-sounds/set_b/normal__194_1308139824187_A.wav',\n",
       " '../data/heartbeat-sounds/set_b/murmur_noisymurmur_160_1307100683334_D.wav',\n",
       " '../data/heartbeat-sounds/set_b/normal__267_1309368735165_A.wav',\n",
       " '../data/heartbeat-sounds/set_b/extrastole__286_1311170606028_D.wav',\n",
       " '../data/heartbeat-sounds/set_b/normal__129_1306344506305_D1.wav',\n",
       " '../data/heartbeat-sounds/set_b/normal__260_1309353164458_C.wav',\n",
       " '../data/heartbeat-sounds/set_b/normal__152_1306779561195_B1.wav',\n",
       " '../data/heartbeat-sounds/set_b/extrastole__163_1307104470471_C.wav',\n",
       " '../data/heartbeat-sounds/set_b/normal__232_1308748524018_C.wav',\n",
       " '../data/heartbeat-sounds/set_b/murmur__164_1307106095995_C.wav',\n",
       " '../data/heartbeat-sounds/set_b/extrastole__249_1309202052376_C.wav',\n",
       " '../data/heartbeat-sounds/set_b/normal__159_1307018640315_A.wav',\n",
       " '../data/heartbeat-sounds/set_b/normal__235_1308749032454_C.wav',\n",
       " '../data/heartbeat-sounds/set_b/normal__295_1311682673157_D.wav',\n",
       " '../data/heartbeat-sounds/set_b/normal__155_1306935902813_B1.wav',\n",
       " '../data/heartbeat-sounds/set_b/murmur__185_1308073325396_C.wav',\n",
       " '../data/heartbeat-sounds/set_b/normal__261_1309353556003_B.wav',\n",
       " '../data/heartbeat-sounds/set_b/normal__232_1308748524018_D1.wav',\n",
       " '../data/heartbeat-sounds/set_b/normal_noisynormal_198_1308141739338_D.wav',\n",
       " '../data/heartbeat-sounds/set_b/normal_noisynormal_105_1305033453095_A.wav',\n",
       " '../data/heartbeat-sounds/set_b/normal__286_1311170606028_C.wav',\n",
       " '../data/heartbeat-sounds/set_b/normal__188_1308074301731_C.wav',\n",
       " '../data/heartbeat-sounds/set_b/murmur__196_1308141034858_C.wav',\n",
       " '../data/heartbeat-sounds/set_b/normal__145_1307987561278_B.wav',\n",
       " '../data/heartbeat-sounds/set_b/murmur_noisymurmur_156_1306936373241_A.wav',\n",
       " '../data/heartbeat-sounds/set_b/normal__146_1306778707532_D3.wav',\n",
       " '../data/heartbeat-sounds/set_b/normal_noisynormal_137_1306764999211_C1.wav',\n",
       " '../data/heartbeat-sounds/set_b/murmur__203_1308162026258_C1.wav',\n",
       " '../data/heartbeat-sounds/set_b/murmur__195_1308140095331_C.wav',\n",
       " '../data/heartbeat-sounds/set_b/normal__191_1308077299430_B.wav',\n",
       " '../data/heartbeat-sounds/set_b/normal__150_1306776340746_C.wav',\n",
       " '../data/heartbeat-sounds/set_b/normal__167_1307111318050_C.wav',\n",
       " '../data/heartbeat-sounds/set_b/normal_noisynormal_138_1306762146980_D.wav',\n",
       " '../data/heartbeat-sounds/set_b/extrastole__198_1308141739338_B1.wav',\n",
       " '../data/heartbeat-sounds/set_b/murmur__200_1308144251434_D.wav',\n",
       " '../data/heartbeat-sounds/set_b/normal_noisynormal_159_1307018640315_B.wav',\n",
       " '../data/heartbeat-sounds/set_b/murmur__240_1309196119795_C.wav',\n",
       " '../data/heartbeat-sounds/set_b/extrastole__220_1308250132896_B.wav',\n",
       " '../data/heartbeat-sounds/set_b/murmur_noisymurmur_135_1306428972976_B.wav',\n",
       " '../data/heartbeat-sounds/set_b/murmur__197_1308141235553_D.wav',\n",
       " '../data/heartbeat-sounds/set_b/normal__201_1308144942432_A1.wav']"
      ]
     },
     "execution_count": 50,
     "metadata": {},
     "output_type": "execute_result"
    }
   ],
   "source": [
    "all_sounds_b"
   ]
  },
  {
   "cell_type": "markdown",
   "metadata": {},
   "source": [
    "<h2> Transforming soundfiles into numpy arrays using Librosa"
   ]
  },
  {
   "cell_type": "markdown",
   "metadata": {},
   "source": [
    "Python package for music and audio processing, Librosa, has been created by Brian McFee and allow us to transform audio in a numpy array.\n",
    "In that aim, we will use the popular Mel-frequency cepstral coefficients. https://en.wikipedia.org/wiki/Mel-frequency_cepstrum"
   ]
  },
  {
   "cell_type": "code",
   "execution_count": 51,
   "metadata": {},
   "outputs": [],
   "source": [
    "# First, we build a function to transform all sounds in our main folder:"
   ]
  },
  {
   "cell_type": "code",
   "execution_count": 52,
   "metadata": {},
   "outputs": [],
   "source": [
    "sounds_a = []\n",
    "for file in all_sounds_a_cleaned:\n",
    "    audio, sample_rate = librosa.load(file, res_type='kaiser_fast')\n",
    "    sounds_a.append(audio)"
   ]
  },
  {
   "cell_type": "code",
   "execution_count": 53,
   "metadata": {},
   "outputs": [],
   "source": [
    "sounds_b = []\n",
    "for file in all_sounds_b:\n",
    "    audio, sample_rate = librosa.load(file, res_type='kaiser_fast')\n",
    "    sounds_b.append(audio)"
   ]
  },
  {
   "cell_type": "code",
   "execution_count": 54,
   "metadata": {},
   "outputs": [],
   "source": [
    "sounds_a = np.array(sounds_a)\n",
    "sounds_b = np.array(sounds_b)\n",
    "all_sounds = np.concatenate((sounds_a, sounds_b))"
   ]
  },
  {
   "cell_type": "code",
   "execution_count": 55,
   "metadata": {},
   "outputs": [],
   "source": [
    "max_pad_len = 173"
   ]
  },
  {
   "cell_type": "markdown",
   "metadata": {},
   "source": [
    "#### here we will build two functions:\n",
    "\n",
    "- a first one to properly plot the spectrogram \n",
    "- a second one to artificially transform sounds into images and then train our algorithm on it"
   ]
  },
  {
   "cell_type": "code",
   "execution_count": 56,
   "metadata": {},
   "outputs": [],
   "source": [
    "def extract_features(file_name):\n",
    "   \n",
    "    try:\n",
    "        audio, sample_rate = librosa.load(file_name, res_type='kaiser_fast', duration=4) \n",
    "        mfccs = librosa.feature.mfcc(y=audio, sr=sample_rate, n_mfcc=40)\n",
    "        mfccsscaled = np.mean(mfccs.T,axis=0)\n",
    "        \n",
    "    except Exception as e:\n",
    "        print(\"Error encountered while parsing file: \", file)\n",
    "        return None \n",
    "     \n",
    "    return mfccsscaled"
   ]
  },
  {
   "cell_type": "code",
   "execution_count": 57,
   "metadata": {},
   "outputs": [],
   "source": [
    "def extract_sounds(file_name):\n",
    "   \n",
    "    try:\n",
    "        audio, sample_rate = librosa.load(file_name, duration=4) \n",
    "        mfccs = librosa.feature.mfcc(y=audio, sr=sample_rate, n_mfcc=40)\n",
    "        pad_width = max_pad_len - mfccs.shape[1]\n",
    "        mfccs = np.pad(mfccs, pad_width=((0, 0), (0, pad_width)), mode='constant')\n",
    "        \n",
    "    except Exception as e:\n",
    "        print(\"Error encountered while parsing file: \", file_name)\n",
    "        return None \n",
    "     \n",
    "    return mfccs"
   ]
  },
  {
   "cell_type": "markdown",
   "metadata": {},
   "source": [
    "<h3> Apple dataset"
   ]
  },
  {
   "cell_type": "code",
   "execution_count": 58,
   "metadata": {},
   "outputs": [],
   "source": [
    "# Then, we apply the function to our filepath:"
   ]
  },
  {
   "cell_type": "code",
   "execution_count": 59,
   "metadata": {
    "scrolled": true
   },
   "outputs": [],
   "source": [
    "features = []\n",
    "\n",
    "\n",
    "for file in all_sounds_a_cleaned:\n",
    "    \n",
    "    #class_label = i[\"class_name\"]\n",
    "    data = extract_features(file)\n",
    "    \n",
    "    features.append(data)\n",
    "\n",
    "features = np.array(features)\n",
    "featuresdf = pd.DataFrame(features)"
   ]
  },
  {
   "cell_type": "code",
   "execution_count": 60,
   "metadata": {},
   "outputs": [
    {
     "data": {
      "text/plain": [
       "(176, 40)"
      ]
     },
     "execution_count": 60,
     "metadata": {},
     "output_type": "execute_result"
    }
   ],
   "source": [
    "features.shape"
   ]
  },
  {
   "cell_type": "code",
   "execution_count": 61,
   "metadata": {
    "scrolled": true
   },
   "outputs": [],
   "source": [
    "apple_sounds = []\n",
    "for file in all_sounds_a_cleaned:\n",
    "    \n",
    "    #class_label = i[\"class_name\"]\n",
    "    data = extract_sounds(file)\n",
    "    \n",
    "    apple_sounds.append(data)"
   ]
  },
  {
   "cell_type": "code",
   "execution_count": 62,
   "metadata": {},
   "outputs": [],
   "source": [
    "apple_sounds = np.asarray(apple_sounds)"
   ]
  },
  {
   "cell_type": "code",
   "execution_count": 63,
   "metadata": {},
   "outputs": [
    {
     "data": {
      "text/plain": [
       "(176, 40, 173)"
      ]
     },
     "execution_count": 63,
     "metadata": {},
     "output_type": "execute_result"
    }
   ],
   "source": [
    "apple_sounds.shape"
   ]
  },
  {
   "cell_type": "markdown",
   "metadata": {},
   "source": [
    "<h3> Clinic dataset"
   ]
  },
  {
   "cell_type": "code",
   "execution_count": 64,
   "metadata": {},
   "outputs": [],
   "source": [
    "clinic_features = []\n",
    "\n",
    "\n",
    "for file in all_sounds_b:\n",
    "    \n",
    "    #class_label = i[\"class_name\"]\n",
    "    data = extract_features(file)\n",
    "    \n",
    "    clinic_features.append(data)\n",
    "\n",
    "\n",
    "features_clinic = pd.DataFrame(clinic_features)"
   ]
  },
  {
   "cell_type": "code",
   "execution_count": 65,
   "metadata": {},
   "outputs": [],
   "source": [
    "clinic_sounds = []\n",
    "for file in all_sounds_b:\n",
    "    \n",
    "    #class_label = i[\"class_name\"]\n",
    "    data = extract_sounds(file)\n",
    "    \n",
    "    clinic_sounds.append(data)"
   ]
  },
  {
   "cell_type": "code",
   "execution_count": 66,
   "metadata": {},
   "outputs": [],
   "source": [
    "clinic_sounds = np.array(clinic_sounds)"
   ]
  },
  {
   "cell_type": "code",
   "execution_count": 67,
   "metadata": {},
   "outputs": [
    {
     "data": {
      "text/plain": [
       "(461, 40, 173)"
      ]
     },
     "execution_count": 67,
     "metadata": {},
     "output_type": "execute_result"
    }
   ],
   "source": [
    "clinic_sounds.shape"
   ]
  },
  {
   "cell_type": "markdown",
   "metadata": {},
   "source": [
    "<h3> Plot Apple sounds for a first look"
   ]
  },
  {
   "cell_type": "code",
   "execution_count": 68,
   "metadata": {},
   "outputs": [],
   "source": [
    "all_features = np.concatenate((features,clinic_features))"
   ]
  },
  {
   "cell_type": "code",
   "execution_count": 69,
   "metadata": {},
   "outputs": [
    {
     "data": {
      "text/plain": [
       "249"
      ]
     },
     "execution_count": 69,
     "metadata": {},
     "output_type": "execute_result"
    }
   ],
   "source": [
    "i = np.random.randint(len(all_features))\n",
    "i"
   ]
  },
  {
   "cell_type": "code",
   "execution_count": 70,
   "metadata": {},
   "outputs": [],
   "source": [
    "import librosa.display"
   ]
  },
  {
   "cell_type": "code",
   "execution_count": 71,
   "metadata": {},
   "outputs": [
    {
     "data": {
      "text/plain": [
       "[<matplotlib.lines.Line2D at 0x7f7489cc2150>]"
      ]
     },
     "execution_count": 71,
     "metadata": {},
     "output_type": "execute_result"
    },
    {
     "data": {
      "image/png": "[encoded data removed]",
      "text/plain": [
       "<Figure size 864x432 with 1 Axes>"
      ]
     },
     "metadata": {
      "needs_background": "light"
     },
     "output_type": "display_data"
    }
   ],
   "source": [
    "plt.show()\n",
    "plt.figure(figsize=(12,6))\n",
    "plt.ylabel('Time')\n",
    "plt.xlabel('Frequency')\n",
    "plt.plot(sounds_a[3])"
   ]
  },
  {
   "cell_type": "code",
   "execution_count": 72,
   "metadata": {},
   "outputs": [
    {
     "data": {
      "image/png": "[encoded data removed]",
      "text/plain": [
       "<Figure size 720x288 with 2 Axes>"
      ]
     },
     "metadata": {
      "needs_background": "light"
     },
     "output_type": "display_data"
    }
   ],
   "source": [
    "plt.figure(figsize=(10, 4))\n",
    "S = librosa.feature.melspectrogram(all_features[i])\n",
    "S_dB = librosa.power_to_db(S, ref=np.max)\n",
    "librosa.display.specshow(S_dB, x_axis='time',\n",
    "                         y_axis='mel',\n",
    "                         fmax=8000)\n",
    "plt.colorbar(format='%+2.0f dB')\n",
    "plt.title('Mel-frequency spectrogram')\n",
    "plt.tight_layout()\n",
    "plt.show()"
   ]
  },
  {
   "cell_type": "code",
   "execution_count": 74,
   "metadata": {},
   "outputs": [
    {
     "data": {
      "image/png": "[encoded data removed]",
      "text/plain": [
       "<Figure size 720x288 with 2 Axes>"
      ]
     },
     "metadata": {
      "needs_background": "light"
     },
     "output_type": "display_data"
    }
   ],
   "source": [
    "S2 = librosa.feature.melspectrogram(all_features[i])\n",
    "plt.figure(figsize=(10, 4))\n",
    "S2_dB = librosa.power_to_db(S2, ref=np.max)\n",
    "librosa.display.specshow(S2_dB, x_axis='time',\n",
    "                         y_axis='mel',\n",
    "                         fmax=8000)\n",
    "plt.colorbar(format='%+2.0f dB')\n",
    "plt.title('Mel-frequency spectrogram')\n",
    "plt.tight_layout()\n",
    "plt.show()"
   ]
  },
  {
   "cell_type": "markdown",
   "metadata": {},
   "source": [
    "<h2> Machine Learning"
   ]
  },
  {
   "cell_type": "markdown",
   "metadata": {},
   "source": [
    "<h3> Supervised"
   ]
  },
  {
   "cell_type": "code",
   "execution_count": 75,
   "metadata": {},
   "outputs": [],
   "source": [
    "df_all_features = pd.concat([featuresdf, features_clinic])"
   ]
  },
  {
   "cell_type": "code",
   "execution_count": 76,
   "metadata": {},
   "outputs": [],
   "source": [
    "X = df_all_features"
   ]
  },
  {
   "cell_type": "code",
   "execution_count": 77,
   "metadata": {},
   "outputs": [],
   "source": [
    "y_a = set_a['label']"
   ]
  },
  {
   "cell_type": "code",
   "execution_count": 78,
   "metadata": {},
   "outputs": [],
   "source": [
    "y_b = set_b['label']"
   ]
  },
  {
   "cell_type": "code",
   "execution_count": 79,
   "metadata": {},
   "outputs": [],
   "source": [
    "y = pd.concat([y_a, y_b])"
   ]
  },
  {
   "cell_type": "code",
   "execution_count": 80,
   "metadata": {
    "scrolled": true
   },
   "outputs": [
    {
     "data": {
      "text/plain": [
       "normal        351\n",
       "murmur        129\n",
       "extrastole     46\n",
       "artifact       40\n",
       "extrahls       19\n",
       "Name: label, dtype: int64"
      ]
     },
     "execution_count": 80,
     "metadata": {},
     "output_type": "execute_result"
    }
   ],
   "source": [
    "y.value_counts()"
   ]
  },
  {
   "cell_type": "code",
   "execution_count": 81,
   "metadata": {
    "scrolled": false
   },
   "outputs": [
    {
     "data": {
      "image/png": "[encoded data removed]",
      "text/plain": [
       "<Figure size 864x432 with 1 Axes>"
      ]
     },
     "metadata": {
      "needs_background": "light"
     },
     "output_type": "display_data"
    }
   ],
   "source": [
    "plt.figure(figsize=(12,6))\n",
    "plt.hist(y.value_counts())\n",
    "plt.show()"
   ]
  },
  {
   "cell_type": "markdown",
   "metadata": {},
   "source": [
    "<h3> Logistic Regression"
   ]
  },
  {
   "cell_type": "code",
   "execution_count": 82,
   "metadata": {},
   "outputs": [],
   "source": [
    "# Let's create a binary version of y (0 == normal, 1 == anormal) to perform Logistic regression"
   ]
  },
  {
   "cell_type": "code",
   "execution_count": 83,
   "metadata": {},
   "outputs": [],
   "source": [
    "def get_class(X):\n",
    "    if X == 'normal':\n",
    "        return 0\n",
    "    else:\n",
    "        return 1"
   ]
  },
  {
   "cell_type": "code",
   "execution_count": 84,
   "metadata": {},
   "outputs": [],
   "source": [
    "y_binary = y.apply(get_class)"
   ]
  },
  {
   "cell_type": "code",
   "execution_count": 85,
   "metadata": {},
   "outputs": [
    {
     "data": {
      "text/plain": [
       "0    351\n",
       "1    234\n",
       "Name: label, dtype: int64"
      ]
     },
     "execution_count": 85,
     "metadata": {},
     "output_type": "execute_result"
    }
   ],
   "source": [
    "y_binary.value_counts()"
   ]
  },
  {
   "cell_type": "code",
   "execution_count": 86,
   "metadata": {},
   "outputs": [],
   "source": [
    "from sklearn.model_selection import train_test_split"
   ]
  },
  {
   "cell_type": "code",
   "execution_count": 87,
   "metadata": {},
   "outputs": [
    {
     "data": {
      "text/plain": [
       "637"
      ]
     },
     "execution_count": 87,
     "metadata": {},
     "output_type": "execute_result"
    }
   ],
   "source": [
    "len(X)"
   ]
  },
  {
   "cell_type": "code",
   "execution_count": 88,
   "metadata": {},
   "outputs": [
    {
     "data": {
      "text/plain": [
       "585"
      ]
     },
     "execution_count": 88,
     "metadata": {},
     "output_type": "execute_result"
    }
   ],
   "source": [
    "len(y)"
   ]
  },
  {
   "cell_type": "code",
   "execution_count": 90,
   "metadata": {},
   "outputs": [],
   "source": [
    "X_train, X_test, y_train, y_test = train_test_split(X[:585], y_binary, test_size = 0.2, random_state = 0)"
   ]
  },
  {
   "cell_type": "code",
   "execution_count": 91,
   "metadata": {},
   "outputs": [],
   "source": [
    "from sklearn.linear_model import LogisticRegression"
   ]
  },
  {
   "cell_type": "code",
   "execution_count": 92,
   "metadata": {},
   "outputs": [],
   "source": [
    "log = LogisticRegression()"
   ]
  },
  {
   "cell_type": "code",
   "execution_count": 93,
   "metadata": {},
   "outputs": [
    {
     "name": "stderr",
     "output_type": "stream",
     "text": [
      "/home/julien/anaconda3/lib/python3.7/site-packages/sklearn/linear_model/logistic.py:432: FutureWarning: Default solver will be changed to 'lbfgs' in 0.22. Specify a solver to silence this warning.\n",
      "  FutureWarning)\n"
     ]
    },
    {
     "data": {
      "text/plain": [
       "LogisticRegression(C=1.0, class_weight=None, dual=False, fit_intercept=True,\n",
       "                   intercept_scaling=1, l1_ratio=None, max_iter=100,\n",
       "                   multi_class='warn', n_jobs=None, penalty='l2',\n",
       "                   random_state=None, solver='warn', tol=0.0001, verbose=0,\n",
       "                   warm_start=False)"
      ]
     },
     "execution_count": 93,
     "metadata": {},
     "output_type": "execute_result"
    }
   ],
   "source": [
    "log.fit(X_train, y_train)"
   ]
  },
  {
   "cell_type": "code",
   "execution_count": 94,
   "metadata": {},
   "outputs": [],
   "source": [
    "y_pred_train = log.predict(X_train)"
   ]
  },
  {
   "cell_type": "code",
   "execution_count": 95,
   "metadata": {},
   "outputs": [],
   "source": [
    "y_pred = log.predict(X_test)"
   ]
  },
  {
   "cell_type": "code",
   "execution_count": 96,
   "metadata": {},
   "outputs": [],
   "source": [
    "from sklearn.metrics import classification_report"
   ]
  },
  {
   "cell_type": "code",
   "execution_count": 97,
   "metadata": {},
   "outputs": [
    {
     "name": "stdout",
     "output_type": "stream",
     "text": [
      "              precision    recall  f1-score   support\n",
      "\n",
      "           0       0.74      0.96      0.83        68\n",
      "           1       0.90      0.53      0.67        49\n",
      "\n",
      "    accuracy                           0.78       117\n",
      "   macro avg       0.82      0.74      0.75       117\n",
      "weighted avg       0.80      0.78      0.76       117\n",
      "\n"
     ]
    }
   ],
   "source": [
    "print(classification_report(y_test, y_pred))"
   ]
  },
  {
   "cell_type": "code",
   "execution_count": 98,
   "metadata": {},
   "outputs": [
    {
     "name": "stdout",
     "output_type": "stream",
     "text": [
      "              precision    recall  f1-score   support\n",
      "\n",
      "           0       0.80      0.90      0.85       283\n",
      "           1       0.82      0.65      0.72       185\n",
      "\n",
      "    accuracy                           0.80       468\n",
      "   macro avg       0.81      0.78      0.79       468\n",
      "weighted avg       0.80      0.80      0.80       468\n",
      "\n"
     ]
    }
   ],
   "source": [
    "print(classification_report(y_train, y_pred_train))"
   ]
  },
  {
   "cell_type": "markdown",
   "metadata": {},
   "source": [
    "<h3> XGBOOST"
   ]
  },
  {
   "cell_type": "code",
   "execution_count": 101,
   "metadata": {},
   "outputs": [],
   "source": [
    "from xgboost import XGBClassifier"
   ]
  },
  {
   "cell_type": "code",
   "execution_count": 102,
   "metadata": {},
   "outputs": [],
   "source": [
    "xgb = XGBClassifier()"
   ]
  },
  {
   "cell_type": "code",
   "execution_count": 103,
   "metadata": {},
   "outputs": [],
   "source": [
    "X_train2, X_test2, y_train2, y_test2 = train_test_split(X[:585], y, test_size = 0.2, random_state = 0)"
   ]
  },
  {
   "cell_type": "code",
   "execution_count": 104,
   "metadata": {},
   "outputs": [
    {
     "data": {
      "text/plain": [
       "XGBClassifier(base_score=0.5, booster='gbtree', colsample_bylevel=1,\n",
       "              colsample_bynode=1, colsample_bytree=1, gamma=0,\n",
       "              learning_rate=0.1, max_delta_step=0, max_depth=3,\n",
       "              min_child_weight=1, missing=None, n_estimators=100, n_jobs=1,\n",
       "              nthread=None, objective='multi:softprob', random_state=0,\n",
       "              reg_alpha=0, reg_lambda=1, scale_pos_weight=1, seed=None,\n",
       "              silent=None, subsample=1, verbosity=1)"
      ]
     },
     "execution_count": 104,
     "metadata": {},
     "output_type": "execute_result"
    }
   ],
   "source": [
    "xgb.fit(X_train2, y_train2)"
   ]
  },
  {
   "cell_type": "code",
   "execution_count": 105,
   "metadata": {},
   "outputs": [],
   "source": [
    "y_pred_xgb = xgb.predict(X_test2)"
   ]
  },
  {
   "cell_type": "code",
   "execution_count": 106,
   "metadata": {
    "scrolled": true
   },
   "outputs": [
    {
     "name": "stdout",
     "output_type": "stream",
     "text": [
      "              precision    recall  f1-score   support\n",
      "\n",
      "    artifact       0.00      0.00      0.00        10\n",
      "    extrahls       0.00      0.00      0.00         4\n",
      "  extrastole       0.38      0.50      0.43         6\n",
      "      murmur       0.25      0.10      0.15        29\n",
      "      normal       0.69      0.93      0.79        68\n",
      "\n",
      "    accuracy                           0.59       117\n",
      "   macro avg       0.26      0.31      0.27       117\n",
      "weighted avg       0.48      0.59      0.52       117\n",
      "\n"
     ]
    }
   ],
   "source": [
    "print(classification_report(y_test2, y_pred_xgb))"
   ]
  },
  {
   "cell_type": "code",
   "execution_count": 107,
   "metadata": {},
   "outputs": [],
   "source": [
    "import lightgbm as lgb\n",
    "\n",
    "lgb = lgb.LGBMClassifier(silent=False)"
   ]
  },
  {
   "cell_type": "code",
   "execution_count": 108,
   "metadata": {},
   "outputs": [
    {
     "data": {
      "text/plain": [
       "LGBMClassifier(boosting_type='gbdt', class_weight=None, colsample_bytree=1.0,\n",
       "               importance_type='split', learning_rate=0.1, max_depth=-1,\n",
       "               min_child_samples=20, min_child_weight=0.001, min_split_gain=0.0,\n",
       "               n_estimators=100, n_jobs=-1, num_leaves=31, objective=None,\n",
       "               random_state=None, reg_alpha=0.0, reg_lambda=0.0, silent=False,\n",
       "               subsample=1.0, subsample_for_bin=200000, subsample_freq=0)"
      ]
     },
     "execution_count": 108,
     "metadata": {},
     "output_type": "execute_result"
    }
   ],
   "source": [
    "lgb.fit(X_train2, y_train2)"
   ]
  },
  {
   "cell_type": "code",
   "execution_count": 109,
   "metadata": {},
   "outputs": [],
   "source": [
    "y_pred_lgb = lgb.predict(X_test2)"
   ]
  },
  {
   "cell_type": "code",
   "execution_count": 110,
   "metadata": {},
   "outputs": [
    {
     "name": "stdout",
     "output_type": "stream",
     "text": [
      "              precision    recall  f1-score   support\n",
      "\n",
      "    artifact       0.20      0.10      0.13        10\n",
      "    extrahls       0.00      0.00      0.00         4\n",
      "  extrastole       0.44      0.67      0.53         6\n",
      "      murmur       0.18      0.07      0.10        29\n",
      "      normal       0.70      0.93      0.80        68\n",
      "\n",
      "    accuracy                           0.60       117\n",
      "   macro avg       0.31      0.35      0.31       117\n",
      "weighted avg       0.49      0.60      0.53       117\n",
      "\n"
     ]
    }
   ],
   "source": [
    "print(classification_report(y_test2, y_pred_lgb))"
   ]
  },
  {
   "cell_type": "markdown",
   "metadata": {},
   "source": [
    "<h3> LIGHTGBM"
   ]
  },
  {
   "cell_type": "code",
   "execution_count": 111,
   "metadata": {},
   "outputs": [],
   "source": [
    "import lightgbm as lgb\n",
    "\n",
    "lgm = lgb.LGBMClassifier(silent=False)"
   ]
  },
  {
   "cell_type": "code",
   "execution_count": 112,
   "metadata": {},
   "outputs": [
    {
     "data": {
      "text/plain": [
       "LGBMClassifier(boosting_type='gbdt', class_weight=None, colsample_bytree=1.0,\n",
       "               importance_type='split', learning_rate=0.1, max_depth=-1,\n",
       "               min_child_samples=20, min_child_weight=0.001, min_split_gain=0.0,\n",
       "               n_estimators=100, n_jobs=-1, num_leaves=31, objective=None,\n",
       "               random_state=None, reg_alpha=0.0, reg_lambda=0.0, silent=False,\n",
       "               subsample=1.0, subsample_for_bin=200000, subsample_freq=0)"
      ]
     },
     "execution_count": 112,
     "metadata": {},
     "output_type": "execute_result"
    }
   ],
   "source": [
    "lgm.fit(X_train2, y_train2)"
   ]
  },
  {
   "cell_type": "code",
   "execution_count": 113,
   "metadata": {},
   "outputs": [],
   "source": [
    "y_pred_lgm = lgm.predict(X_test2)"
   ]
  },
  {
   "cell_type": "code",
   "execution_count": 114,
   "metadata": {},
   "outputs": [
    {
     "name": "stdout",
     "output_type": "stream",
     "text": [
      "              precision    recall  f1-score   support\n",
      "\n",
      "    artifact       0.20      0.10      0.13        10\n",
      "    extrahls       0.00      0.00      0.00         4\n",
      "  extrastole       0.44      0.67      0.53         6\n",
      "      murmur       0.18      0.07      0.10        29\n",
      "      normal       0.70      0.93      0.80        68\n",
      "\n",
      "    accuracy                           0.60       117\n",
      "   macro avg       0.31      0.35      0.31       117\n",
      "weighted avg       0.49      0.60      0.53       117\n",
      "\n"
     ]
    }
   ],
   "source": [
    "print(classification_report(y_test2, y_pred_lgm))"
   ]
  },
  {
   "cell_type": "markdown",
   "metadata": {},
   "source": [
    "<h2> Deep Learning"
   ]
  },
  {
   "cell_type": "markdown",
   "metadata": {},
   "source": [
    "<h3> CNN"
   ]
  },
  {
   "cell_type": "code",
   "execution_count": 115,
   "metadata": {},
   "outputs": [],
   "source": [
    "import tensorflow as tf\n",
    "from tensorflow import feature_column"
   ]
  },
  {
   "cell_type": "code",
   "execution_count": 116,
   "metadata": {},
   "outputs": [
    {
     "data": {
      "text/html": [
       "<div>\n",
       "<style scoped>\n",
       "    .dataframe tbody tr th:only-of-type {\n",
       "        vertical-align: middle;\n",
       "    }\n",
       "\n",
       "    .dataframe tbody tr th {\n",
       "        vertical-align: top;\n",
       "    }\n",
       "\n",
       "    .dataframe thead th {\n",
       "        text-align: right;\n",
       "    }\n",
       "</style>\n",
       "<table border=\"1\" class=\"dataframe\">\n",
       "  <thead>\n",
       "    <tr style=\"text-align: right;\">\n",
       "      <th></th>\n",
       "      <th>0</th>\n",
       "      <th>1</th>\n",
       "      <th>2</th>\n",
       "      <th>3</th>\n",
       "      <th>4</th>\n",
       "      <th>5</th>\n",
       "      <th>6</th>\n",
       "      <th>7</th>\n",
       "      <th>8</th>\n",
       "      <th>9</th>\n",
       "      <th>...</th>\n",
       "      <th>30</th>\n",
       "      <th>31</th>\n",
       "      <th>32</th>\n",
       "      <th>33</th>\n",
       "      <th>34</th>\n",
       "      <th>35</th>\n",
       "      <th>36</th>\n",
       "      <th>37</th>\n",
       "      <th>38</th>\n",
       "      <th>39</th>\n",
       "    </tr>\n",
       "  </thead>\n",
       "  <tbody>\n",
       "    <tr>\n",
       "      <td>284</td>\n",
       "      <td>-408.240540</td>\n",
       "      <td>166.420486</td>\n",
       "      <td>56.320259</td>\n",
       "      <td>-6.587550</td>\n",
       "      <td>5.346904</td>\n",
       "      <td>34.382935</td>\n",
       "      <td>29.223452</td>\n",
       "      <td>4.203629</td>\n",
       "      <td>-1.930162</td>\n",
       "      <td>12.209787</td>\n",
       "      <td>...</td>\n",
       "      <td>-1.969055</td>\n",
       "      <td>0.162125</td>\n",
       "      <td>1.911674</td>\n",
       "      <td>1.560087</td>\n",
       "      <td>1.200684</td>\n",
       "      <td>2.029970</td>\n",
       "      <td>2.036433</td>\n",
       "      <td>-0.141339</td>\n",
       "      <td>-2.340866</td>\n",
       "      <td>-1.879002</td>\n",
       "    </tr>\n",
       "    <tr>\n",
       "      <td>246</td>\n",
       "      <td>-422.019196</td>\n",
       "      <td>183.235321</td>\n",
       "      <td>48.786980</td>\n",
       "      <td>-24.308645</td>\n",
       "      <td>-3.908114</td>\n",
       "      <td>35.932228</td>\n",
       "      <td>31.934294</td>\n",
       "      <td>3.124207</td>\n",
       "      <td>-3.087079</td>\n",
       "      <td>13.872370</td>\n",
       "      <td>...</td>\n",
       "      <td>0.242114</td>\n",
       "      <td>4.317164</td>\n",
       "      <td>4.843258</td>\n",
       "      <td>2.106975</td>\n",
       "      <td>0.308169</td>\n",
       "      <td>0.428549</td>\n",
       "      <td>0.203068</td>\n",
       "      <td>-0.684517</td>\n",
       "      <td>-0.313725</td>\n",
       "      <td>1.223271</td>\n",
       "    </tr>\n",
       "    <tr>\n",
       "      <td>225</td>\n",
       "      <td>-320.781097</td>\n",
       "      <td>221.910446</td>\n",
       "      <td>71.180511</td>\n",
       "      <td>-17.124245</td>\n",
       "      <td>-9.644979</td>\n",
       "      <td>23.157829</td>\n",
       "      <td>17.156208</td>\n",
       "      <td>-11.591466</td>\n",
       "      <td>-17.650621</td>\n",
       "      <td>0.103298</td>\n",
       "      <td>...</td>\n",
       "      <td>-0.895710</td>\n",
       "      <td>1.542917</td>\n",
       "      <td>1.116134</td>\n",
       "      <td>-1.057379</td>\n",
       "      <td>-1.322221</td>\n",
       "      <td>0.418789</td>\n",
       "      <td>1.297687</td>\n",
       "      <td>0.536475</td>\n",
       "      <td>-0.002062</td>\n",
       "      <td>0.433535</td>\n",
       "    </tr>\n",
       "    <tr>\n",
       "      <td>323</td>\n",
       "      <td>-386.056793</td>\n",
       "      <td>164.270996</td>\n",
       "      <td>62.561249</td>\n",
       "      <td>-2.917157</td>\n",
       "      <td>-2.020725</td>\n",
       "      <td>21.828077</td>\n",
       "      <td>22.527559</td>\n",
       "      <td>4.865837</td>\n",
       "      <td>-0.871382</td>\n",
       "      <td>10.482927</td>\n",
       "      <td>...</td>\n",
       "      <td>-2.031148</td>\n",
       "      <td>0.761543</td>\n",
       "      <td>3.242133</td>\n",
       "      <td>1.786574</td>\n",
       "      <td>-0.849954</td>\n",
       "      <td>-0.517905</td>\n",
       "      <td>1.684050</td>\n",
       "      <td>1.766303</td>\n",
       "      <td>-0.409391</td>\n",
       "      <td>-1.163564</td>\n",
       "    </tr>\n",
       "    <tr>\n",
       "      <td>59</td>\n",
       "      <td>-387.922668</td>\n",
       "      <td>160.899261</td>\n",
       "      <td>68.826332</td>\n",
       "      <td>8.773860</td>\n",
       "      <td>7.920874</td>\n",
       "      <td>27.921719</td>\n",
       "      <td>27.870356</td>\n",
       "      <td>11.435054</td>\n",
       "      <td>4.744549</td>\n",
       "      <td>12.341672</td>\n",
       "      <td>...</td>\n",
       "      <td>-3.530054</td>\n",
       "      <td>-0.917871</td>\n",
       "      <td>1.579022</td>\n",
       "      <td>0.494292</td>\n",
       "      <td>-1.716277</td>\n",
       "      <td>-1.371585</td>\n",
       "      <td>0.344030</td>\n",
       "      <td>-0.150383</td>\n",
       "      <td>-2.476578</td>\n",
       "      <td>-2.809528</td>\n",
       "    </tr>\n",
       "  </tbody>\n",
       "</table>\n",
       "<p>5 rows × 40 columns</p>\n",
       "</div>"
      ],
      "text/plain": [
       "             0           1          2          3         4          5   \\\n",
       "284 -408.240540  166.420486  56.320259  -6.587550  5.346904  34.382935   \n",
       "246 -422.019196  183.235321  48.786980 -24.308645 -3.908114  35.932228   \n",
       "225 -320.781097  221.910446  71.180511 -17.124245 -9.644979  23.157829   \n",
       "323 -386.056793  164.270996  62.561249  -2.917157 -2.020725  21.828077   \n",
       "59  -387.922668  160.899261  68.826332   8.773860  7.920874  27.921719   \n",
       "\n",
       "            6          7          8          9   ...        30        31  \\\n",
       "284  29.223452   4.203629  -1.930162  12.209787  ... -1.969055  0.162125   \n",
       "246  31.934294   3.124207  -3.087079  13.872370  ...  0.242114  4.317164   \n",
       "225  17.156208 -11.591466 -17.650621   0.103298  ... -0.895710  1.542917   \n",
       "323  22.527559   4.865837  -0.871382  10.482927  ... -2.031148  0.761543   \n",
       "59   27.870356  11.435054   4.744549  12.341672  ... -3.530054 -0.917871   \n",
       "\n",
       "           32        33        34        35        36        37        38  \\\n",
       "284  1.911674  1.560087  1.200684  2.029970  2.036433 -0.141339 -2.340866   \n",
       "246  4.843258  2.106975  0.308169  0.428549  0.203068 -0.684517 -0.313725   \n",
       "225  1.116134 -1.057379 -1.322221  0.418789  1.297687  0.536475 -0.002062   \n",
       "323  3.242133  1.786574 -0.849954 -0.517905  1.684050  1.766303 -0.409391   \n",
       "59   1.579022  0.494292 -1.716277 -1.371585  0.344030 -0.150383 -2.476578   \n",
       "\n",
       "           39  \n",
       "284 -1.879002  \n",
       "246  1.223271  \n",
       "225  0.433535  \n",
       "323 -1.163564  \n",
       "59  -2.809528  \n",
       "\n",
       "[5 rows x 40 columns]"
      ]
     },
     "execution_count": 116,
     "metadata": {},
     "output_type": "execute_result"
    }
   ],
   "source": [
    "X_train.head()"
   ]
  },
  {
   "cell_type": "code",
   "execution_count": 117,
   "metadata": {},
   "outputs": [],
   "source": [
    "model = tf.keras.models.Sequential()"
   ]
  },
  {
   "cell_type": "code",
   "execution_count": 118,
   "metadata": {},
   "outputs": [],
   "source": [
    "input_dim = X_train.shape[1]"
   ]
  },
  {
   "cell_type": "code",
   "execution_count": 119,
   "metadata": {},
   "outputs": [
    {
     "data": {
      "text/plain": [
       "array([0, 1])"
      ]
     },
     "execution_count": 119,
     "metadata": {},
     "output_type": "execute_result"
    }
   ],
   "source": [
    "np.unique(y_train)"
   ]
  },
  {
   "cell_type": "code",
   "execution_count": 120,
   "metadata": {},
   "outputs": [],
   "source": [
    "from tensorflow.keras.utils import to_categorical"
   ]
  },
  {
   "cell_type": "code",
   "execution_count": 121,
   "metadata": {},
   "outputs": [],
   "source": [
    "y_train_CNN = to_categorical(y_train, num_classes=2)\n",
    "y_test_CNN = to_categorical(y_test, num_classes=2)"
   ]
  },
  {
   "cell_type": "code",
   "execution_count": 122,
   "metadata": {},
   "outputs": [],
   "source": [
    "model.add(tf.keras.layers.Dense(100, input_dim=input_dim, activation='tanh'))  \n",
    "model.add(tf.keras.layers.Dense(100, input_dim= input_dim, activation='tanh'))\n",
    "model.add(tf.keras.layers.Dense(100, input_dim= input_dim, activation='tanh'))\n",
    "model.add(tf.keras.layers.Dense(2, activation='sigmoid'))"
   ]
  },
  {
   "cell_type": "code",
   "execution_count": 123,
   "metadata": {},
   "outputs": [],
   "source": [
    "model.compile(optimizer='adam', loss='binary_crossentropy', metrics=['accuracy'])"
   ]
  },
  {
   "cell_type": "code",
   "execution_count": 124,
   "metadata": {},
   "outputs": [
    {
     "name": "stdout",
     "output_type": "stream",
     "text": [
      "WARNING:tensorflow:Falling back from v2 loop because of error: Failed to find data adapter that can handle input: <class 'pandas.core.frame.DataFrame'>, <class 'NoneType'>\n",
      "Train on 468 samples, validate on 117 samples\n",
      "Epoch 1/100\n",
      "468/468 [==============================] - 1s 2ms/sample - loss: 0.5874 - accuracy: 0.7286 - val_loss: 0.5709 - val_accuracy: 0.7350\n",
      "Epoch 2/100\n",
      "468/468 [==============================] - 0s 28us/sample - loss: 0.5453 - accuracy: 0.7682 - val_loss: 0.5691 - val_accuracy: 0.7393\n",
      "Epoch 3/100\n",
      "468/468 [==============================] - 0s 52us/sample - loss: 0.5182 - accuracy: 0.7788 - val_loss: 0.5623 - val_accuracy: 0.7350\n",
      "Epoch 4/100\n",
      "468/468 [==============================] - 0s 39us/sample - loss: 0.5112 - accuracy: 0.7842 - val_loss: 0.5593 - val_accuracy: 0.7436\n",
      "Epoch 5/100\n",
      "468/468 [==============================] - 0s 49us/sample - loss: 0.5001 - accuracy: 0.7906 - val_loss: 0.5470 - val_accuracy: 0.7692\n",
      "Epoch 6/100\n",
      "468/468 [==============================] - 0s 32us/sample - loss: 0.5049 - accuracy: 0.7863 - val_loss: 0.5523 - val_accuracy: 0.7564\n",
      "Epoch 7/100\n",
      "468/468 [==============================] - 0s 47us/sample - loss: 0.5054 - accuracy: 0.7885 - val_loss: 0.5787 - val_accuracy: 0.7479\n",
      "Epoch 8/100\n",
      "468/468 [==============================] - 0s 34us/sample - loss: 0.5036 - accuracy: 0.7927 - val_loss: 0.5503 - val_accuracy: 0.7692\n",
      "Epoch 9/100\n",
      "468/468 [==============================] - 0s 32us/sample - loss: 0.4930 - accuracy: 0.7949 - val_loss: 0.5491 - val_accuracy: 0.7521\n",
      "Epoch 10/100\n",
      "468/468 [==============================] - 0s 35us/sample - loss: 0.4846 - accuracy: 0.8034 - val_loss: 0.5540 - val_accuracy: 0.7607\n",
      "Epoch 11/100\n",
      "468/468 [==============================] - 0s 32us/sample - loss: 0.4857 - accuracy: 0.7991 - val_loss: 0.5559 - val_accuracy: 0.7607\n",
      "Epoch 12/100\n",
      "468/468 [==============================] - 0s 35us/sample - loss: 0.4793 - accuracy: 0.7991 - val_loss: 0.5475 - val_accuracy: 0.7650\n",
      "Epoch 13/100\n",
      "468/468 [==============================] - 0s 30us/sample - loss: 0.4905 - accuracy: 0.8024 - val_loss: 0.5874 - val_accuracy: 0.7521\n",
      "Epoch 14/100\n",
      "468/468 [==============================] - 0s 27us/sample - loss: 0.4764 - accuracy: 0.7981 - val_loss: 0.5547 - val_accuracy: 0.7735\n",
      "Epoch 15/100\n",
      "468/468 [==============================] - 0s 26us/sample - loss: 0.4844 - accuracy: 0.7981 - val_loss: 0.5529 - val_accuracy: 0.7650\n",
      "Epoch 16/100\n",
      "468/468 [==============================] - 0s 28us/sample - loss: 0.4738 - accuracy: 0.8045 - val_loss: 0.5453 - val_accuracy: 0.7650\n",
      "Epoch 17/100\n",
      "468/468 [==============================] - 0s 35us/sample - loss: 0.4725 - accuracy: 0.8066 - val_loss: 0.5553 - val_accuracy: 0.7735\n",
      "Epoch 18/100\n",
      "468/468 [==============================] - 0s 48us/sample - loss: 0.4796 - accuracy: 0.8088 - val_loss: 0.5680 - val_accuracy: 0.7692\n",
      "Epoch 19/100\n",
      "468/468 [==============================] - 0s 39us/sample - loss: 0.4887 - accuracy: 0.7906 - val_loss: 0.6320 - val_accuracy: 0.7393\n",
      "Epoch 20/100\n",
      "468/468 [==============================] - 0s 37us/sample - loss: 0.4825 - accuracy: 0.8056 - val_loss: 0.5517 - val_accuracy: 0.7521\n",
      "Epoch 21/100\n",
      "468/468 [==============================] - 0s 40us/sample - loss: 0.4971 - accuracy: 0.7842 - val_loss: 0.6092 - val_accuracy: 0.7521\n",
      "Epoch 22/100\n",
      "468/468 [==============================] - 0s 59us/sample - loss: 0.4831 - accuracy: 0.8098 - val_loss: 0.5391 - val_accuracy: 0.7906\n",
      "Epoch 23/100\n",
      "468/468 [==============================] - 0s 36us/sample - loss: 0.4668 - accuracy: 0.8066 - val_loss: 0.5728 - val_accuracy: 0.7735\n",
      "Epoch 24/100\n",
      "468/468 [==============================] - 0s 44us/sample - loss: 0.4699 - accuracy: 0.8045 - val_loss: 0.5408 - val_accuracy: 0.7906\n",
      "Epoch 25/100\n",
      "468/468 [==============================] - 0s 39us/sample - loss: 0.4598 - accuracy: 0.8120 - val_loss: 0.5909 - val_accuracy: 0.7650\n",
      "Epoch 26/100\n",
      "468/468 [==============================] - 0s 49us/sample - loss: 0.4508 - accuracy: 0.8077 - val_loss: 0.5569 - val_accuracy: 0.7650\n",
      "Epoch 27/100\n",
      "468/468 [==============================] - 0s 39us/sample - loss: 0.4754 - accuracy: 0.7970 - val_loss: 0.5738 - val_accuracy: 0.7735\n",
      "Epoch 28/100\n",
      "468/468 [==============================] - 0s 45us/sample - loss: 0.4516 - accuracy: 0.8141 - val_loss: 0.5504 - val_accuracy: 0.7778\n",
      "Epoch 29/100\n",
      "468/468 [==============================] - 0s 60us/sample - loss: 0.4485 - accuracy: 0.8120 - val_loss: 0.5606 - val_accuracy: 0.7778\n",
      "Epoch 30/100\n",
      "468/468 [==============================] - 0s 52us/sample - loss: 0.4420 - accuracy: 0.8109 - val_loss: 0.5540 - val_accuracy: 0.7692\n",
      "Epoch 31/100\n",
      "468/468 [==============================] - 0s 43us/sample - loss: 0.4411 - accuracy: 0.8141 - val_loss: 0.5509 - val_accuracy: 0.7778\n",
      "Epoch 32/100\n",
      "468/468 [==============================] - 0s 40us/sample - loss: 0.4541 - accuracy: 0.8109 - val_loss: 0.5572 - val_accuracy: 0.7778\n",
      "Epoch 33/100\n",
      "468/468 [==============================] - 0s 54us/sample - loss: 0.4382 - accuracy: 0.8162 - val_loss: 0.5715 - val_accuracy: 0.7650\n",
      "Epoch 34/100\n",
      "468/468 [==============================] - 0s 50us/sample - loss: 0.4431 - accuracy: 0.8173 - val_loss: 0.5487 - val_accuracy: 0.7564\n",
      "Epoch 35/100\n",
      "468/468 [==============================] - 0s 63us/sample - loss: 0.4381 - accuracy: 0.8141 - val_loss: 0.5762 - val_accuracy: 0.7650\n",
      "Epoch 36/100\n",
      "468/468 [==============================] - 0s 43us/sample - loss: 0.4353 - accuracy: 0.8120 - val_loss: 0.5662 - val_accuracy: 0.7692\n",
      "Epoch 37/100\n",
      "468/468 [==============================] - 0s 40us/sample - loss: 0.4309 - accuracy: 0.8130 - val_loss: 0.6011 - val_accuracy: 0.7051\n",
      "Epoch 38/100\n",
      "468/468 [==============================] - 0s 48us/sample - loss: 0.4576 - accuracy: 0.8002 - val_loss: 0.6970 - val_accuracy: 0.7564\n",
      "Epoch 39/100\n",
      "468/468 [==============================] - 0s 40us/sample - loss: 0.4469 - accuracy: 0.8280 - val_loss: 0.5693 - val_accuracy: 0.7308\n",
      "Epoch 40/100\n",
      "468/468 [==============================] - 0s 39us/sample - loss: 0.4461 - accuracy: 0.8098 - val_loss: 0.5668 - val_accuracy: 0.7778\n",
      "Epoch 41/100\n",
      "468/468 [==============================] - 0s 42us/sample - loss: 0.4220 - accuracy: 0.8130 - val_loss: 0.5669 - val_accuracy: 0.7821\n",
      "Epoch 42/100\n",
      "468/468 [==============================] - 0s 40us/sample - loss: 0.4374 - accuracy: 0.8226 - val_loss: 0.5798 - val_accuracy: 0.7222\n",
      "Epoch 43/100\n",
      "468/468 [==============================] - 0s 37us/sample - loss: 0.4470 - accuracy: 0.8024 - val_loss: 0.6047 - val_accuracy: 0.7607\n",
      "Epoch 44/100\n",
      "468/468 [==============================] - 0s 43us/sample - loss: 0.4272 - accuracy: 0.8205 - val_loss: 0.5634 - val_accuracy: 0.7735\n",
      "Epoch 45/100\n",
      "468/468 [==============================] - 0s 40us/sample - loss: 0.4253 - accuracy: 0.8162 - val_loss: 0.5554 - val_accuracy: 0.7821\n",
      "Epoch 46/100\n",
      "468/468 [==============================] - 0s 38us/sample - loss: 0.4167 - accuracy: 0.8237 - val_loss: 0.6286 - val_accuracy: 0.7607\n",
      "Epoch 47/100\n",
      "468/468 [==============================] - 0s 48us/sample - loss: 0.4308 - accuracy: 0.8355 - val_loss: 0.5607 - val_accuracy: 0.7778\n",
      "Epoch 48/100\n",
      "468/468 [==============================] - 0s 46us/sample - loss: 0.4352 - accuracy: 0.8162 - val_loss: 0.5578 - val_accuracy: 0.7521\n",
      "Epoch 49/100\n",
      "468/468 [==============================] - 0s 48us/sample - loss: 0.4224 - accuracy: 0.8130 - val_loss: 0.5681 - val_accuracy: 0.7735\n",
      "Epoch 50/100\n",
      "468/468 [==============================] - 0s 58us/sample - loss: 0.4321 - accuracy: 0.8088 - val_loss: 0.6122 - val_accuracy: 0.7692\n",
      "Epoch 51/100\n",
      "468/468 [==============================] - 0s 48us/sample - loss: 0.4415 - accuracy: 0.8248 - val_loss: 0.5642 - val_accuracy: 0.7607\n",
      "Epoch 52/100\n",
      "468/468 [==============================] - 0s 45us/sample - loss: 0.4249 - accuracy: 0.8194 - val_loss: 0.5556 - val_accuracy: 0.7350\n",
      "Epoch 53/100\n",
      "468/468 [==============================] - 0s 38us/sample - loss: 0.4434 - accuracy: 0.8162 - val_loss: 0.5958 - val_accuracy: 0.7607\n",
      "Epoch 54/100\n",
      "468/468 [==============================] - 0s 38us/sample - loss: 0.4307 - accuracy: 0.8248 - val_loss: 0.6031 - val_accuracy: 0.7393\n",
      "Epoch 55/100\n"
     ]
    },
    {
     "name": "stdout",
     "output_type": "stream",
     "text": [
      "468/468 [==============================] - 0s 38us/sample - loss: 0.4361 - accuracy: 0.8162 - val_loss: 0.5580 - val_accuracy: 0.7735\n",
      "Epoch 56/100\n",
      "468/468 [==============================] - 0s 55us/sample - loss: 0.4116 - accuracy: 0.8259 - val_loss: 0.5662 - val_accuracy: 0.7778\n",
      "Epoch 57/100\n",
      "468/468 [==============================] - 0s 37us/sample - loss: 0.4126 - accuracy: 0.8323 - val_loss: 0.6050 - val_accuracy: 0.7607\n",
      "Epoch 58/100\n",
      "468/468 [==============================] - 0s 37us/sample - loss: 0.4072 - accuracy: 0.8194 - val_loss: 0.5656 - val_accuracy: 0.7564\n",
      "Epoch 59/100\n",
      "468/468 [==============================] - 0s 35us/sample - loss: 0.4001 - accuracy: 0.8269 - val_loss: 0.5656 - val_accuracy: 0.7479\n",
      "Epoch 60/100\n",
      "468/468 [==============================] - 0s 38us/sample - loss: 0.4260 - accuracy: 0.8333 - val_loss: 0.5814 - val_accuracy: 0.7692\n",
      "Epoch 61/100\n",
      "468/468 [==============================] - 0s 38us/sample - loss: 0.4117 - accuracy: 0.8216 - val_loss: 0.7345 - val_accuracy: 0.7350\n",
      "Epoch 62/100\n",
      "468/468 [==============================] - 0s 37us/sample - loss: 0.4620 - accuracy: 0.8152 - val_loss: 0.5580 - val_accuracy: 0.7436\n",
      "Epoch 63/100\n",
      "468/468 [==============================] - 0s 37us/sample - loss: 0.4044 - accuracy: 0.8216 - val_loss: 0.5804 - val_accuracy: 0.7564\n",
      "Epoch 64/100\n",
      "468/468 [==============================] - 0s 36us/sample - loss: 0.4391 - accuracy: 0.8056 - val_loss: 0.6163 - val_accuracy: 0.7521\n",
      "Epoch 65/100\n",
      "468/468 [==============================] - 0s 34us/sample - loss: 0.4115 - accuracy: 0.8194 - val_loss: 0.5885 - val_accuracy: 0.7051\n",
      "Epoch 66/100\n",
      "468/468 [==============================] - 0s 34us/sample - loss: 0.4341 - accuracy: 0.8120 - val_loss: 0.6129 - val_accuracy: 0.7521\n",
      "Epoch 67/100\n",
      "468/468 [==============================] - 0s 37us/sample - loss: 0.4267 - accuracy: 0.8098 - val_loss: 0.5605 - val_accuracy: 0.7778\n",
      "Epoch 68/100\n",
      "468/468 [==============================] - 0s 41us/sample - loss: 0.4177 - accuracy: 0.8226 - val_loss: 0.5951 - val_accuracy: 0.7692\n",
      "Epoch 69/100\n",
      "468/468 [==============================] - 0s 36us/sample - loss: 0.4016 - accuracy: 0.8226 - val_loss: 0.5808 - val_accuracy: 0.7350\n",
      "Epoch 70/100\n",
      "468/468 [==============================] - 0s 37us/sample - loss: 0.4008 - accuracy: 0.8291 - val_loss: 0.7239 - val_accuracy: 0.7308\n",
      "Epoch 71/100\n",
      "468/468 [==============================] - 0s 38us/sample - loss: 0.4172 - accuracy: 0.8291 - val_loss: 0.6126 - val_accuracy: 0.6966\n",
      "Epoch 72/100\n",
      "468/468 [==============================] - 0s 36us/sample - loss: 0.4013 - accuracy: 0.8237 - val_loss: 0.5884 - val_accuracy: 0.7521\n",
      "Epoch 73/100\n",
      "468/468 [==============================] - 0s 52us/sample - loss: 0.3892 - accuracy: 0.8365 - val_loss: 0.5968 - val_accuracy: 0.7479\n",
      "Epoch 74/100\n",
      "468/468 [==============================] - 0s 43us/sample - loss: 0.3834 - accuracy: 0.8365 - val_loss: 0.6106 - val_accuracy: 0.7350\n",
      "Epoch 75/100\n",
      "468/468 [==============================] - 0s 37us/sample - loss: 0.3869 - accuracy: 0.8333 - val_loss: 0.6359 - val_accuracy: 0.7222\n",
      "Epoch 76/100\n",
      "468/468 [==============================] - 0s 52us/sample - loss: 0.4019 - accuracy: 0.8365 - val_loss: 0.6094 - val_accuracy: 0.6838\n",
      "Epoch 77/100\n",
      "468/468 [==============================] - 0s 50us/sample - loss: 0.3951 - accuracy: 0.8248 - val_loss: 0.5973 - val_accuracy: 0.7350\n",
      "Epoch 78/100\n",
      "468/468 [==============================] - 0s 34us/sample - loss: 0.3813 - accuracy: 0.8419 - val_loss: 0.6060 - val_accuracy: 0.7436\n",
      "Epoch 79/100\n",
      "468/468 [==============================] - 0s 32us/sample - loss: 0.3810 - accuracy: 0.8429 - val_loss: 0.6048 - val_accuracy: 0.7436\n",
      "Epoch 80/100\n",
      "468/468 [==============================] - 0s 31us/sample - loss: 0.3860 - accuracy: 0.8312 - val_loss: 0.5926 - val_accuracy: 0.7436\n",
      "Epoch 81/100\n",
      "468/468 [==============================] - 0s 34us/sample - loss: 0.3938 - accuracy: 0.8387 - val_loss: 0.5946 - val_accuracy: 0.7436\n",
      "Epoch 82/100\n",
      "468/468 [==============================] - 0s 32us/sample - loss: 0.4154 - accuracy: 0.8259 - val_loss: 0.7114 - val_accuracy: 0.7479\n",
      "Epoch 83/100\n",
      "468/468 [==============================] - 0s 36us/sample - loss: 0.4220 - accuracy: 0.8130 - val_loss: 0.5942 - val_accuracy: 0.7479\n",
      "Epoch 84/100\n",
      "468/468 [==============================] - 0s 38us/sample - loss: 0.4096 - accuracy: 0.8162 - val_loss: 0.5688 - val_accuracy: 0.7350\n",
      "Epoch 85/100\n",
      "468/468 [==============================] - 0s 32us/sample - loss: 0.3873 - accuracy: 0.8259 - val_loss: 0.5973 - val_accuracy: 0.7179\n",
      "Epoch 86/100\n",
      "468/468 [==============================] - 0s 32us/sample - loss: 0.3749 - accuracy: 0.8440 - val_loss: 0.6952 - val_accuracy: 0.7393\n",
      "Epoch 87/100\n",
      "468/468 [==============================] - 0s 32us/sample - loss: 0.3939 - accuracy: 0.8248 - val_loss: 0.6028 - val_accuracy: 0.7436\n",
      "Epoch 88/100\n",
      "468/468 [==============================] - 0s 47us/sample - loss: 0.3727 - accuracy: 0.8483 - val_loss: 0.6253 - val_accuracy: 0.7350\n",
      "Epoch 89/100\n",
      "468/468 [==============================] - 0s 35us/sample - loss: 0.4180 - accuracy: 0.8098 - val_loss: 0.7302 - val_accuracy: 0.7436\n",
      "Epoch 90/100\n",
      "468/468 [==============================] - 0s 35us/sample - loss: 0.4141 - accuracy: 0.8141 - val_loss: 0.5901 - val_accuracy: 0.7607\n",
      "Epoch 91/100\n",
      "468/468 [==============================] - 0s 32us/sample - loss: 0.3958 - accuracy: 0.8184 - val_loss: 0.6132 - val_accuracy: 0.7350\n",
      "Epoch 92/100\n",
      "468/468 [==============================] - 0s 31us/sample - loss: 0.3844 - accuracy: 0.8344 - val_loss: 0.6035 - val_accuracy: 0.7393\n",
      "Epoch 93/100\n",
      "468/468 [==============================] - 0s 29us/sample - loss: 0.3776 - accuracy: 0.8451 - val_loss: 0.6208 - val_accuracy: 0.7350\n",
      "Epoch 94/100\n",
      "468/468 [==============================] - 0s 31us/sample - loss: 0.3818 - accuracy: 0.8376 - val_loss: 0.6539 - val_accuracy: 0.7350\n",
      "Epoch 95/100\n",
      "468/468 [==============================] - 0s 29us/sample - loss: 0.3659 - accuracy: 0.8440 - val_loss: 0.6407 - val_accuracy: 0.7436\n",
      "Epoch 96/100\n",
      "468/468 [==============================] - 0s 31us/sample - loss: 0.3687 - accuracy: 0.8344 - val_loss: 0.6720 - val_accuracy: 0.7607\n",
      "Epoch 97/100\n",
      "468/468 [==============================] - 0s 33us/sample - loss: 0.3643 - accuracy: 0.8472 - val_loss: 0.6210 - val_accuracy: 0.7222\n",
      "Epoch 98/100\n",
      "468/468 [==============================] - 0s 33us/sample - loss: 0.3672 - accuracy: 0.8494 - val_loss: 0.6593 - val_accuracy: 0.7094\n",
      "Epoch 99/100\n",
      "468/468 [==============================] - 0s 30us/sample - loss: 0.3600 - accuracy: 0.8419 - val_loss: 0.6506 - val_accuracy: 0.6838\n",
      "Epoch 100/100\n",
      "468/468 [==============================] - 0s 33us/sample - loss: 0.3613 - accuracy: 0.8397 - val_loss: 0.6868 - val_accuracy: 0.7521\n"
     ]
    },
    {
     "data": {
      "text/plain": [
       "<tensorflow.python.keras.callbacks.History at 0x7f7404678f90>"
      ]
     },
     "execution_count": 124,
     "metadata": {},
     "output_type": "execute_result"
    }
   ],
   "source": [
    "model.fit(x=X_train, y=y_train_CNN, validation_data=(X_test, y_test_CNN), epochs=100, batch_size=64)"
   ]
  },
  {
   "cell_type": "code",
   "execution_count": 125,
   "metadata": {},
   "outputs": [],
   "source": [
    "x = np.concatenate((apple_sounds, clinic_sounds))"
   ]
  },
  {
   "cell_type": "code",
   "execution_count": 127,
   "metadata": {},
   "outputs": [],
   "source": [
    "yy = np.array(y)"
   ]
  },
  {
   "cell_type": "code",
   "execution_count": 128,
   "metadata": {},
   "outputs": [
    {
     "data": {
      "text/plain": [
       "(585,)"
      ]
     },
     "execution_count": 128,
     "metadata": {},
     "output_type": "execute_result"
    }
   ],
   "source": [
    "yy.shape"
   ]
  },
  {
   "cell_type": "code",
   "execution_count": 129,
   "metadata": {},
   "outputs": [],
   "source": [
    "from sklearn.preprocessing import LabelEncoder,OneHotEncoder"
   ]
  },
  {
   "cell_type": "code",
   "execution_count": 130,
   "metadata": {},
   "outputs": [],
   "source": [
    "categorical_values = LabelEncoder().fit_transform(yy)"
   ]
  },
  {
   "cell_type": "code",
   "execution_count": 133,
   "metadata": {},
   "outputs": [],
   "source": [
    "x_train, x_test, y_train, y_test = train_test_split(x[:585], categorical_values, test_size = 0.1, random_state = 42, stratify = y)"
   ]
  },
  {
   "cell_type": "code",
   "execution_count": 134,
   "metadata": {},
   "outputs": [],
   "source": [
    "from tensorflow.keras.models import Sequential\n",
    "from tensorflow.keras.layers import Dense, Dropout, Activation, Flatten\n",
    "from tensorflow.keras.layers import Convolution2D, Conv2D, MaxPooling2D, GlobalAveragePooling2D\n",
    "from tensorflow.keras.optimizers import Adam\n",
    "from sklearn import metrics "
   ]
  },
  {
   "cell_type": "code",
   "execution_count": 135,
   "metadata": {},
   "outputs": [
    {
     "data": {
      "text/plain": [
       "(526, 40, 173)"
      ]
     },
     "execution_count": 135,
     "metadata": {},
     "output_type": "execute_result"
    }
   ],
   "source": [
    "x_train.shape"
   ]
  },
  {
   "cell_type": "code",
   "execution_count": 136,
   "metadata": {},
   "outputs": [],
   "source": [
    "x_train = x_train.reshape(x_train.shape[0], x_train.shape[1], x_train.shape[2], 1)\n",
    "x_test = x_test.reshape(x_test.shape[0], x_test.shape[1], x_test.shape[2], 1)"
   ]
  },
  {
   "cell_type": "code",
   "execution_count": 137,
   "metadata": {},
   "outputs": [],
   "source": [
    "y_train_cat = to_categorical(y_train, num_classes=5)\n",
    "y_test_cat = to_categorical(y_test, num_classes=5)"
   ]
  },
  {
   "cell_type": "code",
   "execution_count": 138,
   "metadata": {},
   "outputs": [
    {
     "data": {
      "text/plain": [
       "(526, 40, 173, 1)"
      ]
     },
     "execution_count": 138,
     "metadata": {},
     "output_type": "execute_result"
    }
   ],
   "source": [
    "x_train.shape"
   ]
  },
  {
   "cell_type": "code",
   "execution_count": 139,
   "metadata": {
    "scrolled": true
   },
   "outputs": [],
   "source": [
    "\n",
    "model = Sequential()\n",
    "model.add(Conv2D(filters=16, kernel_size=2, input_shape=(x_train.shape[1],x_train.shape[2],x_train.shape[3]), \n",
    "                 activation='relu'))\n",
    "model.add(MaxPooling2D(pool_size=2))\n",
    "model.add(Dropout(0.2))\n",
    "\n",
    "model.add(Conv2D(filters=32, kernel_size=2, activation='relu'))\n",
    "model.add(MaxPooling2D(pool_size=2))\n",
    "model.add(Dropout(0.2))\n",
    "\n",
    "model.add(Conv2D(filters=64, kernel_size=2, activation='relu'))\n",
    "model.add(MaxPooling2D(pool_size=2))\n",
    "model.add(Dropout(0.2))\n",
    "\n",
    "model.add(Conv2D(filters=128, kernel_size=2, activation='relu'))\n",
    "model.add(MaxPooling2D(pool_size=2))\n",
    "model.add(Dropout(0.2))\n",
    "model.add(GlobalAveragePooling2D())\n",
    "\n",
    "model.add(Dense(5, activation='softmax'))"
   ]
  },
  {
   "cell_type": "code",
   "execution_count": 140,
   "metadata": {},
   "outputs": [],
   "source": [
    "model.compile(optimizer='adam', loss='categorical_crossentropy', metrics=['accuracy'])"
   ]
  },
  {
   "cell_type": "code",
   "execution_count": 141,
   "metadata": {
    "scrolled": true
   },
   "outputs": [
    {
     "name": "stdout",
     "output_type": "stream",
     "text": [
      "Train on 526 samples, validate on 59 samples\n",
      "Epoch 1/200\n",
      "526/526 [==============================] - 3s 6ms/sample - loss: 8.0891 - accuracy: 0.3916 - val_loss: 3.1532 - val_accuracy: 0.4915\n",
      "Epoch 2/200\n",
      "526/526 [==============================] - 1s 2ms/sample - loss: 8.1691 - accuracy: 0.5589 - val_loss: 3.6840 - val_accuracy: 0.0678\n",
      "Epoch 3/200\n",
      "526/526 [==============================] - 1s 2ms/sample - loss: 6.7697 - accuracy: 0.3270 - val_loss: 2.4555 - val_accuracy: 0.2712\n",
      "Epoch 4/200\n",
      "526/526 [==============================] - 1s 2ms/sample - loss: 4.5311 - accuracy: 0.4411 - val_loss: 1.9362 - val_accuracy: 0.2881\n",
      "Epoch 5/200\n",
      "526/526 [==============================] - 1s 2ms/sample - loss: 3.1802 - accuracy: 0.5228 - val_loss: 1.4218 - val_accuracy: 0.5932\n",
      "Epoch 6/200\n",
      "526/526 [==============================] - 1s 2ms/sample - loss: 2.5274 - accuracy: 0.5475 - val_loss: 1.4920 - val_accuracy: 0.5593\n",
      "Epoch 7/200\n",
      "526/526 [==============================] - 1s 1ms/sample - loss: 2.3649 - accuracy: 0.4867 - val_loss: 1.8096 - val_accuracy: 0.3051\n",
      "Epoch 8/200\n",
      "526/526 [==============================] - 1s 2ms/sample - loss: 2.8363 - accuracy: 0.4354 - val_loss: 1.1385 - val_accuracy: 0.4746\n",
      "Epoch 9/200\n",
      "526/526 [==============================] - 1s 1ms/sample - loss: 2.2892 - accuracy: 0.5304 - val_loss: 1.0356 - val_accuracy: 0.5254\n",
      "Epoch 10/200\n",
      "526/526 [==============================] - 1s 1ms/sample - loss: 2.0306 - accuracy: 0.5304 - val_loss: 1.0918 - val_accuracy: 0.4915\n",
      "Epoch 11/200\n",
      "526/526 [==============================] - 1s 2ms/sample - loss: 1.7949 - accuracy: 0.5285 - val_loss: 1.2074 - val_accuracy: 0.4407\n",
      "Epoch 12/200\n",
      "526/526 [==============================] - 1s 2ms/sample - loss: 1.8513 - accuracy: 0.5494 - val_loss: 1.3171 - val_accuracy: 0.4407\n",
      "Epoch 13/200\n",
      "526/526 [==============================] - 1s 2ms/sample - loss: 1.8648 - accuracy: 0.4981 - val_loss: 1.2251 - val_accuracy: 0.4576\n",
      "Epoch 14/200\n",
      "526/526 [==============================] - 1s 2ms/sample - loss: 1.4354 - accuracy: 0.5399 - val_loss: 1.0761 - val_accuracy: 0.4915\n",
      "Epoch 15/200\n",
      "526/526 [==============================] - 1s 2ms/sample - loss: 1.4094 - accuracy: 0.5970 - val_loss: 1.0265 - val_accuracy: 0.5593\n",
      "Epoch 16/200\n",
      "526/526 [==============================] - 1s 2ms/sample - loss: 1.3800 - accuracy: 0.5779 - val_loss: 1.0633 - val_accuracy: 0.5085\n",
      "Epoch 17/200\n",
      "526/526 [==============================] - 1s 1ms/sample - loss: 1.2895 - accuracy: 0.5703 - val_loss: 1.0587 - val_accuracy: 0.5254\n",
      "Epoch 18/200\n",
      "526/526 [==============================] - 1s 2ms/sample - loss: 1.2432 - accuracy: 0.5837 - val_loss: 1.0870 - val_accuracy: 0.4915\n",
      "Epoch 19/200\n",
      "526/526 [==============================] - 1s 1ms/sample - loss: 1.2536 - accuracy: 0.5646 - val_loss: 1.0779 - val_accuracy: 0.5085\n",
      "Epoch 20/200\n",
      "526/526 [==============================] - 1s 1ms/sample - loss: 1.1488 - accuracy: 0.6065 - val_loss: 1.0054 - val_accuracy: 0.5763\n",
      "Epoch 21/200\n",
      "526/526 [==============================] - 1s 1ms/sample - loss: 1.2756 - accuracy: 0.6103 - val_loss: 0.9864 - val_accuracy: 0.5932\n",
      "Epoch 22/200\n",
      "526/526 [==============================] - 1s 2ms/sample - loss: 1.1734 - accuracy: 0.5894 - val_loss: 1.0638 - val_accuracy: 0.5085\n",
      "Epoch 23/200\n",
      "526/526 [==============================] - 1s 1ms/sample - loss: 1.2210 - accuracy: 0.4601 - val_loss: 1.0303 - val_accuracy: 0.5424\n",
      "Epoch 24/200\n",
      "526/526 [==============================] - 1s 2ms/sample - loss: 1.1649 - accuracy: 0.5570 - val_loss: 1.0042 - val_accuracy: 0.5932\n",
      "Epoch 25/200\n",
      "526/526 [==============================] - 1s 2ms/sample - loss: 1.1846 - accuracy: 0.6103 - val_loss: 1.0448 - val_accuracy: 0.5932\n",
      "Epoch 26/200\n",
      "526/526 [==============================] - 1s 2ms/sample - loss: 1.1653 - accuracy: 0.6179 - val_loss: 1.0735 - val_accuracy: 0.6102\n",
      "Epoch 27/200\n",
      "526/526 [==============================] - 1s 2ms/sample - loss: 1.1697 - accuracy: 0.5970 - val_loss: 0.9966 - val_accuracy: 0.5932\n",
      "Epoch 28/200\n",
      "526/526 [==============================] - 1s 2ms/sample - loss: 1.0276 - accuracy: 0.6274 - val_loss: 0.9370 - val_accuracy: 0.6271\n",
      "Epoch 29/200\n",
      "526/526 [==============================] - 1s 2ms/sample - loss: 1.1397 - accuracy: 0.5817 - val_loss: 0.9169 - val_accuracy: 0.6271\n",
      "Epoch 30/200\n",
      "526/526 [==============================] - 1s 2ms/sample - loss: 1.1345 - accuracy: 0.5894 - val_loss: 0.9270 - val_accuracy: 0.6102\n",
      "Epoch 31/200\n",
      "526/526 [==============================] - 1s 2ms/sample - loss: 1.1523 - accuracy: 0.6046 - val_loss: 0.9831 - val_accuracy: 0.6271\n",
      "Epoch 32/200\n",
      "526/526 [==============================] - 1s 2ms/sample - loss: 1.0341 - accuracy: 0.6027 - val_loss: 1.0109 - val_accuracy: 0.6271\n",
      "Epoch 33/200\n",
      "526/526 [==============================] - 1s 2ms/sample - loss: 1.0631 - accuracy: 0.5646 - val_loss: 1.0050 - val_accuracy: 0.6441\n",
      "Epoch 34/200\n",
      "526/526 [==============================] - 1s 2ms/sample - loss: 1.0634 - accuracy: 0.5894 - val_loss: 0.9717 - val_accuracy: 0.6102\n",
      "Epoch 35/200\n",
      "526/526 [==============================] - 1s 1ms/sample - loss: 1.0175 - accuracy: 0.5932 - val_loss: 0.9778 - val_accuracy: 0.5932\n",
      "Epoch 36/200\n",
      "526/526 [==============================] - 1s 2ms/sample - loss: 1.0634 - accuracy: 0.5722 - val_loss: 0.9998 - val_accuracy: 0.5932\n",
      "Epoch 37/200\n",
      "526/526 [==============================] - 1s 1ms/sample - loss: 1.0034 - accuracy: 0.5817 - val_loss: 0.9861 - val_accuracy: 0.6102\n",
      "Epoch 38/200\n",
      "526/526 [==============================] - 1s 1ms/sample - loss: 1.0059 - accuracy: 0.5894 - val_loss: 0.9794 - val_accuracy: 0.6102\n",
      "Epoch 39/200\n",
      "526/526 [==============================] - 1s 2ms/sample - loss: 1.0147 - accuracy: 0.5932 - val_loss: 0.9539 - val_accuracy: 0.6271\n",
      "Epoch 40/200\n",
      "526/526 [==============================] - 1s 2ms/sample - loss: 1.0542 - accuracy: 0.5951 - val_loss: 0.9567 - val_accuracy: 0.6441\n",
      "Epoch 41/200\n",
      "526/526 [==============================] - 1s 2ms/sample - loss: 1.0814 - accuracy: 0.5437 - val_loss: 0.9508 - val_accuracy: 0.6441\n",
      "Epoch 42/200\n",
      "526/526 [==============================] - 1s 2ms/sample - loss: 1.0322 - accuracy: 0.5589 - val_loss: 0.9217 - val_accuracy: 0.6271\n",
      "Epoch 43/200\n",
      "526/526 [==============================] - 1s 2ms/sample - loss: 0.9711 - accuracy: 0.6236 - val_loss: 0.9302 - val_accuracy: 0.6102\n",
      "Epoch 44/200\n",
      "526/526 [==============================] - 1s 2ms/sample - loss: 1.0307 - accuracy: 0.6027 - val_loss: 0.9485 - val_accuracy: 0.6102\n",
      "Epoch 45/200\n",
      "526/526 [==============================] - 1s 2ms/sample - loss: 1.0319 - accuracy: 0.6179 - val_loss: 0.9762 - val_accuracy: 0.6102\n",
      "Epoch 46/200\n",
      "526/526 [==============================] - 1s 2ms/sample - loss: 0.9719 - accuracy: 0.6027 - val_loss: 0.9907 - val_accuracy: 0.6271\n",
      "Epoch 47/200\n",
      "526/526 [==============================] - 1s 2ms/sample - loss: 0.9869 - accuracy: 0.5798 - val_loss: 0.9773 - val_accuracy: 0.6102\n",
      "Epoch 48/200\n",
      "526/526 [==============================] - 1s 2ms/sample - loss: 0.9505 - accuracy: 0.6350 - val_loss: 1.0063 - val_accuracy: 0.6102\n",
      "Epoch 49/200\n",
      "526/526 [==============================] - 1s 2ms/sample - loss: 0.9062 - accuracy: 0.5989 - val_loss: 1.0517 - val_accuracy: 0.5932\n",
      "Epoch 50/200\n",
      "526/526 [==============================] - 1s 2ms/sample - loss: 0.9623 - accuracy: 0.5970 - val_loss: 1.0294 - val_accuracy: 0.5763\n",
      "Epoch 51/200\n",
      "526/526 [==============================] - 1s 2ms/sample - loss: 0.9027 - accuracy: 0.6255 - val_loss: 1.0039 - val_accuracy: 0.5763\n",
      "Epoch 52/200\n",
      "526/526 [==============================] - 1s 2ms/sample - loss: 0.9899 - accuracy: 0.5285 - val_loss: 1.0152 - val_accuracy: 0.5593\n",
      "Epoch 53/200\n",
      "526/526 [==============================] - 1s 2ms/sample - loss: 0.9823 - accuracy: 0.5304 - val_loss: 0.9867 - val_accuracy: 0.5593\n",
      "Epoch 54/200\n",
      "526/526 [==============================] - 1s 2ms/sample - loss: 0.9751 - accuracy: 0.6160 - val_loss: 0.9961 - val_accuracy: 0.5593\n",
      "Epoch 55/200\n",
      "526/526 [==============================] - 1s 2ms/sample - loss: 1.0076 - accuracy: 0.6103 - val_loss: 1.0293 - val_accuracy: 0.5593\n",
      "Epoch 56/200\n",
      "526/526 [==============================] - 1s 2ms/sample - loss: 0.9439 - accuracy: 0.6084 - val_loss: 1.0326 - val_accuracy: 0.5763\n"
     ]
    },
    {
     "name": "stdout",
     "output_type": "stream",
     "text": [
      "Epoch 57/200\n",
      "526/526 [==============================] - 1s 2ms/sample - loss: 0.9144 - accuracy: 0.6198 - val_loss: 1.0052 - val_accuracy: 0.5763\n",
      "Epoch 58/200\n",
      "526/526 [==============================] - 1s 2ms/sample - loss: 0.9397 - accuracy: 0.6160 - val_loss: 0.9740 - val_accuracy: 0.5763\n",
      "Epoch 59/200\n",
      "526/526 [==============================] - 1s 1ms/sample - loss: 0.9405 - accuracy: 0.6179 - val_loss: 0.9683 - val_accuracy: 0.5763\n",
      "Epoch 60/200\n",
      "526/526 [==============================] - 1s 2ms/sample - loss: 0.9483 - accuracy: 0.6198 - val_loss: 0.9908 - val_accuracy: 0.5763\n",
      "Epoch 61/200\n",
      "526/526 [==============================] - 1s 1ms/sample - loss: 0.9488 - accuracy: 0.6255 - val_loss: 1.0356 - val_accuracy: 0.6102\n",
      "Epoch 62/200\n",
      "526/526 [==============================] - 1s 1ms/sample - loss: 0.9839 - accuracy: 0.6141 - val_loss: 1.0672 - val_accuracy: 0.5932\n",
      "Epoch 63/200\n",
      "526/526 [==============================] - 1s 2ms/sample - loss: 0.9921 - accuracy: 0.5894 - val_loss: 1.0205 - val_accuracy: 0.5932\n",
      "Epoch 64/200\n",
      "526/526 [==============================] - 1s 2ms/sample - loss: 0.9523 - accuracy: 0.6141 - val_loss: 0.9480 - val_accuracy: 0.6102\n",
      "Epoch 65/200\n",
      "526/526 [==============================] - 1s 2ms/sample - loss: 0.9348 - accuracy: 0.6122 - val_loss: 0.9166 - val_accuracy: 0.6102\n",
      "Epoch 66/200\n",
      "526/526 [==============================] - 1s 2ms/sample - loss: 0.9933 - accuracy: 0.6274 - val_loss: 0.9421 - val_accuracy: 0.6102\n",
      "Epoch 67/200\n",
      "526/526 [==============================] - 1s 2ms/sample - loss: 0.9795 - accuracy: 0.6084 - val_loss: 1.0044 - val_accuracy: 0.5932\n",
      "Epoch 68/200\n",
      "526/526 [==============================] - 1s 1ms/sample - loss: 0.9278 - accuracy: 0.6160 - val_loss: 1.0730 - val_accuracy: 0.5932\n",
      "Epoch 69/200\n",
      "526/526 [==============================] - 1s 2ms/sample - loss: 0.9373 - accuracy: 0.6065 - val_loss: 1.1082 - val_accuracy: 0.5763\n",
      "Epoch 70/200\n",
      "526/526 [==============================] - 1s 2ms/sample - loss: 0.9426 - accuracy: 0.6179 - val_loss: 1.1154 - val_accuracy: 0.5593\n",
      "Epoch 71/200\n",
      "526/526 [==============================] - 1s 1ms/sample - loss: 0.9208 - accuracy: 0.6160 - val_loss: 1.0953 - val_accuracy: 0.5763\n",
      "Epoch 72/200\n",
      "526/526 [==============================] - 1s 2ms/sample - loss: 0.9351 - accuracy: 0.6008 - val_loss: 1.0368 - val_accuracy: 0.5593\n",
      "Epoch 73/200\n",
      "526/526 [==============================] - 1s 1ms/sample - loss: 0.9245 - accuracy: 0.5989 - val_loss: 0.9840 - val_accuracy: 0.5593\n",
      "Epoch 74/200\n",
      "526/526 [==============================] - 1s 1ms/sample - loss: 0.9385 - accuracy: 0.6084 - val_loss: 0.9793 - val_accuracy: 0.5763\n",
      "Epoch 75/200\n",
      "526/526 [==============================] - 1s 2ms/sample - loss: 0.9740 - accuracy: 0.6141 - val_loss: 1.0404 - val_accuracy: 0.5932\n",
      "Epoch 76/200\n",
      "526/526 [==============================] - 1s 1ms/sample - loss: 0.9141 - accuracy: 0.6198 - val_loss: 1.1071 - val_accuracy: 0.5932\n",
      "Epoch 77/200\n",
      "526/526 [==============================] - 1s 1ms/sample - loss: 0.9558 - accuracy: 0.5837 - val_loss: 1.1092 - val_accuracy: 0.5932\n",
      "Epoch 78/200\n",
      "526/526 [==============================] - 1s 2ms/sample - loss: 0.9636 - accuracy: 0.5760 - val_loss: 1.0588 - val_accuracy: 0.5763\n",
      "Epoch 79/200\n",
      "526/526 [==============================] - 1s 2ms/sample - loss: 0.9160 - accuracy: 0.6179 - val_loss: 1.0137 - val_accuracy: 0.5763\n",
      "Epoch 80/200\n",
      "526/526 [==============================] - 1s 2ms/sample - loss: 0.9558 - accuracy: 0.6274 - val_loss: 1.0132 - val_accuracy: 0.5593\n",
      "Epoch 81/200\n",
      "526/526 [==============================] - 1s 1ms/sample - loss: 0.9365 - accuracy: 0.6236 - val_loss: 1.0255 - val_accuracy: 0.5763\n",
      "Epoch 82/200\n",
      "526/526 [==============================] - 1s 1ms/sample - loss: 0.8856 - accuracy: 0.6217 - val_loss: 1.0429 - val_accuracy: 0.5763\n",
      "Epoch 83/200\n",
      "526/526 [==============================] - 1s 1ms/sample - loss: 0.8815 - accuracy: 0.6236 - val_loss: 1.0416 - val_accuracy: 0.5763\n",
      "Epoch 84/200\n",
      "526/526 [==============================] - 1s 1ms/sample - loss: 0.9028 - accuracy: 0.6217 - val_loss: 1.0012 - val_accuracy: 0.5763\n",
      "Epoch 85/200\n",
      "526/526 [==============================] - 1s 2ms/sample - loss: 0.8544 - accuracy: 0.6483 - val_loss: 0.9624 - val_accuracy: 0.5593\n",
      "Epoch 86/200\n",
      "526/526 [==============================] - 1s 1ms/sample - loss: 0.9250 - accuracy: 0.6236 - val_loss: 0.9548 - val_accuracy: 0.5593\n",
      "Epoch 87/200\n",
      "526/526 [==============================] - 1s 2ms/sample - loss: 0.9002 - accuracy: 0.6141 - val_loss: 0.9790 - val_accuracy: 0.5593\n",
      "Epoch 88/200\n",
      "526/526 [==============================] - 1s 2ms/sample - loss: 0.9134 - accuracy: 0.6141 - val_loss: 1.0080 - val_accuracy: 0.5593\n",
      "Epoch 89/200\n",
      "526/526 [==============================] - 1s 2ms/sample - loss: 0.8747 - accuracy: 0.6122 - val_loss: 1.0286 - val_accuracy: 0.5593\n",
      "Epoch 90/200\n",
      "526/526 [==============================] - 1s 2ms/sample - loss: 0.8668 - accuracy: 0.6312 - val_loss: 1.0228 - val_accuracy: 0.5763\n",
      "Epoch 91/200\n",
      "526/526 [==============================] - 1s 2ms/sample - loss: 0.8925 - accuracy: 0.6331 - val_loss: 1.0038 - val_accuracy: 0.5763\n",
      "Epoch 92/200\n",
      "526/526 [==============================] - 1s 2ms/sample - loss: 0.8684 - accuracy: 0.6274 - val_loss: 0.9917 - val_accuracy: 0.5763\n",
      "Epoch 93/200\n",
      "526/526 [==============================] - 1s 2ms/sample - loss: 0.9061 - accuracy: 0.6255 - val_loss: 0.9833 - val_accuracy: 0.5932\n",
      "Epoch 94/200\n",
      "526/526 [==============================] - 1s 2ms/sample - loss: 0.8899 - accuracy: 0.6255 - val_loss: 0.9988 - val_accuracy: 0.6102\n",
      "Epoch 95/200\n",
      "526/526 [==============================] - 1s 2ms/sample - loss: 0.9221 - accuracy: 0.6179 - val_loss: 1.0076 - val_accuracy: 0.6271\n",
      "Epoch 96/200\n",
      "526/526 [==============================] - 1s 2ms/sample - loss: 0.9090 - accuracy: 0.6236 - val_loss: 0.9830 - val_accuracy: 0.5763\n",
      "Epoch 97/200\n",
      "526/526 [==============================] - 1s 2ms/sample - loss: 0.9085 - accuracy: 0.6293 - val_loss: 0.9503 - val_accuracy: 0.6102\n",
      "Epoch 98/200\n",
      "526/526 [==============================] - 1s 2ms/sample - loss: 0.8838 - accuracy: 0.6312 - val_loss: 0.9529 - val_accuracy: 0.6271\n",
      "Epoch 99/200\n",
      "526/526 [==============================] - 1s 2ms/sample - loss: 0.8973 - accuracy: 0.6084 - val_loss: 0.9866 - val_accuracy: 0.6102\n",
      "Epoch 100/200\n",
      "526/526 [==============================] - 1s 2ms/sample - loss: 0.8877 - accuracy: 0.6274 - val_loss: 0.9901 - val_accuracy: 0.6102\n",
      "Epoch 101/200\n",
      "526/526 [==============================] - 1s 2ms/sample - loss: 0.8938 - accuracy: 0.6160 - val_loss: 0.9826 - val_accuracy: 0.6102\n",
      "Epoch 102/200\n",
      "526/526 [==============================] - 1s 2ms/sample - loss: 0.8758 - accuracy: 0.6274 - val_loss: 0.9763 - val_accuracy: 0.5932\n",
      "Epoch 103/200\n",
      "526/526 [==============================] - 1s 1ms/sample - loss: 0.8418 - accuracy: 0.6445 - val_loss: 0.9590 - val_accuracy: 0.5932\n",
      "Epoch 104/200\n",
      "526/526 [==============================] - 1s 2ms/sample - loss: 0.8768 - accuracy: 0.6236 - val_loss: 0.9578 - val_accuracy: 0.5932\n",
      "Epoch 105/200\n",
      "526/526 [==============================] - 1s 1ms/sample - loss: 0.8542 - accuracy: 0.6369 - val_loss: 0.9624 - val_accuracy: 0.5932\n",
      "Epoch 106/200\n",
      "526/526 [==============================] - 1s 1ms/sample - loss: 0.8531 - accuracy: 0.6293 - val_loss: 0.9605 - val_accuracy: 0.5932\n",
      "Epoch 107/200\n",
      "526/526 [==============================] - 1s 1ms/sample - loss: 0.8630 - accuracy: 0.6293 - val_loss: 0.9578 - val_accuracy: 0.5763\n",
      "Epoch 108/200\n",
      "526/526 [==============================] - 1s 1ms/sample - loss: 0.8453 - accuracy: 0.6331 - val_loss: 0.9810 - val_accuracy: 0.5763\n",
      "Epoch 109/200\n",
      "526/526 [==============================] - 1s 1ms/sample - loss: 0.8601 - accuracy: 0.6293 - val_loss: 0.9994 - val_accuracy: 0.5763\n",
      "Epoch 110/200\n",
      "526/526 [==============================] - 1s 1ms/sample - loss: 0.8770 - accuracy: 0.6293 - val_loss: 0.9993 - val_accuracy: 0.5763\n",
      "Epoch 111/200\n",
      "526/526 [==============================] - 1s 1ms/sample - loss: 0.8689 - accuracy: 0.6274 - val_loss: 0.9776 - val_accuracy: 0.5593\n",
      "Epoch 112/200\n",
      "526/526 [==============================] - 1s 1ms/sample - loss: 0.8812 - accuracy: 0.6293 - val_loss: 0.9627 - val_accuracy: 0.5593\n",
      "Epoch 113/200\n"
     ]
    },
    {
     "name": "stdout",
     "output_type": "stream",
     "text": [
      "526/526 [==============================] - 1s 1ms/sample - loss: 0.8646 - accuracy: 0.6274 - val_loss: 0.9496 - val_accuracy: 0.5763\n",
      "Epoch 114/200\n",
      "526/526 [==============================] - 1s 1ms/sample - loss: 0.8585 - accuracy: 0.6331 - val_loss: 0.9352 - val_accuracy: 0.5932\n",
      "Epoch 115/200\n",
      "526/526 [==============================] - 1s 2ms/sample - loss: 0.8636 - accuracy: 0.6407 - val_loss: 0.9206 - val_accuracy: 0.6102\n",
      "Epoch 116/200\n",
      "526/526 [==============================] - 1s 1ms/sample - loss: 0.8518 - accuracy: 0.6388 - val_loss: 0.9239 - val_accuracy: 0.6271\n",
      "Epoch 117/200\n",
      "526/526 [==============================] - 1s 1ms/sample - loss: 0.8633 - accuracy: 0.6350 - val_loss: 0.9478 - val_accuracy: 0.5932\n",
      "Epoch 118/200\n",
      "526/526 [==============================] - 1s 1ms/sample - loss: 0.8409 - accuracy: 0.6426 - val_loss: 0.9665 - val_accuracy: 0.5593\n",
      "Epoch 119/200\n",
      "526/526 [==============================] - 1s 1ms/sample - loss: 0.8379 - accuracy: 0.6578 - val_loss: 0.9579 - val_accuracy: 0.5593\n",
      "Epoch 120/200\n",
      "526/526 [==============================] - 1s 2ms/sample - loss: 0.8623 - accuracy: 0.6217 - val_loss: 0.9358 - val_accuracy: 0.5763\n",
      "Epoch 121/200\n",
      "526/526 [==============================] - 1s 2ms/sample - loss: 0.8790 - accuracy: 0.6445 - val_loss: 0.9407 - val_accuracy: 0.5932\n",
      "Epoch 122/200\n",
      "526/526 [==============================] - 1s 2ms/sample - loss: 0.8622 - accuracy: 0.6331 - val_loss: 0.9568 - val_accuracy: 0.6441\n",
      "Epoch 123/200\n",
      "526/526 [==============================] - 1s 1ms/sample - loss: 0.8655 - accuracy: 0.6255 - val_loss: 0.9533 - val_accuracy: 0.6441\n",
      "Epoch 124/200\n",
      "526/526 [==============================] - 1s 2ms/sample - loss: 0.8429 - accuracy: 0.6312 - val_loss: 0.9499 - val_accuracy: 0.6441\n",
      "Epoch 125/200\n",
      "526/526 [==============================] - 1s 2ms/sample - loss: 0.8599 - accuracy: 0.6388 - val_loss: 0.9489 - val_accuracy: 0.6441\n",
      "Epoch 126/200\n",
      "526/526 [==============================] - 1s 2ms/sample - loss: 0.8620 - accuracy: 0.6312 - val_loss: 0.9542 - val_accuracy: 0.6441\n",
      "Epoch 127/200\n",
      "526/526 [==============================] - 1s 2ms/sample - loss: 0.8708 - accuracy: 0.6312 - val_loss: 0.9544 - val_accuracy: 0.6102\n",
      "Epoch 128/200\n",
      "526/526 [==============================] - 1s 2ms/sample - loss: 0.8448 - accuracy: 0.6578 - val_loss: 0.9654 - val_accuracy: 0.5593\n",
      "Epoch 129/200\n",
      "526/526 [==============================] - 1s 2ms/sample - loss: 0.8434 - accuracy: 0.6312 - val_loss: 0.9760 - val_accuracy: 0.5932\n",
      "Epoch 130/200\n",
      "526/526 [==============================] - 1s 2ms/sample - loss: 0.8695 - accuracy: 0.6217 - val_loss: 0.9748 - val_accuracy: 0.5763\n",
      "Epoch 131/200\n",
      "526/526 [==============================] - 1s 1ms/sample - loss: 0.8720 - accuracy: 0.6255 - val_loss: 0.9624 - val_accuracy: 0.5932\n",
      "Epoch 132/200\n",
      "526/526 [==============================] - 1s 2ms/sample - loss: 0.8265 - accuracy: 0.6274 - val_loss: 0.9566 - val_accuracy: 0.5932\n",
      "Epoch 133/200\n",
      "526/526 [==============================] - 1s 2ms/sample - loss: 0.8425 - accuracy: 0.6464 - val_loss: 0.9745 - val_accuracy: 0.5932\n",
      "Epoch 134/200\n",
      "526/526 [==============================] - 1s 2ms/sample - loss: 0.8558 - accuracy: 0.6331 - val_loss: 1.0169 - val_accuracy: 0.5932\n",
      "Epoch 135/200\n",
      "526/526 [==============================] - 1s 2ms/sample - loss: 0.8432 - accuracy: 0.6350 - val_loss: 1.0463 - val_accuracy: 0.5763\n",
      "Epoch 136/200\n",
      "526/526 [==============================] - 1s 2ms/sample - loss: 0.8768 - accuracy: 0.6255 - val_loss: 1.0125 - val_accuracy: 0.5763\n",
      "Epoch 137/200\n",
      "526/526 [==============================] - 1s 1ms/sample - loss: 0.8379 - accuracy: 0.6540 - val_loss: 0.9691 - val_accuracy: 0.5932\n",
      "Epoch 138/200\n",
      "526/526 [==============================] - 1s 1ms/sample - loss: 0.8495 - accuracy: 0.6312 - val_loss: 0.9517 - val_accuracy: 0.5932\n",
      "Epoch 139/200\n",
      "526/526 [==============================] - 1s 2ms/sample - loss: 0.8641 - accuracy: 0.6331 - val_loss: 0.9605 - val_accuracy: 0.5932\n",
      "Epoch 140/200\n",
      "526/526 [==============================] - 1s 2ms/sample - loss: 0.8471 - accuracy: 0.6350 - val_loss: 0.9840 - val_accuracy: 0.5932\n",
      "Epoch 141/200\n",
      "526/526 [==============================] - 1s 2ms/sample - loss: 0.8327 - accuracy: 0.6388 - val_loss: 0.9979 - val_accuracy: 0.5763\n",
      "Epoch 142/200\n",
      "526/526 [==============================] - 1s 2ms/sample - loss: 0.8360 - accuracy: 0.6369 - val_loss: 0.9977 - val_accuracy: 0.5763\n",
      "Epoch 143/200\n",
      "526/526 [==============================] - 1s 2ms/sample - loss: 0.8417 - accuracy: 0.6369 - val_loss: 0.9727 - val_accuracy: 0.6102\n",
      "Epoch 144/200\n",
      "526/526 [==============================] - 1s 2ms/sample - loss: 0.8302 - accuracy: 0.6312 - val_loss: 0.9412 - val_accuracy: 0.6102\n",
      "Epoch 145/200\n",
      "526/526 [==============================] - 1s 2ms/sample - loss: 0.8488 - accuracy: 0.6502 - val_loss: 0.9274 - val_accuracy: 0.6271\n",
      "Epoch 146/200\n",
      "526/526 [==============================] - 1s 2ms/sample - loss: 0.8619 - accuracy: 0.6274 - val_loss: 0.9500 - val_accuracy: 0.6102\n",
      "Epoch 147/200\n",
      "526/526 [==============================] - 1s 2ms/sample - loss: 0.8391 - accuracy: 0.6236 - val_loss: 0.9696 - val_accuracy: 0.6102\n",
      "Epoch 148/200\n",
      "526/526 [==============================] - 1s 2ms/sample - loss: 0.8473 - accuracy: 0.6331 - val_loss: 0.9768 - val_accuracy: 0.6102\n",
      "Epoch 149/200\n",
      "526/526 [==============================] - 1s 2ms/sample - loss: 0.8469 - accuracy: 0.6217 - val_loss: 0.9663 - val_accuracy: 0.6102\n",
      "Epoch 150/200\n",
      "526/526 [==============================] - 1s 2ms/sample - loss: 0.8323 - accuracy: 0.6274 - val_loss: 0.9553 - val_accuracy: 0.5932\n",
      "Epoch 151/200\n",
      "526/526 [==============================] - 1s 2ms/sample - loss: 0.8358 - accuracy: 0.6445 - val_loss: 0.9614 - val_accuracy: 0.5763\n",
      "Epoch 152/200\n",
      "526/526 [==============================] - 1s 2ms/sample - loss: 0.8566 - accuracy: 0.6312 - val_loss: 0.9796 - val_accuracy: 0.5763\n",
      "Epoch 153/200\n",
      "526/526 [==============================] - 1s 2ms/sample - loss: 0.8480 - accuracy: 0.6369 - val_loss: 0.9832 - val_accuracy: 0.5763\n",
      "Epoch 154/200\n",
      "526/526 [==============================] - 1s 2ms/sample - loss: 0.8346 - accuracy: 0.6407 - val_loss: 0.9733 - val_accuracy: 0.5763\n",
      "Epoch 155/200\n",
      "526/526 [==============================] - 1s 2ms/sample - loss: 0.8310 - accuracy: 0.6217 - val_loss: 0.9709 - val_accuracy: 0.6102\n",
      "Epoch 156/200\n",
      "526/526 [==============================] - 1s 2ms/sample - loss: 0.8438 - accuracy: 0.6312 - val_loss: 0.9619 - val_accuracy: 0.5932\n",
      "Epoch 157/200\n",
      "526/526 [==============================] - 1s 2ms/sample - loss: 0.8299 - accuracy: 0.6388 - val_loss: 0.9516 - val_accuracy: 0.5932\n",
      "Epoch 158/200\n",
      "526/526 [==============================] - 1s 2ms/sample - loss: 0.8296 - accuracy: 0.6540 - val_loss: 0.9400 - val_accuracy: 0.5932\n",
      "Epoch 159/200\n",
      "526/526 [==============================] - 1s 2ms/sample - loss: 0.8511 - accuracy: 0.6464 - val_loss: 0.9456 - val_accuracy: 0.5932\n",
      "Epoch 160/200\n",
      "526/526 [==============================] - 1s 2ms/sample - loss: 0.8256 - accuracy: 0.6540 - val_loss: 0.9625 - val_accuracy: 0.5932\n",
      "Epoch 161/200\n",
      "526/526 [==============================] - 1s 2ms/sample - loss: 0.8274 - accuracy: 0.6350 - val_loss: 0.9699 - val_accuracy: 0.5932\n",
      "Epoch 162/200\n",
      "526/526 [==============================] - 1s 2ms/sample - loss: 0.8338 - accuracy: 0.6388 - val_loss: 0.9751 - val_accuracy: 0.5932\n",
      "Epoch 163/200\n",
      "526/526 [==============================] - 1s 2ms/sample - loss: 0.8607 - accuracy: 0.6274 - val_loss: 0.9697 - val_accuracy: 0.5932\n",
      "Epoch 164/200\n",
      "526/526 [==============================] - 1s 2ms/sample - loss: 0.8349 - accuracy: 0.6407 - val_loss: 0.9576 - val_accuracy: 0.5932\n",
      "Epoch 165/200\n",
      "526/526 [==============================] - 1s 2ms/sample - loss: 0.8300 - accuracy: 0.6369 - val_loss: 0.9339 - val_accuracy: 0.5763\n",
      "Epoch 166/200\n",
      "526/526 [==============================] - 1s 2ms/sample - loss: 0.8422 - accuracy: 0.6369 - val_loss: 0.9213 - val_accuracy: 0.5763\n",
      "Epoch 167/200\n",
      "526/526 [==============================] - 1s 2ms/sample - loss: 0.8297 - accuracy: 0.6331 - val_loss: 0.9213 - val_accuracy: 0.5593\n",
      "Epoch 168/200\n",
      "526/526 [==============================] - 1s 2ms/sample - loss: 0.8668 - accuracy: 0.6369 - val_loss: 0.9277 - val_accuracy: 0.5593\n"
     ]
    },
    {
     "name": "stdout",
     "output_type": "stream",
     "text": [
      "Epoch 169/200\n",
      "526/526 [==============================] - 1s 2ms/sample - loss: 0.8462 - accuracy: 0.6350 - val_loss: 0.9385 - val_accuracy: 0.5593\n",
      "Epoch 170/200\n",
      "526/526 [==============================] - 1s 2ms/sample - loss: 0.8335 - accuracy: 0.6502 - val_loss: 0.9459 - val_accuracy: 0.5593\n",
      "Epoch 171/200\n",
      "526/526 [==============================] - 1s 2ms/sample - loss: 0.8375 - accuracy: 0.6312 - val_loss: 0.9544 - val_accuracy: 0.5593\n",
      "Epoch 172/200\n",
      "526/526 [==============================] - 1s 2ms/sample - loss: 0.8216 - accuracy: 0.6369 - val_loss: 0.9567 - val_accuracy: 0.5763\n",
      "Epoch 173/200\n",
      "526/526 [==============================] - 1s 2ms/sample - loss: 0.8377 - accuracy: 0.6483 - val_loss: 0.9731 - val_accuracy: 0.5763\n",
      "Epoch 174/200\n",
      "526/526 [==============================] - 1s 2ms/sample - loss: 0.8323 - accuracy: 0.6502 - val_loss: 0.9729 - val_accuracy: 0.5932\n",
      "Epoch 175/200\n",
      "526/526 [==============================] - 1s 2ms/sample - loss: 0.8211 - accuracy: 0.6483 - val_loss: 0.9435 - val_accuracy: 0.6102\n",
      "Epoch 176/200\n",
      "526/526 [==============================] - 1s 2ms/sample - loss: 0.8217 - accuracy: 0.6502 - val_loss: 0.9279 - val_accuracy: 0.6102\n",
      "Epoch 177/200\n",
      "526/526 [==============================] - 1s 1ms/sample - loss: 0.8412 - accuracy: 0.6312 - val_loss: 0.9455 - val_accuracy: 0.6102\n",
      "Epoch 178/200\n",
      "526/526 [==============================] - 1s 2ms/sample - loss: 0.8246 - accuracy: 0.6445 - val_loss: 0.9843 - val_accuracy: 0.5932\n",
      "Epoch 179/200\n",
      "526/526 [==============================] - 1s 2ms/sample - loss: 0.8447 - accuracy: 0.6293 - val_loss: 0.9927 - val_accuracy: 0.5763\n",
      "Epoch 180/200\n",
      "526/526 [==============================] - 1s 2ms/sample - loss: 0.8341 - accuracy: 0.6388 - val_loss: 0.9633 - val_accuracy: 0.5763\n",
      "Epoch 181/200\n",
      "526/526 [==============================] - 1s 2ms/sample - loss: 0.8207 - accuracy: 0.6502 - val_loss: 0.9590 - val_accuracy: 0.5932\n",
      "Epoch 182/200\n",
      "526/526 [==============================] - 1s 2ms/sample - loss: 0.8192 - accuracy: 0.6597 - val_loss: 0.9877 - val_accuracy: 0.5593\n",
      "Epoch 183/200\n",
      "526/526 [==============================] - 1s 2ms/sample - loss: 0.8194 - accuracy: 0.6540 - val_loss: 0.9951 - val_accuracy: 0.5424\n",
      "Epoch 184/200\n",
      "526/526 [==============================] - 1s 2ms/sample - loss: 0.8282 - accuracy: 0.6255 - val_loss: 0.9731 - val_accuracy: 0.5932\n",
      "Epoch 185/200\n",
      "526/526 [==============================] - 1s 2ms/sample - loss: 0.8233 - accuracy: 0.6521 - val_loss: 0.9345 - val_accuracy: 0.5763\n",
      "Epoch 186/200\n",
      "526/526 [==============================] - 1s 1ms/sample - loss: 0.8394 - accuracy: 0.6445 - val_loss: 0.9298 - val_accuracy: 0.5763\n",
      "Epoch 187/200\n",
      "526/526 [==============================] - 1s 1ms/sample - loss: 0.8361 - accuracy: 0.6502 - val_loss: 0.9308 - val_accuracy: 0.5763\n",
      "Epoch 188/200\n",
      "526/526 [==============================] - 1s 1ms/sample - loss: 0.8407 - accuracy: 0.6293 - val_loss: 0.9346 - val_accuracy: 0.5763\n",
      "Epoch 189/200\n",
      "526/526 [==============================] - 1s 1ms/sample - loss: 0.8215 - accuracy: 0.6464 - val_loss: 0.9356 - val_accuracy: 0.5763\n",
      "Epoch 190/200\n",
      "526/526 [==============================] - 1s 2ms/sample - loss: 0.8312 - accuracy: 0.6331 - val_loss: 0.9419 - val_accuracy: 0.5763\n",
      "Epoch 191/200\n",
      "526/526 [==============================] - 1s 2ms/sample - loss: 0.8301 - accuracy: 0.6312 - val_loss: 0.9397 - val_accuracy: 0.5763\n",
      "Epoch 192/200\n",
      "526/526 [==============================] - 1s 2ms/sample - loss: 0.8171 - accuracy: 0.6274 - val_loss: 0.9378 - val_accuracy: 0.5932\n",
      "Epoch 193/200\n",
      "526/526 [==============================] - 1s 2ms/sample - loss: 0.8048 - accuracy: 0.6521 - val_loss: 0.9363 - val_accuracy: 0.5932\n",
      "Epoch 194/200\n",
      "526/526 [==============================] - 1s 2ms/sample - loss: 0.8386 - accuracy: 0.6388 - val_loss: 0.9454 - val_accuracy: 0.5932\n",
      "Epoch 195/200\n",
      "526/526 [==============================] - 1s 1ms/sample - loss: 0.8255 - accuracy: 0.6445 - val_loss: 0.9626 - val_accuracy: 0.5932\n",
      "Epoch 196/200\n",
      "526/526 [==============================] - 1s 2ms/sample - loss: 0.8291 - accuracy: 0.6445 - val_loss: 0.9671 - val_accuracy: 0.5932\n",
      "Epoch 197/200\n",
      "526/526 [==============================] - 1s 2ms/sample - loss: 0.8458 - accuracy: 0.6293 - val_loss: 0.9490 - val_accuracy: 0.5763\n",
      "Epoch 198/200\n",
      "526/526 [==============================] - 1s 2ms/sample - loss: 0.8221 - accuracy: 0.6445 - val_loss: 0.9261 - val_accuracy: 0.5763\n",
      "Epoch 199/200\n",
      "526/526 [==============================] - 1s 2ms/sample - loss: 0.8223 - accuracy: 0.6445 - val_loss: 0.9210 - val_accuracy: 0.5763\n",
      "Epoch 200/200\n",
      "526/526 [==============================] - 1s 2ms/sample - loss: 0.8284 - accuracy: 0.6445 - val_loss: 0.9322 - val_accuracy: 0.5763\n"
     ]
    }
   ],
   "source": [
    "history = model.fit(x=x_train, y=y_train_cat, validation_data=(x_test, y_test_cat), epochs=200, batch_size=256)"
   ]
  },
  {
   "cell_type": "code",
   "execution_count": 142,
   "metadata": {
    "scrolled": false
   },
   "outputs": [
    {
     "data": {
      "text/plain": [
       "Text(0.5, 1.0, 'Accuracy Curves')"
      ]
     },
     "execution_count": 142,
     "metadata": {},
     "output_type": "execute_result"
    },
    {
     "data": {
      "image/png": "[encoded data removed]",
      "text/plain": [
       "<Figure size 1008x720 with 1 Axes>"
      ]
     },
     "metadata": {
      "needs_background": "light"
     },
     "output_type": "display_data"
    },
    {
     "data": {
      "image/png": "[encoded data removed]",
      "text/plain": [
       "<Figure size 1008x720 with 1 Axes>"
      ]
     },
     "metadata": {
      "needs_background": "light"
     },
     "output_type": "display_data"
    }
   ],
   "source": [
    "# Loss Curves\n",
    "plt.figure(figsize=[14,10])\n",
    "plt.subplot(211)\n",
    "plt.plot(history.history['loss'],'r',linewidth=3.0)\n",
    "plt.plot(history.history['val_loss'],'b',linewidth=3.0)\n",
    "plt.legend(['Training loss', 'Validation Loss'],fontsize=18)\n",
    "plt.xlabel('Epochs ',fontsize=16)\n",
    "plt.ylabel('Loss',fontsize=16)\n",
    "plt.title('Loss Curves',fontsize=16)\n",
    " \n",
    "# Accuracy Curves\n",
    "plt.figure(figsize=[14,10])\n",
    "plt.subplot(212)\n",
    "plt.plot(history.history['accuracy'],'r',linewidth=3.0)\n",
    "plt.plot(history.history['val_accuracy'],'b',linewidth=3.0)\n",
    "plt.legend(['Training Accuracy', 'Validation Accuracy'],fontsize=18)\n",
    "plt.xlabel('Epochs ',fontsize=16)\n",
    "plt.ylabel('Accuracy',fontsize=16)\n",
    "plt.title('Accuracy Curves',fontsize=16)"
   ]
  },
  {
   "cell_type": "markdown",
   "metadata": {},
   "source": [
    "#### We clearly notice that the model is slightly overfitting with the epochs. Let's try to improve our model a little bit."
   ]
  },
  {
   "cell_type": "code",
   "execution_count": 172,
   "metadata": {},
   "outputs": [],
   "source": [
    "vanak = Sequential()\n",
    "vanak.add(Conv2D(filters=16, kernel_size=2, input_shape=(x_train.shape[1],x_train.shape[2],x_train.shape[3]), \n",
    "                 activation='relu'))\n",
    "vanak.add(MaxPooling2D(pool_size=2))\n",
    "\n",
    "vanak.add(Conv2D(filters=32, kernel_size=2, activation='relu'))\n",
    "vanak.add(MaxPooling2D(pool_size=2))\n",
    "vanak.add(Dropout(0.2))\n",
    "\n",
    "vanak.add(Conv2D(filters=64, kernel_size=2, activation='relu'))\n",
    "vanak.add(MaxPooling2D(pool_size=2))\n",
    "vanak.add(Dropout(0.2))\n",
    "\n",
    "vanak.add(Conv2D(filters=128, kernel_size=2, activation='relu'))\n",
    "vanak.add(MaxPooling2D(pool_size=2))\n",
    "vanak.add(Dropout(0.2))\n",
    "vanak.add(GlobalAveragePooling2D())\n",
    "\n",
    "vanak.add(Dense(5, activation='softmax'))"
   ]
  },
  {
   "cell_type": "code",
   "execution_count": 154,
   "metadata": {},
   "outputs": [],
   "source": [
    "vanak.compile(optimizer='adam', loss='categorical_crossentropy', metrics=['accuracy'])"
   ]
  },
  {
   "cell_type": "code",
   "execution_count": 157,
   "metadata": {
    "scrolled": true
   },
   "outputs": [
    {
     "name": "stdout",
     "output_type": "stream",
     "text": [
      "Train on 526 samples, validate on 59 samples\n",
      "Epoch 1/200\n",
      "526/526 [==============================] - 1s 1ms/sample - loss: 2.5443 - accuracy: 0.3612 - val_loss: 1.3374 - val_accuracy: 0.3559\n",
      "Epoch 2/200\n",
      "526/526 [==============================] - 1s 1ms/sample - loss: 1.9139 - accuracy: 0.5133 - val_loss: 1.1468 - val_accuracy: 0.6271\n",
      "Epoch 3/200\n",
      "526/526 [==============================] - 1s 1ms/sample - loss: 1.8137 - accuracy: 0.5646 - val_loss: 1.0318 - val_accuracy: 0.6271\n",
      "Epoch 4/200\n",
      "526/526 [==============================] - 1s 1ms/sample - loss: 1.5397 - accuracy: 0.5608 - val_loss: 1.1803 - val_accuracy: 0.3559\n",
      "Epoch 5/200\n",
      "526/526 [==============================] - 1s 1ms/sample - loss: 1.4988 - accuracy: 0.4962 - val_loss: 0.9412 - val_accuracy: 0.6102\n",
      "Epoch 6/200\n",
      "526/526 [==============================] - 1s 1ms/sample - loss: 1.3924 - accuracy: 0.5304 - val_loss: 0.9900 - val_accuracy: 0.6102\n",
      "Epoch 7/200\n",
      "526/526 [==============================] - 1s 2ms/sample - loss: 1.5501 - accuracy: 0.5856 - val_loss: 1.0253 - val_accuracy: 0.5932\n",
      "Epoch 8/200\n",
      "526/526 [==============================] - 1s 2ms/sample - loss: 1.4023 - accuracy: 0.5399 - val_loss: 1.1613 - val_accuracy: 0.4237\n",
      "Epoch 9/200\n",
      "526/526 [==============================] - 1s 2ms/sample - loss: 1.2494 - accuracy: 0.4867 - val_loss: 1.0560 - val_accuracy: 0.4576\n",
      "Epoch 10/200\n",
      "526/526 [==============================] - 1s 2ms/sample - loss: 1.2465 - accuracy: 0.5437 - val_loss: 0.9684 - val_accuracy: 0.6441\n",
      "Epoch 11/200\n",
      "526/526 [==============================] - 1s 2ms/sample - loss: 1.2366 - accuracy: 0.5798 - val_loss: 1.0230 - val_accuracy: 0.5763\n",
      "Epoch 12/200\n",
      "526/526 [==============================] - 1s 2ms/sample - loss: 1.1564 - accuracy: 0.5399 - val_loss: 1.1643 - val_accuracy: 0.4237\n",
      "Epoch 13/200\n",
      "526/526 [==============================] - 1s 2ms/sample - loss: 1.1854 - accuracy: 0.5114 - val_loss: 1.1092 - val_accuracy: 0.4915\n",
      "Epoch 14/200\n",
      "526/526 [==============================] - 1s 1ms/sample - loss: 1.0991 - accuracy: 0.5608 - val_loss: 0.9799 - val_accuracy: 0.6271\n",
      "Epoch 15/200\n",
      "526/526 [==============================] - 1s 2ms/sample - loss: 1.1157 - accuracy: 0.5856 - val_loss: 1.0752 - val_accuracy: 0.5085\n",
      "Epoch 16/200\n",
      "526/526 [==============================] - 1s 2ms/sample - loss: 1.0874 - accuracy: 0.5608 - val_loss: 1.2155 - val_accuracy: 0.3051\n",
      "Epoch 17/200\n",
      "526/526 [==============================] - 1s 2ms/sample - loss: 1.0190 - accuracy: 0.5532 - val_loss: 1.1943 - val_accuracy: 0.3390\n",
      "Epoch 18/200\n",
      "526/526 [==============================] - 1s 1ms/sample - loss: 1.0900 - accuracy: 0.5247 - val_loss: 1.0909 - val_accuracy: 0.4915\n",
      "Epoch 19/200\n",
      "526/526 [==============================] - 1s 1ms/sample - loss: 1.1310 - accuracy: 0.5779 - val_loss: 1.0962 - val_accuracy: 0.5424\n",
      "Epoch 20/200\n",
      "526/526 [==============================] - 1s 1ms/sample - loss: 1.0306 - accuracy: 0.6160 - val_loss: 1.1706 - val_accuracy: 0.3220\n",
      "Epoch 21/200\n",
      "526/526 [==============================] - 1s 1ms/sample - loss: 1.0421 - accuracy: 0.5399 - val_loss: 1.1078 - val_accuracy: 0.3390\n",
      "Epoch 22/200\n",
      "526/526 [==============================] - 1s 1ms/sample - loss: 1.0132 - accuracy: 0.5722 - val_loss: 0.9929 - val_accuracy: 0.4746\n",
      "Epoch 23/200\n",
      "526/526 [==============================] - 1s 1ms/sample - loss: 1.0014 - accuracy: 0.6065 - val_loss: 0.9806 - val_accuracy: 0.5085\n",
      "Epoch 24/200\n",
      "526/526 [==============================] - 1s 1ms/sample - loss: 0.9792 - accuracy: 0.5894 - val_loss: 1.1220 - val_accuracy: 0.3559\n",
      "Epoch 25/200\n",
      "526/526 [==============================] - 1s 1ms/sample - loss: 1.0236 - accuracy: 0.5475 - val_loss: 1.1316 - val_accuracy: 0.3390\n",
      "Epoch 26/200\n",
      "526/526 [==============================] - 1s 1ms/sample - loss: 1.0073 - accuracy: 0.5437 - val_loss: 1.0038 - val_accuracy: 0.4407\n",
      "Epoch 27/200\n",
      "526/526 [==============================] - 1s 1ms/sample - loss: 1.0210 - accuracy: 0.6046 - val_loss: 0.9754 - val_accuracy: 0.5254\n",
      "Epoch 28/200\n",
      "526/526 [==============================] - 1s 1ms/sample - loss: 1.0108 - accuracy: 0.5875 - val_loss: 1.0015 - val_accuracy: 0.5254\n",
      "Epoch 29/200\n",
      "526/526 [==============================] - 1s 1ms/sample - loss: 1.0002 - accuracy: 0.5951 - val_loss: 1.0645 - val_accuracy: 0.3898\n",
      "Epoch 30/200\n",
      "526/526 [==============================] - 1s 1ms/sample - loss: 0.9011 - accuracy: 0.6103 - val_loss: 1.0905 - val_accuracy: 0.3390\n",
      "Epoch 31/200\n",
      "526/526 [==============================] - 1s 1ms/sample - loss: 0.9135 - accuracy: 0.6027 - val_loss: 0.9873 - val_accuracy: 0.5932\n",
      "Epoch 32/200\n",
      "526/526 [==============================] - 1s 1ms/sample - loss: 0.9417 - accuracy: 0.6198 - val_loss: 0.9357 - val_accuracy: 0.6780\n",
      "Epoch 33/200\n",
      "526/526 [==============================] - 1s 1ms/sample - loss: 1.0447 - accuracy: 0.6084 - val_loss: 0.9584 - val_accuracy: 0.6271\n",
      "Epoch 34/200\n",
      "526/526 [==============================] - 1s 1ms/sample - loss: 0.9556 - accuracy: 0.6046 - val_loss: 1.0391 - val_accuracy: 0.3729\n",
      "Epoch 35/200\n",
      "526/526 [==============================] - 1s 1ms/sample - loss: 0.9448 - accuracy: 0.5817 - val_loss: 1.0815 - val_accuracy: 0.3051\n",
      "Epoch 36/200\n",
      "526/526 [==============================] - 1s 1ms/sample - loss: 0.9692 - accuracy: 0.5798 - val_loss: 1.1260 - val_accuracy: 0.2881\n",
      "Epoch 37/200\n",
      "526/526 [==============================] - 1s 1ms/sample - loss: 0.9565 - accuracy: 0.5532 - val_loss: 1.1097 - val_accuracy: 0.3051\n",
      "Epoch 38/200\n",
      "526/526 [==============================] - 1s 1ms/sample - loss: 0.9060 - accuracy: 0.5741 - val_loss: 1.0536 - val_accuracy: 0.3559\n",
      "Epoch 39/200\n",
      "526/526 [==============================] - 1s 1ms/sample - loss: 0.9162 - accuracy: 0.5970 - val_loss: 1.0270 - val_accuracy: 0.3898\n",
      "Epoch 40/200\n",
      "526/526 [==============================] - 1s 1ms/sample - loss: 0.9353 - accuracy: 0.6046 - val_loss: 0.9913 - val_accuracy: 0.4237\n",
      "Epoch 41/200\n",
      "526/526 [==============================] - 1s 1ms/sample - loss: 0.9080 - accuracy: 0.6217 - val_loss: 0.9887 - val_accuracy: 0.4068\n",
      "Epoch 42/200\n",
      "526/526 [==============================] - 1s 1ms/sample - loss: 0.8959 - accuracy: 0.6122 - val_loss: 1.0788 - val_accuracy: 0.2881\n",
      "Epoch 43/200\n",
      "526/526 [==============================] - 1s 1ms/sample - loss: 0.8986 - accuracy: 0.6027 - val_loss: 1.0589 - val_accuracy: 0.3051\n",
      "Epoch 44/200\n",
      "526/526 [==============================] - 1s 1ms/sample - loss: 0.9115 - accuracy: 0.6008 - val_loss: 0.9930 - val_accuracy: 0.5085\n",
      "Epoch 45/200\n",
      "526/526 [==============================] - 1s 1ms/sample - loss: 0.9169 - accuracy: 0.6312 - val_loss: 1.0084 - val_accuracy: 0.4915\n",
      "Epoch 46/200\n",
      "526/526 [==============================] - 1s 1ms/sample - loss: 0.8956 - accuracy: 0.6369 - val_loss: 1.0274 - val_accuracy: 0.4576\n",
      "Epoch 47/200\n",
      "526/526 [==============================] - 1s 1ms/sample - loss: 0.9094 - accuracy: 0.6065 - val_loss: 1.0351 - val_accuracy: 0.3729\n",
      "Epoch 48/200\n",
      "526/526 [==============================] - 1s 1ms/sample - loss: 0.9174 - accuracy: 0.6236 - val_loss: 1.0260 - val_accuracy: 0.4576\n",
      "Epoch 49/200\n",
      "526/526 [==============================] - 1s 1ms/sample - loss: 0.9000 - accuracy: 0.6122 - val_loss: 1.0606 - val_accuracy: 0.3559\n",
      "Epoch 50/200\n",
      "526/526 [==============================] - 1s 1ms/sample - loss: 0.8419 - accuracy: 0.6312 - val_loss: 1.0550 - val_accuracy: 0.5085\n",
      "Epoch 51/200\n",
      "526/526 [==============================] - 1s 1ms/sample - loss: 0.9102 - accuracy: 0.6331 - val_loss: 1.0019 - val_accuracy: 0.6102\n",
      "Epoch 52/200\n",
      "526/526 [==============================] - 1s 1ms/sample - loss: 0.9162 - accuracy: 0.6331 - val_loss: 0.9714 - val_accuracy: 0.5424\n",
      "Epoch 53/200\n",
      "526/526 [==============================] - 1s 1ms/sample - loss: 0.9016 - accuracy: 0.6217 - val_loss: 0.9821 - val_accuracy: 0.4915\n",
      "Epoch 54/200\n",
      "526/526 [==============================] - 1s 1ms/sample - loss: 0.8995 - accuracy: 0.6217 - val_loss: 0.9807 - val_accuracy: 0.5085\n",
      "Epoch 55/200\n",
      "526/526 [==============================] - 1s 1ms/sample - loss: 0.8607 - accuracy: 0.6407 - val_loss: 1.0072 - val_accuracy: 0.5424\n",
      "Epoch 56/200\n",
      "526/526 [==============================] - 1s 1ms/sample - loss: 0.8864 - accuracy: 0.6331 - val_loss: 1.0449 - val_accuracy: 0.5254\n"
     ]
    },
    {
     "name": "stdout",
     "output_type": "stream",
     "text": [
      "Epoch 57/200\n",
      "526/526 [==============================] - 1s 1ms/sample - loss: 0.8925 - accuracy: 0.6331 - val_loss: 0.9901 - val_accuracy: 0.5424\n",
      "Epoch 58/200\n",
      "526/526 [==============================] - 1s 1ms/sample - loss: 0.8782 - accuracy: 0.6160 - val_loss: 0.9416 - val_accuracy: 0.5932\n",
      "Epoch 59/200\n",
      "526/526 [==============================] - 1s 1ms/sample - loss: 0.9205 - accuracy: 0.6160 - val_loss: 0.9821 - val_accuracy: 0.4746\n",
      "Epoch 60/200\n",
      "526/526 [==============================] - 1s 1ms/sample - loss: 0.9182 - accuracy: 0.6008 - val_loss: 1.0526 - val_accuracy: 0.3390\n",
      "Epoch 61/200\n",
      "526/526 [==============================] - 1s 1ms/sample - loss: 0.9113 - accuracy: 0.5646 - val_loss: 1.0492 - val_accuracy: 0.4068\n",
      "Epoch 62/200\n",
      "526/526 [==============================] - 1s 1ms/sample - loss: 0.8928 - accuracy: 0.6293 - val_loss: 1.0112 - val_accuracy: 0.6441\n",
      "Epoch 63/200\n",
      "526/526 [==============================] - 1s 1ms/sample - loss: 0.9393 - accuracy: 0.6293 - val_loss: 0.9628 - val_accuracy: 0.6441\n",
      "Epoch 64/200\n",
      "526/526 [==============================] - 1s 1ms/sample - loss: 0.8916 - accuracy: 0.6388 - val_loss: 0.9479 - val_accuracy: 0.6271\n",
      "Epoch 65/200\n",
      "526/526 [==============================] - 1s 1ms/sample - loss: 0.8774 - accuracy: 0.6274 - val_loss: 0.9343 - val_accuracy: 0.6441\n",
      "Epoch 66/200\n",
      "526/526 [==============================] - 1s 1ms/sample - loss: 0.8767 - accuracy: 0.6255 - val_loss: 0.9225 - val_accuracy: 0.6780\n",
      "Epoch 67/200\n",
      "526/526 [==============================] - 1s 1ms/sample - loss: 0.8554 - accuracy: 0.6388 - val_loss: 0.9323 - val_accuracy: 0.6780\n",
      "Epoch 68/200\n",
      "526/526 [==============================] - 1s 1ms/sample - loss: 0.8799 - accuracy: 0.6331 - val_loss: 0.9351 - val_accuracy: 0.6780\n",
      "Epoch 69/200\n",
      "526/526 [==============================] - 1s 1ms/sample - loss: 0.8675 - accuracy: 0.6369 - val_loss: 0.9620 - val_accuracy: 0.6102\n",
      "Epoch 70/200\n",
      "526/526 [==============================] - 1s 1ms/sample - loss: 0.8631 - accuracy: 0.6236 - val_loss: 1.0255 - val_accuracy: 0.5254\n",
      "Epoch 71/200\n",
      "526/526 [==============================] - 1s 1ms/sample - loss: 0.8905 - accuracy: 0.6027 - val_loss: 1.0056 - val_accuracy: 0.5763\n",
      "Epoch 72/200\n",
      "526/526 [==============================] - 1s 1ms/sample - loss: 0.8950 - accuracy: 0.6179 - val_loss: 0.9320 - val_accuracy: 0.6441\n",
      "Epoch 73/200\n",
      "526/526 [==============================] - 1s 1ms/sample - loss: 0.8501 - accuracy: 0.6369 - val_loss: 0.9174 - val_accuracy: 0.6441\n",
      "Epoch 74/200\n",
      "526/526 [==============================] - 1s 1ms/sample - loss: 0.8870 - accuracy: 0.6179 - val_loss: 0.9623 - val_accuracy: 0.5424\n",
      "Epoch 75/200\n",
      "526/526 [==============================] - 1s 1ms/sample - loss: 0.8658 - accuracy: 0.6084 - val_loss: 0.9267 - val_accuracy: 0.6102\n",
      "Epoch 76/200\n",
      "526/526 [==============================] - 1s 1ms/sample - loss: 0.8762 - accuracy: 0.6426 - val_loss: 0.9114 - val_accuracy: 0.6780\n",
      "Epoch 77/200\n",
      "526/526 [==============================] - 1s 1ms/sample - loss: 0.8848 - accuracy: 0.6084 - val_loss: 0.9492 - val_accuracy: 0.6610\n",
      "Epoch 78/200\n",
      "526/526 [==============================] - 1s 1ms/sample - loss: 0.9013 - accuracy: 0.6027 - val_loss: 0.9549 - val_accuracy: 0.6441\n",
      "Epoch 79/200\n",
      "526/526 [==============================] - 1s 1ms/sample - loss: 0.8786 - accuracy: 0.6217 - val_loss: 0.9355 - val_accuracy: 0.6271\n",
      "Epoch 80/200\n",
      "526/526 [==============================] - 1s 1ms/sample - loss: 0.8577 - accuracy: 0.6407 - val_loss: 0.9415 - val_accuracy: 0.6610\n",
      "Epoch 81/200\n",
      "526/526 [==============================] - 1s 1ms/sample - loss: 0.8393 - accuracy: 0.6445 - val_loss: 0.9288 - val_accuracy: 0.6271\n",
      "Epoch 82/200\n",
      "526/526 [==============================] - 1s 1ms/sample - loss: 0.8470 - accuracy: 0.6521 - val_loss: 0.9035 - val_accuracy: 0.6102\n",
      "Epoch 83/200\n",
      "526/526 [==============================] - 1s 1ms/sample - loss: 0.8846 - accuracy: 0.6293 - val_loss: 0.9312 - val_accuracy: 0.6102\n",
      "Epoch 84/200\n",
      "526/526 [==============================] - 1s 1ms/sample - loss: 0.8695 - accuracy: 0.6217 - val_loss: 0.9548 - val_accuracy: 0.5932\n",
      "Epoch 85/200\n",
      "526/526 [==============================] - 1s 1ms/sample - loss: 0.8620 - accuracy: 0.6312 - val_loss: 0.9580 - val_accuracy: 0.5932\n",
      "Epoch 86/200\n",
      "526/526 [==============================] - 1s 1ms/sample - loss: 0.8638 - accuracy: 0.6160 - val_loss: 0.9420 - val_accuracy: 0.6271\n",
      "Epoch 87/200\n",
      "526/526 [==============================] - 1s 1ms/sample - loss: 0.8668 - accuracy: 0.6217 - val_loss: 0.9088 - val_accuracy: 0.6271\n",
      "Epoch 88/200\n",
      "526/526 [==============================] - 1s 1ms/sample - loss: 0.8439 - accuracy: 0.6483 - val_loss: 0.9036 - val_accuracy: 0.6610\n",
      "Epoch 89/200\n",
      "526/526 [==============================] - 1s 1ms/sample - loss: 0.8508 - accuracy: 0.6350 - val_loss: 0.9075 - val_accuracy: 0.6780\n",
      "Epoch 90/200\n",
      "526/526 [==============================] - 1s 1ms/sample - loss: 0.8542 - accuracy: 0.6369 - val_loss: 0.9194 - val_accuracy: 0.6780\n",
      "Epoch 91/200\n",
      "526/526 [==============================] - 1s 1ms/sample - loss: 0.8610 - accuracy: 0.6388 - val_loss: 0.9196 - val_accuracy: 0.6610\n",
      "Epoch 92/200\n",
      "526/526 [==============================] - 1s 1ms/sample - loss: 0.8528 - accuracy: 0.6217 - val_loss: 0.8942 - val_accuracy: 0.6610\n",
      "Epoch 93/200\n",
      "526/526 [==============================] - 1s 1ms/sample - loss: 0.8388 - accuracy: 0.6407 - val_loss: 0.8780 - val_accuracy: 0.6271\n",
      "Epoch 94/200\n",
      "526/526 [==============================] - 1s 1ms/sample - loss: 0.8303 - accuracy: 0.6521 - val_loss: 0.8830 - val_accuracy: 0.6441\n",
      "Epoch 95/200\n",
      "526/526 [==============================] - 1s 1ms/sample - loss: 0.8495 - accuracy: 0.6388 - val_loss: 0.8943 - val_accuracy: 0.6271\n",
      "Epoch 96/200\n",
      "526/526 [==============================] - 1s 1ms/sample - loss: 0.8508 - accuracy: 0.6350 - val_loss: 0.9168 - val_accuracy: 0.6610\n",
      "Epoch 97/200\n",
      "526/526 [==============================] - 1s 1ms/sample - loss: 0.8422 - accuracy: 0.6236 - val_loss: 0.8972 - val_accuracy: 0.6441\n",
      "Epoch 98/200\n",
      "526/526 [==============================] - 1s 1ms/sample - loss: 0.8232 - accuracy: 0.6464 - val_loss: 0.8679 - val_accuracy: 0.6441\n",
      "Epoch 99/200\n",
      "526/526 [==============================] - 1s 1ms/sample - loss: 0.8448 - accuracy: 0.6559 - val_loss: 0.8774 - val_accuracy: 0.6271\n",
      "Epoch 100/200\n",
      "526/526 [==============================] - 1s 1ms/sample - loss: 0.8244 - accuracy: 0.6445 - val_loss: 0.9157 - val_accuracy: 0.5932\n",
      "Epoch 101/200\n",
      "526/526 [==============================] - 1s 1ms/sample - loss: 0.8528 - accuracy: 0.6426 - val_loss: 0.9295 - val_accuracy: 0.5932\n",
      "Epoch 102/200\n",
      "526/526 [==============================] - 1s 1ms/sample - loss: 0.8435 - accuracy: 0.6426 - val_loss: 0.9010 - val_accuracy: 0.6102\n",
      "Epoch 103/200\n",
      "526/526 [==============================] - 1s 1ms/sample - loss: 0.8459 - accuracy: 0.6331 - val_loss: 0.8739 - val_accuracy: 0.6102\n",
      "Epoch 104/200\n",
      "526/526 [==============================] - 1s 1ms/sample - loss: 0.8370 - accuracy: 0.6388 - val_loss: 0.8761 - val_accuracy: 0.6441\n",
      "Epoch 105/200\n",
      "526/526 [==============================] - 1s 1ms/sample - loss: 0.8226 - accuracy: 0.6331 - val_loss: 0.8891 - val_accuracy: 0.6271\n",
      "Epoch 106/200\n",
      "526/526 [==============================] - 1s 1ms/sample - loss: 0.8177 - accuracy: 0.6559 - val_loss: 0.9023 - val_accuracy: 0.6102\n",
      "Epoch 107/200\n",
      "526/526 [==============================] - 1s 1ms/sample - loss: 0.8230 - accuracy: 0.6445 - val_loss: 0.9104 - val_accuracy: 0.6441\n",
      "Epoch 108/200\n",
      "526/526 [==============================] - 1s 1ms/sample - loss: 0.8281 - accuracy: 0.6502 - val_loss: 0.8952 - val_accuracy: 0.6102\n",
      "Epoch 109/200\n",
      "526/526 [==============================] - 1s 1ms/sample - loss: 0.8371 - accuracy: 0.6559 - val_loss: 0.8895 - val_accuracy: 0.6610\n",
      "Epoch 110/200\n",
      "526/526 [==============================] - 1s 1ms/sample - loss: 0.8210 - accuracy: 0.6597 - val_loss: 0.9035 - val_accuracy: 0.6780\n",
      "Epoch 111/200\n",
      "526/526 [==============================] - 1s 1ms/sample - loss: 0.8346 - accuracy: 0.6445 - val_loss: 0.9135 - val_accuracy: 0.6780\n",
      "Epoch 112/200\n",
      "526/526 [==============================] - 1s 1ms/sample - loss: 0.8373 - accuracy: 0.6274 - val_loss: 0.9016 - val_accuracy: 0.6610\n",
      "Epoch 113/200\n"
     ]
    },
    {
     "name": "stdout",
     "output_type": "stream",
     "text": [
      "526/526 [==============================] - 1s 1ms/sample - loss: 0.8245 - accuracy: 0.6597 - val_loss: 0.8629 - val_accuracy: 0.6271\n",
      "Epoch 114/200\n",
      "526/526 [==============================] - 1s 1ms/sample - loss: 0.8559 - accuracy: 0.6483 - val_loss: 0.8717 - val_accuracy: 0.6102\n",
      "Epoch 115/200\n",
      "526/526 [==============================] - 1s 1ms/sample - loss: 0.8334 - accuracy: 0.6483 - val_loss: 0.8912 - val_accuracy: 0.6441\n",
      "Epoch 116/200\n",
      "526/526 [==============================] - 1s 1ms/sample - loss: 0.8267 - accuracy: 0.6445 - val_loss: 0.9232 - val_accuracy: 0.6610\n",
      "Epoch 117/200\n",
      "526/526 [==============================] - 1s 1ms/sample - loss: 0.8243 - accuracy: 0.6407 - val_loss: 0.9239 - val_accuracy: 0.6441\n",
      "Epoch 118/200\n",
      "526/526 [==============================] - 1s 1ms/sample - loss: 0.8172 - accuracy: 0.6445 - val_loss: 0.8940 - val_accuracy: 0.6271\n",
      "Epoch 119/200\n",
      "526/526 [==============================] - 1s 1ms/sample - loss: 0.8083 - accuracy: 0.6578 - val_loss: 0.9065 - val_accuracy: 0.6441\n",
      "Epoch 120/200\n",
      "526/526 [==============================] - 1s 1ms/sample - loss: 0.8242 - accuracy: 0.6597 - val_loss: 0.9480 - val_accuracy: 0.5763\n",
      "Epoch 121/200\n",
      "526/526 [==============================] - 1s 1ms/sample - loss: 0.8353 - accuracy: 0.6236 - val_loss: 0.9118 - val_accuracy: 0.5932\n",
      "Epoch 122/200\n",
      "526/526 [==============================] - 1s 1ms/sample - loss: 0.8314 - accuracy: 0.6312 - val_loss: 0.8704 - val_accuracy: 0.6271\n",
      "Epoch 123/200\n",
      "526/526 [==============================] - 1s 1ms/sample - loss: 0.8316 - accuracy: 0.6464 - val_loss: 0.8829 - val_accuracy: 0.6102\n",
      "Epoch 124/200\n",
      "526/526 [==============================] - 1s 1ms/sample - loss: 0.8280 - accuracy: 0.6407 - val_loss: 0.9226 - val_accuracy: 0.6441\n",
      "Epoch 125/200\n",
      "526/526 [==============================] - 1s 1ms/sample - loss: 0.8147 - accuracy: 0.6293 - val_loss: 0.9102 - val_accuracy: 0.6610\n",
      "Epoch 126/200\n",
      "526/526 [==============================] - 1s 1ms/sample - loss: 0.8250 - accuracy: 0.6255 - val_loss: 0.8934 - val_accuracy: 0.5932\n",
      "Epoch 127/200\n",
      "526/526 [==============================] - 1s 1ms/sample - loss: 0.8134 - accuracy: 0.6559 - val_loss: 0.9071 - val_accuracy: 0.5932\n",
      "Epoch 128/200\n",
      "526/526 [==============================] - 1s 1ms/sample - loss: 0.8321 - accuracy: 0.6464 - val_loss: 0.9467 - val_accuracy: 0.6102\n",
      "Epoch 129/200\n",
      "526/526 [==============================] - 1s 1ms/sample - loss: 0.8395 - accuracy: 0.6198 - val_loss: 0.9453 - val_accuracy: 0.6102\n",
      "Epoch 130/200\n",
      "526/526 [==============================] - 1s 1ms/sample - loss: 0.8149 - accuracy: 0.6673 - val_loss: 0.9084 - val_accuracy: 0.5763\n",
      "Epoch 131/200\n",
      "526/526 [==============================] - 1s 1ms/sample - loss: 0.8168 - accuracy: 0.6559 - val_loss: 0.8759 - val_accuracy: 0.5763\n",
      "Epoch 132/200\n",
      "526/526 [==============================] - 1s 1ms/sample - loss: 0.8241 - accuracy: 0.6540 - val_loss: 0.8528 - val_accuracy: 0.5763\n",
      "Epoch 133/200\n",
      "526/526 [==============================] - 1s 1ms/sample - loss: 0.8281 - accuracy: 0.6635 - val_loss: 0.8510 - val_accuracy: 0.5932\n",
      "Epoch 134/200\n",
      "526/526 [==============================] - 1s 1ms/sample - loss: 0.8126 - accuracy: 0.6597 - val_loss: 0.8824 - val_accuracy: 0.5763\n",
      "Epoch 135/200\n",
      "526/526 [==============================] - 1s 1ms/sample - loss: 0.7852 - accuracy: 0.6673 - val_loss: 0.9021 - val_accuracy: 0.5932\n",
      "Epoch 136/200\n",
      "526/526 [==============================] - 1s 1ms/sample - loss: 0.8205 - accuracy: 0.6578 - val_loss: 0.8938 - val_accuracy: 0.5763\n",
      "Epoch 137/200\n",
      "526/526 [==============================] - 1s 1ms/sample - loss: 0.8031 - accuracy: 0.6635 - val_loss: 0.8926 - val_accuracy: 0.5763\n",
      "Epoch 138/200\n",
      "526/526 [==============================] - 1s 1ms/sample - loss: 0.8214 - accuracy: 0.6369 - val_loss: 0.8746 - val_accuracy: 0.6271\n",
      "Epoch 139/200\n",
      "526/526 [==============================] - 1s 1ms/sample - loss: 0.8104 - accuracy: 0.6407 - val_loss: 0.8524 - val_accuracy: 0.6441\n",
      "Epoch 140/200\n",
      "526/526 [==============================] - 1s 1ms/sample - loss: 0.8181 - accuracy: 0.6350 - val_loss: 0.8574 - val_accuracy: 0.6271\n",
      "Epoch 141/200\n",
      "526/526 [==============================] - 1s 1ms/sample - loss: 0.8101 - accuracy: 0.6445 - val_loss: 0.8720 - val_accuracy: 0.6271\n",
      "Epoch 142/200\n",
      "526/526 [==============================] - 1s 1ms/sample - loss: 0.8102 - accuracy: 0.6502 - val_loss: 0.8586 - val_accuracy: 0.6271\n",
      "Epoch 143/200\n",
      "526/526 [==============================] - 1s 1ms/sample - loss: 0.8011 - accuracy: 0.6597 - val_loss: 0.8451 - val_accuracy: 0.6102\n",
      "Epoch 144/200\n",
      "526/526 [==============================] - 1s 1ms/sample - loss: 0.8056 - accuracy: 0.6502 - val_loss: 0.8588 - val_accuracy: 0.5763\n",
      "Epoch 145/200\n",
      "526/526 [==============================] - 1s 1ms/sample - loss: 0.8209 - accuracy: 0.6502 - val_loss: 0.8677 - val_accuracy: 0.6102\n",
      "Epoch 146/200\n",
      "526/526 [==============================] - 1s 1ms/sample - loss: 0.8019 - accuracy: 0.6502 - val_loss: 0.8792 - val_accuracy: 0.5932\n",
      "Epoch 147/200\n",
      "526/526 [==============================] - 1s 1ms/sample - loss: 0.7941 - accuracy: 0.6521 - val_loss: 0.8765 - val_accuracy: 0.6102\n",
      "Epoch 148/200\n",
      "526/526 [==============================] - 1s 1ms/sample - loss: 0.8087 - accuracy: 0.6597 - val_loss: 0.8753 - val_accuracy: 0.6271\n",
      "Epoch 149/200\n",
      "526/526 [==============================] - 1s 1ms/sample - loss: 0.7980 - accuracy: 0.6502 - val_loss: 0.8891 - val_accuracy: 0.6271\n",
      "Epoch 150/200\n",
      "526/526 [==============================] - 1s 1ms/sample - loss: 0.8086 - accuracy: 0.6673 - val_loss: 0.8864 - val_accuracy: 0.6610\n",
      "Epoch 151/200\n",
      "526/526 [==============================] - 1s 1ms/sample - loss: 0.8047 - accuracy: 0.6426 - val_loss: 0.8695 - val_accuracy: 0.6441\n",
      "Epoch 152/200\n",
      "526/526 [==============================] - 1s 1ms/sample - loss: 0.8150 - accuracy: 0.6502 - val_loss: 0.8911 - val_accuracy: 0.6102\n",
      "Epoch 153/200\n",
      "526/526 [==============================] - 1s 1ms/sample - loss: 0.8130 - accuracy: 0.6578 - val_loss: 0.9091 - val_accuracy: 0.5932\n",
      "Epoch 154/200\n",
      "526/526 [==============================] - 1s 1ms/sample - loss: 0.8274 - accuracy: 0.6445 - val_loss: 0.8984 - val_accuracy: 0.5763\n",
      "Epoch 155/200\n",
      "526/526 [==============================] - 1s 1ms/sample - loss: 0.8109 - accuracy: 0.6464 - val_loss: 0.8819 - val_accuracy: 0.5763\n",
      "Epoch 156/200\n",
      "526/526 [==============================] - 1s 1ms/sample - loss: 0.8030 - accuracy: 0.6445 - val_loss: 0.8748 - val_accuracy: 0.5932\n",
      "Epoch 157/200\n",
      "526/526 [==============================] - 1s 1ms/sample - loss: 0.8091 - accuracy: 0.6464 - val_loss: 0.8658 - val_accuracy: 0.5763\n",
      "Epoch 158/200\n",
      "526/526 [==============================] - 1s 1ms/sample - loss: 0.8023 - accuracy: 0.6445 - val_loss: 0.8644 - val_accuracy: 0.5763\n",
      "Epoch 159/200\n",
      "526/526 [==============================] - 1s 1ms/sample - loss: 0.7965 - accuracy: 0.6616 - val_loss: 0.8755 - val_accuracy: 0.6102\n",
      "Epoch 160/200\n",
      "526/526 [==============================] - 1s 1ms/sample - loss: 0.7998 - accuracy: 0.6521 - val_loss: 0.8709 - val_accuracy: 0.6441\n",
      "Epoch 161/200\n",
      "526/526 [==============================] - 1s 1ms/sample - loss: 0.7828 - accuracy: 0.6825 - val_loss: 0.8609 - val_accuracy: 0.6271\n",
      "Epoch 162/200\n",
      "526/526 [==============================] - 1s 1ms/sample - loss: 0.7871 - accuracy: 0.6578 - val_loss: 0.8670 - val_accuracy: 0.6102\n",
      "Epoch 163/200\n",
      "526/526 [==============================] - 1s 1ms/sample - loss: 0.7920 - accuracy: 0.6559 - val_loss: 0.8692 - val_accuracy: 0.6102\n",
      "Epoch 164/200\n",
      "526/526 [==============================] - 1s 1ms/sample - loss: 0.7955 - accuracy: 0.6673 - val_loss: 0.8764 - val_accuracy: 0.6441\n",
      "Epoch 165/200\n",
      "526/526 [==============================] - 1s 1ms/sample - loss: 0.8068 - accuracy: 0.6445 - val_loss: 0.8850 - val_accuracy: 0.6271\n",
      "Epoch 166/200\n",
      "526/526 [==============================] - 1s 1ms/sample - loss: 0.8180 - accuracy: 0.6578 - val_loss: 0.8702 - val_accuracy: 0.5763\n",
      "Epoch 167/200\n",
      "526/526 [==============================] - 1s 1ms/sample - loss: 0.8036 - accuracy: 0.6730 - val_loss: 0.8759 - val_accuracy: 0.5932\n",
      "Epoch 168/200\n",
      "526/526 [==============================] - 1s 1ms/sample - loss: 0.7951 - accuracy: 0.6711 - val_loss: 0.9121 - val_accuracy: 0.6102\n"
     ]
    },
    {
     "name": "stdout",
     "output_type": "stream",
     "text": [
      "Epoch 169/200\n",
      "526/526 [==============================] - 1s 1ms/sample - loss: 0.8071 - accuracy: 0.6635 - val_loss: 0.9194 - val_accuracy: 0.5932\n",
      "Epoch 170/200\n",
      "526/526 [==============================] - 1s 1ms/sample - loss: 0.8015 - accuracy: 0.6597 - val_loss: 0.9008 - val_accuracy: 0.6102\n",
      "Epoch 171/200\n",
      "526/526 [==============================] - 1s 1ms/sample - loss: 0.8122 - accuracy: 0.6597 - val_loss: 0.8802 - val_accuracy: 0.6441\n",
      "Epoch 172/200\n",
      "526/526 [==============================] - 1s 1ms/sample - loss: 0.7987 - accuracy: 0.6502 - val_loss: 0.9021 - val_accuracy: 0.6610\n",
      "Epoch 173/200\n",
      "526/526 [==============================] - 1s 1ms/sample - loss: 0.8108 - accuracy: 0.6635 - val_loss: 0.9216 - val_accuracy: 0.5932\n",
      "Epoch 174/200\n",
      "526/526 [==============================] - 1s 1ms/sample - loss: 0.8118 - accuracy: 0.6502 - val_loss: 0.8714 - val_accuracy: 0.5932\n",
      "Epoch 175/200\n",
      "526/526 [==============================] - 1s 1ms/sample - loss: 0.7846 - accuracy: 0.6616 - val_loss: 0.8535 - val_accuracy: 0.5593\n",
      "Epoch 176/200\n",
      "526/526 [==============================] - 1s 1ms/sample - loss: 0.7962 - accuracy: 0.6616 - val_loss: 0.8673 - val_accuracy: 0.6102\n",
      "Epoch 177/200\n",
      "526/526 [==============================] - 1s 1ms/sample - loss: 0.7866 - accuracy: 0.6616 - val_loss: 0.8946 - val_accuracy: 0.6271\n",
      "Epoch 178/200\n",
      "526/526 [==============================] - 1s 1ms/sample - loss: 0.8061 - accuracy: 0.6464 - val_loss: 0.8711 - val_accuracy: 0.6102\n",
      "Epoch 179/200\n",
      "526/526 [==============================] - 1s 1ms/sample - loss: 0.7544 - accuracy: 0.6654 - val_loss: 0.8523 - val_accuracy: 0.5932\n",
      "Epoch 180/200\n",
      "526/526 [==============================] - 1s 1ms/sample - loss: 0.8005 - accuracy: 0.6464 - val_loss: 0.8693 - val_accuracy: 0.6271\n",
      "Epoch 181/200\n",
      "526/526 [==============================] - 1s 1ms/sample - loss: 0.7914 - accuracy: 0.6635 - val_loss: 0.9150 - val_accuracy: 0.6441\n",
      "Epoch 182/200\n",
      "526/526 [==============================] - 1s 1ms/sample - loss: 0.7965 - accuracy: 0.6540 - val_loss: 0.9380 - val_accuracy: 0.6102\n",
      "Epoch 183/200\n",
      "526/526 [==============================] - 1s 1ms/sample - loss: 0.8026 - accuracy: 0.6578 - val_loss: 0.9172 - val_accuracy: 0.5932\n",
      "Epoch 184/200\n",
      "526/526 [==============================] - 1s 1ms/sample - loss: 0.7844 - accuracy: 0.6578 - val_loss: 0.8911 - val_accuracy: 0.6102\n",
      "Epoch 185/200\n",
      "526/526 [==============================] - 1s 1ms/sample - loss: 0.8099 - accuracy: 0.6578 - val_loss: 0.9075 - val_accuracy: 0.6441\n",
      "Epoch 186/200\n",
      "526/526 [==============================] - 1s 1ms/sample - loss: 0.7823 - accuracy: 0.6692 - val_loss: 0.9341 - val_accuracy: 0.6102\n",
      "Epoch 187/200\n",
      "526/526 [==============================] - 1s 1ms/sample - loss: 0.7908 - accuracy: 0.6540 - val_loss: 0.9153 - val_accuracy: 0.5932\n",
      "Epoch 188/200\n",
      "526/526 [==============================] - 1s 1ms/sample - loss: 0.7940 - accuracy: 0.6597 - val_loss: 0.9117 - val_accuracy: 0.6102\n",
      "Epoch 189/200\n",
      "526/526 [==============================] - 1s 1ms/sample - loss: 0.7975 - accuracy: 0.6616 - val_loss: 0.9395 - val_accuracy: 0.5254\n",
      "Epoch 190/200\n",
      "526/526 [==============================] - 1s 1ms/sample - loss: 0.7881 - accuracy: 0.6654 - val_loss: 0.9203 - val_accuracy: 0.5593\n",
      "Epoch 191/200\n",
      "526/526 [==============================] - 1s 1ms/sample - loss: 0.7879 - accuracy: 0.6407 - val_loss: 0.8693 - val_accuracy: 0.5763\n",
      "Epoch 192/200\n",
      "526/526 [==============================] - 1s 1ms/sample - loss: 0.7853 - accuracy: 0.6578 - val_loss: 0.8557 - val_accuracy: 0.6102\n",
      "Epoch 193/200\n",
      "526/526 [==============================] - 1s 1ms/sample - loss: 0.7998 - accuracy: 0.6730 - val_loss: 0.8650 - val_accuracy: 0.6441\n",
      "Epoch 194/200\n",
      "526/526 [==============================] - 1s 1ms/sample - loss: 0.7741 - accuracy: 0.6768 - val_loss: 0.8916 - val_accuracy: 0.6441\n",
      "Epoch 195/200\n",
      "526/526 [==============================] - 1s 1ms/sample - loss: 0.7721 - accuracy: 0.6673 - val_loss: 0.9105 - val_accuracy: 0.6441\n",
      "Epoch 196/200\n",
      "526/526 [==============================] - 1s 1ms/sample - loss: 0.7834 - accuracy: 0.6597 - val_loss: 0.8885 - val_accuracy: 0.6441\n",
      "Epoch 197/200\n",
      "526/526 [==============================] - 1s 1ms/sample - loss: 0.7603 - accuracy: 0.6616 - val_loss: 0.8650 - val_accuracy: 0.6271\n",
      "Epoch 198/200\n",
      "526/526 [==============================] - 1s 1ms/sample - loss: 0.7722 - accuracy: 0.6749 - val_loss: 0.8687 - val_accuracy: 0.6271\n",
      "Epoch 199/200\n",
      "526/526 [==============================] - 1s 1ms/sample - loss: 0.7769 - accuracy: 0.6597 - val_loss: 0.8898 - val_accuracy: 0.6441\n",
      "Epoch 200/200\n",
      "526/526 [==============================] - 1s 1ms/sample - loss: 0.7727 - accuracy: 0.6711 - val_loss: 0.8929 - val_accuracy: 0.6441\n"
     ]
    }
   ],
   "source": [
    "history = vanak.fit(x=x_train, y=y_train_cat, validation_data=(x_test, y_test_cat), epochs=200, batch_size=256)"
   ]
  },
  {
   "cell_type": "code",
   "execution_count": 158,
   "metadata": {},
   "outputs": [
    {
     "data": {
      "text/plain": [
       "Text(0.5, 1.0, 'Accuracy Curves')"
      ]
     },
     "execution_count": 158,
     "metadata": {},
     "output_type": "execute_result"
    },
    {
     "data": {
      "image/png": "[encoded data removed]",
      "text/plain": [
       "<Figure size 1008x720 with 1 Axes>"
      ]
     },
     "metadata": {
      "needs_background": "light"
     },
     "output_type": "display_data"
    },
    {
     "data": {
      "image/png": "[encoded data removed]",
      "text/plain": [
       "<Figure size 1008x720 with 1 Axes>"
      ]
     },
     "metadata": {
      "needs_background": "light"
     },
     "output_type": "display_data"
    }
   ],
   "source": [
    "# Loss Curves\n",
    "plt.figure(figsize=[14,10])\n",
    "plt.subplot(211)\n",
    "plt.plot(history.history['loss'],'r',linewidth=3.0)\n",
    "plt.plot(history.history['val_loss'],'b',linewidth=3.0)\n",
    "plt.legend(['Training loss', 'Validation Loss'],fontsize=18)\n",
    "plt.xlabel('Epochs ',fontsize=16)\n",
    "plt.ylabel('Loss',fontsize=16)\n",
    "plt.title('Loss Curves',fontsize=16)\n",
    " \n",
    "# Accuracy Curves\n",
    "plt.figure(figsize=[14,10])\n",
    "plt.subplot(212)\n",
    "plt.plot(history.history['accuracy'],'r',linewidth=3.0)\n",
    "plt.plot(history.history['val_accuracy'],'b',linewidth=3.0)\n",
    "plt.legend(['Training Accuracy', 'Validation Accuracy'],fontsize=18)\n",
    "plt.xlabel('Epochs ',fontsize=16)\n",
    "plt.ylabel('Accuracy',fontsize=16)\n",
    "plt.title('Accuracy Curves',fontsize=16)"
   ]
  },
  {
   "cell_type": "code",
   "execution_count": 161,
   "metadata": {},
   "outputs": [
    {
     "name": "stdout",
     "output_type": "stream",
     "text": [
      "0.6730038\n",
      "0.6440678\n"
     ]
    }
   ],
   "source": [
    "print(vanak.evaluate(x_train, y_train_cat, verbose=0)[1])\n",
    "print(vanak.evaluate(x_test, y_test_cat, verbose=0)[1])"
   ]
  },
  {
   "cell_type": "code",
   "execution_count": 162,
   "metadata": {},
   "outputs": [
    {
     "name": "stdout",
     "output_type": "stream",
     "text": [
      "0.64448667\n",
      "0.5762712\n"
     ]
    }
   ],
   "source": [
    "print(model.evaluate(x_train, y_train_cat, verbose=0)[1])\n",
    "print(model.evaluate(x_test, y_test_cat, verbose=0)[1])"
   ]
  },
  {
   "cell_type": "markdown",
   "metadata": {},
   "source": [
    "## Conclusion \n",
    "\n",
    "Working with sounds is not such an easy task. More over when you have so few data at your disposal like we do here. \n",
    "\n",
    "Anyway, reaching an accuracy of almost 0.7 for a first student project is a good start. \n",
    "\n",
    "\n",
    "Next steps would be the following : \n",
    "\n",
    "- Find more sounds to feed the algorithm\n",
    "- Try to fit a RNN on the audio raw file to compare performances"
   ]
  }
 ],
 "metadata": {
  "kernelspec": {
   "display_name": "Python 3",
   "language": "python",
   "name": "python3"
  },
  "language_info": {
   "codemirror_mode": {
    "name": "ipython",
    "version": 3
   },
   "file_extension": ".py",
   "mimetype": "text/x-python",
   "name": "python",
   "nbconvert_exporter": "python",
   "pygments_lexer": "ipython3",
   "version": "3.7.4"
  }
 },
 "nbformat": 4,
 "nbformat_minor": 2
}
