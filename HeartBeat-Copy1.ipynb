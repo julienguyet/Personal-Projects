{
 "cells": [
  {
   "cell_type": "markdown",
   "metadata": {},
   "source": [
    "<h2> Importing labels for both dataset A (Apple) and dataset B (hospital)"
   ]
  },
  {
   "cell_type": "code",
   "execution_count": 1,
   "metadata": {},
   "outputs": [],
   "source": [
    "import os\n",
    "import pandas as pd\n",
    "import numpy as np\n",
    "import pylab\n",
    "import wave\n",
    "from scipy.io import wavfile as wav\n",
    "from scipy.fftpack import fft\n",
    "import numpy as np\n",
    "import matplotlib.pyplot as plt\n",
    "import librosa"
   ]
  },
  {
   "cell_type": "code",
   "execution_count": 2,
   "metadata": {},
   "outputs": [],
   "source": [
    "filepath_set_a = os.path.join('..', 'data', 'heartbeat-sounds', 'set_a.csv')"
   ]
  },
  {
   "cell_type": "code",
   "execution_count": 3,
   "metadata": {},
   "outputs": [],
   "source": [
    "filepath_set_b = os.path.join('..', 'data', 'heartbeat-sounds', 'set_b.csv')"
   ]
  },
  {
   "cell_type": "code",
   "execution_count": 4,
   "metadata": {},
   "outputs": [],
   "source": [
    "set_a = pd.read_csv(filepath_set_a)"
   ]
  },
  {
   "cell_type": "code",
   "execution_count": 5,
   "metadata": {},
   "outputs": [],
   "source": [
    "set_b = pd.read_csv(filepath_set_b)"
   ]
  },
  {
   "cell_type": "markdown",
   "metadata": {},
   "source": [
    "<h2> EDA"
   ]
  },
  {
   "cell_type": "markdown",
   "metadata": {},
   "source": [
    "Let's have a first look at our labels."
   ]
  },
  {
   "cell_type": "code",
   "execution_count": 6,
   "metadata": {},
   "outputs": [
    {
     "data": {
      "text/html": [
       "<div>\n",
       "<style scoped>\n",
       "    .dataframe tbody tr th:only-of-type {\n",
       "        vertical-align: middle;\n",
       "    }\n",
       "\n",
       "    .dataframe tbody tr th {\n",
       "        vertical-align: top;\n",
       "    }\n",
       "\n",
       "    .dataframe thead th {\n",
       "        text-align: right;\n",
       "    }\n",
       "</style>\n",
       "<table border=\"1\" class=\"dataframe\">\n",
       "  <thead>\n",
       "    <tr style=\"text-align: right;\">\n",
       "      <th></th>\n",
       "      <th>dataset</th>\n",
       "      <th>fname</th>\n",
       "      <th>label</th>\n",
       "      <th>sublabel</th>\n",
       "    </tr>\n",
       "  </thead>\n",
       "  <tbody>\n",
       "    <tr>\n",
       "      <td>0</td>\n",
       "      <td>a</td>\n",
       "      <td>set_a/artifact__201012172012.wav</td>\n",
       "      <td>artifact</td>\n",
       "      <td>NaN</td>\n",
       "    </tr>\n",
       "    <tr>\n",
       "      <td>1</td>\n",
       "      <td>a</td>\n",
       "      <td>set_a/artifact__201105040918.wav</td>\n",
       "      <td>artifact</td>\n",
       "      <td>NaN</td>\n",
       "    </tr>\n",
       "    <tr>\n",
       "      <td>2</td>\n",
       "      <td>a</td>\n",
       "      <td>set_a/artifact__201105041959.wav</td>\n",
       "      <td>artifact</td>\n",
       "      <td>NaN</td>\n",
       "    </tr>\n",
       "    <tr>\n",
       "      <td>3</td>\n",
       "      <td>a</td>\n",
       "      <td>set_a/artifact__201105051017.wav</td>\n",
       "      <td>artifact</td>\n",
       "      <td>NaN</td>\n",
       "    </tr>\n",
       "    <tr>\n",
       "      <td>4</td>\n",
       "      <td>a</td>\n",
       "      <td>set_a/artifact__201105060108.wav</td>\n",
       "      <td>artifact</td>\n",
       "      <td>NaN</td>\n",
       "    </tr>\n",
       "  </tbody>\n",
       "</table>\n",
       "</div>"
      ],
      "text/plain": [
       "  dataset                             fname     label  sublabel\n",
       "0       a  set_a/artifact__201012172012.wav  artifact       NaN\n",
       "1       a  set_a/artifact__201105040918.wav  artifact       NaN\n",
       "2       a  set_a/artifact__201105041959.wav  artifact       NaN\n",
       "3       a  set_a/artifact__201105051017.wav  artifact       NaN\n",
       "4       a  set_a/artifact__201105060108.wav  artifact       NaN"
      ]
     },
     "execution_count": 6,
     "metadata": {},
     "output_type": "execute_result"
    }
   ],
   "source": [
    "set_a.head()"
   ]
  },
  {
   "cell_type": "code",
   "execution_count": 7,
   "metadata": {},
   "outputs": [
    {
     "data": {
      "text/html": [
       "<div>\n",
       "<style scoped>\n",
       "    .dataframe tbody tr th:only-of-type {\n",
       "        vertical-align: middle;\n",
       "    }\n",
       "\n",
       "    .dataframe tbody tr th {\n",
       "        vertical-align: top;\n",
       "    }\n",
       "\n",
       "    .dataframe thead th {\n",
       "        text-align: right;\n",
       "    }\n",
       "</style>\n",
       "<table border=\"1\" class=\"dataframe\">\n",
       "  <thead>\n",
       "    <tr style=\"text-align: right;\">\n",
       "      <th></th>\n",
       "      <th>dataset</th>\n",
       "      <th>fname</th>\n",
       "      <th>label</th>\n",
       "      <th>sublabel</th>\n",
       "    </tr>\n",
       "  </thead>\n",
       "  <tbody>\n",
       "    <tr>\n",
       "      <td>0</td>\n",
       "      <td>b</td>\n",
       "      <td>set_b/Btraining_extrastole_127_1306764300147_C...</td>\n",
       "      <td>extrastole</td>\n",
       "      <td>NaN</td>\n",
       "    </tr>\n",
       "    <tr>\n",
       "      <td>1</td>\n",
       "      <td>b</td>\n",
       "      <td>set_b/Btraining_extrastole_128_1306344005749_A...</td>\n",
       "      <td>extrastole</td>\n",
       "      <td>NaN</td>\n",
       "    </tr>\n",
       "    <tr>\n",
       "      <td>2</td>\n",
       "      <td>b</td>\n",
       "      <td>set_b/Btraining_extrastole_130_1306347376079_D...</td>\n",
       "      <td>extrastole</td>\n",
       "      <td>NaN</td>\n",
       "    </tr>\n",
       "    <tr>\n",
       "      <td>3</td>\n",
       "      <td>b</td>\n",
       "      <td>set_b/Btraining_extrastole_134_1306428161797_C...</td>\n",
       "      <td>extrastole</td>\n",
       "      <td>NaN</td>\n",
       "    </tr>\n",
       "    <tr>\n",
       "      <td>4</td>\n",
       "      <td>b</td>\n",
       "      <td>set_b/Btraining_extrastole_138_1306762146980_B...</td>\n",
       "      <td>extrastole</td>\n",
       "      <td>NaN</td>\n",
       "    </tr>\n",
       "  </tbody>\n",
       "</table>\n",
       "</div>"
      ],
      "text/plain": [
       "  dataset                                              fname       label  \\\n",
       "0       b  set_b/Btraining_extrastole_127_1306764300147_C...  extrastole   \n",
       "1       b  set_b/Btraining_extrastole_128_1306344005749_A...  extrastole   \n",
       "2       b  set_b/Btraining_extrastole_130_1306347376079_D...  extrastole   \n",
       "3       b  set_b/Btraining_extrastole_134_1306428161797_C...  extrastole   \n",
       "4       b  set_b/Btraining_extrastole_138_1306762146980_B...  extrastole   \n",
       "\n",
       "  sublabel  \n",
       "0      NaN  \n",
       "1      NaN  \n",
       "2      NaN  \n",
       "3      NaN  \n",
       "4      NaN  "
      ]
     },
     "execution_count": 7,
     "metadata": {},
     "output_type": "execute_result"
    }
   ],
   "source": [
    "set_b.head()"
   ]
  },
  {
   "cell_type": "code",
   "execution_count": 8,
   "metadata": {},
   "outputs": [
    {
     "data": {
      "text/plain": [
       "artifact    40\n",
       "murmur      34\n",
       "normal      31\n",
       "extrahls    19\n",
       "Name: label, dtype: int64"
      ]
     },
     "execution_count": 8,
     "metadata": {},
     "output_type": "execute_result"
    }
   ],
   "source": [
    "set_a['label'].value_counts()"
   ]
  },
  {
   "cell_type": "code",
   "execution_count": 9,
   "metadata": {},
   "outputs": [
    {
     "data": {
      "text/plain": [
       "normal        320\n",
       "murmur         95\n",
       "extrastole     46\n",
       "Name: label, dtype: int64"
      ]
     },
     "execution_count": 9,
     "metadata": {},
     "output_type": "execute_result"
    }
   ],
   "source": [
    "set_b['label'].value_counts()"
   ]
  },
  {
   "cell_type": "code",
   "execution_count": 10,
   "metadata": {},
   "outputs": [
    {
     "data": {
      "text/plain": [
       "dataset       0\n",
       "fname         0\n",
       "label        52\n",
       "sublabel    176\n",
       "dtype: int64"
      ]
     },
     "execution_count": 10,
     "metadata": {},
     "output_type": "execute_result"
    }
   ],
   "source": [
    "set_a.isna().sum()"
   ]
  },
  {
   "cell_type": "code",
   "execution_count": 11,
   "metadata": {},
   "outputs": [
    {
     "data": {
      "text/plain": [
       "(176, 4)"
      ]
     },
     "execution_count": 11,
     "metadata": {},
     "output_type": "execute_result"
    }
   ],
   "source": [
    "set_a.shape"
   ]
  },
  {
   "cell_type": "code",
   "execution_count": 12,
   "metadata": {},
   "outputs": [
    {
     "data": {
      "text/plain": [
       "dataset       0\n",
       "fname         0\n",
       "label       195\n",
       "sublabel    507\n",
       "dtype: int64"
      ]
     },
     "execution_count": 12,
     "metadata": {},
     "output_type": "execute_result"
    }
   ],
   "source": [
    "set_b.isna().sum()"
   ]
  },
  {
   "cell_type": "markdown",
   "metadata": {},
   "source": [
    "<h4> As we can see, lots of labels and sublabels are NAN values. We can drop sublabels. \n",
    "<h4> Regarding empty labels, as we are in a medical context, I decided to drop them too: determining their nature would require the consult of a specialist that I unfortunately cannot afford."
   ]
  },
  {
   "cell_type": "code",
   "execution_count": 13,
   "metadata": {},
   "outputs": [],
   "source": [
    "set_a = set_a.drop(columns = 'sublabel')"
   ]
  },
  {
   "cell_type": "code",
   "execution_count": 14,
   "metadata": {},
   "outputs": [],
   "source": [
    "set_b = set_b.drop(columns = 'sublabel')"
   ]
  },
  {
   "cell_type": "markdown",
   "metadata": {},
   "source": [
    "Before dropping all NAN values from the labels, we will save their names. This way, it will be easier for us to remove corresponding sound files from our dataframe. "
   ]
  },
  {
   "cell_type": "code",
   "execution_count": 15,
   "metadata": {
    "scrolled": true
   },
   "outputs": [
    {
     "data": {
      "text/plain": [
       "124    set_a/__201012172010.wav\n",
       "125    set_a/__201101051105.wav\n",
       "126    set_a/__201101061552.wav\n",
       "127    set_a/__201101091156.wav\n",
       "128    set_a/__201101110659.wav\n",
       "129    set_a/__201101152256.wav\n",
       "130    set_a/__201101220549.wav\n",
       "131    set_a/__201101241434.wav\n",
       "132    set_a/__201102081033.wav\n",
       "133    set_a/__201102081045.wav\n",
       "134    set_a/__201102200848.wav\n",
       "135    set_a/__201103011036.wav\n",
       "136    set_a/__201103140236.wav\n",
       "137    set_a/__201103170122.wav\n",
       "138    set_a/__201103200518.wav\n",
       "139    set_a/__201103201314.wav\n",
       "140    set_a/__201103232251.wav\n",
       "141    set_a/__201103241336.wav\n",
       "142    set_a/__201104012144.wav\n",
       "143      set_a/__2011040239.wav\n",
       "144    set_a/__201105011546.wav\n",
       "145     set_a/__20110501548.wav\n",
       "146    set_a/__201105031730.wav\n",
       "147    set_a/__201106010807.wav\n",
       "148    set_a/__201106030607.wav\n",
       "149    set_a/__201106031556.wav\n",
       "150    set_a/__201106040930.wav\n",
       "151    set_a/__201106061104.wav\n",
       "152    set_a/__201106061215.wav\n",
       "153    set_a/__201106100606.wav\n",
       "154    set_a/__201106111419.wav\n",
       "155    set_a/__201106120928.wav\n",
       "156    set_a/__201106130440.wav\n",
       "157    set_a/__201106150614.wav\n",
       "158    set_a/__201106170857.wav\n",
       "159    set_a/__201106171155.wav\n",
       "160    set_a/__201106191034.wav\n",
       "161    set_a/__201106211725.wav\n",
       "162    set_a/__201106212102.wav\n",
       "163    set_a/__201108011111.wav\n",
       "164    set_a/__201108011113.wav\n",
       "165    set_a/__201108011116.wav\n",
       "166    set_a/__201108011117.wav\n",
       "167    set_a/__201108222222.wav\n",
       "168    set_a/__201108222225.wav\n",
       "169    set_a/__201108222228.wav\n",
       "170    set_a/__201108222234.wav\n",
       "171    set_a/__201108222241.wav\n",
       "172    set_a/__201108222244.wav\n",
       "173    set_a/__201108222247.wav\n",
       "174    set_a/__201108222254.wav\n",
       "175    set_a/__201108222257.wav\n",
       "Name: fname, dtype: object"
      ]
     },
     "execution_count": 15,
     "metadata": {},
     "output_type": "execute_result"
    }
   ],
   "source": [
    "NAN_labels_a = set_a.loc[set_a['label'].isna() == True]\n",
    "NAN_labels_a = NAN_labels_a.iloc[:,1]\n",
    "NAN_labels_a"
   ]
  },
  {
   "cell_type": "code",
   "execution_count": 16,
   "metadata": {
    "scrolled": true
   },
   "outputs": [
    {
     "data": {
      "text/plain": [
       "312    set_b/Bunlabelledtest_101_1305030823364_A.wav\n",
       "313    set_b/Bunlabelledtest_101_1305030823364_D.wav\n",
       "314    set_b/Bunlabelledtest_101_1305030823364_F.wav\n",
       "315    set_b/Bunlabelledtest_103_1305031931979_A.wav\n",
       "316    set_b/Bunlabelledtest_103_1305031931979_C.wav\n",
       "                           ...                      \n",
       "502    set_b/Bunlabelledtest_296_1311682952647_A.wav\n",
       "503    set_b/Bunlabelledtest_296_1311682952647_B.wav\n",
       "504    set_b/Bunlabelledtest_300_1311772096120_B.wav\n",
       "505    set_b/Bunlabelledtest_300_1311772096120_C.wav\n",
       "506    set_b/Bunlabelledtest_300_1311772096120_D.wav\n",
       "Name: fname, Length: 195, dtype: object"
      ]
     },
     "execution_count": 16,
     "metadata": {},
     "output_type": "execute_result"
    }
   ],
   "source": [
    "NAN_labels_b = set_b.loc[set_b['label'].isna() == True]\n",
    "NAN_labels_b = NAN_labels_b.iloc[:,1]\n",
    "NAN_labels_b"
   ]
  },
  {
   "cell_type": "code",
   "execution_count": 17,
   "metadata": {},
   "outputs": [],
   "source": [
    "# now we can drop them too."
   ]
  },
  {
   "cell_type": "code",
   "execution_count": 18,
   "metadata": {},
   "outputs": [],
   "source": [
    "set_a = set_a.dropna(subset=['label'])"
   ]
  },
  {
   "cell_type": "code",
   "execution_count": 19,
   "metadata": {},
   "outputs": [],
   "source": [
    "set_b = set_b.dropna(subset=['label'])"
   ]
  },
  {
   "cell_type": "code",
   "execution_count": 20,
   "metadata": {},
   "outputs": [
    {
     "data": {
      "text/plain": [
       "(124, 3)"
      ]
     },
     "execution_count": 20,
     "metadata": {},
     "output_type": "execute_result"
    }
   ],
   "source": [
    "set_a.shape"
   ]
  },
  {
   "cell_type": "code",
   "execution_count": 21,
   "metadata": {},
   "outputs": [
    {
     "data": {
      "text/plain": [
       "dataset    0\n",
       "fname      0\n",
       "label      0\n",
       "dtype: int64"
      ]
     },
     "execution_count": 21,
     "metadata": {},
     "output_type": "execute_result"
    }
   ],
   "source": [
    "set_a.isna().sum()"
   ]
  },
  {
   "cell_type": "code",
   "execution_count": 22,
   "metadata": {},
   "outputs": [
    {
     "data": {
      "text/plain": [
       "(461, 3)"
      ]
     },
     "execution_count": 22,
     "metadata": {},
     "output_type": "execute_result"
    }
   ],
   "source": [
    "set_b.shape"
   ]
  },
  {
   "cell_type": "code",
   "execution_count": 23,
   "metadata": {},
   "outputs": [
    {
     "data": {
      "text/plain": [
       "dataset    0\n",
       "fname      0\n",
       "label      0\n",
       "dtype: int64"
      ]
     },
     "execution_count": 23,
     "metadata": {},
     "output_type": "execute_result"
    }
   ],
   "source": [
    "set_b.isna().sum()"
   ]
  },
  {
   "cell_type": "markdown",
   "metadata": {},
   "source": [
    "<h2> Dowloading all WAV sounds files"
   ]
  },
  {
   "cell_type": "markdown",
   "metadata": {},
   "source": [
    "<h3> Starting with sounds from the Apple app (set a)"
   ]
  },
  {
   "cell_type": "code",
   "execution_count": 24,
   "metadata": {},
   "outputs": [],
   "source": [
    "filepath_sounds_a = os.path.join('..', 'data', 'heartbeat-sounds', 'set_a')"
   ]
  },
  {
   "cell_type": "code",
   "execution_count": 25,
   "metadata": {},
   "outputs": [],
   "source": [
    "def getListOfFiles(dirPath):\n",
    "    # create a list of file and sub directories \n",
    "    # names in the given directory \n",
    "    listOfFile = os.listdir(dirPath)\n",
    "    allFiles = list()\n",
    "    # Iterate over all the entries\n",
    "    for entry in listOfFile:\n",
    "        # Create full path\n",
    "        fullPath = os.path.join(dirPath, entry)\n",
    "        # If entry is a directory then get the list of files in this directory \n",
    "        if os.path.isdir(fullPath):\n",
    "            allFiles = allFiles + getListOfFiles(fullPath)\n",
    "        else:\n",
    "            allFiles.append(fullPath)\n",
    "                \n",
    "    return allFiles"
   ]
  },
  {
   "cell_type": "code",
   "execution_count": 26,
   "metadata": {},
   "outputs": [],
   "source": [
    "all_sounds_a = getListOfFiles(filepath_sounds_a)"
   ]
  },
  {
   "cell_type": "code",
   "execution_count": 27,
   "metadata": {
    "scrolled": true
   },
   "outputs": [
    {
     "data": {
      "text/plain": [
       "['../data/heartbeat-sounds/set_a/artifact__201106161019.wav',\n",
       " '../data/heartbeat-sounds/set_a/Aunlabelledtest__201104012144.wav',\n",
       " '../data/heartbeat-sounds/set_a/Aunlabelledtest__201106111419.wav',\n",
       " '../data/heartbeat-sounds/set_a/normal__201103170121.wav',\n",
       " '../data/heartbeat-sounds/set_a/extrahls__201102241217.wav',\n",
       " '../data/heartbeat-sounds/set_a/normal__201106210943.wav',\n",
       " '../data/heartbeat-sounds/set_a/normal__201104141251.wav',\n",
       " '../data/heartbeat-sounds/set_a/Aunlabelledtest__201108222234.wav',\n",
       " '../data/heartbeat-sounds/set_a/Aunlabelledtest__201108011117.wav',\n",
       " '../data/heartbeat-sounds/set_a/Aunlabelledtest__201103170122.wav',\n",
       " '../data/heartbeat-sounds/set_a/normal__201105151450.wav',\n",
       " '../data/heartbeat-sounds/set_a/Aunlabelledtest__201108222225.wav',\n",
       " '../data/heartbeat-sounds/set_a/Aunlabelledtest__201106212102.wav',\n",
       " '../data/heartbeat-sounds/set_a/artifact__201106211430.wav',\n",
       " '../data/heartbeat-sounds/set_a/extrahls__201104270458.wav',\n",
       " '../data/heartbeat-sounds/set_a/Aunlabelledtest__201106171155.wav',\n",
       " '../data/heartbeat-sounds/set_a/Aunlabelledtest__201108222247.wav',\n",
       " '../data/heartbeat-sounds/set_a/murmur__201108222231.wav',\n",
       " '../data/heartbeat-sounds/set_a/artifact__201106221254.wav',\n",
       " '../data/heartbeat-sounds/set_a/extrahls__201101091153.wav',\n",
       " '../data/heartbeat-sounds/set_a/artifact__201105190800.wav',\n",
       " '../data/heartbeat-sounds/set_a/normal__201105011626.wav',\n",
       " '../data/heartbeat-sounds/set_a/artifact__201106050353.wav',\n",
       " '../data/heartbeat-sounds/set_a/Aunlabelledtest__201106040930.wav',\n",
       " '../data/heartbeat-sounds/set_a/murmur__201108222246.wav',\n",
       " '../data/heartbeat-sounds/set_a/Aunlabelledtest__201106211725.wav',\n",
       " '../data/heartbeat-sounds/set_a/artifact__201012172012.wav',\n",
       " '../data/heartbeat-sounds/set_a/Aunlabelledtest__201105011546.wav',\n",
       " '../data/heartbeat-sounds/set_a/extrahls__201101160808.wav',\n",
       " '../data/heartbeat-sounds/set_a/extrahls__201103200218.wav',\n",
       " '../data/heartbeat-sounds/set_a/extrahls__201101152255.wav',\n",
       " '../data/heartbeat-sounds/set_a/normal__201103221214.wav',\n",
       " '../data/heartbeat-sounds/set_a/Aunlabelledtest__201101110659.wav',\n",
       " '../data/heartbeat-sounds/set_a/normal__201102260502.wav',\n",
       " '../data/heartbeat-sounds/set_a/artifact__201106061233.wav',\n",
       " '../data/heartbeat-sounds/set_a/Aunlabelledtest__201108222254.wav',\n",
       " '../data/heartbeat-sounds/set_a/artifact__201105041959.wav',\n",
       " '../data/heartbeat-sounds/set_a/artifact__201105060108.wav',\n",
       " '../data/heartbeat-sounds/set_a/Aunlabelledtest__201108222222.wav',\n",
       " '../data/heartbeat-sounds/set_a/murmur__201108222236.wav',\n",
       " '../data/heartbeat-sounds/set_a/normal__201108011118.wav',\n",
       " '../data/heartbeat-sounds/set_a/murmur__201108222223.wav',\n",
       " '../data/heartbeat-sounds/set_a/murmur__201108222237.wav',\n",
       " '../data/heartbeat-sounds/set_a/normal__201103140132.wav',\n",
       " '../data/heartbeat-sounds/set_a/artifact__201106041452.wav',\n",
       " '../data/heartbeat-sounds/set_a/murmur__201108222248.wav',\n",
       " '../data/heartbeat-sounds/set_a/artifact__201106190520.wav',\n",
       " '../data/heartbeat-sounds/set_a/artifact__201106111119.wav',\n",
       " '../data/heartbeat-sounds/set_a/extrahls__201101160804.wav',\n",
       " '../data/heartbeat-sounds/set_a/Aunlabelledtest__201108222241.wav',\n",
       " '../data/heartbeat-sounds/set_a/murmur__201108222255.wav',\n",
       " '../data/heartbeat-sounds/set_a/artifact__201106030612.wav',\n",
       " '../data/heartbeat-sounds/set_a/Aunlabelledtest__201103011036.wav',\n",
       " '../data/heartbeat-sounds/set_a/murmur__201108222232.wav',\n",
       " '../data/heartbeat-sounds/set_a/extrahls__201104021355.wav',\n",
       " '../data/heartbeat-sounds/set_a/murmur__201102051443.wav',\n",
       " '../data/heartbeat-sounds/set_a/normal__201103090635.wav',\n",
       " '../data/heartbeat-sounds/set_a/extrahls__201103170134.wav',\n",
       " '../data/heartbeat-sounds/set_a/extrahls__201102071835.wav',\n",
       " '../data/heartbeat-sounds/set_a/murmur__201108222238.wav',\n",
       " '../data/heartbeat-sounds/set_a/Aunlabelledtest__201106191034.wav',\n",
       " '../data/heartbeat-sounds/set_a/extrahls__201101241433.wav',\n",
       " '../data/heartbeat-sounds/set_a/Aunlabelledtest__201101220549.wav',\n",
       " '../data/heartbeat-sounds/set_a/murmur__201101051104.wav',\n",
       " '../data/heartbeat-sounds/set_a/Aunlabelledtest__201103232251.wav',\n",
       " '../data/heartbeat-sounds/set_a/artifact__201105280851.wav',\n",
       " '../data/heartbeat-sounds/set_a/Aunlabelledtest__201106120928.wav',\n",
       " '../data/heartbeat-sounds/set_a/normal__201102081152.wav',\n",
       " '../data/heartbeat-sounds/set_a/normal__201101070538.wav',\n",
       " '../data/heartbeat-sounds/set_a/murmur__201108222227.wav',\n",
       " '../data/heartbeat-sounds/set_a/normal__201103140822.wav',\n",
       " '../data/heartbeat-sounds/set_a/murmur__201108222233.wav',\n",
       " '../data/heartbeat-sounds/set_a/murmur__201101180902.wav',\n",
       " '../data/heartbeat-sounds/set_a/normal__201103151912.wav',\n",
       " '../data/heartbeat-sounds/set_a/artifact__201106031558.wav',\n",
       " '../data/heartbeat-sounds/set_a/normal__201108011115.wav',\n",
       " '../data/heartbeat-sounds/set_a/Aunlabelledtest__201108011116.wav',\n",
       " '../data/heartbeat-sounds/set_a/murmur__201108222235.wav',\n",
       " '../data/heartbeat-sounds/set_a/murmur__201101051114.wav',\n",
       " '../data/heartbeat-sounds/set_a/extrahls__201104140118.wav',\n",
       " '../data/heartbeat-sounds/set_a/Aunlabelledtest__201108011113.wav',\n",
       " '../data/heartbeat-sounds/set_a/Aunlabelledtest__201106030607.wav',\n",
       " '../data/heartbeat-sounds/set_a/Aunlabelledtest__20110501548.wav',\n",
       " '../data/heartbeat-sounds/set_a/Aunlabelledtest__201108222257.wav',\n",
       " '../data/heartbeat-sounds/set_a/Aunlabelledtest__201102081033.wav',\n",
       " '../data/heartbeat-sounds/set_a/artifact__201106220340.wav',\n",
       " '../data/heartbeat-sounds/set_a/normal__201103101140.wav',\n",
       " '../data/heartbeat-sounds/set_a/artifact__201106211041.wav',\n",
       " '../data/heartbeat-sounds/set_a/artifact__201106131834.wav',\n",
       " '../data/heartbeat-sounds/set_a/artifact__201106171003.wav',\n",
       " '../data/heartbeat-sounds/set_a/normal__201102081321.wav',\n",
       " '../data/heartbeat-sounds/set_a/normal__201106221450.wav',\n",
       " '../data/heartbeat-sounds/set_a/murmur__201104021355.wav',\n",
       " '../data/heartbeat-sounds/set_a/artifact__201106161016.wav',\n",
       " '../data/heartbeat-sounds/set_a/artifact__201106110909.wav',\n",
       " '../data/heartbeat-sounds/set_a/artifact__201106101955.wav',\n",
       " '../data/heartbeat-sounds/set_a/murmur__201103291548.wav',\n",
       " '../data/heartbeat-sounds/set_a/murmur__201108222251.wav',\n",
       " '../data/heartbeat-sounds/set_a/artifact__201106070537.wav',\n",
       " '../data/heartbeat-sounds/set_a/artifact__201106161219.wav',\n",
       " '../data/heartbeat-sounds/set_a/Aunlabelledtest__201106061104.wav',\n",
       " '../data/heartbeat-sounds/set_a/Aunlabelledtest__201102200848.wav',\n",
       " '../data/heartbeat-sounds/set_a/Aunlabelledtest__201101241434.wav',\n",
       " '../data/heartbeat-sounds/set_a/normal__201104122156.wav',\n",
       " '../data/heartbeat-sounds/set_a/artifact__201106040947.wav',\n",
       " '../data/heartbeat-sounds/set_a/normal__201106111136.wav',\n",
       " '../data/heartbeat-sounds/set_a/murmur__201108222252.wav',\n",
       " '../data/heartbeat-sounds/set_a/Aunlabelledtest__2011040239.wav',\n",
       " '../data/heartbeat-sounds/set_a/Aunlabelledtest__201101051105.wav',\n",
       " '../data/heartbeat-sounds/set_a/artifact__201106021541.wav',\n",
       " '../data/heartbeat-sounds/set_a/murmur__201108222245.wav',\n",
       " '../data/heartbeat-sounds/set_a/normal__201102270940.wav',\n",
       " '../data/heartbeat-sounds/set_a/murmur__201108222256.wav',\n",
       " '../data/heartbeat-sounds/set_a/artifact__201106121445.wav',\n",
       " '../data/heartbeat-sounds/set_a/normal__201106151236.wav',\n",
       " '../data/heartbeat-sounds/set_a/murmur__201108222226.wav',\n",
       " '../data/heartbeat-sounds/set_a/Aunlabelledtest__201103200518.wav',\n",
       " '../data/heartbeat-sounds/set_a/Aunlabelledtest__201106010807.wav',\n",
       " '../data/heartbeat-sounds/set_a/murmur__201106141148.wav',\n",
       " '../data/heartbeat-sounds/set_a/Aunlabelledtest__201012172010.wav',\n",
       " '../data/heartbeat-sounds/set_a/extrahls__201104270459.wav',\n",
       " '../data/heartbeat-sounds/set_a/murmur__201102052338.wav',\n",
       " '../data/heartbeat-sounds/set_a/artifact__201106040933.wav',\n",
       " '../data/heartbeat-sounds/set_a/Aunlabelledtest__201105031730.wav',\n",
       " '../data/heartbeat-sounds/set_a/Aunlabelledtest__201108222228.wav',\n",
       " '../data/heartbeat-sounds/set_a/artifact__201106040722.wav',\n",
       " '../data/heartbeat-sounds/set_a/extrahls__201102070251.wav',\n",
       " '../data/heartbeat-sounds/set_a/normal__201106141148.wav',\n",
       " '../data/heartbeat-sounds/set_a/normal__201106221418.wav',\n",
       " '../data/heartbeat-sounds/set_a/Aunlabelledtest__201103201314.wav',\n",
       " '../data/heartbeat-sounds/set_a/extrahls__201101070953.wav',\n",
       " '../data/heartbeat-sounds/set_a/artifact__201106212112.wav',\n",
       " '../data/heartbeat-sounds/set_a/Aunlabelledtest__201106061215.wav',\n",
       " '../data/heartbeat-sounds/set_a/normal__201108011114.wav',\n",
       " '../data/heartbeat-sounds/set_a/Aunlabelledtest__201103241336.wav',\n",
       " '../data/heartbeat-sounds/set_a/artifact__201105040918.wav',\n",
       " '../data/heartbeat-sounds/set_a/murmur__201101051108.wav',\n",
       " '../data/heartbeat-sounds/set_a/extrahls__201103182227.wav',\n",
       " '../data/heartbeat-sounds/set_a/normal__201102201230.wav',\n",
       " '../data/heartbeat-sounds/set_a/Aunlabelledtest__201101091156.wav',\n",
       " '../data/heartbeat-sounds/set_a/Aunlabelledtest__201106100606.wav',\n",
       " '../data/heartbeat-sounds/set_a/normal__201105021654.wav',\n",
       " '../data/heartbeat-sounds/set_a/extrahls__201101161027.wav',\n",
       " '../data/heartbeat-sounds/set_a/Aunlabelledtest__201102081045.wav',\n",
       " '../data/heartbeat-sounds/set_a/murmur__201108222242.wav',\n",
       " '../data/heartbeat-sounds/set_a/artifact__201106141701.wav',\n",
       " '../data/heartbeat-sounds/set_a/artifact__201106010559.wav',\n",
       " '../data/heartbeat-sounds/set_a/murmur__201108222224.wav',\n",
       " '../data/heartbeat-sounds/set_a/Aunlabelledtest__201101152256.wav',\n",
       " '../data/heartbeat-sounds/set_a/extrahls__201103150114.wav',\n",
       " '../data/heartbeat-sounds/set_a/Aunlabelledtest__201106150614.wav',\n",
       " '../data/heartbeat-sounds/set_a/artifact__201105061143.wav',\n",
       " '../data/heartbeat-sounds/set_a/Aunlabelledtest__201101061552.wav',\n",
       " '../data/heartbeat-sounds/set_a/Aunlabelledtest__201106130440.wav',\n",
       " '../data/heartbeat-sounds/set_a/normal__201108011112.wav',\n",
       " '../data/heartbeat-sounds/set_a/murmur__201104291843.wav',\n",
       " '../data/heartbeat-sounds/set_a/artifact__201106131835.wav',\n",
       " '../data/heartbeat-sounds/set_a/murmur__201108222221.wav',\n",
       " '../data/heartbeat-sounds/set_a/murmur__201108222253.wav',\n",
       " '../data/heartbeat-sounds/set_a/extrahls__201101241423.wav',\n",
       " '../data/heartbeat-sounds/set_a/murmur__201108222243.wav',\n",
       " '../data/heartbeat-sounds/set_a/normal__201105021804.wav',\n",
       " '../data/heartbeat-sounds/set_a/Aunlabelledtest__201106170857.wav',\n",
       " '../data/heartbeat-sounds/set_a/Aunlabelledtest__201108011111.wav',\n",
       " '../data/heartbeat-sounds/set_a/artifact__201106121242.wav',\n",
       " '../data/heartbeat-sounds/set_a/artifact__201106101314.wav',\n",
       " '../data/heartbeat-sounds/set_a/Aunlabelledtest__201103140236.wav',\n",
       " '../data/heartbeat-sounds/set_a/artifact__201106010602.wav',\n",
       " '../data/heartbeat-sounds/set_a/normal__201101151127.wav',\n",
       " '../data/heartbeat-sounds/set_a/Aunlabelledtest__201108222244.wav',\n",
       " '../data/heartbeat-sounds/set_a/Aunlabelledtest__201106031556.wav',\n",
       " '../data/heartbeat-sounds/set_a/artifact__201106070949.wav',\n",
       " '../data/heartbeat-sounds/set_a/artifact__201105051017.wav',\n",
       " '../data/heartbeat-sounds/set_a/normal__201103140135.wav',\n",
       " '../data/heartbeat-sounds/set_a/murmur__201108222258.wav',\n",
       " '../data/heartbeat-sounds/set_a/murmur__201104241315.wav']"
      ]
     },
     "execution_count": 27,
     "metadata": {},
     "output_type": "execute_result"
    }
   ],
   "source": [
    "all_sounds_a"
   ]
  },
  {
   "cell_type": "code",
   "execution_count": 28,
   "metadata": {},
   "outputs": [],
   "source": [
    "filepath_sounds_b = os.path.join('..', 'data', 'heartbeat-sounds', 'set_b')"
   ]
  },
  {
   "cell_type": "code",
   "execution_count": 29,
   "metadata": {},
   "outputs": [],
   "source": [
    "all_sounds_b = getListOfFiles(filepath_sounds_b)"
   ]
  },
  {
   "cell_type": "markdown",
   "metadata": {},
   "source": [
    "<h3> Dropping files with no corresponding labels"
   ]
  },
  {
   "cell_type": "code",
   "execution_count": 30,
   "metadata": {},
   "outputs": [],
   "source": [
    "# Lets reload our lists of indexes for NAN labels and save them as numpy arrays.\n",
    "\n",
    "NAN_labels_a = np.array(NAN_labels_a)\n",
    "\n",
    "NAN_labels_b = np.array(NAN_labels_b)"
   ]
  },
  {
   "cell_type": "code",
   "execution_count": 31,
   "metadata": {},
   "outputs": [],
   "source": [
    "NAN_labels_a = ['../../data/heartbeat-sounds/'+NAN_labels_a[e] for e in range(len(NAN_labels_a))]"
   ]
  },
  {
   "cell_type": "code",
   "execution_count": 32,
   "metadata": {},
   "outputs": [],
   "source": [
    "all_sounds_a_modified = all_sounds_a\n",
    "all_sounds_a_modified = [s.replace('normal', '') for s in all_sounds_a_modified]\n",
    "all_sounds_a_modified = [s.replace('Aunlabelledtest', '') for s in all_sounds_a_modified]\n",
    "all_sounds_a_modified = [s.replace('extrahls', '') for s in all_sounds_a_modified]\n",
    "all_sounds_a_modified = [s.replace('artifact', '') for s in all_sounds_a_modified]\n",
    "all_sounds_a_modified = [s.replace('murmur', '') for s in all_sounds_a_modified]"
   ]
  },
  {
   "cell_type": "code",
   "execution_count": 33,
   "metadata": {},
   "outputs": [],
   "source": [
    "sounds_a_to_be_dropped = []\n",
    "for i in range(len(all_sounds_a_modified)):\n",
    "    if all_sounds_a_modified[i] in NAN_labels_a:\n",
    "        sounds_a_to_be_dropped.append(i)"
   ]
  },
  {
   "cell_type": "code",
   "execution_count": 34,
   "metadata": {},
   "outputs": [],
   "source": [
    "all_sounds_a_cleaned = []\n",
    "for i in range(len(all_sounds_a)):\n",
    "    if i not in sounds_a_to_be_dropped:\n",
    "        all_sounds_a_cleaned.append(all_sounds_a[i])"
   ]
  },
  {
   "cell_type": "code",
   "execution_count": 35,
   "metadata": {},
   "outputs": [
    {
     "data": {
      "text/plain": [
       "176"
      ]
     },
     "execution_count": 35,
     "metadata": {},
     "output_type": "execute_result"
    }
   ],
   "source": [
    "len(all_sounds_a_cleaned)"
   ]
  },
  {
   "cell_type": "code",
   "execution_count": 36,
   "metadata": {
    "scrolled": true
   },
   "outputs": [
    {
     "data": {
      "text/plain": [
       "['../data/heartbeat-sounds/set_b/extrastole__194_1308139824187_B.wav',\n",
       " '../data/heartbeat-sounds/set_b/normal_noisynormal_157_1306937583792_A.wav',\n",
       " '../data/heartbeat-sounds/set_b/Bunlabelledtest__195_1308140095331_D.wav',\n",
       " '../data/heartbeat-sounds/set_b/Bunlabelledtest__155_1306935902813_D.wav',\n",
       " '../data/heartbeat-sounds/set_b/normal__181_1308052613891_D.wav',\n",
       " '../data/heartbeat-sounds/set_b/Bunlabelledtest__157_1306937583792_C.wav',\n",
       " '../data/heartbeat-sounds/set_b/normal_noisynormal_284_1311168471850_B.wav',\n",
       " '../data/heartbeat-sounds/set_b/murmur__197_1308141235553_C.wav',\n",
       " '../data/heartbeat-sounds/set_b/Bunlabelledtest__108_1305654420093_C.wav',\n",
       " '../data/heartbeat-sounds/set_b/Bunlabelledtest__134_1306428161797_B.wav',\n",
       " '../data/heartbeat-sounds/set_b/normal_noisynormal_144_1306522408528_C.wav',\n",
       " '../data/heartbeat-sounds/set_b/normal_noisynormal_271_1309369876160_D.wav',\n",
       " '../data/heartbeat-sounds/set_b/normal_noisynormal_129_1306344506305_C.wav',\n",
       " '../data/heartbeat-sounds/set_b/normal__177_1307989650056_A1.wav',\n",
       " '../data/heartbeat-sounds/set_b/normal_noisynormal_285_1311169246969_C.wav',\n",
       " '../data/heartbeat-sounds/set_b/normal__218_1308246311449_C.wav',\n",
       " '../data/heartbeat-sounds/set_b/normal_noisynormal_181_1308052613891_A.wav',\n",
       " '../data/heartbeat-sounds/set_b/normal__209_1308162216750_A.wav',\n",
       " '../data/heartbeat-sounds/set_b/Bunlabelledtest__118_1306262335509_C2.wav',\n",
       " '../data/heartbeat-sounds/set_b/normal__125_1306332456645_B.wav',\n",
       " '../data/heartbeat-sounds/set_b/normal_noisynormal_194_1308139824187_C.wav',\n",
       " '../data/heartbeat-sounds/set_b/normal__202_1308145175747_C.wav',\n",
       " '../data/heartbeat-sounds/set_b/murmur__156_1306936373241_B.wav',\n",
       " '../data/heartbeat-sounds/set_b/normal_noisynormal_137_1306764999211_D1.wav',\n",
       " '../data/heartbeat-sounds/set_b/normal__232_1308748524018_A.wav',\n",
       " '../data/heartbeat-sounds/set_b/Bunlabelledtest__189_1308075231945_C.wav',\n",
       " '../data/heartbeat-sounds/set_b/Bunlabelledtest__147_1306523973811_D.wav',\n",
       " '../data/heartbeat-sounds/set_b/normal_noisynormal_134_1306428161797_D1.wav',\n",
       " '../data/heartbeat-sounds/set_b/Bunlabelledtest__235_1308749032454_D1.wav',\n",
       " '../data/heartbeat-sounds/set_b/Bunlabelledtest__159_1307018640315_A.wav',\n",
       " '../data/heartbeat-sounds/set_b/murmur_noisymurmur_240_1309201366049_D.wav',\n",
       " '../data/heartbeat-sounds/set_b/normal__113_1306244002866_D.wav',\n",
       " '../data/heartbeat-sounds/set_b/normal__127_1306764300147_C1.wav',\n",
       " '../data/heartbeat-sounds/set_b/Bunlabelledtest__290_1311182875320_B.wav',\n",
       " '../data/heartbeat-sounds/set_b/Bunlabelledtest__156_1306936373241_D.wav',\n",
       " '../data/heartbeat-sounds/set_b/normal_noisynormal_133_1306759619127_B1.wav',\n",
       " '../data/heartbeat-sounds/set_b/normal__146_1306778707532_D4.wav',\n",
       " '../data/heartbeat-sounds/set_b/murmur__165_1307109069581_C.wav',\n",
       " '../data/heartbeat-sounds/set_b/Bunlabelledtest__196_1308141034858_D.wav',\n",
       " '../data/heartbeat-sounds/set_b/Bunlabelledtest__296_1311682952647_A.wav',\n",
       " '../data/heartbeat-sounds/set_b/normal__210_1308162935880_D2.wav',\n",
       " '../data/heartbeat-sounds/set_b/normal_noisynormal_117_1306262456650_D.wav',\n",
       " '../data/heartbeat-sounds/set_b/Bunlabelledtest__163_1307104470471_B.wav',\n",
       " '../data/heartbeat-sounds/set_b/normal__217_1308246111629_C1.wav',\n",
       " '../data/heartbeat-sounds/set_b/normal__151_1306779785624_D.wav',\n",
       " '../data/heartbeat-sounds/set_b/Bunlabelledtest__146_1306778707532_D31.wav',\n",
       " '../data/heartbeat-sounds/set_b/normal_noisynormal_173_1307973611151_B.wav',\n",
       " '../data/heartbeat-sounds/set_b/Bunlabelledtest__231_1308748318393_B.wav',\n",
       " '../data/heartbeat-sounds/set_b/normal_noisynormal_141_1306520154450_C1.wav',\n",
       " '../data/heartbeat-sounds/set_b/normal__237_1308750231222_C.wav',\n",
       " '../data/heartbeat-sounds/set_b/normal__176_1307988171173_B.wav',\n",
       " '../data/heartbeat-sounds/set_b/normal__184_1308073010307_D.wav',\n",
       " '../data/heartbeat-sounds/set_b/Bunlabelledtest__240_1309196119795_D.wav',\n",
       " '../data/heartbeat-sounds/set_b/Bunlabelledtest__154_1306935608852_D.wav',\n",
       " '../data/heartbeat-sounds/set_b/Bunlabelledtest__165_1307109069581_B.wav',\n",
       " '../data/heartbeat-sounds/set_b/normal__154_1306935608852_B1.wav',\n",
       " '../data/heartbeat-sounds/set_b/normal_noisynormal_155_1306935902813_A.wav',\n",
       " '../data/heartbeat-sounds/set_b/normal_noisynormal_101_1305030823364_B.wav',\n",
       " '../data/heartbeat-sounds/set_b/normal__146_1306778707532_A.wav',\n",
       " '../data/heartbeat-sounds/set_b/murmur__116_1306258689913_A.wav',\n",
       " '../data/heartbeat-sounds/set_b/normal_noisynormal_125_1306332456645_D.wav',\n",
       " '../data/heartbeat-sounds/set_b/murmur__242_1309197394064_D.wav',\n",
       " '../data/heartbeat-sounds/set_b/normal_noisynormal_264_1309356143724_D.wav',\n",
       " '../data/heartbeat-sounds/set_b/murmur_noisymurmur_156_1306936373241_B1.wav',\n",
       " '../data/heartbeat-sounds/set_b/extrastole__294_1311681084248_C.wav',\n",
       " '../data/heartbeat-sounds/set_b/normal__220_1308250132896_D.wav',\n",
       " '../data/heartbeat-sounds/set_b/normal__133_1306759619127_B.wav',\n",
       " '../data/heartbeat-sounds/set_b/normal_noisynormal_157_1306937583792_B.wav',\n",
       " '../data/heartbeat-sounds/set_b/Bunlabelledtest__144_1306522408528_A.wav',\n",
       " '../data/heartbeat-sounds/set_b/normal__174_1307987737137_B1.wav',\n",
       " '../data/heartbeat-sounds/set_b/Bunlabelledtest__162_1307101835989_C.wav',\n",
       " '../data/heartbeat-sounds/set_b/Bunlabelledtest__217_1308246111629_A.wav',\n",
       " '../data/heartbeat-sounds/set_b/normal__148_1306768801551_D2.wav',\n",
       " '../data/heartbeat-sounds/set_b/normal_noisynormal_138_1306762146980_A.wav',\n",
       " '../data/heartbeat-sounds/set_b/normal_noisynormal_104_1305032492469_A.wav',\n",
       " '../data/heartbeat-sounds/set_b/normal__184_1308073010307_B.wav',\n",
       " '../data/heartbeat-sounds/set_b/normal__296_1311682952647_A2.wav',\n",
       " '../data/heartbeat-sounds/set_b/Bunlabelledtest__123_1306331925797_A.wav',\n",
       " '../data/heartbeat-sounds/set_b/murmur__193_1308078104592_C1.wav',\n",
       " '../data/heartbeat-sounds/set_b/Bunlabelledtest__179_1307990076841_D1.wav',\n",
       " '../data/heartbeat-sounds/set_b/murmur__292_1311185449649_B.wav',\n",
       " '../data/heartbeat-sounds/set_b/normal__176_1307988171173_A.wav',\n",
       " '../data/heartbeat-sounds/set_b/normal__146_1306778707532_D1.wav',\n",
       " '../data/heartbeat-sounds/set_b/normal_noisynormal_109_1305653972028_C.wav',\n",
       " '../data/heartbeat-sounds/set_b/Bunlabelledtest__287_1311170903290_D.wav',\n",
       " '../data/heartbeat-sounds/set_b/extrastole__237_1308750231222_A.wav',\n",
       " '../data/heartbeat-sounds/set_b/normal_noisynormal_110_1305655332337_A.wav',\n",
       " '../data/heartbeat-sounds/set_b/murmur__116_1306258689913_C.wav',\n",
       " '../data/heartbeat-sounds/set_b/murmur__112_1306243000964_B.wav',\n",
       " '../data/heartbeat-sounds/set_b/normal__159_1307018640315_B1.wav',\n",
       " '../data/heartbeat-sounds/set_b/Bunlabelledtest__148_1306768801551_A.wav',\n",
       " '../data/heartbeat-sounds/set_b/normal_noisynormal_188_1308074301731_A.wav',\n",
       " '../data/heartbeat-sounds/set_b/normal__140_1306519735121_D1.wav',\n",
       " '../data/heartbeat-sounds/set_b/normal__115_1306259437619_C.wav',\n",
       " '../data/heartbeat-sounds/set_b/murmur__276_1311162716489_C.wav',\n",
       " '../data/heartbeat-sounds/set_b/normal__146_1306778707532_B.wav',\n",
       " '../data/heartbeat-sounds/set_b/Bunlabelledtest__172_1307971284351_D.wav',\n",
       " '../data/heartbeat-sounds/set_b/murmur__254_1309350589009_A1.wav',\n",
       " '../data/heartbeat-sounds/set_b/Bunlabelledtest__107_1305654946865_D.wav',\n",
       " '../data/heartbeat-sounds/set_b/Bunlabelledtest__280_1311165195344_B.wav',\n",
       " '../data/heartbeat-sounds/set_b/extrastole__138_1306762146980_B.wav',\n",
       " '../data/heartbeat-sounds/set_b/normal__147_1306523973811_C.wav',\n",
       " '../data/heartbeat-sounds/set_b/Bunlabelledtest__189_1308075231945_A.wav',\n",
       " '../data/heartbeat-sounds/set_b/Bunlabelledtest__268_1309368960960_A.wav',\n",
       " '../data/heartbeat-sounds/set_b/extrastole__261_1309353556003_C.wav',\n",
       " '../data/heartbeat-sounds/set_b/murmur__122_1306325762831_C.wav',\n",
       " '../data/heartbeat-sounds/set_b/murmur_noisymurmur_288_1311164615284_C.wav',\n",
       " '../data/heartbeat-sounds/set_b/normal_noisynormal_118_1306262335509_D.wav',\n",
       " '../data/heartbeat-sounds/set_b/normal__141_1306520154450_C.wav',\n",
       " '../data/heartbeat-sounds/set_b/murmur__162_1307101835989_B.wav',\n",
       " '../data/heartbeat-sounds/set_b/murmur__164_1307106095995_B.wav',\n",
       " '../data/heartbeat-sounds/set_b/normal__218_1308246311449_C1.wav',\n",
       " '../data/heartbeat-sounds/set_b/Bunlabelledtest__201_1308144942432_B.wav',\n",
       " '../data/heartbeat-sounds/set_b/normal__139_1306519274653_A.wav',\n",
       " '../data/heartbeat-sounds/set_b/Bunlabelledtest__154_1306935608852_A2.wav',\n",
       " '../data/heartbeat-sounds/set_b/extrastole__179_1307990076841_C.wav',\n",
       " '../data/heartbeat-sounds/set_b/normal__148_1306768801551_C1.wav',\n",
       " '../data/heartbeat-sounds/set_b/normal__106_1306776721273_C1.wav',\n",
       " '../data/heartbeat-sounds/set_b/Bunlabelledtest__148_1306768801551_D.wav',\n",
       " '../data/heartbeat-sounds/set_b/murmur__122_1306325762831_D.wav',\n",
       " '../data/heartbeat-sounds/set_b/normal__286_1311170606028_A.wav',\n",
       " '../data/heartbeat-sounds/set_b/normal_noisynormal_264_1309356143724_C.wav',\n",
       " '../data/heartbeat-sounds/set_b/normal_noisynormal_129_1306344506305_A.wav',\n",
       " '../data/heartbeat-sounds/set_b/normal__137_1306764999211_C.wav',\n",
       " '../data/heartbeat-sounds/set_b/Bunlabelledtest__109_1305653646620_B.wav',\n",
       " '../data/heartbeat-sounds/set_b/normal_noisynormal_136_1306429977501_D1.wav',\n",
       " '../data/heartbeat-sounds/set_b/Bunlabelledtest__109_1305653646620_D.wav',\n",
       " '../data/heartbeat-sounds/set_b/normal__170_1307970562729_A.wav',\n",
       " '../data/heartbeat-sounds/set_b/normal_noisynormal_127_1306764300147_D1.wav',\n",
       " '../data/heartbeat-sounds/set_b/extrastole__191_1308077299430_A.wav',\n",
       " '../data/heartbeat-sounds/set_b/normal_noisynormal_170_1307970562729_C1.wav',\n",
       " '../data/heartbeat-sounds/set_b/Bunlabelledtest__282_1311166081161_D.wav',\n",
       " '../data/heartbeat-sounds/set_b/Bunlabelledtest__296_1311682952647_B.wav',\n",
       " '../data/heartbeat-sounds/set_b/normal__296_1311682952647_A1.wav',\n",
       " '../data/heartbeat-sounds/set_b/normal_noisynormal_130_1306347376079_B.wav',\n",
       " '../data/heartbeat-sounds/set_b/normal__278_1311163365896_A1.wav',\n",
       " '../data/heartbeat-sounds/set_b/Bunlabelledtest__139_1306519274653_C.wav',\n",
       " '../data/heartbeat-sounds/set_b/normal_noisynormal_173_1307973611151_C1.wav',\n",
       " '../data/heartbeat-sounds/set_b/normal__190_1308076920011_C1.wav',\n",
       " '../data/heartbeat-sounds/set_b/Bunlabelledtest__171_1307971016233_F.wav',\n",
       " '../data/heartbeat-sounds/set_b/normal__215_1308245664733_C.wav',\n",
       " '../data/heartbeat-sounds/set_b/Bunlabelledtest__174_1307987737137_C.wav',\n",
       " '../data/heartbeat-sounds/set_b/normal__128_1306344005749_B.wav',\n",
       " '../data/heartbeat-sounds/set_b/extrastole__144_1306522408528_B1.wav',\n",
       " '../data/heartbeat-sounds/set_b/Bunlabelledtest__109_1305653972028_B.wav',\n",
       " '../data/heartbeat-sounds/set_b/murmur_noisymurmur_171_1307971016233_F.wav',\n",
       " '../data/heartbeat-sounds/set_b/normal__126_1306777102824_B.wav',\n",
       " '../data/heartbeat-sounds/set_b/normal__152_1306779561195_D.wav',\n",
       " '../data/heartbeat-sounds/set_b/murmur_noisymurmur_165_1307109069581_C1.wav',\n",
       " '../data/heartbeat-sounds/set_b/normal_noisynormal_121_1306263877235_D.wav',\n",
       " '../data/heartbeat-sounds/set_b/murmur__160_1307100683334_A.wav',\n",
       " '../data/heartbeat-sounds/set_b/Bunlabelledtest__284_1311168471850_C.wav',\n",
       " '../data/heartbeat-sounds/set_b/normal__179_1307990076841_B.wav',\n",
       " '../data/heartbeat-sounds/set_b/normal_noisynormal_109_1305653972028_E.wav',\n",
       " '../data/heartbeat-sounds/set_b/Bunlabelledtest__107_1305654946865_B.wav',\n",
       " '../data/heartbeat-sounds/set_b/normal_noisynormal_270_1309369533040_B.wav',\n",
       " '../data/heartbeat-sounds/set_b/normal__170_1307970562729_B.wav',\n",
       " '../data/heartbeat-sounds/set_b/normal__153_1306848820671_D1.wav',\n",
       " '../data/heartbeat-sounds/set_b/Bunlabelledtest__294_1311681084248_D.wav',\n",
       " '../data/heartbeat-sounds/set_b/normal_noisynormal_167_1307111318050_A1.wav',\n",
       " '../data/heartbeat-sounds/set_b/extrastole__202_1308145175747_C1.wav',\n",
       " '../data/heartbeat-sounds/set_b/normal_noisynormal_167_1307111318050_B.wav',\n",
       " '../data/heartbeat-sounds/set_b/normal_noisynormal_121_1306263877235_A.wav',\n",
       " '../data/heartbeat-sounds/set_b/murmur_noisymurmur_243_1309197760898_B.wav',\n",
       " '../data/heartbeat-sounds/set_b/normal_noisynormal_189_1308075231945_A1.wav',\n",
       " '../data/heartbeat-sounds/set_b/normal_noisynormal_296_1311682952647_C.wav',\n",
       " '../data/heartbeat-sounds/set_b/normal__215_1308245664733_C1.wav',\n",
       " '../data/heartbeat-sounds/set_b/normal_noisynormal_134_1306428161797_B1.wav',\n",
       " '../data/heartbeat-sounds/set_b/murmur__171_1307971016233_E.wav',\n",
       " '../data/heartbeat-sounds/set_b/murmur__239_1309195730333_C.wav',\n",
       " '../data/heartbeat-sounds/set_b/normal__227_1308594233667_C.wav',\n",
       " '../data/heartbeat-sounds/set_b/Bunlabelledtest__153_1306848820671_D.wav',\n",
       " '../data/heartbeat-sounds/set_b/normal__172_1307971284351_B.wav',\n",
       " '../data/heartbeat-sounds/set_b/Bunlabelledtest__164_1307106095995_D.wav',\n",
       " '../data/heartbeat-sounds/set_b/normal__128_1306344005749_D1.wav',\n",
       " '../data/heartbeat-sounds/set_b/murmur_noisymurmur_240_1309201366049_C.wav',\n",
       " '../data/heartbeat-sounds/set_b/extrastole__213_1308245263936_D.wav',\n",
       " '../data/heartbeat-sounds/set_b/Bunlabelledtest__220_1308250132896_A.wav',\n",
       " '../data/heartbeat-sounds/set_b/normal__167_1307111318050_A.wav',\n",
       " '../data/heartbeat-sounds/set_b/extrastole__184_1308073010307_A.wav',\n",
       " '../data/heartbeat-sounds/set_b/normal__173_1307973611151_C.wav',\n",
       " '../data/heartbeat-sounds/set_b/normal__154_1306935608852_B.wav',\n",
       " '../data/heartbeat-sounds/set_b/Bunlabelledtest__209_1308162216750_C.wav',\n",
       " '../data/heartbeat-sounds/set_b/extrastole__202_1308145175747_C2.wav',\n",
       " '../data/heartbeat-sounds/set_b/normal__134_1306428161797_C.wav',\n",
       " '../data/heartbeat-sounds/set_b/extrastole__198_1308141739338_B.wav',\n",
       " '../data/heartbeat-sounds/set_b/Bunlabelledtest__270_1309369533040_D.wav',\n",
       " '../data/heartbeat-sounds/set_b/Bunlabelledtest__243_1309197760898_D.wav',\n",
       " '../data/heartbeat-sounds/set_b/murmur__239_1309195730333_B.wav',\n",
       " '../data/heartbeat-sounds/set_b/Bunlabelledtest__156_1306936373241_C.wav',\n",
       " '../data/heartbeat-sounds/set_b/Bunlabelledtest__141_1306520154450_A.wav',\n",
       " '../data/heartbeat-sounds/set_b/normal__152_1306779561195_C1.wav',\n",
       " '../data/heartbeat-sounds/set_b/Bunlabelledtest__193_1308078104592_A.wav',\n",
       " '../data/heartbeat-sounds/set_b/Bunlabelledtest__149_1306776016110_C.wav',\n",
       " '../data/heartbeat-sounds/set_b/Bunlabelledtest__245_1309200438094_C.wav',\n",
       " '../data/heartbeat-sounds/set_b/normal_noisynormal_296_1311682952647_D.wav',\n",
       " '../data/heartbeat-sounds/set_b/Bunlabelledtest__242_1309197394064_C.wav',\n",
       " '../data/heartbeat-sounds/set_b/Bunlabelledtest__278_1311163365896_D.wav',\n",
       " '../data/heartbeat-sounds/set_b/normal__129_1306344506305_B1.wav',\n",
       " '../data/heartbeat-sounds/set_b/normal_noisynormal_109_1305653972028_A.wav',\n",
       " '../data/heartbeat-sounds/set_b/murmur_noisymurmur_165_1307109069581_A.wav',\n",
       " '../data/heartbeat-sounds/set_b/Bunlabelledtest__163_1307104470471_D.wav',\n",
       " '../data/heartbeat-sounds/set_b/murmur__197_1308141235553_A.wav',\n",
       " '../data/heartbeat-sounds/set_b/normal__256_1309351470137_A.wav',\n",
       " '../data/heartbeat-sounds/set_b/normal__183_1308072703477_B.wav',\n",
       " '../data/heartbeat-sounds/set_b/Bunlabelledtest__117_1306262456650_B1.wav',\n",
       " '../data/heartbeat-sounds/set_b/murmur__185_1308073325396_B.wav',\n",
       " '../data/heartbeat-sounds/set_b/normal__181_1308052613891_B.wav',\n",
       " '../data/heartbeat-sounds/set_b/normal_noisynormal_178_1307989887769_B1.wav',\n",
       " '../data/heartbeat-sounds/set_b/murmur__162_1307101835989_A.wav',\n",
       " '../data/heartbeat-sounds/set_b/extrastole__237_1308750231222_C.wav',\n",
       " '../data/heartbeat-sounds/set_b/Bunlabelledtest__214_1308245489717_A1.wav',\n",
       " '../data/heartbeat-sounds/set_b/Bunlabelledtest__105_1305033453095_D.wav',\n",
       " '../data/heartbeat-sounds/set_b/Bunlabelledtest__135_1306428972976_D.wav',\n",
       " '../data/heartbeat-sounds/set_b/Bunlabelledtest__138_1306762146980_C.wav',\n",
       " '../data/heartbeat-sounds/set_b/murmur__288_1311164615284_D.wav',\n",
       " '../data/heartbeat-sounds/set_b/normal__129_1306344506305_D.wav',\n",
       " '../data/heartbeat-sounds/set_b/normal__194_1308139824187_A1.wav',\n",
       " '../data/heartbeat-sounds/set_b/murmur__248_1309201683806_C.wav',\n",
       " '../data/heartbeat-sounds/set_b/normal__210_1308162935880_B1.wav',\n",
       " '../data/heartbeat-sounds/set_b/normal__213_1308245263936_C.wav',\n",
       " '../data/heartbeat-sounds/set_b/Bunlabelledtest__274_1311075637574_C.wav',\n",
       " '../data/heartbeat-sounds/set_b/normal_noisynormal_149_1306776016110_A.wav',\n",
       " '../data/heartbeat-sounds/set_b/normal_noisynormal_159_1307018640315_A1.wav',\n",
       " '../data/heartbeat-sounds/set_b/Bunlabelledtest__194_1308139824187_C.wav',\n",
       " '../data/heartbeat-sounds/set_b/Bunlabelledtest__129_1306344506305_B.wav',\n",
       " '../data/heartbeat-sounds/set_b/Bunlabelledtest__271_1309369876160_B.wav',\n",
       " '../data/heartbeat-sounds/set_b/murmur__292_1311185449649_C.wav',\n",
       " '../data/heartbeat-sounds/set_b/Bunlabelledtest__172_1307971284351_C.wav',\n",
       " '../data/heartbeat-sounds/set_b/normal__103_1305031931979_B.wav',\n",
       " '../data/heartbeat-sounds/set_b/Bunlabelledtest__278_1311163365896_C.wav',\n",
       " '../data/heartbeat-sounds/set_b/normal_noisynormal_137_1306764999211_A2.wav',\n",
       " '../data/heartbeat-sounds/set_b/normal_noisynormal_133_1306759619127_D1.wav',\n",
       " '../data/heartbeat-sounds/set_b/normal__274_1311075637574_D.wav',\n",
       " '../data/heartbeat-sounds/set_b/Bunlabelledtest__300_1311772096120_C.wav',\n",
       " '../data/heartbeat-sounds/set_b/normal__106_1306776721273_B1.wav',\n",
       " '../data/heartbeat-sounds/set_b/normal__290_1311182875320_A.wav',\n",
       " '../data/heartbeat-sounds/set_b/normal_noisynormal_139_1306519274653_D.wav',\n",
       " '../data/heartbeat-sounds/set_b/Bunlabelledtest__237_1308750231222_C1.wav',\n",
       " '../data/heartbeat-sounds/set_b/normal__232_1308748524018_B.wav',\n",
       " '../data/heartbeat-sounds/set_b/Bunlabelledtest__245_1309198844065_A.wav',\n",
       " '../data/heartbeat-sounds/set_b/normal_noisynormal_142_1306763049574_B.wav',\n",
       " '../data/heartbeat-sounds/set_b/murmur_noisymurmur_135_1306428972976_C.wav',\n",
       " '../data/heartbeat-sounds/set_b/normal_noisynormal_169_1307970398039_A.wav',\n",
       " '../data/heartbeat-sounds/set_b/murmur__223_1308337062581_D.wav',\n",
       " '../data/heartbeat-sounds/set_b/Bunlabelledtest__204_1308159229275_B1.wav',\n",
       " '../data/heartbeat-sounds/set_b/Bunlabelledtest__171_1307971016233_C.wav',\n",
       " '../data/heartbeat-sounds/set_b/extrastole__274_1311075637574_A.wav',\n",
       " '../data/heartbeat-sounds/set_b/normal__300_1311772096120_C1.wav',\n",
       " '../data/heartbeat-sounds/set_b/normal__274_1311075637574_A1.wav',\n",
       " '../data/heartbeat-sounds/set_b/normal__262_1309355283807_A.wav',\n",
       " '../data/heartbeat-sounds/set_b/normal__186_1308073648738_D.wav',\n",
       " '../data/heartbeat-sounds/set_b/normal__103_1305031931979_D1.wav',\n",
       " '../data/heartbeat-sounds/set_b/normal__140_1306519735121_A.wav',\n",
       " '../data/heartbeat-sounds/set_b/extrastole__154_1306935608852_D2.wav',\n",
       " '../data/heartbeat-sounds/set_b/normal__224_1308337157445_C.wav',\n",
       " '../data/heartbeat-sounds/set_b/Bunlabelledtest__180_1307990956284_D.wav',\n",
       " '../data/heartbeat-sounds/set_b/Bunlabelledtest__151_1306779785624_A1.wav',\n",
       " '../data/heartbeat-sounds/set_b/normal__210_1308162935880_D1.wav',\n",
       " '../data/heartbeat-sounds/set_b/normal_noisynormal_140_1306519735121_C.wav',\n",
       " '../data/heartbeat-sounds/set_b/extrastole__148_1306768801551_B.wav',\n",
       " '../data/heartbeat-sounds/set_b/normal__186_1308073648738_C1.wav',\n",
       " '../data/heartbeat-sounds/set_b/normal__173_1307973611151_B.wav',\n",
       " '../data/heartbeat-sounds/set_b/normal_noisynormal_136_1306429977501_B.wav',\n",
       " '../data/heartbeat-sounds/set_b/murmur__281_1311165683454_A.wav',\n",
       " '../data/heartbeat-sounds/set_b/Bunlabelledtest__300_1311772096120_B.wav',\n",
       " '../data/heartbeat-sounds/set_b/murmur_noisymurmur_161_1307101199321_C.wav',\n",
       " '../data/heartbeat-sounds/set_b/Bunlabelledtest__248_1309201683806_B.wav',\n",
       " '../data/heartbeat-sounds/set_b/Bunlabelledtest__122_1306325762831_B.wav',\n",
       " '../data/heartbeat-sounds/set_b/normal__153_1306848820671_B.wav',\n",
       " '../data/heartbeat-sounds/set_b/extrastole__144_1306522408528_B.wav',\n",
       " '../data/heartbeat-sounds/set_b/normal__250_1309202496494_A.wav',\n",
       " '../data/heartbeat-sounds/set_b/murmur__240_1309196119795_B.wav',\n",
       " '../data/heartbeat-sounds/set_b/normal__168_1307970069434_A.wav',\n",
       " '../data/heartbeat-sounds/set_b/normal_noisynormal_125_1306332456645_A2.wav',\n",
       " '../data/heartbeat-sounds/set_b/extrastole__215_1308245664733_B.wav',\n",
       " '../data/heartbeat-sounds/set_b/normal__141_1306520154450_B.wav',\n",
       " '../data/heartbeat-sounds/set_b/Bunlabelledtest__121_1306263877235_B.wav',\n",
       " '../data/heartbeat-sounds/set_b/Bunlabelledtest__210_1308162935880_D.wav',\n",
       " '../data/heartbeat-sounds/set_b/Bunlabelledtest__137_1306764999211_D2.wav',\n",
       " '../data/heartbeat-sounds/set_b/murmur__293_1311680805936_B1.wav',\n",
       " '../data/heartbeat-sounds/set_b/murmur_noisymurmur_293_1311680805936_C.wav',\n",
       " '../data/heartbeat-sounds/set_b/normal__177_1307989650056_D.wav',\n",
       " '../data/heartbeat-sounds/set_b/normal__227_1308594233667_B.wav',\n",
       " '../data/heartbeat-sounds/set_b/Bunlabelledtest__229_1308594979317_C.wav',\n",
       " '../data/heartbeat-sounds/set_b/normal_noisynormal_109_1305653646620_A.wav',\n",
       " '../data/heartbeat-sounds/set_b/extrastole__128_1306344005749_A.wav',\n",
       " '../data/heartbeat-sounds/set_b/normal__294_1311681084248_B.wav',\n",
       " '../data/heartbeat-sounds/set_b/normal_noisynormal_110_1305655332337_B.wav',\n",
       " '../data/heartbeat-sounds/set_b/normal__175_1307987962616_B.wav',\n",
       " '../data/heartbeat-sounds/set_b/normal__291_1311185210672_A.wav',\n",
       " '../data/heartbeat-sounds/set_b/normal_noisynormal_144_1306522408528_A1.wav',\n",
       " '../data/heartbeat-sounds/set_b/Bunlabelledtest__207_1308159792607_B3.wav',\n",
       " '../data/heartbeat-sounds/set_b/Bunlabelledtest__167_1307111318050_C1.wav',\n",
       " '../data/heartbeat-sounds/set_b/Bunlabelledtest__217_1308246111629_D.wav',\n",
       " '../data/heartbeat-sounds/set_b/normal_noisynormal_182_1308053371395_B.wav',\n",
       " '../data/heartbeat-sounds/set_b/normal_noisynormal_132_1306758754432_B1.wav',\n",
       " '../data/heartbeat-sounds/set_b/normal_noisynormal_108_1305654420093_B.wav',\n",
       " '../data/heartbeat-sounds/set_b/normal__145_1307987561278_C.wav',\n",
       " '../data/heartbeat-sounds/set_b/normal__153_1306848820671_B1.wav',\n",
       " '../data/heartbeat-sounds/set_b/normal_noisynormal_271_1309369876160_C.wav',\n",
       " '../data/heartbeat-sounds/set_b/Bunlabelledtest__141_1306520154450_D.wav',\n",
       " '../data/heartbeat-sounds/set_b/normal__140_1306519735121_B.wav',\n",
       " '../data/heartbeat-sounds/set_b/extrastole__235_1308749032454_B.wav',\n",
       " '../data/heartbeat-sounds/set_b/normal_noisynormal_133_1306759619127_A1.wav',\n",
       " '../data/heartbeat-sounds/set_b/Bunlabelledtest__146_1306778707532_C.wav',\n",
       " '../data/heartbeat-sounds/set_b/normal__198_1308141739338_C.wav',\n",
       " '../data/heartbeat-sounds/set_b/murmur_noisymurmur_293_1311680805936_D.wav',\n",
       " '../data/heartbeat-sounds/set_b/normal_noisynormal_136_1306429977501_C.wav',\n",
       " '../data/heartbeat-sounds/set_b/normal_noisynormal_258_1309352253234_A.wav',\n",
       " '../data/heartbeat-sounds/set_b/Bunlabelledtest__143_1306763822290_D.wav',\n",
       " '../data/heartbeat-sounds/set_b/Bunlabelledtest__101_1305030823364_A.wav',\n",
       " '../data/heartbeat-sounds/set_b/normal__235_1308749032454_D.wav',\n",
       " '../data/heartbeat-sounds/set_b/Bunlabelledtest__212_1308245076477_C.wav',\n",
       " '../data/heartbeat-sounds/set_b/murmur__116_1306258689913_D.wav',\n",
       " '../data/heartbeat-sounds/set_b/normal__278_1311163365896_A.wav',\n",
       " '../data/heartbeat-sounds/set_b/murmur__211_1308163238707_C.wav',\n",
       " '../data/heartbeat-sounds/set_b/normal_noisynormal_142_1306763049574_D.wav',\n",
       " '../data/heartbeat-sounds/set_b/murmur__254_1309350589009_A.wav',\n",
       " '../data/heartbeat-sounds/set_b/normal_noisynormal_163_1307104470471_D1.wav',\n",
       " '../data/heartbeat-sounds/set_b/normal_noisynormal_123_1306331925797_B.wav',\n",
       " '../data/heartbeat-sounds/set_b/Bunlabelledtest__136_1306429977501_A.wav',\n",
       " '../data/heartbeat-sounds/set_b/murmur__200_1308144251434_C.wav',\n",
       " '../data/heartbeat-sounds/set_b/Bunlabelledtest__248_1309201683806_D.wav',\n",
       " '../data/heartbeat-sounds/set_b/extrastole__210_1308162935880_C.wav',\n",
       " '../data/heartbeat-sounds/set_b/normal__103_1305031931979_D2.wav',\n",
       " '../data/heartbeat-sounds/set_b/Bunlabelledtest__186_1308073648738_D1.wav',\n",
       " '../data/heartbeat-sounds/set_b/normal__127_1306764300147_B.wav',\n",
       " '../data/heartbeat-sounds/set_b/murmur__281_1311165683454_B.wav',\n",
       " '../data/heartbeat-sounds/set_b/Bunlabelledtest__152_1306779561195_B.wav',\n",
       " '../data/heartbeat-sounds/set_b/Bunlabelledtest__187_1308073994223_C.wav',\n",
       " '../data/heartbeat-sounds/set_b/Bunlabelledtest__116_1306258689913_B.wav',\n",
       " '../data/heartbeat-sounds/set_b/normal__274_1311075637574_B.wav',\n",
       " '../data/heartbeat-sounds/set_b/normal__149_1306776016110_C1.wav',\n",
       " '../data/heartbeat-sounds/set_b/Bunlabelledtest__255_1309351210897_B.wav',\n",
       " '../data/heartbeat-sounds/set_b/normal_noisynormal_158_1306947254705_B1.wav',\n",
       " '../data/heartbeat-sounds/set_b/normal_noisynormal_150_1306776340746_A.wav',\n",
       " '../data/heartbeat-sounds/set_b/Bunlabelledtest__113_1306244002866_C.wav',\n",
       " '../data/heartbeat-sounds/set_b/extrastole__207_1308159792607_B.wav',\n",
       " '../data/heartbeat-sounds/set_b/Bunlabelledtest__110_1305655332337_D.wav',\n",
       " '../data/heartbeat-sounds/set_b/murmur__242_1309197394064_B.wav',\n",
       " '../data/heartbeat-sounds/set_b/Bunlabelledtest__217_1308246111629_B.wav',\n",
       " '../data/heartbeat-sounds/set_b/extrastole__253_1309350256198_B.wav',\n",
       " '../data/heartbeat-sounds/set_b/Bunlabelledtest__145_1307987561278_A.wav',\n",
       " '../data/heartbeat-sounds/set_b/normal__126_1306777102824_C.wav',\n",
       " '../data/heartbeat-sounds/set_b/murmur__254_1309350589009_D.wav',\n",
       " '../data/heartbeat-sounds/set_b/normal_noisynormal_133_1306759619127_C.wav',\n",
       " '../data/heartbeat-sounds/set_b/murmur__160_1307100683334_B.wav',\n",
       " '../data/heartbeat-sounds/set_b/Bunlabelledtest__206_1308159601959_C1.wav',\n",
       " '../data/heartbeat-sounds/set_b/normal__147_1306523973811_A.wav',\n",
       " '../data/heartbeat-sounds/set_b/murmur_noisymurmur_185_1308073325396_D.wav',\n",
       " '../data/heartbeat-sounds/set_b/Bunlabelledtest__222_1308336218979_B.wav',\n",
       " '../data/heartbeat-sounds/set_b/normal__207_1308159792607_C.wav',\n",
       " '../data/heartbeat-sounds/set_b/Bunlabelledtest__154_1306935608852_D1.wav',\n",
       " '../data/heartbeat-sounds/set_b/normal__175_1307987962616_D.wav',\n",
       " '../data/heartbeat-sounds/set_b/Bunlabelledtest__106_1306776721273_B.wav',\n",
       " '../data/heartbeat-sounds/set_b/normal__159_1307018640315_B2.wav',\n",
       " '../data/heartbeat-sounds/set_b/normal__180_1307990956284_C.wav',\n",
       " '../data/heartbeat-sounds/set_b/normal__178_1307989887769_B.wav',\n",
       " '../data/heartbeat-sounds/set_b/Bunlabelledtest__145_1307987561278_D.wav',\n",
       " '../data/heartbeat-sounds/set_b/normal__230_1308595300880_B.wav',\n",
       " '../data/heartbeat-sounds/set_b/murmur_noisymurmur_164_1307106095995_C1.wav',\n",
       " '../data/heartbeat-sounds/set_b/Bunlabelledtest__109_1305653972028_D.wav',\n",
       " '../data/heartbeat-sounds/set_b/normal_noisynormal_264_1309356143724_B.wav',\n",
       " '../data/heartbeat-sounds/set_b/normal__150_1306776340746_B.wav',\n",
       " '../data/heartbeat-sounds/set_b/normal_noisynormal_141_1306520154450_B1.wav',\n",
       " '../data/heartbeat-sounds/set_b/Bunlabelledtest__227_1308594233667_D.wav',\n",
       " '../data/heartbeat-sounds/set_b/Bunlabelledtest__101_1305030823364_D.wav',\n",
       " '../data/heartbeat-sounds/set_b/Bunlabelledtest__178_1307989887769_A.wav',\n",
       " '../data/heartbeat-sounds/set_b/normal__204_1308159229275_C.wav',\n",
       " '../data/heartbeat-sounds/set_b/normal_noisynormal_118_1306262335509_B.wav',\n",
       " '../data/heartbeat-sounds/set_b/normal__137_1306764999211_D.wav',\n",
       " '../data/heartbeat-sounds/set_b/normal_noisynormal_115_1306259437619_A1.wav',\n",
       " '../data/heartbeat-sounds/set_b/normal__250_1309202496494_B.wav',\n",
       " '../data/heartbeat-sounds/set_b/normal__209_1308162216750_A1.wav',\n",
       " '../data/heartbeat-sounds/set_b/murmur__248_1309201683806_A.wav',\n",
       " '../data/heartbeat-sounds/set_b/Bunlabelledtest__209_1308162216750_B.wav',\n",
       " '../data/heartbeat-sounds/set_b/Bunlabelledtest__112_1306243000964_C.wav',\n",
       " '../data/heartbeat-sounds/set_b/Bunlabelledtest__232_1308748524018_A1.wav',\n",
       " '../data/heartbeat-sounds/set_b/normal__286_1311170606028_A1.wav',\n",
       " '../data/heartbeat-sounds/set_b/normal__280_1311165195344_A.wav',\n",
       " '../data/heartbeat-sounds/set_b/Bunlabelledtest__132_1306758754432_A.wav',\n",
       " '../data/heartbeat-sounds/set_b/Bunlabelledtest__160_1307100683334_C.wav',\n",
       " '../data/heartbeat-sounds/set_b/normal__159_1307018640315_C1.wav',\n",
       " '../data/heartbeat-sounds/set_b/Bunlabelledtest__191_1308077299430_D.wav',\n",
       " '../data/heartbeat-sounds/set_b/normal__210_1308162935880_B.wav',\n",
       " '../data/heartbeat-sounds/set_b/normal__153_1306848820671_A.wav',\n",
       " '../data/heartbeat-sounds/set_b/Bunlabelledtest__259_1309352630271_B.wav',\n",
       " '../data/heartbeat-sounds/set_b/normal_noisynormal_125_1306332456645_C.wav',\n",
       " '../data/heartbeat-sounds/set_b/normal_noisynormal_132_1306758754432_C.wav',\n",
       " '../data/heartbeat-sounds/set_b/normal_noisynormal_172_1307971284351_A.wav',\n",
       " '../data/heartbeat-sounds/set_b/normal_noisynormal_176_1307988171173_D.wav',\n",
       " '../data/heartbeat-sounds/set_b/normal__170_1307970562729_C.wav',\n",
       " '../data/heartbeat-sounds/set_b/normal__294_1311681084248_D1.wav',\n",
       " '../data/heartbeat-sounds/set_b/Bunlabelledtest__105_1305033453095_B.wav',\n",
       " '../data/heartbeat-sounds/set_b/murmur__196_1308141034858_B.wav',\n",
       " '../data/heartbeat-sounds/set_b/murmur__203_1308162026258_D.wav',\n",
       " '../data/heartbeat-sounds/set_b/normal__158_1306947254705_B2.wav',\n",
       " '../data/heartbeat-sounds/set_b/murmur_noisymurmur_243_1309197760898_C.wav',\n",
       " '../data/heartbeat-sounds/set_b/Bunlabelledtest__122_1306325762831_A.wav',\n",
       " '../data/heartbeat-sounds/set_b/Bunlabelledtest__177_1307989650056_C.wav',\n",
       " '../data/heartbeat-sounds/set_b/extrastole__127_1306764300147_C2.wav',\n",
       " '../data/heartbeat-sounds/set_b/murmur_noisymurmur_161_1307101199321_B.wav',\n",
       " '../data/heartbeat-sounds/set_b/normal__238_1309194586293_A.wav',\n",
       " '../data/heartbeat-sounds/set_b/Bunlabelledtest__103_1305031931979_C.wav',\n",
       " '../data/heartbeat-sounds/set_b/normal__151_1306779785624_A.wav',\n",
       " '../data/heartbeat-sounds/set_b/normal__299_1311770522820_C.wav',\n",
       " '../data/heartbeat-sounds/set_b/normal__128_1306344005749_D.wav',\n",
       " '../data/heartbeat-sounds/set_b/normal__174_1307987737137_B.wav',\n",
       " '../data/heartbeat-sounds/set_b/murmur__203_1308162026258_B.wav',\n",
       " '../data/heartbeat-sounds/set_b/normal_noisynormal_130_1306347376079_C.wav',\n",
       " '../data/heartbeat-sounds/set_b/murmur__112_1306243000964_D.wav',\n",
       " '../data/heartbeat-sounds/set_b/murmur_noisymurmur_272_1309370164386_C.wav',\n",
       " '../data/heartbeat-sounds/set_b/normal_noisynormal_117_1306262456650_A.wav',\n",
       " '../data/heartbeat-sounds/set_b/normal__103_1305031931979_D3.wav',\n",
       " '../data/heartbeat-sounds/set_b/normal__133_1306759619127_D.wav',\n",
       " '../data/heartbeat-sounds/set_b/murmur__245_1309200438094_B.wav',\n",
       " '../data/heartbeat-sounds/set_b/Bunlabelledtest__288_1311164615284_B.wav',\n",
       " '../data/heartbeat-sounds/set_b/normal__109_1305653646620_C.wav',\n",
       " '../data/heartbeat-sounds/set_b/Bunlabelledtest__197_1308141235553_B.wav',\n",
       " '../data/heartbeat-sounds/set_b/Bunlabelledtest__152_1306779561195_D1.wav',\n",
       " '../data/heartbeat-sounds/set_b/Bunlabelledtest__293_1311680805936_B.wav',\n",
       " '../data/heartbeat-sounds/set_b/murmur__193_1308078104592_B.wav',\n",
       " '../data/heartbeat-sounds/set_b/normal__216_1308245839516_C.wav',\n",
       " '../data/heartbeat-sounds/set_b/extrastole__151_1306779785624_B.wav',\n",
       " '../data/heartbeat-sounds/set_b/normal_noisynormal_146_1306778707532_D.wav',\n",
       " '../data/heartbeat-sounds/set_b/murmur__281_1311165683454_D.wav',\n",
       " '../data/heartbeat-sounds/set_b/murmur__244_1309198148498_B.wav',\n",
       " '../data/heartbeat-sounds/set_b/Bunlabelledtest__193_1308078104592_D.wav',\n",
       " '../data/heartbeat-sounds/set_b/Bunlabelledtest__128_1306344005749_C.wav',\n",
       " '../data/heartbeat-sounds/set_b/Bunlabelledtest__203_1308162026258_C.wav',\n",
       " '../data/heartbeat-sounds/set_b/Bunlabelledtest__180_1307990956284_B.wav',\n",
       " '../data/heartbeat-sounds/set_b/Bunlabelledtest__260_1309353164458_A.wav',\n",
       " '../data/heartbeat-sounds/set_b/murmur__240_1309201366049_B.wav',\n",
       " '../data/heartbeat-sounds/set_b/normal_noisynormal_142_1306763049574_A.wav',\n",
       " '../data/heartbeat-sounds/set_b/normal__188_1308074301731_D.wav',\n",
       " '../data/heartbeat-sounds/set_b/Bunlabelledtest__173_1307973611151_D.wav',\n",
       " '../data/heartbeat-sounds/set_b/Bunlabelledtest__167_1307111318050_D.wav',\n",
       " '../data/heartbeat-sounds/set_b/extrastole__229_1308594979317_B.wav',\n",
       " '../data/heartbeat-sounds/set_b/normal__127_1306764300147_A.wav',\n",
       " '../data/heartbeat-sounds/set_b/normal_noisynormal_234_1308748855534_B.wav',\n",
       " '../data/heartbeat-sounds/set_b/murmur__193_1308078104592_C.wav',\n",
       " '../data/heartbeat-sounds/set_b/Bunlabelledtest__213_1308245263936_B.wav',\n",
       " '../data/heartbeat-sounds/set_b/normal_noisynormal_118_1306262335509_C1.wav',\n",
       " '../data/heartbeat-sounds/set_b/normal_noisynormal_270_1309369533040_A.wav',\n",
       " '../data/heartbeat-sounds/set_b/normal_noisynormal_121_1306263877235_C.wav',\n",
       " '../data/heartbeat-sounds/set_b/Bunlabelledtest__137_1306764999211_B1.wav',\n",
       " '../data/heartbeat-sounds/set_b/normal_noisynormal_105_1305033453095_C.wav',\n",
       " '../data/heartbeat-sounds/set_b/Bunlabelledtest__150_1306776340746_D.wav',\n",
       " '../data/heartbeat-sounds/set_b/normal__168_1307970069434_A2.wav',\n",
       " '../data/heartbeat-sounds/set_b/normal__143_1306763822290_C.wav',\n",
       " '../data/heartbeat-sounds/set_b/normal__190_1308076920011_D.wav',\n",
       " '../data/heartbeat-sounds/set_b/normal_noisynormal_125_1306332456645_A1.wav',\n",
       " '../data/heartbeat-sounds/set_b/normal__274_1311075637574_B1.wav',\n",
       " '../data/heartbeat-sounds/set_b/normal_noisynormal_246_1309199278902_D.wav',\n",
       " '../data/heartbeat-sounds/set_b/normal__175_1307987962616_B1.wav',\n",
       " '../data/heartbeat-sounds/set_b/Bunlabelledtest__176_1307988171173_C.wav',\n",
       " '../data/heartbeat-sounds/set_b/normal__154_1306935608852_D.wav',\n",
       " '../data/heartbeat-sounds/set_b/extrastole__190_1308076920011_C.wav',\n",
       " '../data/heartbeat-sounds/set_b/Bunlabelledtest__239_1309195730333_D.wav',\n",
       " '../data/heartbeat-sounds/set_b/normal__146_1306778707532_D2.wav',\n",
       " '../data/heartbeat-sounds/set_b/normal__178_1307989887769_D.wav',\n",
       " '../data/heartbeat-sounds/set_b/normal__230_1308595300880_C.wav',\n",
       " '../data/heartbeat-sounds/set_b/normal__252_1309203336604_B.wav',\n",
       " '../data/heartbeat-sounds/set_b/Bunlabelledtest__216_1308245839516_B1.wav',\n",
       " '../data/heartbeat-sounds/set_b/normal__208_1308159994503_C.wav',\n",
       " '../data/heartbeat-sounds/set_b/normal_noisynormal_101_1305030823364_E.wav',\n",
       " '../data/heartbeat-sounds/set_b/Bunlabelledtest__123_1306331925797_D.wav',\n",
       " '../data/heartbeat-sounds/set_b/normal__201_1308144942432_A.wav',\n",
       " '../data/heartbeat-sounds/set_b/normal_noisynormal_113_1306244002866_B.wav',\n",
       " '../data/heartbeat-sounds/set_b/murmur__165_1307109069581_C2.wav',\n",
       " '../data/heartbeat-sounds/set_b/normal_noisynormal_117_1306262456650_C.wav',\n",
       " '../data/heartbeat-sounds/set_b/Bunlabelledtest__155_1306935902813_B2.wav',\n",
       " '../data/heartbeat-sounds/set_b/extrastole__216_1308245839516_A.wav',\n",
       " '../data/heartbeat-sounds/set_b/murmur__204_1308159229275_B.wav',\n",
       " '../data/heartbeat-sounds/set_b/Bunlabelledtest__132_1306758754432_B.wav',\n",
       " '../data/heartbeat-sounds/set_b/Bunlabelledtest__118_1306262335509_A.wav',\n",
       " '../data/heartbeat-sounds/set_b/extrastole__207_1308159792607_B1.wav',\n",
       " '../data/heartbeat-sounds/set_b/normal__143_1306763822290_B.wav',\n",
       " '../data/heartbeat-sounds/set_b/Bunlabelledtest__132_1306758754432_D.wav',\n",
       " '../data/heartbeat-sounds/set_b/murmur_noisymurmur_200_1308144251434_D.wav',\n",
       " '../data/heartbeat-sounds/set_b/Bunlabelledtest__139_1306519274653_B.wav',\n",
       " '../data/heartbeat-sounds/set_b/murmur__161_1307101199321_A.wav',\n",
       " '../data/heartbeat-sounds/set_b/normal__273_1309370841191_B.wav',\n",
       " '../data/heartbeat-sounds/set_b/normal_noisynormal_123_1306331925797_C.wav',\n",
       " '../data/heartbeat-sounds/set_b/normal__294_1311681084248_A.wav',\n",
       " '../data/heartbeat-sounds/set_b/normal__183_1308072703477_C.wav',\n",
       " '../data/heartbeat-sounds/set_b/normal_noisynormal_271_1309369876160_A.wav',\n",
       " '../data/heartbeat-sounds/set_b/Bunlabelledtest__130_1306347376079_A.wav',\n",
       " '../data/heartbeat-sounds/set_b/normal__117_1306262456650_B.wav',\n",
       " '../data/heartbeat-sounds/set_b/Bunlabelledtest__231_1308748318393_C.wav',\n",
       " '../data/heartbeat-sounds/set_b/normal_noisynormal_147_1306523973811_B.wav',\n",
       " '../data/heartbeat-sounds/set_b/Bunlabelledtest__159_1307018640315_B.wav',\n",
       " '../data/heartbeat-sounds/set_b/extrastole__153_1306848820671_C.wav',\n",
       " '../data/heartbeat-sounds/set_b/Bunlabelledtest__169_1307970398039_C1.wav',\n",
       " '../data/heartbeat-sounds/set_b/Bunlabelledtest__155_1306935902813_B.wav',\n",
       " '../data/heartbeat-sounds/set_b/Bunlabelledtest__181_1308052613891_C.wav',\n",
       " '../data/heartbeat-sounds/set_b/normal__238_1309194586293_B.wav',\n",
       " '../data/heartbeat-sounds/set_b/normal_noisynormal_125_1306332456645_B1.wav',\n",
       " '../data/heartbeat-sounds/set_b/normal__298_1311685888900_B.wav',\n",
       " '../data/heartbeat-sounds/set_b/normal__204_1308159229275_D.wav',\n",
       " '../data/heartbeat-sounds/set_b/normal_noisynormal_108_1305654420093_A.wav',\n",
       " '../data/heartbeat-sounds/set_b/Bunlabelledtest__175_1307987962616_C.wav',\n",
       " '../data/heartbeat-sounds/set_b/Bunlabelledtest__101_1305030823364_F.wav',\n",
       " '../data/heartbeat-sounds/set_b/normal_noisynormal_154_1306935608852_C.wav',\n",
       " '../data/heartbeat-sounds/set_b/Bunlabelledtest__170_1307970562729_D.wav',\n",
       " '../data/heartbeat-sounds/set_b/extrastole__275_1310990852160_B.wav',\n",
       " '../data/heartbeat-sounds/set_b/Bunlabelledtest__152_1306779561195_C.wav',\n",
       " '../data/heartbeat-sounds/set_b/murmur__195_1308140095331_C1.wav',\n",
       " '../data/heartbeat-sounds/set_b/murmur_noisymurmur_135_1306428972976_A.wav',\n",
       " '../data/heartbeat-sounds/set_b/Bunlabelledtest__300_1311772096120_D.wav',\n",
       " '../data/heartbeat-sounds/set_b/extrastole__265_1309367698923_C.wav',\n",
       " '../data/heartbeat-sounds/set_b/Bunlabelledtest__281_1311165683454_C.wav',\n",
       " '../data/heartbeat-sounds/set_b/normal__214_1308245489717_A.wav',\n",
       " '../data/heartbeat-sounds/set_b/Bunlabelledtest__254_1309350589009_B.wav',\n",
       " '../data/heartbeat-sounds/set_b/extrastole__298_1311685888900_C.wav',\n",
       " '../data/heartbeat-sounds/set_b/normal_noisynormal_155_1306935902813_C.wav',\n",
       " '../data/heartbeat-sounds/set_b/murmur__195_1308140095331_A.wav',\n",
       " '../data/heartbeat-sounds/set_b/normal__177_1307989650056_D1.wav',\n",
       " '../data/heartbeat-sounds/set_b/Bunlabelledtest__286_1311170606028_B.wav',\n",
       " '../data/heartbeat-sounds/set_b/normal__286_1311170606028_B1.wav',\n",
       " '../data/heartbeat-sounds/set_b/Bunlabelledtest__268_1309368960960_E.wav',\n",
       " '../data/heartbeat-sounds/set_b/normal__106_1306776721273_D1.wav',\n",
       " '../data/heartbeat-sounds/set_b/murmur__287_1311170903290_C.wav',\n",
       " '../data/heartbeat-sounds/set_b/normal__149_1306776016110_B.wav',\n",
       " '../data/heartbeat-sounds/set_b/Bunlabelledtest__142_1306763049574_C.wav',\n",
       " '../data/heartbeat-sounds/set_b/normal_noisynormal_151_1306779785624_C.wav',\n",
       " '../data/heartbeat-sounds/set_b/extrastole__215_1308245664733_B1.wav',\n",
       " '../data/heartbeat-sounds/set_b/Bunlabelledtest__272_1309370164386_B.wav',\n",
       " '../data/heartbeat-sounds/set_b/normal_noisynormal_207_1308159792607_D.wav',\n",
       " '../data/heartbeat-sounds/set_b/normal_noisynormal_143_1306763822290_A.wav',\n",
       " '../data/heartbeat-sounds/set_b/normal__217_1308246111629_C.wav',\n",
       " '../data/heartbeat-sounds/set_b/normal__177_1307989650056_B.wav',\n",
       " '../data/heartbeat-sounds/set_b/Bunlabelledtest__161_1307101199321_D.wav',\n",
       " '../data/heartbeat-sounds/set_b/Bunlabelledtest__125_1306332456645_B2.wav',\n",
       " '../data/heartbeat-sounds/set_b/murmur__112_1306243000964_A.wav',\n",
       " '../data/heartbeat-sounds/set_b/normal_noisynormal_141_1306520154450_A1.wav',\n",
       " '../data/heartbeat-sounds/set_b/Bunlabelledtest__106_1306776721273_D.wav',\n",
       " '../data/heartbeat-sounds/set_b/normal__179_1307990076841_D.wav',\n",
       " '../data/heartbeat-sounds/set_b/normal__106_1306776721273_D2.wav',\n",
       " '../data/heartbeat-sounds/set_b/normal_noisynormal_113_1306244002866_A.wav',\n",
       " '../data/heartbeat-sounds/set_b/normal__106_1306776721273_C2.wav',\n",
       " '../data/heartbeat-sounds/set_b/murmur_noisymurmur_231_1308748318393_A.wav',\n",
       " '../data/heartbeat-sounds/set_b/murmur_noisymurmur_292_1311185449649_D.wav',\n",
       " '../data/heartbeat-sounds/set_b/normal_noisynormal_216_1308245839516_D.wav',\n",
       " '../data/heartbeat-sounds/set_b/normal__154_1306935608852_A1.wav',\n",
       " '../data/heartbeat-sounds/set_b/normal__169_1307970398039_C.wav',\n",
       " '../data/heartbeat-sounds/set_b/normal__172_1307971284351_B1.wav',\n",
       " '../data/heartbeat-sounds/set_b/Bunlabelledtest__159_1307018640315_C.wav',\n",
       " '../data/heartbeat-sounds/set_b/murmur_noisymurmur_162_1307101835989_B_1.wav',\n",
       " '../data/heartbeat-sounds/set_b/Bunlabelledtest__232_1308748524018_D.wav',\n",
       " '../data/heartbeat-sounds/set_b/murmur__171_1307971016233_D1.wav',\n",
       " '../data/heartbeat-sounds/set_b/Bunlabelledtest__137_1306764999211_A.wav',\n",
       " '../data/heartbeat-sounds/set_b/normal__126_1306777102824_D.wav',\n",
       " '../data/heartbeat-sounds/set_b/normal__133_1306759619127_A.wav',\n",
       " '../data/heartbeat-sounds/set_b/murmur__171_1307971016233_D.wav',\n",
       " '../data/heartbeat-sounds/set_b/extrastole__209_1308162216750_D.wav',\n",
       " '../data/heartbeat-sounds/set_b/Bunlabelledtest__176_1307988171173_A1.wav',\n",
       " '../data/heartbeat-sounds/set_b/normal_noisynormal_137_1306764999211_B.wav',\n",
       " '../data/heartbeat-sounds/set_b/extrastole__134_1306428161797_C1.wav',\n",
       " '../data/heartbeat-sounds/set_b/normal__202_1308145175747_D.wav',\n",
       " '../data/heartbeat-sounds/set_b/normal_noisynormal_158_1306947254705_D.wav',\n",
       " '../data/heartbeat-sounds/set_b/normal__283_1311167409239_A.wav',\n",
       " '../data/heartbeat-sounds/set_b/normal__134_1306428161797_D.wav',\n",
       " '../data/heartbeat-sounds/set_b/normal_noisynormal_109_1305653972028_F.wav',\n",
       " '../data/heartbeat-sounds/set_b/Bunlabelledtest__186_1308073648738_C.wav',\n",
       " '../data/heartbeat-sounds/set_b/normal__232_1308748524018_B1.wav',\n",
       " '../data/heartbeat-sounds/set_b/Bunlabelledtest__134_1306428161797_A.wav',\n",
       " '../data/heartbeat-sounds/set_b/Bunlabelledtest__115_1306259437619_D.wav',\n",
       " '../data/heartbeat-sounds/set_b/Bunlabelledtest__191_1308077299430_C.wav',\n",
       " '../data/heartbeat-sounds/set_b/extrastole__130_1306347376079_D.wav',\n",
       " '../data/heartbeat-sounds/set_b/Bunlabelledtest__154_1306935608852_A.wav',\n",
       " '../data/heartbeat-sounds/set_b/normal_noisynormal_284_1311168471850_A.wav',\n",
       " '../data/heartbeat-sounds/set_b/Bunlabelledtest__126_1306777102824_C1.wav',\n",
       " '../data/heartbeat-sounds/set_b/normal__270_1309369533040_C.wav',\n",
       " '../data/heartbeat-sounds/set_b/extrastole__224_1308337157445_B.wav',\n",
       " '../data/heartbeat-sounds/set_b/Bunlabelledtest__293_1311680805936_B2.wav',\n",
       " '../data/heartbeat-sounds/set_b/extrastole__140_1306519735121_D.wav',\n",
       " '../data/heartbeat-sounds/set_b/murmur_noisymurmur_165_1307109069581_D.wav',\n",
       " '../data/heartbeat-sounds/set_b/normal__176_1307988171173_B1.wav',\n",
       " '../data/heartbeat-sounds/set_b/normal__258_1309352253234_C.wav',\n",
       " '../data/heartbeat-sounds/set_b/normal__107_1305654946865_C1.wav',\n",
       " '../data/heartbeat-sounds/set_b/normal_noisynormal_137_1306764999211_A1.wav',\n",
       " '../data/heartbeat-sounds/set_b/murmur_noisymurmur_171_1307971016233_D.wav',\n",
       " '../data/heartbeat-sounds/set_b/murmur_noisymurmur_162_1307101835989_D.wav',\n",
       " '../data/heartbeat-sounds/set_b/normal_noisynormal_168_1307970069434_A1.wav',\n",
       " '../data/heartbeat-sounds/set_b/normal__180_1307990956284_A.wav',\n",
       " '../data/heartbeat-sounds/set_b/Bunlabelledtest__184_1308073010307_C.wav',\n",
       " '../data/heartbeat-sounds/set_b/Bunlabelledtest__148_1306768801551_C.wav',\n",
       " '../data/heartbeat-sounds/set_b/Bunlabelledtest__215_1308245664733_D.wav',\n",
       " '../data/heartbeat-sounds/set_b/extrastole__216_1308245839516_B.wav',\n",
       " '../data/heartbeat-sounds/set_b/normal_noisynormal_107_1305654946865_A.wav',\n",
       " '../data/heartbeat-sounds/set_b/murmur__254_1309350589009_C.wav',\n",
       " '../data/heartbeat-sounds/set_b/normal_noisynormal_278_1311163365896_B.wav',\n",
       " '../data/heartbeat-sounds/set_b/normal__206_1308159601959_C.wav',\n",
       " '../data/heartbeat-sounds/set_b/murmur_noisymurmur_288_1311164615284_B1.wav',\n",
       " '../data/heartbeat-sounds/set_b/normal_noisynormal_106_1306776721273_A.wav',\n",
       " '../data/heartbeat-sounds/set_b/Bunlabelledtest__163_1307104470471_B1.wav',\n",
       " '../data/heartbeat-sounds/set_b/normal__220_1308250132896_C.wav',\n",
       " '../data/heartbeat-sounds/set_b/normal_noisynormal_115_1306259437619_B.wav',\n",
       " '../data/heartbeat-sounds/set_b/Bunlabelledtest__103_1305031931979_A.wav',\n",
       " '../data/heartbeat-sounds/set_b/normal__282_1311166081161_C.wav',\n",
       " '../data/heartbeat-sounds/set_b/normal__134_1306428161797_C2.wav',\n",
       " '../data/heartbeat-sounds/set_b/Bunlabelledtest__264_1309356143724_A.wav',\n",
       " '../data/heartbeat-sounds/set_b/normal__194_1308139824187_A.wav',\n",
       " '../data/heartbeat-sounds/set_b/Bunlabelledtest__136_1306429977501_D.wav',\n",
       " '../data/heartbeat-sounds/set_b/murmur_noisymurmur_160_1307100683334_D.wav',\n",
       " '../data/heartbeat-sounds/set_b/normal__267_1309368735165_A.wav',\n",
       " '../data/heartbeat-sounds/set_b/extrastole__286_1311170606028_D.wav',\n",
       " '../data/heartbeat-sounds/set_b/normal__129_1306344506305_D1.wav',\n",
       " '../data/heartbeat-sounds/set_b/Bunlabelledtest__202_1308145175747_B.wav',\n",
       " '../data/heartbeat-sounds/set_b/normal__260_1309353164458_C.wav',\n",
       " '../data/heartbeat-sounds/set_b/normal__152_1306779561195_B1.wav',\n",
       " '../data/heartbeat-sounds/set_b/extrastole__163_1307104470471_C.wav',\n",
       " '../data/heartbeat-sounds/set_b/normal__232_1308748524018_C.wav',\n",
       " '../data/heartbeat-sounds/set_b/murmur__164_1307106095995_C.wav',\n",
       " '../data/heartbeat-sounds/set_b/extrastole__249_1309202052376_C.wav',\n",
       " '../data/heartbeat-sounds/set_b/Bunlabelledtest__200_1308144251434_C1.wav',\n",
       " '../data/heartbeat-sounds/set_b/normal__159_1307018640315_A.wav',\n",
       " '../data/heartbeat-sounds/set_b/Bunlabelledtest__126_1306777102824_D1.wav',\n",
       " '../data/heartbeat-sounds/set_b/normal__235_1308749032454_C.wav',\n",
       " '../data/heartbeat-sounds/set_b/normal__295_1311682673157_D.wav',\n",
       " '../data/heartbeat-sounds/set_b/normal__155_1306935902813_B1.wav',\n",
       " '../data/heartbeat-sounds/set_b/murmur__185_1308073325396_C.wav',\n",
       " '../data/heartbeat-sounds/set_b/Bunlabelledtest__118_1306262335509_A1.wav',\n",
       " '../data/heartbeat-sounds/set_b/Bunlabelledtest__242_1309197394064_A.wav',\n",
       " '../data/heartbeat-sounds/set_b/normal__261_1309353556003_B.wav',\n",
       " '../data/heartbeat-sounds/set_b/normal__232_1308748524018_D1.wav',\n",
       " '../data/heartbeat-sounds/set_b/normal_noisynormal_198_1308141739338_D.wav',\n",
       " '../data/heartbeat-sounds/set_b/normal_noisynormal_105_1305033453095_A.wav',\n",
       " '../data/heartbeat-sounds/set_b/Bunlabelledtest__262_1309355283807_B.wav',\n",
       " '../data/heartbeat-sounds/set_b/normal__286_1311170606028_C.wav',\n",
       " '../data/heartbeat-sounds/set_b/Bunlabelledtest__169_1307970398039_B.wav',\n",
       " '../data/heartbeat-sounds/set_b/Bunlabelledtest__235_1308749032454_C1.wav',\n",
       " '../data/heartbeat-sounds/set_b/normal__188_1308074301731_C.wav',\n",
       " '../data/heartbeat-sounds/set_b/murmur__196_1308141034858_C.wav',\n",
       " '../data/heartbeat-sounds/set_b/Bunlabelledtest__176_1307988171173_C1.wav',\n",
       " '../data/heartbeat-sounds/set_b/normal__145_1307987561278_B.wav',\n",
       " '../data/heartbeat-sounds/set_b/murmur_noisymurmur_156_1306936373241_A.wav',\n",
       " '../data/heartbeat-sounds/set_b/normal__146_1306778707532_D3.wav',\n",
       " '../data/heartbeat-sounds/set_b/normal_noisynormal_137_1306764999211_C1.wav',\n",
       " '../data/heartbeat-sounds/set_b/murmur__203_1308162026258_C1.wav',\n",
       " '../data/heartbeat-sounds/set_b/murmur__195_1308140095331_C.wav',\n",
       " '../data/heartbeat-sounds/set_b/normal__191_1308077299430_B.wav',\n",
       " '../data/heartbeat-sounds/set_b/normal__150_1306776340746_C.wav',\n",
       " '../data/heartbeat-sounds/set_b/normal__167_1307111318050_C.wav',\n",
       " '../data/heartbeat-sounds/set_b/Bunlabelledtest__127_1306764300147_D.wav',\n",
       " '../data/heartbeat-sounds/set_b/normal_noisynormal_138_1306762146980_D.wav',\n",
       " '../data/heartbeat-sounds/set_b/extrastole__198_1308141739338_B1.wav',\n",
       " '../data/heartbeat-sounds/set_b/murmur__200_1308144251434_D.wav',\n",
       " '../data/heartbeat-sounds/set_b/normal_noisynormal_159_1307018640315_B.wav',\n",
       " '../data/heartbeat-sounds/set_b/murmur__240_1309196119795_C.wav',\n",
       " '../data/heartbeat-sounds/set_b/extrastole__220_1308250132896_B.wav',\n",
       " '../data/heartbeat-sounds/set_b/murmur_noisymurmur_135_1306428972976_B.wav',\n",
       " '../data/heartbeat-sounds/set_b/murmur__197_1308141235553_D.wav',\n",
       " '../data/heartbeat-sounds/set_b/normal__201_1308144942432_A1.wav']"
      ]
     },
     "execution_count": 36,
     "metadata": {},
     "output_type": "execute_result"
    }
   ],
   "source": [
    "all_sounds_b"
   ]
  },
  {
   "cell_type": "markdown",
   "metadata": {},
   "source": [
    "Fortunately, for set_b all files with no labels are only the one containing the sentence 'Bunlabelledtest' \n",
    "(for unlabelled test in set_b).\n",
    "\n",
    "Therefore, we will drop all of them from our soundfiles package. "
   ]
  },
  {
   "cell_type": "code",
   "execution_count": 37,
   "metadata": {},
   "outputs": [
    {
     "data": {
      "text/plain": [
       "656"
      ]
     },
     "execution_count": 37,
     "metadata": {},
     "output_type": "execute_result"
    }
   ],
   "source": [
    "len(all_sounds_b)"
   ]
  },
  {
   "cell_type": "code",
   "execution_count": 38,
   "metadata": {},
   "outputs": [],
   "source": [
    "for i in all_sounds_b:\n",
    "    if 'Bunlabelledtest' in i:\n",
    "        all_sounds_b.remove(i)"
   ]
  },
  {
   "cell_type": "code",
   "execution_count": 39,
   "metadata": {},
   "outputs": [
    {
     "data": {
      "text/plain": [
       "502"
      ]
     },
     "execution_count": 39,
     "metadata": {},
     "output_type": "execute_result"
    }
   ],
   "source": [
    "len(all_sounds_b)"
   ]
  },
  {
   "cell_type": "code",
   "execution_count": 40,
   "metadata": {},
   "outputs": [
    {
     "data": {
      "text/plain": [
       "['../data/heartbeat-sounds/set_b/extrastole__194_1308139824187_B.wav',\n",
       " '../data/heartbeat-sounds/set_b/normal_noisynormal_157_1306937583792_A.wav',\n",
       " '../data/heartbeat-sounds/set_b/Bunlabelledtest__155_1306935902813_D.wav',\n",
       " '../data/heartbeat-sounds/set_b/normal__181_1308052613891_D.wav',\n",
       " '../data/heartbeat-sounds/set_b/normal_noisynormal_284_1311168471850_B.wav',\n",
       " '../data/heartbeat-sounds/set_b/murmur__197_1308141235553_C.wav',\n",
       " '../data/heartbeat-sounds/set_b/Bunlabelledtest__134_1306428161797_B.wav',\n",
       " '../data/heartbeat-sounds/set_b/normal_noisynormal_144_1306522408528_C.wav',\n",
       " '../data/heartbeat-sounds/set_b/normal_noisynormal_271_1309369876160_D.wav',\n",
       " '../data/heartbeat-sounds/set_b/normal_noisynormal_129_1306344506305_C.wav',\n",
       " '../data/heartbeat-sounds/set_b/normal__177_1307989650056_A1.wav',\n",
       " '../data/heartbeat-sounds/set_b/normal_noisynormal_285_1311169246969_C.wav',\n",
       " '../data/heartbeat-sounds/set_b/normal__218_1308246311449_C.wav',\n",
       " '../data/heartbeat-sounds/set_b/normal_noisynormal_181_1308052613891_A.wav',\n",
       " '../data/heartbeat-sounds/set_b/normal__209_1308162216750_A.wav',\n",
       " '../data/heartbeat-sounds/set_b/normal__125_1306332456645_B.wav',\n",
       " '../data/heartbeat-sounds/set_b/normal_noisynormal_194_1308139824187_C.wav',\n",
       " '../data/heartbeat-sounds/set_b/normal__202_1308145175747_C.wav',\n",
       " '../data/heartbeat-sounds/set_b/murmur__156_1306936373241_B.wav',\n",
       " '../data/heartbeat-sounds/set_b/normal_noisynormal_137_1306764999211_D1.wav',\n",
       " '../data/heartbeat-sounds/set_b/normal__232_1308748524018_A.wav',\n",
       " '../data/heartbeat-sounds/set_b/Bunlabelledtest__147_1306523973811_D.wav',\n",
       " '../data/heartbeat-sounds/set_b/normal_noisynormal_134_1306428161797_D1.wav',\n",
       " '../data/heartbeat-sounds/set_b/Bunlabelledtest__159_1307018640315_A.wav',\n",
       " '../data/heartbeat-sounds/set_b/murmur_noisymurmur_240_1309201366049_D.wav',\n",
       " '../data/heartbeat-sounds/set_b/normal__113_1306244002866_D.wav',\n",
       " '../data/heartbeat-sounds/set_b/normal__127_1306764300147_C1.wav',\n",
       " '../data/heartbeat-sounds/set_b/Bunlabelledtest__156_1306936373241_D.wav',\n",
       " '../data/heartbeat-sounds/set_b/normal_noisynormal_133_1306759619127_B1.wav',\n",
       " '../data/heartbeat-sounds/set_b/normal__146_1306778707532_D4.wav',\n",
       " '../data/heartbeat-sounds/set_b/murmur__165_1307109069581_C.wav',\n",
       " '../data/heartbeat-sounds/set_b/Bunlabelledtest__296_1311682952647_A.wav',\n",
       " '../data/heartbeat-sounds/set_b/normal__210_1308162935880_D2.wav',\n",
       " '../data/heartbeat-sounds/set_b/normal_noisynormal_117_1306262456650_D.wav',\n",
       " '../data/heartbeat-sounds/set_b/normal__217_1308246111629_C1.wav',\n",
       " '../data/heartbeat-sounds/set_b/normal__151_1306779785624_D.wav',\n",
       " '../data/heartbeat-sounds/set_b/normal_noisynormal_173_1307973611151_B.wav',\n",
       " '../data/heartbeat-sounds/set_b/normal_noisynormal_141_1306520154450_C1.wav',\n",
       " '../data/heartbeat-sounds/set_b/normal__237_1308750231222_C.wav',\n",
       " '../data/heartbeat-sounds/set_b/normal__176_1307988171173_B.wav',\n",
       " '../data/heartbeat-sounds/set_b/normal__184_1308073010307_D.wav',\n",
       " '../data/heartbeat-sounds/set_b/Bunlabelledtest__154_1306935608852_D.wav',\n",
       " '../data/heartbeat-sounds/set_b/normal__154_1306935608852_B1.wav',\n",
       " '../data/heartbeat-sounds/set_b/normal_noisynormal_155_1306935902813_A.wav',\n",
       " '../data/heartbeat-sounds/set_b/normal_noisynormal_101_1305030823364_B.wav',\n",
       " '../data/heartbeat-sounds/set_b/normal__146_1306778707532_A.wav',\n",
       " '../data/heartbeat-sounds/set_b/murmur__116_1306258689913_A.wav',\n",
       " '../data/heartbeat-sounds/set_b/normal_noisynormal_125_1306332456645_D.wav',\n",
       " '../data/heartbeat-sounds/set_b/murmur__242_1309197394064_D.wav',\n",
       " '../data/heartbeat-sounds/set_b/normal_noisynormal_264_1309356143724_D.wav',\n",
       " '../data/heartbeat-sounds/set_b/murmur_noisymurmur_156_1306936373241_B1.wav',\n",
       " '../data/heartbeat-sounds/set_b/extrastole__294_1311681084248_C.wav',\n",
       " '../data/heartbeat-sounds/set_b/normal__220_1308250132896_D.wav',\n",
       " '../data/heartbeat-sounds/set_b/normal__133_1306759619127_B.wav',\n",
       " '../data/heartbeat-sounds/set_b/normal_noisynormal_157_1306937583792_B.wav',\n",
       " '../data/heartbeat-sounds/set_b/normal__174_1307987737137_B1.wav',\n",
       " '../data/heartbeat-sounds/set_b/Bunlabelledtest__217_1308246111629_A.wav',\n",
       " '../data/heartbeat-sounds/set_b/normal__148_1306768801551_D2.wav',\n",
       " '../data/heartbeat-sounds/set_b/normal_noisynormal_138_1306762146980_A.wav',\n",
       " '../data/heartbeat-sounds/set_b/normal_noisynormal_104_1305032492469_A.wav',\n",
       " '../data/heartbeat-sounds/set_b/normal__184_1308073010307_B.wav',\n",
       " '../data/heartbeat-sounds/set_b/normal__296_1311682952647_A2.wav',\n",
       " '../data/heartbeat-sounds/set_b/murmur__193_1308078104592_C1.wav',\n",
       " '../data/heartbeat-sounds/set_b/murmur__292_1311185449649_B.wav',\n",
       " '../data/heartbeat-sounds/set_b/normal__176_1307988171173_A.wav',\n",
       " '../data/heartbeat-sounds/set_b/normal__146_1306778707532_D1.wav',\n",
       " '../data/heartbeat-sounds/set_b/normal_noisynormal_109_1305653972028_C.wav',\n",
       " '../data/heartbeat-sounds/set_b/extrastole__237_1308750231222_A.wav',\n",
       " '../data/heartbeat-sounds/set_b/normal_noisynormal_110_1305655332337_A.wav',\n",
       " '../data/heartbeat-sounds/set_b/murmur__116_1306258689913_C.wav',\n",
       " '../data/heartbeat-sounds/set_b/murmur__112_1306243000964_B.wav',\n",
       " '../data/heartbeat-sounds/set_b/normal__159_1307018640315_B1.wav',\n",
       " '../data/heartbeat-sounds/set_b/normal_noisynormal_188_1308074301731_A.wav',\n",
       " '../data/heartbeat-sounds/set_b/normal__140_1306519735121_D1.wav',\n",
       " '../data/heartbeat-sounds/set_b/normal__115_1306259437619_C.wav',\n",
       " '../data/heartbeat-sounds/set_b/murmur__276_1311162716489_C.wav',\n",
       " '../data/heartbeat-sounds/set_b/normal__146_1306778707532_B.wav',\n",
       " '../data/heartbeat-sounds/set_b/murmur__254_1309350589009_A1.wav',\n",
       " '../data/heartbeat-sounds/set_b/Bunlabelledtest__280_1311165195344_B.wav',\n",
       " '../data/heartbeat-sounds/set_b/extrastole__138_1306762146980_B.wav',\n",
       " '../data/heartbeat-sounds/set_b/normal__147_1306523973811_C.wav',\n",
       " '../data/heartbeat-sounds/set_b/Bunlabelledtest__268_1309368960960_A.wav',\n",
       " '../data/heartbeat-sounds/set_b/extrastole__261_1309353556003_C.wav',\n",
       " '../data/heartbeat-sounds/set_b/murmur__122_1306325762831_C.wav',\n",
       " '../data/heartbeat-sounds/set_b/murmur_noisymurmur_288_1311164615284_C.wav',\n",
       " '../data/heartbeat-sounds/set_b/normal_noisynormal_118_1306262335509_D.wav',\n",
       " '../data/heartbeat-sounds/set_b/normal__141_1306520154450_C.wav',\n",
       " '../data/heartbeat-sounds/set_b/murmur__162_1307101835989_B.wav',\n",
       " '../data/heartbeat-sounds/set_b/murmur__164_1307106095995_B.wav',\n",
       " '../data/heartbeat-sounds/set_b/normal__218_1308246311449_C1.wav',\n",
       " '../data/heartbeat-sounds/set_b/normal__139_1306519274653_A.wav',\n",
       " '../data/heartbeat-sounds/set_b/extrastole__179_1307990076841_C.wav',\n",
       " '../data/heartbeat-sounds/set_b/normal__148_1306768801551_C1.wav',\n",
       " '../data/heartbeat-sounds/set_b/normal__106_1306776721273_C1.wav',\n",
       " '../data/heartbeat-sounds/set_b/murmur__122_1306325762831_D.wav',\n",
       " '../data/heartbeat-sounds/set_b/normal__286_1311170606028_A.wav',\n",
       " '../data/heartbeat-sounds/set_b/normal_noisynormal_264_1309356143724_C.wav',\n",
       " '../data/heartbeat-sounds/set_b/normal_noisynormal_129_1306344506305_A.wav',\n",
       " '../data/heartbeat-sounds/set_b/normal__137_1306764999211_C.wav',\n",
       " '../data/heartbeat-sounds/set_b/normal_noisynormal_136_1306429977501_D1.wav',\n",
       " '../data/heartbeat-sounds/set_b/normal__170_1307970562729_A.wav',\n",
       " '../data/heartbeat-sounds/set_b/normal_noisynormal_127_1306764300147_D1.wav',\n",
       " '../data/heartbeat-sounds/set_b/extrastole__191_1308077299430_A.wav',\n",
       " '../data/heartbeat-sounds/set_b/normal_noisynormal_170_1307970562729_C1.wav',\n",
       " '../data/heartbeat-sounds/set_b/Bunlabelledtest__296_1311682952647_B.wav',\n",
       " '../data/heartbeat-sounds/set_b/normal__296_1311682952647_A1.wav',\n",
       " '../data/heartbeat-sounds/set_b/normal_noisynormal_130_1306347376079_B.wav',\n",
       " '../data/heartbeat-sounds/set_b/normal__278_1311163365896_A1.wav',\n",
       " '../data/heartbeat-sounds/set_b/normal_noisynormal_173_1307973611151_C1.wav',\n",
       " '../data/heartbeat-sounds/set_b/normal__190_1308076920011_C1.wav',\n",
       " '../data/heartbeat-sounds/set_b/normal__215_1308245664733_C.wav',\n",
       " '../data/heartbeat-sounds/set_b/normal__128_1306344005749_B.wav',\n",
       " '../data/heartbeat-sounds/set_b/extrastole__144_1306522408528_B1.wav',\n",
       " '../data/heartbeat-sounds/set_b/murmur_noisymurmur_171_1307971016233_F.wav',\n",
       " '../data/heartbeat-sounds/set_b/normal__126_1306777102824_B.wav',\n",
       " '../data/heartbeat-sounds/set_b/normal__152_1306779561195_D.wav',\n",
       " '../data/heartbeat-sounds/set_b/murmur_noisymurmur_165_1307109069581_C1.wav',\n",
       " '../data/heartbeat-sounds/set_b/normal_noisynormal_121_1306263877235_D.wav',\n",
       " '../data/heartbeat-sounds/set_b/murmur__160_1307100683334_A.wav',\n",
       " '../data/heartbeat-sounds/set_b/normal__179_1307990076841_B.wav',\n",
       " '../data/heartbeat-sounds/set_b/normal_noisynormal_109_1305653972028_E.wav',\n",
       " '../data/heartbeat-sounds/set_b/normal_noisynormal_270_1309369533040_B.wav',\n",
       " '../data/heartbeat-sounds/set_b/normal__170_1307970562729_B.wav',\n",
       " '../data/heartbeat-sounds/set_b/normal__153_1306848820671_D1.wav',\n",
       " '../data/heartbeat-sounds/set_b/normal_noisynormal_167_1307111318050_A1.wav',\n",
       " '../data/heartbeat-sounds/set_b/extrastole__202_1308145175747_C1.wav',\n",
       " '../data/heartbeat-sounds/set_b/normal_noisynormal_167_1307111318050_B.wav',\n",
       " '../data/heartbeat-sounds/set_b/normal_noisynormal_121_1306263877235_A.wav',\n",
       " '../data/heartbeat-sounds/set_b/murmur_noisymurmur_243_1309197760898_B.wav',\n",
       " '../data/heartbeat-sounds/set_b/normal_noisynormal_189_1308075231945_A1.wav',\n",
       " '../data/heartbeat-sounds/set_b/normal_noisynormal_296_1311682952647_C.wav',\n",
       " '../data/heartbeat-sounds/set_b/normal__215_1308245664733_C1.wav',\n",
       " '../data/heartbeat-sounds/set_b/normal_noisynormal_134_1306428161797_B1.wav',\n",
       " '../data/heartbeat-sounds/set_b/murmur__171_1307971016233_E.wav',\n",
       " '../data/heartbeat-sounds/set_b/murmur__239_1309195730333_C.wav',\n",
       " '../data/heartbeat-sounds/set_b/normal__227_1308594233667_C.wav',\n",
       " '../data/heartbeat-sounds/set_b/normal__172_1307971284351_B.wav',\n",
       " '../data/heartbeat-sounds/set_b/normal__128_1306344005749_D1.wav',\n",
       " '../data/heartbeat-sounds/set_b/murmur_noisymurmur_240_1309201366049_C.wav',\n",
       " '../data/heartbeat-sounds/set_b/extrastole__213_1308245263936_D.wav',\n",
       " '../data/heartbeat-sounds/set_b/normal__167_1307111318050_A.wav',\n",
       " '../data/heartbeat-sounds/set_b/extrastole__184_1308073010307_A.wav',\n",
       " '../data/heartbeat-sounds/set_b/normal__173_1307973611151_C.wav',\n",
       " '../data/heartbeat-sounds/set_b/normal__154_1306935608852_B.wav',\n",
       " '../data/heartbeat-sounds/set_b/extrastole__202_1308145175747_C2.wav',\n",
       " '../data/heartbeat-sounds/set_b/normal__134_1306428161797_C.wav',\n",
       " '../data/heartbeat-sounds/set_b/extrastole__198_1308141739338_B.wav',\n",
       " '../data/heartbeat-sounds/set_b/Bunlabelledtest__243_1309197760898_D.wav',\n",
       " '../data/heartbeat-sounds/set_b/murmur__239_1309195730333_B.wav',\n",
       " '../data/heartbeat-sounds/set_b/Bunlabelledtest__141_1306520154450_A.wav',\n",
       " '../data/heartbeat-sounds/set_b/normal__152_1306779561195_C1.wav',\n",
       " '../data/heartbeat-sounds/set_b/Bunlabelledtest__149_1306776016110_C.wav',\n",
       " '../data/heartbeat-sounds/set_b/normal_noisynormal_296_1311682952647_D.wav',\n",
       " '../data/heartbeat-sounds/set_b/Bunlabelledtest__278_1311163365896_D.wav',\n",
       " '../data/heartbeat-sounds/set_b/normal__129_1306344506305_B1.wav',\n",
       " '../data/heartbeat-sounds/set_b/normal_noisynormal_109_1305653972028_A.wav',\n",
       " '../data/heartbeat-sounds/set_b/murmur_noisymurmur_165_1307109069581_A.wav',\n",
       " '../data/heartbeat-sounds/set_b/murmur__197_1308141235553_A.wav',\n",
       " '../data/heartbeat-sounds/set_b/normal__256_1309351470137_A.wav',\n",
       " '../data/heartbeat-sounds/set_b/normal__183_1308072703477_B.wav',\n",
       " '../data/heartbeat-sounds/set_b/murmur__185_1308073325396_B.wav',\n",
       " '../data/heartbeat-sounds/set_b/normal__181_1308052613891_B.wav',\n",
       " '../data/heartbeat-sounds/set_b/normal_noisynormal_178_1307989887769_B1.wav',\n",
       " '../data/heartbeat-sounds/set_b/murmur__162_1307101835989_A.wav',\n",
       " '../data/heartbeat-sounds/set_b/extrastole__237_1308750231222_C.wav',\n",
       " '../data/heartbeat-sounds/set_b/Bunlabelledtest__105_1305033453095_D.wav',\n",
       " '../data/heartbeat-sounds/set_b/Bunlabelledtest__138_1306762146980_C.wav',\n",
       " '../data/heartbeat-sounds/set_b/murmur__288_1311164615284_D.wav',\n",
       " '../data/heartbeat-sounds/set_b/normal__129_1306344506305_D.wav',\n",
       " '../data/heartbeat-sounds/set_b/normal__194_1308139824187_A1.wav',\n",
       " '../data/heartbeat-sounds/set_b/murmur__248_1309201683806_C.wav',\n",
       " '../data/heartbeat-sounds/set_b/normal__210_1308162935880_B1.wav',\n",
       " '../data/heartbeat-sounds/set_b/normal__213_1308245263936_C.wav',\n",
       " '../data/heartbeat-sounds/set_b/normal_noisynormal_149_1306776016110_A.wav',\n",
       " '../data/heartbeat-sounds/set_b/normal_noisynormal_159_1307018640315_A1.wav',\n",
       " '../data/heartbeat-sounds/set_b/Bunlabelledtest__129_1306344506305_B.wav',\n",
       " '../data/heartbeat-sounds/set_b/murmur__292_1311185449649_C.wav',\n",
       " '../data/heartbeat-sounds/set_b/normal__103_1305031931979_B.wav',\n",
       " '../data/heartbeat-sounds/set_b/normal_noisynormal_137_1306764999211_A2.wav',\n",
       " '../data/heartbeat-sounds/set_b/normal_noisynormal_133_1306759619127_D1.wav',\n",
       " '../data/heartbeat-sounds/set_b/normal__274_1311075637574_D.wav',\n",
       " '../data/heartbeat-sounds/set_b/normal__106_1306776721273_B1.wav',\n",
       " '../data/heartbeat-sounds/set_b/normal__290_1311182875320_A.wav',\n",
       " '../data/heartbeat-sounds/set_b/normal_noisynormal_139_1306519274653_D.wav',\n",
       " '../data/heartbeat-sounds/set_b/normal__232_1308748524018_B.wav',\n",
       " '../data/heartbeat-sounds/set_b/normal_noisynormal_142_1306763049574_B.wav',\n",
       " '../data/heartbeat-sounds/set_b/murmur_noisymurmur_135_1306428972976_C.wav',\n",
       " '../data/heartbeat-sounds/set_b/normal_noisynormal_169_1307970398039_A.wav',\n",
       " '../data/heartbeat-sounds/set_b/murmur__223_1308337062581_D.wav',\n",
       " '../data/heartbeat-sounds/set_b/Bunlabelledtest__171_1307971016233_C.wav',\n",
       " '../data/heartbeat-sounds/set_b/extrastole__274_1311075637574_A.wav',\n",
       " '../data/heartbeat-sounds/set_b/normal__300_1311772096120_C1.wav',\n",
       " '../data/heartbeat-sounds/set_b/normal__274_1311075637574_A1.wav',\n",
       " '../data/heartbeat-sounds/set_b/normal__262_1309355283807_A.wav',\n",
       " '../data/heartbeat-sounds/set_b/normal__186_1308073648738_D.wav',\n",
       " '../data/heartbeat-sounds/set_b/normal__103_1305031931979_D1.wav',\n",
       " '../data/heartbeat-sounds/set_b/normal__140_1306519735121_A.wav',\n",
       " '../data/heartbeat-sounds/set_b/extrastole__154_1306935608852_D2.wav',\n",
       " '../data/heartbeat-sounds/set_b/normal__224_1308337157445_C.wav',\n",
       " '../data/heartbeat-sounds/set_b/Bunlabelledtest__151_1306779785624_A1.wav',\n",
       " '../data/heartbeat-sounds/set_b/normal__210_1308162935880_D1.wav',\n",
       " '../data/heartbeat-sounds/set_b/normal_noisynormal_140_1306519735121_C.wav',\n",
       " '../data/heartbeat-sounds/set_b/extrastole__148_1306768801551_B.wav',\n",
       " '../data/heartbeat-sounds/set_b/normal__186_1308073648738_C1.wav',\n",
       " '../data/heartbeat-sounds/set_b/normal__173_1307973611151_B.wav',\n",
       " '../data/heartbeat-sounds/set_b/normal_noisynormal_136_1306429977501_B.wav',\n",
       " '../data/heartbeat-sounds/set_b/murmur__281_1311165683454_A.wav',\n",
       " '../data/heartbeat-sounds/set_b/murmur_noisymurmur_161_1307101199321_C.wav',\n",
       " '../data/heartbeat-sounds/set_b/Bunlabelledtest__122_1306325762831_B.wav',\n",
       " '../data/heartbeat-sounds/set_b/normal__153_1306848820671_B.wav',\n",
       " '../data/heartbeat-sounds/set_b/extrastole__144_1306522408528_B.wav',\n",
       " '../data/heartbeat-sounds/set_b/normal__250_1309202496494_A.wav',\n",
       " '../data/heartbeat-sounds/set_b/murmur__240_1309196119795_B.wav',\n",
       " '../data/heartbeat-sounds/set_b/normal__168_1307970069434_A.wav',\n",
       " '../data/heartbeat-sounds/set_b/normal_noisynormal_125_1306332456645_A2.wav',\n",
       " '../data/heartbeat-sounds/set_b/extrastole__215_1308245664733_B.wav',\n",
       " '../data/heartbeat-sounds/set_b/normal__141_1306520154450_B.wav',\n",
       " '../data/heartbeat-sounds/set_b/Bunlabelledtest__210_1308162935880_D.wav',\n",
       " '../data/heartbeat-sounds/set_b/murmur__293_1311680805936_B1.wav',\n",
       " '../data/heartbeat-sounds/set_b/murmur_noisymurmur_293_1311680805936_C.wav',\n",
       " '../data/heartbeat-sounds/set_b/normal__177_1307989650056_D.wav',\n",
       " '../data/heartbeat-sounds/set_b/normal__227_1308594233667_B.wav',\n",
       " '../data/heartbeat-sounds/set_b/normal_noisynormal_109_1305653646620_A.wav',\n",
       " '../data/heartbeat-sounds/set_b/extrastole__128_1306344005749_A.wav',\n",
       " '../data/heartbeat-sounds/set_b/normal__294_1311681084248_B.wav',\n",
       " '../data/heartbeat-sounds/set_b/normal_noisynormal_110_1305655332337_B.wav',\n",
       " '../data/heartbeat-sounds/set_b/normal__175_1307987962616_B.wav',\n",
       " '../data/heartbeat-sounds/set_b/normal__291_1311185210672_A.wav',\n",
       " '../data/heartbeat-sounds/set_b/normal_noisynormal_144_1306522408528_A1.wav',\n",
       " '../data/heartbeat-sounds/set_b/Bunlabelledtest__167_1307111318050_C1.wav',\n",
       " '../data/heartbeat-sounds/set_b/normal_noisynormal_182_1308053371395_B.wav',\n",
       " '../data/heartbeat-sounds/set_b/normal_noisynormal_132_1306758754432_B1.wav',\n",
       " '../data/heartbeat-sounds/set_b/normal_noisynormal_108_1305654420093_B.wav',\n",
       " '../data/heartbeat-sounds/set_b/normal__145_1307987561278_C.wav',\n",
       " '../data/heartbeat-sounds/set_b/normal__153_1306848820671_B1.wav',\n",
       " '../data/heartbeat-sounds/set_b/normal_noisynormal_271_1309369876160_C.wav',\n",
       " '../data/heartbeat-sounds/set_b/normal__140_1306519735121_B.wav',\n",
       " '../data/heartbeat-sounds/set_b/extrastole__235_1308749032454_B.wav',\n",
       " '../data/heartbeat-sounds/set_b/normal_noisynormal_133_1306759619127_A1.wav',\n",
       " '../data/heartbeat-sounds/set_b/normal__198_1308141739338_C.wav',\n",
       " '../data/heartbeat-sounds/set_b/murmur_noisymurmur_293_1311680805936_D.wav',\n",
       " '../data/heartbeat-sounds/set_b/normal_noisynormal_136_1306429977501_C.wav',\n",
       " '../data/heartbeat-sounds/set_b/normal_noisynormal_258_1309352253234_A.wav',\n",
       " '../data/heartbeat-sounds/set_b/Bunlabelledtest__101_1305030823364_A.wav',\n",
       " '../data/heartbeat-sounds/set_b/normal__235_1308749032454_D.wav',\n",
       " '../data/heartbeat-sounds/set_b/murmur__116_1306258689913_D.wav',\n",
       " '../data/heartbeat-sounds/set_b/normal__278_1311163365896_A.wav',\n",
       " '../data/heartbeat-sounds/set_b/murmur__211_1308163238707_C.wav',\n",
       " '../data/heartbeat-sounds/set_b/normal_noisynormal_142_1306763049574_D.wav',\n",
       " '../data/heartbeat-sounds/set_b/murmur__254_1309350589009_A.wav',\n",
       " '../data/heartbeat-sounds/set_b/normal_noisynormal_163_1307104470471_D1.wav',\n",
       " '../data/heartbeat-sounds/set_b/normal_noisynormal_123_1306331925797_B.wav',\n",
       " '../data/heartbeat-sounds/set_b/murmur__200_1308144251434_C.wav',\n",
       " '../data/heartbeat-sounds/set_b/extrastole__210_1308162935880_C.wav',\n",
       " '../data/heartbeat-sounds/set_b/normal__103_1305031931979_D2.wav',\n",
       " '../data/heartbeat-sounds/set_b/normal__127_1306764300147_B.wav',\n",
       " '../data/heartbeat-sounds/set_b/murmur__281_1311165683454_B.wav',\n",
       " '../data/heartbeat-sounds/set_b/Bunlabelledtest__187_1308073994223_C.wav',\n",
       " '../data/heartbeat-sounds/set_b/normal__274_1311075637574_B.wav',\n",
       " '../data/heartbeat-sounds/set_b/normal__149_1306776016110_C1.wav',\n",
       " '../data/heartbeat-sounds/set_b/normal_noisynormal_158_1306947254705_B1.wav',\n",
       " '../data/heartbeat-sounds/set_b/normal_noisynormal_150_1306776340746_A.wav',\n",
       " '../data/heartbeat-sounds/set_b/extrastole__207_1308159792607_B.wav',\n",
       " '../data/heartbeat-sounds/set_b/murmur__242_1309197394064_B.wav',\n",
       " '../data/heartbeat-sounds/set_b/extrastole__253_1309350256198_B.wav',\n",
       " '../data/heartbeat-sounds/set_b/normal__126_1306777102824_C.wav',\n",
       " '../data/heartbeat-sounds/set_b/murmur__254_1309350589009_D.wav',\n",
       " '../data/heartbeat-sounds/set_b/normal_noisynormal_133_1306759619127_C.wav',\n",
       " '../data/heartbeat-sounds/set_b/murmur__160_1307100683334_B.wav',\n",
       " '../data/heartbeat-sounds/set_b/normal__147_1306523973811_A.wav',\n",
       " '../data/heartbeat-sounds/set_b/murmur_noisymurmur_185_1308073325396_D.wav',\n",
       " '../data/heartbeat-sounds/set_b/normal__207_1308159792607_C.wav',\n",
       " '../data/heartbeat-sounds/set_b/normal__175_1307987962616_D.wav',\n",
       " '../data/heartbeat-sounds/set_b/normal__159_1307018640315_B2.wav',\n",
       " '../data/heartbeat-sounds/set_b/normal__180_1307990956284_C.wav',\n",
       " '../data/heartbeat-sounds/set_b/normal__178_1307989887769_B.wav',\n",
       " '../data/heartbeat-sounds/set_b/normal__230_1308595300880_B.wav',\n",
       " '../data/heartbeat-sounds/set_b/murmur_noisymurmur_164_1307106095995_C1.wav',\n",
       " '../data/heartbeat-sounds/set_b/normal_noisynormal_264_1309356143724_B.wav',\n",
       " '../data/heartbeat-sounds/set_b/normal__150_1306776340746_B.wav',\n",
       " '../data/heartbeat-sounds/set_b/normal_noisynormal_141_1306520154450_B1.wav',\n",
       " '../data/heartbeat-sounds/set_b/Bunlabelledtest__101_1305030823364_D.wav',\n",
       " '../data/heartbeat-sounds/set_b/normal__204_1308159229275_C.wav',\n",
       " '../data/heartbeat-sounds/set_b/normal_noisynormal_118_1306262335509_B.wav',\n",
       " '../data/heartbeat-sounds/set_b/normal__137_1306764999211_D.wav',\n",
       " '../data/heartbeat-sounds/set_b/normal_noisynormal_115_1306259437619_A1.wav',\n",
       " '../data/heartbeat-sounds/set_b/normal__250_1309202496494_B.wav',\n",
       " '../data/heartbeat-sounds/set_b/normal__209_1308162216750_A1.wav',\n",
       " '../data/heartbeat-sounds/set_b/murmur__248_1309201683806_A.wav',\n",
       " '../data/heartbeat-sounds/set_b/Bunlabelledtest__112_1306243000964_C.wav',\n",
       " '../data/heartbeat-sounds/set_b/normal__286_1311170606028_A1.wav',\n",
       " '../data/heartbeat-sounds/set_b/normal__280_1311165195344_A.wav',\n",
       " '../data/heartbeat-sounds/set_b/Bunlabelledtest__160_1307100683334_C.wav',\n",
       " '../data/heartbeat-sounds/set_b/normal__159_1307018640315_C1.wav',\n",
       " '../data/heartbeat-sounds/set_b/normal__210_1308162935880_B.wav',\n",
       " '../data/heartbeat-sounds/set_b/normal__153_1306848820671_A.wav',\n",
       " '../data/heartbeat-sounds/set_b/normal_noisynormal_125_1306332456645_C.wav',\n",
       " '../data/heartbeat-sounds/set_b/normal_noisynormal_132_1306758754432_C.wav',\n",
       " '../data/heartbeat-sounds/set_b/normal_noisynormal_172_1307971284351_A.wav',\n",
       " '../data/heartbeat-sounds/set_b/normal_noisynormal_176_1307988171173_D.wav',\n",
       " '../data/heartbeat-sounds/set_b/normal__170_1307970562729_C.wav',\n",
       " '../data/heartbeat-sounds/set_b/normal__294_1311681084248_D1.wav',\n",
       " '../data/heartbeat-sounds/set_b/murmur__196_1308141034858_B.wav',\n",
       " '../data/heartbeat-sounds/set_b/murmur__203_1308162026258_D.wav',\n",
       " '../data/heartbeat-sounds/set_b/normal__158_1306947254705_B2.wav',\n",
       " '../data/heartbeat-sounds/set_b/murmur_noisymurmur_243_1309197760898_C.wav',\n",
       " '../data/heartbeat-sounds/set_b/Bunlabelledtest__177_1307989650056_C.wav',\n",
       " '../data/heartbeat-sounds/set_b/extrastole__127_1306764300147_C2.wav',\n",
       " '../data/heartbeat-sounds/set_b/murmur_noisymurmur_161_1307101199321_B.wav',\n",
       " '../data/heartbeat-sounds/set_b/normal__238_1309194586293_A.wav',\n",
       " '../data/heartbeat-sounds/set_b/normal__151_1306779785624_A.wav',\n",
       " '../data/heartbeat-sounds/set_b/normal__299_1311770522820_C.wav',\n",
       " '../data/heartbeat-sounds/set_b/normal__128_1306344005749_D.wav',\n",
       " '../data/heartbeat-sounds/set_b/normal__174_1307987737137_B.wav',\n",
       " '../data/heartbeat-sounds/set_b/murmur__203_1308162026258_B.wav',\n",
       " '../data/heartbeat-sounds/set_b/normal_noisynormal_130_1306347376079_C.wav',\n",
       " '../data/heartbeat-sounds/set_b/murmur__112_1306243000964_D.wav',\n",
       " '../data/heartbeat-sounds/set_b/murmur_noisymurmur_272_1309370164386_C.wav',\n",
       " '../data/heartbeat-sounds/set_b/normal_noisynormal_117_1306262456650_A.wav',\n",
       " '../data/heartbeat-sounds/set_b/normal__103_1305031931979_D3.wav',\n",
       " '../data/heartbeat-sounds/set_b/normal__133_1306759619127_D.wav',\n",
       " '../data/heartbeat-sounds/set_b/murmur__245_1309200438094_B.wav',\n",
       " '../data/heartbeat-sounds/set_b/normal__109_1305653646620_C.wav',\n",
       " '../data/heartbeat-sounds/set_b/Bunlabelledtest__152_1306779561195_D1.wav',\n",
       " '../data/heartbeat-sounds/set_b/murmur__193_1308078104592_B.wav',\n",
       " '../data/heartbeat-sounds/set_b/normal__216_1308245839516_C.wav',\n",
       " '../data/heartbeat-sounds/set_b/extrastole__151_1306779785624_B.wav',\n",
       " '../data/heartbeat-sounds/set_b/normal_noisynormal_146_1306778707532_D.wav',\n",
       " '../data/heartbeat-sounds/set_b/murmur__281_1311165683454_D.wav',\n",
       " '../data/heartbeat-sounds/set_b/murmur__244_1309198148498_B.wav',\n",
       " '../data/heartbeat-sounds/set_b/Bunlabelledtest__128_1306344005749_C.wav',\n",
       " '../data/heartbeat-sounds/set_b/Bunlabelledtest__180_1307990956284_B.wav',\n",
       " '../data/heartbeat-sounds/set_b/murmur__240_1309201366049_B.wav',\n",
       " '../data/heartbeat-sounds/set_b/normal_noisynormal_142_1306763049574_A.wav',\n",
       " '../data/heartbeat-sounds/set_b/normal__188_1308074301731_D.wav',\n",
       " '../data/heartbeat-sounds/set_b/Bunlabelledtest__167_1307111318050_D.wav',\n",
       " '../data/heartbeat-sounds/set_b/extrastole__229_1308594979317_B.wav',\n",
       " '../data/heartbeat-sounds/set_b/normal__127_1306764300147_A.wav',\n",
       " '../data/heartbeat-sounds/set_b/normal_noisynormal_234_1308748855534_B.wav',\n",
       " '../data/heartbeat-sounds/set_b/murmur__193_1308078104592_C.wav',\n",
       " '../data/heartbeat-sounds/set_b/normal_noisynormal_118_1306262335509_C1.wav',\n",
       " '../data/heartbeat-sounds/set_b/normal_noisynormal_270_1309369533040_A.wav',\n",
       " '../data/heartbeat-sounds/set_b/normal_noisynormal_121_1306263877235_C.wav',\n",
       " '../data/heartbeat-sounds/set_b/normal_noisynormal_105_1305033453095_C.wav',\n",
       " '../data/heartbeat-sounds/set_b/normal__168_1307970069434_A2.wav',\n",
       " '../data/heartbeat-sounds/set_b/normal__143_1306763822290_C.wav',\n",
       " '../data/heartbeat-sounds/set_b/normal__190_1308076920011_D.wav',\n",
       " '../data/heartbeat-sounds/set_b/normal_noisynormal_125_1306332456645_A1.wav',\n",
       " '../data/heartbeat-sounds/set_b/normal__274_1311075637574_B1.wav',\n",
       " '../data/heartbeat-sounds/set_b/normal_noisynormal_246_1309199278902_D.wav',\n",
       " '../data/heartbeat-sounds/set_b/normal__175_1307987962616_B1.wav',\n",
       " '../data/heartbeat-sounds/set_b/normal__154_1306935608852_D.wav',\n",
       " '../data/heartbeat-sounds/set_b/extrastole__190_1308076920011_C.wav',\n",
       " '../data/heartbeat-sounds/set_b/normal__146_1306778707532_D2.wav',\n",
       " '../data/heartbeat-sounds/set_b/normal__178_1307989887769_D.wav',\n",
       " '../data/heartbeat-sounds/set_b/normal__230_1308595300880_C.wav',\n",
       " '../data/heartbeat-sounds/set_b/normal__252_1309203336604_B.wav',\n",
       " '../data/heartbeat-sounds/set_b/normal__208_1308159994503_C.wav',\n",
       " '../data/heartbeat-sounds/set_b/normal_noisynormal_101_1305030823364_E.wav',\n",
       " '../data/heartbeat-sounds/set_b/normal__201_1308144942432_A.wav',\n",
       " '../data/heartbeat-sounds/set_b/normal_noisynormal_113_1306244002866_B.wav',\n",
       " '../data/heartbeat-sounds/set_b/murmur__165_1307109069581_C2.wav',\n",
       " '../data/heartbeat-sounds/set_b/normal_noisynormal_117_1306262456650_C.wav',\n",
       " '../data/heartbeat-sounds/set_b/extrastole__216_1308245839516_A.wav',\n",
       " '../data/heartbeat-sounds/set_b/murmur__204_1308159229275_B.wav',\n",
       " '../data/heartbeat-sounds/set_b/Bunlabelledtest__118_1306262335509_A.wav',\n",
       " '../data/heartbeat-sounds/set_b/extrastole__207_1308159792607_B1.wav',\n",
       " '../data/heartbeat-sounds/set_b/normal__143_1306763822290_B.wav',\n",
       " '../data/heartbeat-sounds/set_b/murmur_noisymurmur_200_1308144251434_D.wav',\n",
       " '../data/heartbeat-sounds/set_b/murmur__161_1307101199321_A.wav',\n",
       " '../data/heartbeat-sounds/set_b/normal__273_1309370841191_B.wav',\n",
       " '../data/heartbeat-sounds/set_b/normal_noisynormal_123_1306331925797_C.wav',\n",
       " '../data/heartbeat-sounds/set_b/normal__294_1311681084248_A.wav',\n",
       " '../data/heartbeat-sounds/set_b/normal__183_1308072703477_C.wav',\n",
       " '../data/heartbeat-sounds/set_b/normal_noisynormal_271_1309369876160_A.wav',\n",
       " '../data/heartbeat-sounds/set_b/normal__117_1306262456650_B.wav',\n",
       " '../data/heartbeat-sounds/set_b/normal_noisynormal_147_1306523973811_B.wav',\n",
       " '../data/heartbeat-sounds/set_b/extrastole__153_1306848820671_C.wav',\n",
       " '../data/heartbeat-sounds/set_b/Bunlabelledtest__155_1306935902813_B.wav',\n",
       " '../data/heartbeat-sounds/set_b/normal__238_1309194586293_B.wav',\n",
       " '../data/heartbeat-sounds/set_b/normal_noisynormal_125_1306332456645_B1.wav',\n",
       " '../data/heartbeat-sounds/set_b/normal__298_1311685888900_B.wav',\n",
       " '../data/heartbeat-sounds/set_b/normal__204_1308159229275_D.wav',\n",
       " '../data/heartbeat-sounds/set_b/normal_noisynormal_108_1305654420093_A.wav',\n",
       " '../data/heartbeat-sounds/set_b/Bunlabelledtest__101_1305030823364_F.wav',\n",
       " '../data/heartbeat-sounds/set_b/normal_noisynormal_154_1306935608852_C.wav',\n",
       " '../data/heartbeat-sounds/set_b/extrastole__275_1310990852160_B.wav',\n",
       " '../data/heartbeat-sounds/set_b/murmur__195_1308140095331_C1.wav',\n",
       " '../data/heartbeat-sounds/set_b/murmur_noisymurmur_135_1306428972976_A.wav',\n",
       " '../data/heartbeat-sounds/set_b/extrastole__265_1309367698923_C.wav',\n",
       " '../data/heartbeat-sounds/set_b/normal__214_1308245489717_A.wav',\n",
       " '../data/heartbeat-sounds/set_b/extrastole__298_1311685888900_C.wav',\n",
       " '../data/heartbeat-sounds/set_b/normal_noisynormal_155_1306935902813_C.wav',\n",
       " '../data/heartbeat-sounds/set_b/murmur__195_1308140095331_A.wav',\n",
       " '../data/heartbeat-sounds/set_b/normal__177_1307989650056_D1.wav',\n",
       " '../data/heartbeat-sounds/set_b/normal__286_1311170606028_B1.wav',\n",
       " '../data/heartbeat-sounds/set_b/normal__106_1306776721273_D1.wav',\n",
       " '../data/heartbeat-sounds/set_b/murmur__287_1311170903290_C.wav',\n",
       " '../data/heartbeat-sounds/set_b/normal__149_1306776016110_B.wav',\n",
       " '../data/heartbeat-sounds/set_b/normal_noisynormal_151_1306779785624_C.wav',\n",
       " '../data/heartbeat-sounds/set_b/extrastole__215_1308245664733_B1.wav',\n",
       " '../data/heartbeat-sounds/set_b/normal_noisynormal_207_1308159792607_D.wav',\n",
       " '../data/heartbeat-sounds/set_b/normal_noisynormal_143_1306763822290_A.wav',\n",
       " '../data/heartbeat-sounds/set_b/normal__217_1308246111629_C.wav',\n",
       " '../data/heartbeat-sounds/set_b/normal__177_1307989650056_B.wav',\n",
       " '../data/heartbeat-sounds/set_b/Bunlabelledtest__125_1306332456645_B2.wav',\n",
       " '../data/heartbeat-sounds/set_b/murmur__112_1306243000964_A.wav',\n",
       " '../data/heartbeat-sounds/set_b/normal_noisynormal_141_1306520154450_A1.wav',\n",
       " '../data/heartbeat-sounds/set_b/normal__179_1307990076841_D.wav',\n",
       " '../data/heartbeat-sounds/set_b/normal__106_1306776721273_D2.wav',\n",
       " '../data/heartbeat-sounds/set_b/normal_noisynormal_113_1306244002866_A.wav',\n",
       " '../data/heartbeat-sounds/set_b/normal__106_1306776721273_C2.wav',\n",
       " '../data/heartbeat-sounds/set_b/murmur_noisymurmur_231_1308748318393_A.wav',\n",
       " '../data/heartbeat-sounds/set_b/murmur_noisymurmur_292_1311185449649_D.wav',\n",
       " '../data/heartbeat-sounds/set_b/normal_noisynormal_216_1308245839516_D.wav',\n",
       " '../data/heartbeat-sounds/set_b/normal__154_1306935608852_A1.wav',\n",
       " '../data/heartbeat-sounds/set_b/normal__169_1307970398039_C.wav',\n",
       " '../data/heartbeat-sounds/set_b/normal__172_1307971284351_B1.wav',\n",
       " '../data/heartbeat-sounds/set_b/murmur_noisymurmur_162_1307101835989_B_1.wav',\n",
       " '../data/heartbeat-sounds/set_b/murmur__171_1307971016233_D1.wav',\n",
       " '../data/heartbeat-sounds/set_b/normal__126_1306777102824_D.wav',\n",
       " '../data/heartbeat-sounds/set_b/normal__133_1306759619127_A.wav',\n",
       " '../data/heartbeat-sounds/set_b/murmur__171_1307971016233_D.wav',\n",
       " '../data/heartbeat-sounds/set_b/extrastole__209_1308162216750_D.wav',\n",
       " '../data/heartbeat-sounds/set_b/normal_noisynormal_137_1306764999211_B.wav',\n",
       " '../data/heartbeat-sounds/set_b/extrastole__134_1306428161797_C1.wav',\n",
       " '../data/heartbeat-sounds/set_b/normal__202_1308145175747_D.wav',\n",
       " '../data/heartbeat-sounds/set_b/normal_noisynormal_158_1306947254705_D.wav',\n",
       " '../data/heartbeat-sounds/set_b/normal__283_1311167409239_A.wav',\n",
       " '../data/heartbeat-sounds/set_b/normal__134_1306428161797_D.wav',\n",
       " '../data/heartbeat-sounds/set_b/normal_noisynormal_109_1305653972028_F.wav',\n",
       " '../data/heartbeat-sounds/set_b/normal__232_1308748524018_B1.wav',\n",
       " '../data/heartbeat-sounds/set_b/Bunlabelledtest__115_1306259437619_D.wav',\n",
       " '../data/heartbeat-sounds/set_b/extrastole__130_1306347376079_D.wav',\n",
       " '../data/heartbeat-sounds/set_b/normal_noisynormal_284_1311168471850_A.wav',\n",
       " '../data/heartbeat-sounds/set_b/normal__270_1309369533040_C.wav',\n",
       " '../data/heartbeat-sounds/set_b/extrastole__224_1308337157445_B.wav',\n",
       " '../data/heartbeat-sounds/set_b/extrastole__140_1306519735121_D.wav',\n",
       " '../data/heartbeat-sounds/set_b/murmur_noisymurmur_165_1307109069581_D.wav',\n",
       " '../data/heartbeat-sounds/set_b/normal__176_1307988171173_B1.wav',\n",
       " '../data/heartbeat-sounds/set_b/normal__258_1309352253234_C.wav',\n",
       " '../data/heartbeat-sounds/set_b/normal__107_1305654946865_C1.wav',\n",
       " '../data/heartbeat-sounds/set_b/normal_noisynormal_137_1306764999211_A1.wav',\n",
       " '../data/heartbeat-sounds/set_b/murmur_noisymurmur_171_1307971016233_D.wav',\n",
       " '../data/heartbeat-sounds/set_b/murmur_noisymurmur_162_1307101835989_D.wav',\n",
       " '../data/heartbeat-sounds/set_b/normal_noisynormal_168_1307970069434_A1.wav',\n",
       " '../data/heartbeat-sounds/set_b/normal__180_1307990956284_A.wav',\n",
       " '../data/heartbeat-sounds/set_b/Bunlabelledtest__148_1306768801551_C.wav',\n",
       " '../data/heartbeat-sounds/set_b/extrastole__216_1308245839516_B.wav',\n",
       " '../data/heartbeat-sounds/set_b/normal_noisynormal_107_1305654946865_A.wav',\n",
       " '../data/heartbeat-sounds/set_b/murmur__254_1309350589009_C.wav',\n",
       " '../data/heartbeat-sounds/set_b/normal_noisynormal_278_1311163365896_B.wav',\n",
       " '../data/heartbeat-sounds/set_b/normal__206_1308159601959_C.wav',\n",
       " '../data/heartbeat-sounds/set_b/murmur_noisymurmur_288_1311164615284_B1.wav',\n",
       " '../data/heartbeat-sounds/set_b/normal_noisynormal_106_1306776721273_A.wav',\n",
       " '../data/heartbeat-sounds/set_b/normal__220_1308250132896_C.wav',\n",
       " '../data/heartbeat-sounds/set_b/normal_noisynormal_115_1306259437619_B.wav',\n",
       " '../data/heartbeat-sounds/set_b/normal__282_1311166081161_C.wav',\n",
       " '../data/heartbeat-sounds/set_b/normal__134_1306428161797_C2.wav',\n",
       " '../data/heartbeat-sounds/set_b/normal__194_1308139824187_A.wav',\n",
       " '../data/heartbeat-sounds/set_b/murmur_noisymurmur_160_1307100683334_D.wav',\n",
       " '../data/heartbeat-sounds/set_b/normal__267_1309368735165_A.wav',\n",
       " '../data/heartbeat-sounds/set_b/extrastole__286_1311170606028_D.wav',\n",
       " '../data/heartbeat-sounds/set_b/normal__129_1306344506305_D1.wav',\n",
       " '../data/heartbeat-sounds/set_b/normal__260_1309353164458_C.wav',\n",
       " '../data/heartbeat-sounds/set_b/normal__152_1306779561195_B1.wav',\n",
       " '../data/heartbeat-sounds/set_b/extrastole__163_1307104470471_C.wav',\n",
       " '../data/heartbeat-sounds/set_b/normal__232_1308748524018_C.wav',\n",
       " '../data/heartbeat-sounds/set_b/murmur__164_1307106095995_C.wav',\n",
       " '../data/heartbeat-sounds/set_b/extrastole__249_1309202052376_C.wav',\n",
       " '../data/heartbeat-sounds/set_b/normal__159_1307018640315_A.wav',\n",
       " '../data/heartbeat-sounds/set_b/normal__235_1308749032454_C.wav',\n",
       " '../data/heartbeat-sounds/set_b/normal__295_1311682673157_D.wav',\n",
       " '../data/heartbeat-sounds/set_b/normal__155_1306935902813_B1.wav',\n",
       " '../data/heartbeat-sounds/set_b/murmur__185_1308073325396_C.wav',\n",
       " '../data/heartbeat-sounds/set_b/Bunlabelledtest__242_1309197394064_A.wav',\n",
       " '../data/heartbeat-sounds/set_b/normal__261_1309353556003_B.wav',\n",
       " '../data/heartbeat-sounds/set_b/normal__232_1308748524018_D1.wav',\n",
       " '../data/heartbeat-sounds/set_b/normal_noisynormal_198_1308141739338_D.wav',\n",
       " '../data/heartbeat-sounds/set_b/normal_noisynormal_105_1305033453095_A.wav',\n",
       " '../data/heartbeat-sounds/set_b/normal__286_1311170606028_C.wav',\n",
       " '../data/heartbeat-sounds/set_b/Bunlabelledtest__235_1308749032454_C1.wav',\n",
       " '../data/heartbeat-sounds/set_b/normal__188_1308074301731_C.wav',\n",
       " '../data/heartbeat-sounds/set_b/murmur__196_1308141034858_C.wav',\n",
       " '../data/heartbeat-sounds/set_b/normal__145_1307987561278_B.wav',\n",
       " '../data/heartbeat-sounds/set_b/murmur_noisymurmur_156_1306936373241_A.wav',\n",
       " '../data/heartbeat-sounds/set_b/normal__146_1306778707532_D3.wav',\n",
       " '../data/heartbeat-sounds/set_b/normal_noisynormal_137_1306764999211_C1.wav',\n",
       " '../data/heartbeat-sounds/set_b/murmur__203_1308162026258_C1.wav',\n",
       " '../data/heartbeat-sounds/set_b/murmur__195_1308140095331_C.wav',\n",
       " '../data/heartbeat-sounds/set_b/normal__191_1308077299430_B.wav',\n",
       " '../data/heartbeat-sounds/set_b/normal__150_1306776340746_C.wav',\n",
       " '../data/heartbeat-sounds/set_b/normal__167_1307111318050_C.wav',\n",
       " '../data/heartbeat-sounds/set_b/normal_noisynormal_138_1306762146980_D.wav',\n",
       " '../data/heartbeat-sounds/set_b/extrastole__198_1308141739338_B1.wav',\n",
       " '../data/heartbeat-sounds/set_b/murmur__200_1308144251434_D.wav',\n",
       " '../data/heartbeat-sounds/set_b/normal_noisynormal_159_1307018640315_B.wav',\n",
       " '../data/heartbeat-sounds/set_b/murmur__240_1309196119795_C.wav',\n",
       " '../data/heartbeat-sounds/set_b/extrastole__220_1308250132896_B.wav',\n",
       " '../data/heartbeat-sounds/set_b/murmur_noisymurmur_135_1306428972976_B.wav',\n",
       " '../data/heartbeat-sounds/set_b/murmur__197_1308141235553_D.wav',\n",
       " '../data/heartbeat-sounds/set_b/normal__201_1308144942432_A1.wav']"
      ]
     },
     "execution_count": 40,
     "metadata": {},
     "output_type": "execute_result"
    }
   ],
   "source": [
    "all_sounds_b"
   ]
  },
  {
   "cell_type": "code",
   "execution_count": 41,
   "metadata": {},
   "outputs": [],
   "source": [
    "for i in all_sounds_b:\n",
    "    if 'Bunlabelledtest' in i:\n",
    "        all_sounds_b.remove(i)"
   ]
  },
  {
   "cell_type": "code",
   "execution_count": 42,
   "metadata": {},
   "outputs": [
    {
     "data": {
      "text/plain": [
       "463"
      ]
     },
     "execution_count": 42,
     "metadata": {},
     "output_type": "execute_result"
    }
   ],
   "source": [
    "len(all_sounds_b)"
   ]
  },
  {
   "cell_type": "code",
   "execution_count": 43,
   "metadata": {},
   "outputs": [],
   "source": [
    "for i in all_sounds_b:\n",
    "    if 'Bunlabelledtest' in i:\n",
    "        all_sounds_b.remove(i)"
   ]
  },
  {
   "cell_type": "code",
   "execution_count": 44,
   "metadata": {},
   "outputs": [
    {
     "data": {
      "text/plain": [
       "461"
      ]
     },
     "execution_count": 44,
     "metadata": {},
     "output_type": "execute_result"
    }
   ],
   "source": [
    "len(all_sounds_b)"
   ]
  },
  {
   "cell_type": "code",
   "execution_count": 45,
   "metadata": {},
   "outputs": [
    {
     "data": {
      "text/plain": [
       "['../data/heartbeat-sounds/set_b/extrastole__194_1308139824187_B.wav',\n",
       " '../data/heartbeat-sounds/set_b/normal_noisynormal_157_1306937583792_A.wav',\n",
       " '../data/heartbeat-sounds/set_b/normal__181_1308052613891_D.wav',\n",
       " '../data/heartbeat-sounds/set_b/normal_noisynormal_284_1311168471850_B.wav',\n",
       " '../data/heartbeat-sounds/set_b/murmur__197_1308141235553_C.wav',\n",
       " '../data/heartbeat-sounds/set_b/normal_noisynormal_144_1306522408528_C.wav',\n",
       " '../data/heartbeat-sounds/set_b/normal_noisynormal_271_1309369876160_D.wav',\n",
       " '../data/heartbeat-sounds/set_b/normal_noisynormal_129_1306344506305_C.wav',\n",
       " '../data/heartbeat-sounds/set_b/normal__177_1307989650056_A1.wav',\n",
       " '../data/heartbeat-sounds/set_b/normal_noisynormal_285_1311169246969_C.wav',\n",
       " '../data/heartbeat-sounds/set_b/normal__218_1308246311449_C.wav',\n",
       " '../data/heartbeat-sounds/set_b/normal_noisynormal_181_1308052613891_A.wav',\n",
       " '../data/heartbeat-sounds/set_b/normal__209_1308162216750_A.wav',\n",
       " '../data/heartbeat-sounds/set_b/normal__125_1306332456645_B.wav',\n",
       " '../data/heartbeat-sounds/set_b/normal_noisynormal_194_1308139824187_C.wav',\n",
       " '../data/heartbeat-sounds/set_b/normal__202_1308145175747_C.wav',\n",
       " '../data/heartbeat-sounds/set_b/murmur__156_1306936373241_B.wav',\n",
       " '../data/heartbeat-sounds/set_b/normal_noisynormal_137_1306764999211_D1.wav',\n",
       " '../data/heartbeat-sounds/set_b/normal__232_1308748524018_A.wav',\n",
       " '../data/heartbeat-sounds/set_b/normal_noisynormal_134_1306428161797_D1.wav',\n",
       " '../data/heartbeat-sounds/set_b/murmur_noisymurmur_240_1309201366049_D.wav',\n",
       " '../data/heartbeat-sounds/set_b/normal__113_1306244002866_D.wav',\n",
       " '../data/heartbeat-sounds/set_b/normal__127_1306764300147_C1.wav',\n",
       " '../data/heartbeat-sounds/set_b/normal_noisynormal_133_1306759619127_B1.wav',\n",
       " '../data/heartbeat-sounds/set_b/normal__146_1306778707532_D4.wav',\n",
       " '../data/heartbeat-sounds/set_b/murmur__165_1307109069581_C.wav',\n",
       " '../data/heartbeat-sounds/set_b/normal__210_1308162935880_D2.wav',\n",
       " '../data/heartbeat-sounds/set_b/normal_noisynormal_117_1306262456650_D.wav',\n",
       " '../data/heartbeat-sounds/set_b/normal__217_1308246111629_C1.wav',\n",
       " '../data/heartbeat-sounds/set_b/normal__151_1306779785624_D.wav',\n",
       " '../data/heartbeat-sounds/set_b/normal_noisynormal_173_1307973611151_B.wav',\n",
       " '../data/heartbeat-sounds/set_b/normal_noisynormal_141_1306520154450_C1.wav',\n",
       " '../data/heartbeat-sounds/set_b/normal__237_1308750231222_C.wav',\n",
       " '../data/heartbeat-sounds/set_b/normal__176_1307988171173_B.wav',\n",
       " '../data/heartbeat-sounds/set_b/normal__184_1308073010307_D.wav',\n",
       " '../data/heartbeat-sounds/set_b/normal__154_1306935608852_B1.wav',\n",
       " '../data/heartbeat-sounds/set_b/normal_noisynormal_155_1306935902813_A.wav',\n",
       " '../data/heartbeat-sounds/set_b/normal_noisynormal_101_1305030823364_B.wav',\n",
       " '../data/heartbeat-sounds/set_b/normal__146_1306778707532_A.wav',\n",
       " '../data/heartbeat-sounds/set_b/murmur__116_1306258689913_A.wav',\n",
       " '../data/heartbeat-sounds/set_b/normal_noisynormal_125_1306332456645_D.wav',\n",
       " '../data/heartbeat-sounds/set_b/murmur__242_1309197394064_D.wav',\n",
       " '../data/heartbeat-sounds/set_b/normal_noisynormal_264_1309356143724_D.wav',\n",
       " '../data/heartbeat-sounds/set_b/murmur_noisymurmur_156_1306936373241_B1.wav',\n",
       " '../data/heartbeat-sounds/set_b/extrastole__294_1311681084248_C.wav',\n",
       " '../data/heartbeat-sounds/set_b/normal__220_1308250132896_D.wav',\n",
       " '../data/heartbeat-sounds/set_b/normal__133_1306759619127_B.wav',\n",
       " '../data/heartbeat-sounds/set_b/normal_noisynormal_157_1306937583792_B.wav',\n",
       " '../data/heartbeat-sounds/set_b/normal__174_1307987737137_B1.wav',\n",
       " '../data/heartbeat-sounds/set_b/normal__148_1306768801551_D2.wav',\n",
       " '../data/heartbeat-sounds/set_b/normal_noisynormal_138_1306762146980_A.wav',\n",
       " '../data/heartbeat-sounds/set_b/normal_noisynormal_104_1305032492469_A.wav',\n",
       " '../data/heartbeat-sounds/set_b/normal__184_1308073010307_B.wav',\n",
       " '../data/heartbeat-sounds/set_b/normal__296_1311682952647_A2.wav',\n",
       " '../data/heartbeat-sounds/set_b/murmur__193_1308078104592_C1.wav',\n",
       " '../data/heartbeat-sounds/set_b/murmur__292_1311185449649_B.wav',\n",
       " '../data/heartbeat-sounds/set_b/normal__176_1307988171173_A.wav',\n",
       " '../data/heartbeat-sounds/set_b/normal__146_1306778707532_D1.wav',\n",
       " '../data/heartbeat-sounds/set_b/normal_noisynormal_109_1305653972028_C.wav',\n",
       " '../data/heartbeat-sounds/set_b/extrastole__237_1308750231222_A.wav',\n",
       " '../data/heartbeat-sounds/set_b/normal_noisynormal_110_1305655332337_A.wav',\n",
       " '../data/heartbeat-sounds/set_b/murmur__116_1306258689913_C.wav',\n",
       " '../data/heartbeat-sounds/set_b/murmur__112_1306243000964_B.wav',\n",
       " '../data/heartbeat-sounds/set_b/normal__159_1307018640315_B1.wav',\n",
       " '../data/heartbeat-sounds/set_b/normal_noisynormal_188_1308074301731_A.wav',\n",
       " '../data/heartbeat-sounds/set_b/normal__140_1306519735121_D1.wav',\n",
       " '../data/heartbeat-sounds/set_b/normal__115_1306259437619_C.wav',\n",
       " '../data/heartbeat-sounds/set_b/murmur__276_1311162716489_C.wav',\n",
       " '../data/heartbeat-sounds/set_b/normal__146_1306778707532_B.wav',\n",
       " '../data/heartbeat-sounds/set_b/murmur__254_1309350589009_A1.wav',\n",
       " '../data/heartbeat-sounds/set_b/extrastole__138_1306762146980_B.wav',\n",
       " '../data/heartbeat-sounds/set_b/normal__147_1306523973811_C.wav',\n",
       " '../data/heartbeat-sounds/set_b/extrastole__261_1309353556003_C.wav',\n",
       " '../data/heartbeat-sounds/set_b/murmur__122_1306325762831_C.wav',\n",
       " '../data/heartbeat-sounds/set_b/murmur_noisymurmur_288_1311164615284_C.wav',\n",
       " '../data/heartbeat-sounds/set_b/normal_noisynormal_118_1306262335509_D.wav',\n",
       " '../data/heartbeat-sounds/set_b/normal__141_1306520154450_C.wav',\n",
       " '../data/heartbeat-sounds/set_b/murmur__162_1307101835989_B.wav',\n",
       " '../data/heartbeat-sounds/set_b/murmur__164_1307106095995_B.wav',\n",
       " '../data/heartbeat-sounds/set_b/normal__218_1308246311449_C1.wav',\n",
       " '../data/heartbeat-sounds/set_b/normal__139_1306519274653_A.wav',\n",
       " '../data/heartbeat-sounds/set_b/extrastole__179_1307990076841_C.wav',\n",
       " '../data/heartbeat-sounds/set_b/normal__148_1306768801551_C1.wav',\n",
       " '../data/heartbeat-sounds/set_b/normal__106_1306776721273_C1.wav',\n",
       " '../data/heartbeat-sounds/set_b/murmur__122_1306325762831_D.wav',\n",
       " '../data/heartbeat-sounds/set_b/normal__286_1311170606028_A.wav',\n",
       " '../data/heartbeat-sounds/set_b/normal_noisynormal_264_1309356143724_C.wav',\n",
       " '../data/heartbeat-sounds/set_b/normal_noisynormal_129_1306344506305_A.wav',\n",
       " '../data/heartbeat-sounds/set_b/normal__137_1306764999211_C.wav',\n",
       " '../data/heartbeat-sounds/set_b/normal_noisynormal_136_1306429977501_D1.wav',\n",
       " '../data/heartbeat-sounds/set_b/normal__170_1307970562729_A.wav',\n",
       " '../data/heartbeat-sounds/set_b/normal_noisynormal_127_1306764300147_D1.wav',\n",
       " '../data/heartbeat-sounds/set_b/extrastole__191_1308077299430_A.wav',\n",
       " '../data/heartbeat-sounds/set_b/normal_noisynormal_170_1307970562729_C1.wav',\n",
       " '../data/heartbeat-sounds/set_b/normal__296_1311682952647_A1.wav',\n",
       " '../data/heartbeat-sounds/set_b/normal_noisynormal_130_1306347376079_B.wav',\n",
       " '../data/heartbeat-sounds/set_b/normal__278_1311163365896_A1.wav',\n",
       " '../data/heartbeat-sounds/set_b/normal_noisynormal_173_1307973611151_C1.wav',\n",
       " '../data/heartbeat-sounds/set_b/normal__190_1308076920011_C1.wav',\n",
       " '../data/heartbeat-sounds/set_b/normal__215_1308245664733_C.wav',\n",
       " '../data/heartbeat-sounds/set_b/normal__128_1306344005749_B.wav',\n",
       " '../data/heartbeat-sounds/set_b/extrastole__144_1306522408528_B1.wav',\n",
       " '../data/heartbeat-sounds/set_b/murmur_noisymurmur_171_1307971016233_F.wav',\n",
       " '../data/heartbeat-sounds/set_b/normal__126_1306777102824_B.wav',\n",
       " '../data/heartbeat-sounds/set_b/normal__152_1306779561195_D.wav',\n",
       " '../data/heartbeat-sounds/set_b/murmur_noisymurmur_165_1307109069581_C1.wav',\n",
       " '../data/heartbeat-sounds/set_b/normal_noisynormal_121_1306263877235_D.wav',\n",
       " '../data/heartbeat-sounds/set_b/murmur__160_1307100683334_A.wav',\n",
       " '../data/heartbeat-sounds/set_b/normal__179_1307990076841_B.wav',\n",
       " '../data/heartbeat-sounds/set_b/normal_noisynormal_109_1305653972028_E.wav',\n",
       " '../data/heartbeat-sounds/set_b/normal_noisynormal_270_1309369533040_B.wav',\n",
       " '../data/heartbeat-sounds/set_b/normal__170_1307970562729_B.wav',\n",
       " '../data/heartbeat-sounds/set_b/normal__153_1306848820671_D1.wav',\n",
       " '../data/heartbeat-sounds/set_b/normal_noisynormal_167_1307111318050_A1.wav',\n",
       " '../data/heartbeat-sounds/set_b/extrastole__202_1308145175747_C1.wav',\n",
       " '../data/heartbeat-sounds/set_b/normal_noisynormal_167_1307111318050_B.wav',\n",
       " '../data/heartbeat-sounds/set_b/normal_noisynormal_121_1306263877235_A.wav',\n",
       " '../data/heartbeat-sounds/set_b/murmur_noisymurmur_243_1309197760898_B.wav',\n",
       " '../data/heartbeat-sounds/set_b/normal_noisynormal_189_1308075231945_A1.wav',\n",
       " '../data/heartbeat-sounds/set_b/normal_noisynormal_296_1311682952647_C.wav',\n",
       " '../data/heartbeat-sounds/set_b/normal__215_1308245664733_C1.wav',\n",
       " '../data/heartbeat-sounds/set_b/normal_noisynormal_134_1306428161797_B1.wav',\n",
       " '../data/heartbeat-sounds/set_b/murmur__171_1307971016233_E.wav',\n",
       " '../data/heartbeat-sounds/set_b/murmur__239_1309195730333_C.wav',\n",
       " '../data/heartbeat-sounds/set_b/normal__227_1308594233667_C.wav',\n",
       " '../data/heartbeat-sounds/set_b/normal__172_1307971284351_B.wav',\n",
       " '../data/heartbeat-sounds/set_b/normal__128_1306344005749_D1.wav',\n",
       " '../data/heartbeat-sounds/set_b/murmur_noisymurmur_240_1309201366049_C.wav',\n",
       " '../data/heartbeat-sounds/set_b/extrastole__213_1308245263936_D.wav',\n",
       " '../data/heartbeat-sounds/set_b/normal__167_1307111318050_A.wav',\n",
       " '../data/heartbeat-sounds/set_b/extrastole__184_1308073010307_A.wav',\n",
       " '../data/heartbeat-sounds/set_b/normal__173_1307973611151_C.wav',\n",
       " '../data/heartbeat-sounds/set_b/normal__154_1306935608852_B.wav',\n",
       " '../data/heartbeat-sounds/set_b/extrastole__202_1308145175747_C2.wav',\n",
       " '../data/heartbeat-sounds/set_b/normal__134_1306428161797_C.wav',\n",
       " '../data/heartbeat-sounds/set_b/extrastole__198_1308141739338_B.wav',\n",
       " '../data/heartbeat-sounds/set_b/murmur__239_1309195730333_B.wav',\n",
       " '../data/heartbeat-sounds/set_b/normal__152_1306779561195_C1.wav',\n",
       " '../data/heartbeat-sounds/set_b/normal_noisynormal_296_1311682952647_D.wav',\n",
       " '../data/heartbeat-sounds/set_b/normal__129_1306344506305_B1.wav',\n",
       " '../data/heartbeat-sounds/set_b/normal_noisynormal_109_1305653972028_A.wav',\n",
       " '../data/heartbeat-sounds/set_b/murmur_noisymurmur_165_1307109069581_A.wav',\n",
       " '../data/heartbeat-sounds/set_b/murmur__197_1308141235553_A.wav',\n",
       " '../data/heartbeat-sounds/set_b/normal__256_1309351470137_A.wav',\n",
       " '../data/heartbeat-sounds/set_b/normal__183_1308072703477_B.wav',\n",
       " '../data/heartbeat-sounds/set_b/murmur__185_1308073325396_B.wav',\n",
       " '../data/heartbeat-sounds/set_b/normal__181_1308052613891_B.wav',\n",
       " '../data/heartbeat-sounds/set_b/normal_noisynormal_178_1307989887769_B1.wav',\n",
       " '../data/heartbeat-sounds/set_b/murmur__162_1307101835989_A.wav',\n",
       " '../data/heartbeat-sounds/set_b/extrastole__237_1308750231222_C.wav',\n",
       " '../data/heartbeat-sounds/set_b/murmur__288_1311164615284_D.wav',\n",
       " '../data/heartbeat-sounds/set_b/normal__129_1306344506305_D.wav',\n",
       " '../data/heartbeat-sounds/set_b/normal__194_1308139824187_A1.wav',\n",
       " '../data/heartbeat-sounds/set_b/murmur__248_1309201683806_C.wav',\n",
       " '../data/heartbeat-sounds/set_b/normal__210_1308162935880_B1.wav',\n",
       " '../data/heartbeat-sounds/set_b/normal__213_1308245263936_C.wav',\n",
       " '../data/heartbeat-sounds/set_b/normal_noisynormal_149_1306776016110_A.wav',\n",
       " '../data/heartbeat-sounds/set_b/normal_noisynormal_159_1307018640315_A1.wav',\n",
       " '../data/heartbeat-sounds/set_b/murmur__292_1311185449649_C.wav',\n",
       " '../data/heartbeat-sounds/set_b/normal__103_1305031931979_B.wav',\n",
       " '../data/heartbeat-sounds/set_b/normal_noisynormal_137_1306764999211_A2.wav',\n",
       " '../data/heartbeat-sounds/set_b/normal_noisynormal_133_1306759619127_D1.wav',\n",
       " '../data/heartbeat-sounds/set_b/normal__274_1311075637574_D.wav',\n",
       " '../data/heartbeat-sounds/set_b/normal__106_1306776721273_B1.wav',\n",
       " '../data/heartbeat-sounds/set_b/normal__290_1311182875320_A.wav',\n",
       " '../data/heartbeat-sounds/set_b/normal_noisynormal_139_1306519274653_D.wav',\n",
       " '../data/heartbeat-sounds/set_b/normal__232_1308748524018_B.wav',\n",
       " '../data/heartbeat-sounds/set_b/normal_noisynormal_142_1306763049574_B.wav',\n",
       " '../data/heartbeat-sounds/set_b/murmur_noisymurmur_135_1306428972976_C.wav',\n",
       " '../data/heartbeat-sounds/set_b/normal_noisynormal_169_1307970398039_A.wav',\n",
       " '../data/heartbeat-sounds/set_b/murmur__223_1308337062581_D.wav',\n",
       " '../data/heartbeat-sounds/set_b/extrastole__274_1311075637574_A.wav',\n",
       " '../data/heartbeat-sounds/set_b/normal__300_1311772096120_C1.wav',\n",
       " '../data/heartbeat-sounds/set_b/normal__274_1311075637574_A1.wav',\n",
       " '../data/heartbeat-sounds/set_b/normal__262_1309355283807_A.wav',\n",
       " '../data/heartbeat-sounds/set_b/normal__186_1308073648738_D.wav',\n",
       " '../data/heartbeat-sounds/set_b/normal__103_1305031931979_D1.wav',\n",
       " '../data/heartbeat-sounds/set_b/normal__140_1306519735121_A.wav',\n",
       " '../data/heartbeat-sounds/set_b/extrastole__154_1306935608852_D2.wav',\n",
       " '../data/heartbeat-sounds/set_b/normal__224_1308337157445_C.wav',\n",
       " '../data/heartbeat-sounds/set_b/normal__210_1308162935880_D1.wav',\n",
       " '../data/heartbeat-sounds/set_b/normal_noisynormal_140_1306519735121_C.wav',\n",
       " '../data/heartbeat-sounds/set_b/extrastole__148_1306768801551_B.wav',\n",
       " '../data/heartbeat-sounds/set_b/normal__186_1308073648738_C1.wav',\n",
       " '../data/heartbeat-sounds/set_b/normal__173_1307973611151_B.wav',\n",
       " '../data/heartbeat-sounds/set_b/normal_noisynormal_136_1306429977501_B.wav',\n",
       " '../data/heartbeat-sounds/set_b/murmur__281_1311165683454_A.wav',\n",
       " '../data/heartbeat-sounds/set_b/murmur_noisymurmur_161_1307101199321_C.wav',\n",
       " '../data/heartbeat-sounds/set_b/normal__153_1306848820671_B.wav',\n",
       " '../data/heartbeat-sounds/set_b/extrastole__144_1306522408528_B.wav',\n",
       " '../data/heartbeat-sounds/set_b/normal__250_1309202496494_A.wav',\n",
       " '../data/heartbeat-sounds/set_b/murmur__240_1309196119795_B.wav',\n",
       " '../data/heartbeat-sounds/set_b/normal__168_1307970069434_A.wav',\n",
       " '../data/heartbeat-sounds/set_b/normal_noisynormal_125_1306332456645_A2.wav',\n",
       " '../data/heartbeat-sounds/set_b/extrastole__215_1308245664733_B.wav',\n",
       " '../data/heartbeat-sounds/set_b/normal__141_1306520154450_B.wav',\n",
       " '../data/heartbeat-sounds/set_b/murmur__293_1311680805936_B1.wav',\n",
       " '../data/heartbeat-sounds/set_b/murmur_noisymurmur_293_1311680805936_C.wav',\n",
       " '../data/heartbeat-sounds/set_b/normal__177_1307989650056_D.wav',\n",
       " '../data/heartbeat-sounds/set_b/normal__227_1308594233667_B.wav',\n",
       " '../data/heartbeat-sounds/set_b/normal_noisynormal_109_1305653646620_A.wav',\n",
       " '../data/heartbeat-sounds/set_b/extrastole__128_1306344005749_A.wav',\n",
       " '../data/heartbeat-sounds/set_b/normal__294_1311681084248_B.wav',\n",
       " '../data/heartbeat-sounds/set_b/normal_noisynormal_110_1305655332337_B.wav',\n",
       " '../data/heartbeat-sounds/set_b/normal__175_1307987962616_B.wav',\n",
       " '../data/heartbeat-sounds/set_b/normal__291_1311185210672_A.wav',\n",
       " '../data/heartbeat-sounds/set_b/normal_noisynormal_144_1306522408528_A1.wav',\n",
       " '../data/heartbeat-sounds/set_b/normal_noisynormal_182_1308053371395_B.wav',\n",
       " '../data/heartbeat-sounds/set_b/normal_noisynormal_132_1306758754432_B1.wav',\n",
       " '../data/heartbeat-sounds/set_b/normal_noisynormal_108_1305654420093_B.wav',\n",
       " '../data/heartbeat-sounds/set_b/normal__145_1307987561278_C.wav',\n",
       " '../data/heartbeat-sounds/set_b/normal__153_1306848820671_B1.wav',\n",
       " '../data/heartbeat-sounds/set_b/normal_noisynormal_271_1309369876160_C.wav',\n",
       " '../data/heartbeat-sounds/set_b/normal__140_1306519735121_B.wav',\n",
       " '../data/heartbeat-sounds/set_b/extrastole__235_1308749032454_B.wav',\n",
       " '../data/heartbeat-sounds/set_b/normal_noisynormal_133_1306759619127_A1.wav',\n",
       " '../data/heartbeat-sounds/set_b/normal__198_1308141739338_C.wav',\n",
       " '../data/heartbeat-sounds/set_b/murmur_noisymurmur_293_1311680805936_D.wav',\n",
       " '../data/heartbeat-sounds/set_b/normal_noisynormal_136_1306429977501_C.wav',\n",
       " '../data/heartbeat-sounds/set_b/normal_noisynormal_258_1309352253234_A.wav',\n",
       " '../data/heartbeat-sounds/set_b/normal__235_1308749032454_D.wav',\n",
       " '../data/heartbeat-sounds/set_b/murmur__116_1306258689913_D.wav',\n",
       " '../data/heartbeat-sounds/set_b/normal__278_1311163365896_A.wav',\n",
       " '../data/heartbeat-sounds/set_b/murmur__211_1308163238707_C.wav',\n",
       " '../data/heartbeat-sounds/set_b/normal_noisynormal_142_1306763049574_D.wav',\n",
       " '../data/heartbeat-sounds/set_b/murmur__254_1309350589009_A.wav',\n",
       " '../data/heartbeat-sounds/set_b/normal_noisynormal_163_1307104470471_D1.wav',\n",
       " '../data/heartbeat-sounds/set_b/normal_noisynormal_123_1306331925797_B.wav',\n",
       " '../data/heartbeat-sounds/set_b/murmur__200_1308144251434_C.wav',\n",
       " '../data/heartbeat-sounds/set_b/extrastole__210_1308162935880_C.wav',\n",
       " '../data/heartbeat-sounds/set_b/normal__103_1305031931979_D2.wav',\n",
       " '../data/heartbeat-sounds/set_b/normal__127_1306764300147_B.wav',\n",
       " '../data/heartbeat-sounds/set_b/murmur__281_1311165683454_B.wav',\n",
       " '../data/heartbeat-sounds/set_b/normal__274_1311075637574_B.wav',\n",
       " '../data/heartbeat-sounds/set_b/normal__149_1306776016110_C1.wav',\n",
       " '../data/heartbeat-sounds/set_b/normal_noisynormal_158_1306947254705_B1.wav',\n",
       " '../data/heartbeat-sounds/set_b/normal_noisynormal_150_1306776340746_A.wav',\n",
       " '../data/heartbeat-sounds/set_b/extrastole__207_1308159792607_B.wav',\n",
       " '../data/heartbeat-sounds/set_b/murmur__242_1309197394064_B.wav',\n",
       " '../data/heartbeat-sounds/set_b/extrastole__253_1309350256198_B.wav',\n",
       " '../data/heartbeat-sounds/set_b/normal__126_1306777102824_C.wav',\n",
       " '../data/heartbeat-sounds/set_b/murmur__254_1309350589009_D.wav',\n",
       " '../data/heartbeat-sounds/set_b/normal_noisynormal_133_1306759619127_C.wav',\n",
       " '../data/heartbeat-sounds/set_b/murmur__160_1307100683334_B.wav',\n",
       " '../data/heartbeat-sounds/set_b/normal__147_1306523973811_A.wav',\n",
       " '../data/heartbeat-sounds/set_b/murmur_noisymurmur_185_1308073325396_D.wav',\n",
       " '../data/heartbeat-sounds/set_b/normal__207_1308159792607_C.wav',\n",
       " '../data/heartbeat-sounds/set_b/normal__175_1307987962616_D.wav',\n",
       " '../data/heartbeat-sounds/set_b/normal__159_1307018640315_B2.wav',\n",
       " '../data/heartbeat-sounds/set_b/normal__180_1307990956284_C.wav',\n",
       " '../data/heartbeat-sounds/set_b/normal__178_1307989887769_B.wav',\n",
       " '../data/heartbeat-sounds/set_b/normal__230_1308595300880_B.wav',\n",
       " '../data/heartbeat-sounds/set_b/murmur_noisymurmur_164_1307106095995_C1.wav',\n",
       " '../data/heartbeat-sounds/set_b/normal_noisynormal_264_1309356143724_B.wav',\n",
       " '../data/heartbeat-sounds/set_b/normal__150_1306776340746_B.wav',\n",
       " '../data/heartbeat-sounds/set_b/normal_noisynormal_141_1306520154450_B1.wav',\n",
       " '../data/heartbeat-sounds/set_b/normal__204_1308159229275_C.wav',\n",
       " '../data/heartbeat-sounds/set_b/normal_noisynormal_118_1306262335509_B.wav',\n",
       " '../data/heartbeat-sounds/set_b/normal__137_1306764999211_D.wav',\n",
       " '../data/heartbeat-sounds/set_b/normal_noisynormal_115_1306259437619_A1.wav',\n",
       " '../data/heartbeat-sounds/set_b/normal__250_1309202496494_B.wav',\n",
       " '../data/heartbeat-sounds/set_b/normal__209_1308162216750_A1.wav',\n",
       " '../data/heartbeat-sounds/set_b/murmur__248_1309201683806_A.wav',\n",
       " '../data/heartbeat-sounds/set_b/normal__286_1311170606028_A1.wav',\n",
       " '../data/heartbeat-sounds/set_b/normal__280_1311165195344_A.wav',\n",
       " '../data/heartbeat-sounds/set_b/normal__159_1307018640315_C1.wav',\n",
       " '../data/heartbeat-sounds/set_b/normal__210_1308162935880_B.wav',\n",
       " '../data/heartbeat-sounds/set_b/normal__153_1306848820671_A.wav',\n",
       " '../data/heartbeat-sounds/set_b/normal_noisynormal_125_1306332456645_C.wav',\n",
       " '../data/heartbeat-sounds/set_b/normal_noisynormal_132_1306758754432_C.wav',\n",
       " '../data/heartbeat-sounds/set_b/normal_noisynormal_172_1307971284351_A.wav',\n",
       " '../data/heartbeat-sounds/set_b/normal_noisynormal_176_1307988171173_D.wav',\n",
       " '../data/heartbeat-sounds/set_b/normal__170_1307970562729_C.wav',\n",
       " '../data/heartbeat-sounds/set_b/normal__294_1311681084248_D1.wav',\n",
       " '../data/heartbeat-sounds/set_b/murmur__196_1308141034858_B.wav',\n",
       " '../data/heartbeat-sounds/set_b/murmur__203_1308162026258_D.wav',\n",
       " '../data/heartbeat-sounds/set_b/normal__158_1306947254705_B2.wav',\n",
       " '../data/heartbeat-sounds/set_b/murmur_noisymurmur_243_1309197760898_C.wav',\n",
       " '../data/heartbeat-sounds/set_b/extrastole__127_1306764300147_C2.wav',\n",
       " '../data/heartbeat-sounds/set_b/murmur_noisymurmur_161_1307101199321_B.wav',\n",
       " '../data/heartbeat-sounds/set_b/normal__238_1309194586293_A.wav',\n",
       " '../data/heartbeat-sounds/set_b/normal__151_1306779785624_A.wav',\n",
       " '../data/heartbeat-sounds/set_b/normal__299_1311770522820_C.wav',\n",
       " '../data/heartbeat-sounds/set_b/normal__128_1306344005749_D.wav',\n",
       " '../data/heartbeat-sounds/set_b/normal__174_1307987737137_B.wav',\n",
       " '../data/heartbeat-sounds/set_b/murmur__203_1308162026258_B.wav',\n",
       " '../data/heartbeat-sounds/set_b/normal_noisynormal_130_1306347376079_C.wav',\n",
       " '../data/heartbeat-sounds/set_b/murmur__112_1306243000964_D.wav',\n",
       " '../data/heartbeat-sounds/set_b/murmur_noisymurmur_272_1309370164386_C.wav',\n",
       " '../data/heartbeat-sounds/set_b/normal_noisynormal_117_1306262456650_A.wav',\n",
       " '../data/heartbeat-sounds/set_b/normal__103_1305031931979_D3.wav',\n",
       " '../data/heartbeat-sounds/set_b/normal__133_1306759619127_D.wav',\n",
       " '../data/heartbeat-sounds/set_b/murmur__245_1309200438094_B.wav',\n",
       " '../data/heartbeat-sounds/set_b/normal__109_1305653646620_C.wav',\n",
       " '../data/heartbeat-sounds/set_b/murmur__193_1308078104592_B.wav',\n",
       " '../data/heartbeat-sounds/set_b/normal__216_1308245839516_C.wav',\n",
       " '../data/heartbeat-sounds/set_b/extrastole__151_1306779785624_B.wav',\n",
       " '../data/heartbeat-sounds/set_b/normal_noisynormal_146_1306778707532_D.wav',\n",
       " '../data/heartbeat-sounds/set_b/murmur__281_1311165683454_D.wav',\n",
       " '../data/heartbeat-sounds/set_b/murmur__244_1309198148498_B.wav',\n",
       " '../data/heartbeat-sounds/set_b/murmur__240_1309201366049_B.wav',\n",
       " '../data/heartbeat-sounds/set_b/normal_noisynormal_142_1306763049574_A.wav',\n",
       " '../data/heartbeat-sounds/set_b/normal__188_1308074301731_D.wav',\n",
       " '../data/heartbeat-sounds/set_b/extrastole__229_1308594979317_B.wav',\n",
       " '../data/heartbeat-sounds/set_b/normal__127_1306764300147_A.wav',\n",
       " '../data/heartbeat-sounds/set_b/normal_noisynormal_234_1308748855534_B.wav',\n",
       " '../data/heartbeat-sounds/set_b/murmur__193_1308078104592_C.wav',\n",
       " '../data/heartbeat-sounds/set_b/normal_noisynormal_118_1306262335509_C1.wav',\n",
       " '../data/heartbeat-sounds/set_b/normal_noisynormal_270_1309369533040_A.wav',\n",
       " '../data/heartbeat-sounds/set_b/normal_noisynormal_121_1306263877235_C.wav',\n",
       " '../data/heartbeat-sounds/set_b/normal_noisynormal_105_1305033453095_C.wav',\n",
       " '../data/heartbeat-sounds/set_b/normal__168_1307970069434_A2.wav',\n",
       " '../data/heartbeat-sounds/set_b/normal__143_1306763822290_C.wav',\n",
       " '../data/heartbeat-sounds/set_b/normal__190_1308076920011_D.wav',\n",
       " '../data/heartbeat-sounds/set_b/normal_noisynormal_125_1306332456645_A1.wav',\n",
       " '../data/heartbeat-sounds/set_b/normal__274_1311075637574_B1.wav',\n",
       " '../data/heartbeat-sounds/set_b/normal_noisynormal_246_1309199278902_D.wav',\n",
       " '../data/heartbeat-sounds/set_b/normal__175_1307987962616_B1.wav',\n",
       " '../data/heartbeat-sounds/set_b/normal__154_1306935608852_D.wav',\n",
       " '../data/heartbeat-sounds/set_b/extrastole__190_1308076920011_C.wav',\n",
       " '../data/heartbeat-sounds/set_b/normal__146_1306778707532_D2.wav',\n",
       " '../data/heartbeat-sounds/set_b/normal__178_1307989887769_D.wav',\n",
       " '../data/heartbeat-sounds/set_b/normal__230_1308595300880_C.wav',\n",
       " '../data/heartbeat-sounds/set_b/normal__252_1309203336604_B.wav',\n",
       " '../data/heartbeat-sounds/set_b/normal__208_1308159994503_C.wav',\n",
       " '../data/heartbeat-sounds/set_b/normal_noisynormal_101_1305030823364_E.wav',\n",
       " '../data/heartbeat-sounds/set_b/normal__201_1308144942432_A.wav',\n",
       " '../data/heartbeat-sounds/set_b/normal_noisynormal_113_1306244002866_B.wav',\n",
       " '../data/heartbeat-sounds/set_b/murmur__165_1307109069581_C2.wav',\n",
       " '../data/heartbeat-sounds/set_b/normal_noisynormal_117_1306262456650_C.wav',\n",
       " '../data/heartbeat-sounds/set_b/extrastole__216_1308245839516_A.wav',\n",
       " '../data/heartbeat-sounds/set_b/murmur__204_1308159229275_B.wav',\n",
       " '../data/heartbeat-sounds/set_b/extrastole__207_1308159792607_B1.wav',\n",
       " '../data/heartbeat-sounds/set_b/normal__143_1306763822290_B.wav',\n",
       " '../data/heartbeat-sounds/set_b/murmur_noisymurmur_200_1308144251434_D.wav',\n",
       " '../data/heartbeat-sounds/set_b/murmur__161_1307101199321_A.wav',\n",
       " '../data/heartbeat-sounds/set_b/normal__273_1309370841191_B.wav',\n",
       " '../data/heartbeat-sounds/set_b/normal_noisynormal_123_1306331925797_C.wav',\n",
       " '../data/heartbeat-sounds/set_b/normal__294_1311681084248_A.wav',\n",
       " '../data/heartbeat-sounds/set_b/normal__183_1308072703477_C.wav',\n",
       " '../data/heartbeat-sounds/set_b/normal_noisynormal_271_1309369876160_A.wav',\n",
       " '../data/heartbeat-sounds/set_b/normal__117_1306262456650_B.wav',\n",
       " '../data/heartbeat-sounds/set_b/normal_noisynormal_147_1306523973811_B.wav',\n",
       " '../data/heartbeat-sounds/set_b/extrastole__153_1306848820671_C.wav',\n",
       " '../data/heartbeat-sounds/set_b/normal__238_1309194586293_B.wav',\n",
       " '../data/heartbeat-sounds/set_b/normal_noisynormal_125_1306332456645_B1.wav',\n",
       " '../data/heartbeat-sounds/set_b/normal__298_1311685888900_B.wav',\n",
       " '../data/heartbeat-sounds/set_b/normal__204_1308159229275_D.wav',\n",
       " '../data/heartbeat-sounds/set_b/normal_noisynormal_108_1305654420093_A.wav',\n",
       " '../data/heartbeat-sounds/set_b/normal_noisynormal_154_1306935608852_C.wav',\n",
       " '../data/heartbeat-sounds/set_b/extrastole__275_1310990852160_B.wav',\n",
       " '../data/heartbeat-sounds/set_b/murmur__195_1308140095331_C1.wav',\n",
       " '../data/heartbeat-sounds/set_b/murmur_noisymurmur_135_1306428972976_A.wav',\n",
       " '../data/heartbeat-sounds/set_b/extrastole__265_1309367698923_C.wav',\n",
       " '../data/heartbeat-sounds/set_b/normal__214_1308245489717_A.wav',\n",
       " '../data/heartbeat-sounds/set_b/extrastole__298_1311685888900_C.wav',\n",
       " '../data/heartbeat-sounds/set_b/normal_noisynormal_155_1306935902813_C.wav',\n",
       " '../data/heartbeat-sounds/set_b/murmur__195_1308140095331_A.wav',\n",
       " '../data/heartbeat-sounds/set_b/normal__177_1307989650056_D1.wav',\n",
       " '../data/heartbeat-sounds/set_b/normal__286_1311170606028_B1.wav',\n",
       " '../data/heartbeat-sounds/set_b/normal__106_1306776721273_D1.wav',\n",
       " '../data/heartbeat-sounds/set_b/murmur__287_1311170903290_C.wav',\n",
       " '../data/heartbeat-sounds/set_b/normal__149_1306776016110_B.wav',\n",
       " '../data/heartbeat-sounds/set_b/normal_noisynormal_151_1306779785624_C.wav',\n",
       " '../data/heartbeat-sounds/set_b/extrastole__215_1308245664733_B1.wav',\n",
       " '../data/heartbeat-sounds/set_b/normal_noisynormal_207_1308159792607_D.wav',\n",
       " '../data/heartbeat-sounds/set_b/normal_noisynormal_143_1306763822290_A.wav',\n",
       " '../data/heartbeat-sounds/set_b/normal__217_1308246111629_C.wav',\n",
       " '../data/heartbeat-sounds/set_b/normal__177_1307989650056_B.wav',\n",
       " '../data/heartbeat-sounds/set_b/murmur__112_1306243000964_A.wav',\n",
       " '../data/heartbeat-sounds/set_b/normal_noisynormal_141_1306520154450_A1.wav',\n",
       " '../data/heartbeat-sounds/set_b/normal__179_1307990076841_D.wav',\n",
       " '../data/heartbeat-sounds/set_b/normal__106_1306776721273_D2.wav',\n",
       " '../data/heartbeat-sounds/set_b/normal_noisynormal_113_1306244002866_A.wav',\n",
       " '../data/heartbeat-sounds/set_b/normal__106_1306776721273_C2.wav',\n",
       " '../data/heartbeat-sounds/set_b/murmur_noisymurmur_231_1308748318393_A.wav',\n",
       " '../data/heartbeat-sounds/set_b/murmur_noisymurmur_292_1311185449649_D.wav',\n",
       " '../data/heartbeat-sounds/set_b/normal_noisynormal_216_1308245839516_D.wav',\n",
       " '../data/heartbeat-sounds/set_b/normal__154_1306935608852_A1.wav',\n",
       " '../data/heartbeat-sounds/set_b/normal__169_1307970398039_C.wav',\n",
       " '../data/heartbeat-sounds/set_b/normal__172_1307971284351_B1.wav',\n",
       " '../data/heartbeat-sounds/set_b/murmur_noisymurmur_162_1307101835989_B_1.wav',\n",
       " '../data/heartbeat-sounds/set_b/murmur__171_1307971016233_D1.wav',\n",
       " '../data/heartbeat-sounds/set_b/normal__126_1306777102824_D.wav',\n",
       " '../data/heartbeat-sounds/set_b/normal__133_1306759619127_A.wav',\n",
       " '../data/heartbeat-sounds/set_b/murmur__171_1307971016233_D.wav',\n",
       " '../data/heartbeat-sounds/set_b/extrastole__209_1308162216750_D.wav',\n",
       " '../data/heartbeat-sounds/set_b/normal_noisynormal_137_1306764999211_B.wav',\n",
       " '../data/heartbeat-sounds/set_b/extrastole__134_1306428161797_C1.wav',\n",
       " '../data/heartbeat-sounds/set_b/normal__202_1308145175747_D.wav',\n",
       " '../data/heartbeat-sounds/set_b/normal_noisynormal_158_1306947254705_D.wav',\n",
       " '../data/heartbeat-sounds/set_b/normal__283_1311167409239_A.wav',\n",
       " '../data/heartbeat-sounds/set_b/normal__134_1306428161797_D.wav',\n",
       " '../data/heartbeat-sounds/set_b/normal_noisynormal_109_1305653972028_F.wav',\n",
       " '../data/heartbeat-sounds/set_b/normal__232_1308748524018_B1.wav',\n",
       " '../data/heartbeat-sounds/set_b/extrastole__130_1306347376079_D.wav',\n",
       " '../data/heartbeat-sounds/set_b/normal_noisynormal_284_1311168471850_A.wav',\n",
       " '../data/heartbeat-sounds/set_b/normal__270_1309369533040_C.wav',\n",
       " '../data/heartbeat-sounds/set_b/extrastole__224_1308337157445_B.wav',\n",
       " '../data/heartbeat-sounds/set_b/extrastole__140_1306519735121_D.wav',\n",
       " '../data/heartbeat-sounds/set_b/murmur_noisymurmur_165_1307109069581_D.wav',\n",
       " '../data/heartbeat-sounds/set_b/normal__176_1307988171173_B1.wav',\n",
       " '../data/heartbeat-sounds/set_b/normal__258_1309352253234_C.wav',\n",
       " '../data/heartbeat-sounds/set_b/normal__107_1305654946865_C1.wav',\n",
       " '../data/heartbeat-sounds/set_b/normal_noisynormal_137_1306764999211_A1.wav',\n",
       " '../data/heartbeat-sounds/set_b/murmur_noisymurmur_171_1307971016233_D.wav',\n",
       " '../data/heartbeat-sounds/set_b/murmur_noisymurmur_162_1307101835989_D.wav',\n",
       " '../data/heartbeat-sounds/set_b/normal_noisynormal_168_1307970069434_A1.wav',\n",
       " '../data/heartbeat-sounds/set_b/normal__180_1307990956284_A.wav',\n",
       " '../data/heartbeat-sounds/set_b/extrastole__216_1308245839516_B.wav',\n",
       " '../data/heartbeat-sounds/set_b/normal_noisynormal_107_1305654946865_A.wav',\n",
       " '../data/heartbeat-sounds/set_b/murmur__254_1309350589009_C.wav',\n",
       " '../data/heartbeat-sounds/set_b/normal_noisynormal_278_1311163365896_B.wav',\n",
       " '../data/heartbeat-sounds/set_b/normal__206_1308159601959_C.wav',\n",
       " '../data/heartbeat-sounds/set_b/murmur_noisymurmur_288_1311164615284_B1.wav',\n",
       " '../data/heartbeat-sounds/set_b/normal_noisynormal_106_1306776721273_A.wav',\n",
       " '../data/heartbeat-sounds/set_b/normal__220_1308250132896_C.wav',\n",
       " '../data/heartbeat-sounds/set_b/normal_noisynormal_115_1306259437619_B.wav',\n",
       " '../data/heartbeat-sounds/set_b/normal__282_1311166081161_C.wav',\n",
       " '../data/heartbeat-sounds/set_b/normal__134_1306428161797_C2.wav',\n",
       " '../data/heartbeat-sounds/set_b/normal__194_1308139824187_A.wav',\n",
       " '../data/heartbeat-sounds/set_b/murmur_noisymurmur_160_1307100683334_D.wav',\n",
       " '../data/heartbeat-sounds/set_b/normal__267_1309368735165_A.wav',\n",
       " '../data/heartbeat-sounds/set_b/extrastole__286_1311170606028_D.wav',\n",
       " '../data/heartbeat-sounds/set_b/normal__129_1306344506305_D1.wav',\n",
       " '../data/heartbeat-sounds/set_b/normal__260_1309353164458_C.wav',\n",
       " '../data/heartbeat-sounds/set_b/normal__152_1306779561195_B1.wav',\n",
       " '../data/heartbeat-sounds/set_b/extrastole__163_1307104470471_C.wav',\n",
       " '../data/heartbeat-sounds/set_b/normal__232_1308748524018_C.wav',\n",
       " '../data/heartbeat-sounds/set_b/murmur__164_1307106095995_C.wav',\n",
       " '../data/heartbeat-sounds/set_b/extrastole__249_1309202052376_C.wav',\n",
       " '../data/heartbeat-sounds/set_b/normal__159_1307018640315_A.wav',\n",
       " '../data/heartbeat-sounds/set_b/normal__235_1308749032454_C.wav',\n",
       " '../data/heartbeat-sounds/set_b/normal__295_1311682673157_D.wav',\n",
       " '../data/heartbeat-sounds/set_b/normal__155_1306935902813_B1.wav',\n",
       " '../data/heartbeat-sounds/set_b/murmur__185_1308073325396_C.wav',\n",
       " '../data/heartbeat-sounds/set_b/normal__261_1309353556003_B.wav',\n",
       " '../data/heartbeat-sounds/set_b/normal__232_1308748524018_D1.wav',\n",
       " '../data/heartbeat-sounds/set_b/normal_noisynormal_198_1308141739338_D.wav',\n",
       " '../data/heartbeat-sounds/set_b/normal_noisynormal_105_1305033453095_A.wav',\n",
       " '../data/heartbeat-sounds/set_b/normal__286_1311170606028_C.wav',\n",
       " '../data/heartbeat-sounds/set_b/normal__188_1308074301731_C.wav',\n",
       " '../data/heartbeat-sounds/set_b/murmur__196_1308141034858_C.wav',\n",
       " '../data/heartbeat-sounds/set_b/normal__145_1307987561278_B.wav',\n",
       " '../data/heartbeat-sounds/set_b/murmur_noisymurmur_156_1306936373241_A.wav',\n",
       " '../data/heartbeat-sounds/set_b/normal__146_1306778707532_D3.wav',\n",
       " '../data/heartbeat-sounds/set_b/normal_noisynormal_137_1306764999211_C1.wav',\n",
       " '../data/heartbeat-sounds/set_b/murmur__203_1308162026258_C1.wav',\n",
       " '../data/heartbeat-sounds/set_b/murmur__195_1308140095331_C.wav',\n",
       " '../data/heartbeat-sounds/set_b/normal__191_1308077299430_B.wav',\n",
       " '../data/heartbeat-sounds/set_b/normal__150_1306776340746_C.wav',\n",
       " '../data/heartbeat-sounds/set_b/normal__167_1307111318050_C.wav',\n",
       " '../data/heartbeat-sounds/set_b/normal_noisynormal_138_1306762146980_D.wav',\n",
       " '../data/heartbeat-sounds/set_b/extrastole__198_1308141739338_B1.wav',\n",
       " '../data/heartbeat-sounds/set_b/murmur__200_1308144251434_D.wav',\n",
       " '../data/heartbeat-sounds/set_b/normal_noisynormal_159_1307018640315_B.wav',\n",
       " '../data/heartbeat-sounds/set_b/murmur__240_1309196119795_C.wav',\n",
       " '../data/heartbeat-sounds/set_b/extrastole__220_1308250132896_B.wav',\n",
       " '../data/heartbeat-sounds/set_b/murmur_noisymurmur_135_1306428972976_B.wav',\n",
       " '../data/heartbeat-sounds/set_b/murmur__197_1308141235553_D.wav',\n",
       " '../data/heartbeat-sounds/set_b/normal__201_1308144942432_A1.wav']"
      ]
     },
     "execution_count": 45,
     "metadata": {},
     "output_type": "execute_result"
    }
   ],
   "source": [
    "all_sounds_b"
   ]
  },
  {
   "cell_type": "markdown",
   "metadata": {},
   "source": [
    "<h2> Transforming soundfiles into numpy arrays using Librosa"
   ]
  },
  {
   "cell_type": "markdown",
   "metadata": {},
   "source": [
    "Python package for music and audio processing, Librosa, has been created by Brian McFee and allow us to transform audio in a numpy array.\n",
    "In that aim, we will use the popular Mel-frequency cepstral coefficients. https://en.wikipedia.org/wiki/Mel-frequency_cepstrum"
   ]
  },
  {
   "cell_type": "code",
   "execution_count": 46,
   "metadata": {},
   "outputs": [],
   "source": [
    "# First, we build a function to transform all sounds in our main folder:"
   ]
  },
  {
   "cell_type": "code",
   "execution_count": 47,
   "metadata": {},
   "outputs": [],
   "source": [
    "sounds_a = []\n",
    "for file in all_sounds_a_cleaned:\n",
    "    audio, sample_rate = librosa.load(file, res_type='kaiser_fast')\n",
    "    sounds_a.append(audio)"
   ]
  },
  {
   "cell_type": "code",
   "execution_count": 48,
   "metadata": {},
   "outputs": [],
   "source": [
    "sounds_b = []\n",
    "for file in all_sounds_b:\n",
    "    audio, sample_rate = librosa.load(file, res_type='kaiser_fast')\n",
    "    sounds_b.append(audio)"
   ]
  },
  {
   "cell_type": "code",
   "execution_count": 49,
   "metadata": {},
   "outputs": [],
   "source": [
    "sounds_a = np.array(sounds_a)\n",
    "sounds_b = np.array(sounds_b)\n",
    "all_sounds = np.concatenate((sounds_a, sounds_b))"
   ]
  },
  {
   "cell_type": "code",
   "execution_count": 50,
   "metadata": {},
   "outputs": [],
   "source": [
    "max_pad_len = 173"
   ]
  },
  {
   "cell_type": "code",
   "execution_count": 51,
   "metadata": {},
   "outputs": [],
   "source": [
    "def extract_features(file_name):\n",
    "   \n",
    "    try:\n",
    "        audio, sample_rate = librosa.load(file_name, res_type='kaiser_fast', duration=4) \n",
    "        mfccs = librosa.feature.mfcc(y=audio, sr=sample_rate, n_mfcc=40)\n",
    "        mfccsscaled = np.mean(mfccs.T,axis=0)\n",
    "        \n",
    "    except Exception as e:\n",
    "        print(\"Error encountered while parsing file: \", file)\n",
    "        return None \n",
    "     \n",
    "    return mfccsscaled"
   ]
  },
  {
   "cell_type": "code",
   "execution_count": 52,
   "metadata": {},
   "outputs": [],
   "source": [
    "def extract_sounds(file_name):\n",
    "   \n",
    "    try:\n",
    "        audio, sample_rate = librosa.load(file_name) \n",
    "        mfccs = librosa.feature.mfcc(y=audio, sr=sample_rate, n_mfcc=40)\n",
    "        pad_width = max_pad_len - mfccs.shape[1]\n",
    "        mfccs = np.pad(mfccs, pad_width=((0, 0), (0, pad_width)), mode='constant')\n",
    "        \n",
    "    except Exception as e:\n",
    "        print(\"Error encountered while parsing file: \", file_name)\n",
    "        return None \n",
    "     \n",
    "    return mfccs"
   ]
  },
  {
   "cell_type": "markdown",
   "metadata": {},
   "source": [
    "<h3> Apple dataset"
   ]
  },
  {
   "cell_type": "code",
   "execution_count": 53,
   "metadata": {},
   "outputs": [],
   "source": [
    "# Then, we apply the function to our filepath:"
   ]
  },
  {
   "cell_type": "code",
   "execution_count": 54,
   "metadata": {
    "scrolled": true
   },
   "outputs": [],
   "source": [
    "features = []\n",
    "\n",
    "\n",
    "for file in all_sounds_a_cleaned:\n",
    "    \n",
    "    #class_label = i[\"class_name\"]\n",
    "    data = extract_features(file)\n",
    "    \n",
    "    features.append(data)\n",
    "\n",
    "features = np.array(features)\n",
    "featuresdf = pd.DataFrame(features)"
   ]
  },
  {
   "cell_type": "code",
   "execution_count": 55,
   "metadata": {},
   "outputs": [
    {
     "data": {
      "text/plain": [
       "(176, 40)"
      ]
     },
     "execution_count": 55,
     "metadata": {},
     "output_type": "execute_result"
    }
   ],
   "source": [
    "features.shape"
   ]
  },
  {
   "cell_type": "code",
   "execution_count": 56,
   "metadata": {
    "scrolled": true
   },
   "outputs": [
    {
     "name": "stdout",
     "output_type": "stream",
     "text": [
      "Error encountered while parsing file:  ../data/heartbeat-sounds/set_a/artifact__201106161019.wav\n",
      "Error encountered while parsing file:  ../data/heartbeat-sounds/set_a/Aunlabelledtest__201104012144.wav\n",
      "Error encountered while parsing file:  ../data/heartbeat-sounds/set_a/Aunlabelledtest__201106111419.wav\n",
      "Error encountered while parsing file:  ../data/heartbeat-sounds/set_a/normal__201103170121.wav\n",
      "Error encountered while parsing file:  ../data/heartbeat-sounds/set_a/extrahls__201102241217.wav\n",
      "Error encountered while parsing file:  ../data/heartbeat-sounds/set_a/normal__201106210943.wav\n",
      "Error encountered while parsing file:  ../data/heartbeat-sounds/set_a/normal__201104141251.wav\n",
      "Error encountered while parsing file:  ../data/heartbeat-sounds/set_a/Aunlabelledtest__201108222234.wav\n",
      "Error encountered while parsing file:  ../data/heartbeat-sounds/set_a/Aunlabelledtest__201108011117.wav\n",
      "Error encountered while parsing file:  ../data/heartbeat-sounds/set_a/Aunlabelledtest__201103170122.wav\n",
      "Error encountered while parsing file:  ../data/heartbeat-sounds/set_a/normal__201105151450.wav\n",
      "Error encountered while parsing file:  ../data/heartbeat-sounds/set_a/Aunlabelledtest__201108222225.wav\n",
      "Error encountered while parsing file:  ../data/heartbeat-sounds/set_a/Aunlabelledtest__201106212102.wav\n",
      "Error encountered while parsing file:  ../data/heartbeat-sounds/set_a/artifact__201106211430.wav\n",
      "Error encountered while parsing file:  ../data/heartbeat-sounds/set_a/Aunlabelledtest__201106171155.wav\n",
      "Error encountered while parsing file:  ../data/heartbeat-sounds/set_a/Aunlabelledtest__201108222247.wav\n",
      "Error encountered while parsing file:  ../data/heartbeat-sounds/set_a/murmur__201108222231.wav\n",
      "Error encountered while parsing file:  ../data/heartbeat-sounds/set_a/artifact__201106221254.wav\n",
      "Error encountered while parsing file:  ../data/heartbeat-sounds/set_a/extrahls__201101091153.wav\n",
      "Error encountered while parsing file:  ../data/heartbeat-sounds/set_a/artifact__201105190800.wav\n",
      "Error encountered while parsing file:  ../data/heartbeat-sounds/set_a/normal__201105011626.wav\n",
      "Error encountered while parsing file:  ../data/heartbeat-sounds/set_a/artifact__201106050353.wav\n",
      "Error encountered while parsing file:  ../data/heartbeat-sounds/set_a/Aunlabelledtest__201106040930.wav\n",
      "Error encountered while parsing file:  ../data/heartbeat-sounds/set_a/murmur__201108222246.wav\n",
      "Error encountered while parsing file:  ../data/heartbeat-sounds/set_a/Aunlabelledtest__201106211725.wav\n",
      "Error encountered while parsing file:  ../data/heartbeat-sounds/set_a/artifact__201012172012.wav\n",
      "Error encountered while parsing file:  ../data/heartbeat-sounds/set_a/Aunlabelledtest__201105011546.wav\n",
      "Error encountered while parsing file:  ../data/heartbeat-sounds/set_a/extrahls__201101160808.wav\n",
      "Error encountered while parsing file:  ../data/heartbeat-sounds/set_a/extrahls__201103200218.wav\n",
      "Error encountered while parsing file:  ../data/heartbeat-sounds/set_a/extrahls__201101152255.wav\n",
      "Error encountered while parsing file:  ../data/heartbeat-sounds/set_a/Aunlabelledtest__201101110659.wav\n",
      "Error encountered while parsing file:  ../data/heartbeat-sounds/set_a/normal__201102260502.wav\n",
      "Error encountered while parsing file:  ../data/heartbeat-sounds/set_a/artifact__201106061233.wav\n",
      "Error encountered while parsing file:  ../data/heartbeat-sounds/set_a/Aunlabelledtest__201108222254.wav\n",
      "Error encountered while parsing file:  ../data/heartbeat-sounds/set_a/artifact__201105041959.wav\n",
      "Error encountered while parsing file:  ../data/heartbeat-sounds/set_a/artifact__201105060108.wav\n",
      "Error encountered while parsing file:  ../data/heartbeat-sounds/set_a/Aunlabelledtest__201108222222.wav\n",
      "Error encountered while parsing file:  ../data/heartbeat-sounds/set_a/murmur__201108222236.wav\n",
      "Error encountered while parsing file:  ../data/heartbeat-sounds/set_a/normal__201108011118.wav\n",
      "Error encountered while parsing file:  ../data/heartbeat-sounds/set_a/murmur__201108222223.wav\n",
      "Error encountered while parsing file:  ../data/heartbeat-sounds/set_a/murmur__201108222237.wav\n",
      "Error encountered while parsing file:  ../data/heartbeat-sounds/set_a/normal__201103140132.wav\n",
      "Error encountered while parsing file:  ../data/heartbeat-sounds/set_a/artifact__201106041452.wav\n",
      "Error encountered while parsing file:  ../data/heartbeat-sounds/set_a/murmur__201108222248.wav\n",
      "Error encountered while parsing file:  ../data/heartbeat-sounds/set_a/artifact__201106190520.wav\n",
      "Error encountered while parsing file:  ../data/heartbeat-sounds/set_a/artifact__201106111119.wav\n",
      "Error encountered while parsing file:  ../data/heartbeat-sounds/set_a/extrahls__201101160804.wav\n",
      "Error encountered while parsing file:  ../data/heartbeat-sounds/set_a/Aunlabelledtest__201108222241.wav\n",
      "Error encountered while parsing file:  ../data/heartbeat-sounds/set_a/murmur__201108222255.wav\n",
      "Error encountered while parsing file:  ../data/heartbeat-sounds/set_a/artifact__201106030612.wav\n",
      "Error encountered while parsing file:  ../data/heartbeat-sounds/set_a/Aunlabelledtest__201103011036.wav\n",
      "Error encountered while parsing file:  ../data/heartbeat-sounds/set_a/murmur__201108222232.wav\n",
      "Error encountered while parsing file:  ../data/heartbeat-sounds/set_a/murmur__201102051443.wav\n",
      "Error encountered while parsing file:  ../data/heartbeat-sounds/set_a/normal__201103090635.wav\n",
      "Error encountered while parsing file:  ../data/heartbeat-sounds/set_a/extrahls__201103170134.wav\n",
      "Error encountered while parsing file:  ../data/heartbeat-sounds/set_a/extrahls__201102071835.wav\n",
      "Error encountered while parsing file:  ../data/heartbeat-sounds/set_a/murmur__201108222238.wav\n",
      "Error encountered while parsing file:  ../data/heartbeat-sounds/set_a/Aunlabelledtest__201106191034.wav\n",
      "Error encountered while parsing file:  ../data/heartbeat-sounds/set_a/extrahls__201101241433.wav\n",
      "Error encountered while parsing file:  ../data/heartbeat-sounds/set_a/Aunlabelledtest__201101220549.wav\n",
      "Error encountered while parsing file:  ../data/heartbeat-sounds/set_a/murmur__201101051104.wav\n",
      "Error encountered while parsing file:  ../data/heartbeat-sounds/set_a/Aunlabelledtest__201103232251.wav\n",
      "Error encountered while parsing file:  ../data/heartbeat-sounds/set_a/artifact__201105280851.wav\n",
      "Error encountered while parsing file:  ../data/heartbeat-sounds/set_a/Aunlabelledtest__201106120928.wav\n",
      "Error encountered while parsing file:  ../data/heartbeat-sounds/set_a/normal__201102081152.wav\n",
      "Error encountered while parsing file:  ../data/heartbeat-sounds/set_a/normal__201101070538.wav\n",
      "Error encountered while parsing file:  ../data/heartbeat-sounds/set_a/murmur__201108222227.wav\n",
      "Error encountered while parsing file:  ../data/heartbeat-sounds/set_a/normal__201103140822.wav\n",
      "Error encountered while parsing file:  ../data/heartbeat-sounds/set_a/murmur__201108222233.wav\n",
      "Error encountered while parsing file:  ../data/heartbeat-sounds/set_a/murmur__201101180902.wav\n",
      "Error encountered while parsing file:  ../data/heartbeat-sounds/set_a/normal__201103151912.wav\n",
      "Error encountered while parsing file:  ../data/heartbeat-sounds/set_a/artifact__201106031558.wav\n",
      "Error encountered while parsing file:  ../data/heartbeat-sounds/set_a/normal__201108011115.wav\n",
      "Error encountered while parsing file:  ../data/heartbeat-sounds/set_a/Aunlabelledtest__201108011116.wav\n",
      "Error encountered while parsing file:  ../data/heartbeat-sounds/set_a/murmur__201108222235.wav\n",
      "Error encountered while parsing file:  ../data/heartbeat-sounds/set_a/murmur__201101051114.wav\n",
      "Error encountered while parsing file:  ../data/heartbeat-sounds/set_a/Aunlabelledtest__201108011113.wav\n",
      "Error encountered while parsing file:  ../data/heartbeat-sounds/set_a/Aunlabelledtest__201106030607.wav\n",
      "Error encountered while parsing file:  ../data/heartbeat-sounds/set_a/Aunlabelledtest__20110501548.wav\n",
      "Error encountered while parsing file:  ../data/heartbeat-sounds/set_a/Aunlabelledtest__201108222257.wav\n",
      "Error encountered while parsing file:  ../data/heartbeat-sounds/set_a/Aunlabelledtest__201102081033.wav\n",
      "Error encountered while parsing file:  ../data/heartbeat-sounds/set_a/artifact__201106220340.wav\n",
      "Error encountered while parsing file:  ../data/heartbeat-sounds/set_a/normal__201103101140.wav\n",
      "Error encountered while parsing file:  ../data/heartbeat-sounds/set_a/artifact__201106211041.wav\n"
     ]
    },
    {
     "name": "stdout",
     "output_type": "stream",
     "text": [
      "Error encountered while parsing file:  ../data/heartbeat-sounds/set_a/artifact__201106131834.wav\n",
      "Error encountered while parsing file:  ../data/heartbeat-sounds/set_a/artifact__201106171003.wav\n",
      "Error encountered while parsing file:  ../data/heartbeat-sounds/set_a/normal__201102081321.wav\n",
      "Error encountered while parsing file:  ../data/heartbeat-sounds/set_a/normal__201106221450.wav\n",
      "Error encountered while parsing file:  ../data/heartbeat-sounds/set_a/artifact__201106161016.wav\n",
      "Error encountered while parsing file:  ../data/heartbeat-sounds/set_a/artifact__201106110909.wav\n",
      "Error encountered while parsing file:  ../data/heartbeat-sounds/set_a/artifact__201106101955.wav\n",
      "Error encountered while parsing file:  ../data/heartbeat-sounds/set_a/murmur__201103291548.wav\n",
      "Error encountered while parsing file:  ../data/heartbeat-sounds/set_a/murmur__201108222251.wav\n",
      "Error encountered while parsing file:  ../data/heartbeat-sounds/set_a/artifact__201106070537.wav\n",
      "Error encountered while parsing file:  ../data/heartbeat-sounds/set_a/artifact__201106161219.wav\n",
      "Error encountered while parsing file:  ../data/heartbeat-sounds/set_a/Aunlabelledtest__201106061104.wav\n",
      "Error encountered while parsing file:  ../data/heartbeat-sounds/set_a/Aunlabelledtest__201102200848.wav\n",
      "Error encountered while parsing file:  ../data/heartbeat-sounds/set_a/Aunlabelledtest__201101241434.wav\n",
      "Error encountered while parsing file:  ../data/heartbeat-sounds/set_a/normal__201104122156.wav\n",
      "Error encountered while parsing file:  ../data/heartbeat-sounds/set_a/artifact__201106040947.wav\n",
      "Error encountered while parsing file:  ../data/heartbeat-sounds/set_a/normal__201106111136.wav\n",
      "Error encountered while parsing file:  ../data/heartbeat-sounds/set_a/murmur__201108222252.wav\n",
      "Error encountered while parsing file:  ../data/heartbeat-sounds/set_a/Aunlabelledtest__201101051105.wav\n",
      "Error encountered while parsing file:  ../data/heartbeat-sounds/set_a/artifact__201106021541.wav\n",
      "Error encountered while parsing file:  ../data/heartbeat-sounds/set_a/murmur__201108222245.wav\n",
      "Error encountered while parsing file:  ../data/heartbeat-sounds/set_a/normal__201102270940.wav\n",
      "Error encountered while parsing file:  ../data/heartbeat-sounds/set_a/murmur__201108222256.wav\n",
      "Error encountered while parsing file:  ../data/heartbeat-sounds/set_a/artifact__201106121445.wav\n",
      "Error encountered while parsing file:  ../data/heartbeat-sounds/set_a/normal__201106151236.wav\n",
      "Error encountered while parsing file:  ../data/heartbeat-sounds/set_a/murmur__201108222226.wav\n",
      "Error encountered while parsing file:  ../data/heartbeat-sounds/set_a/Aunlabelledtest__201103200518.wav\n",
      "Error encountered while parsing file:  ../data/heartbeat-sounds/set_a/Aunlabelledtest__201106010807.wav\n",
      "Error encountered while parsing file:  ../data/heartbeat-sounds/set_a/murmur__201106141148.wav\n",
      "Error encountered while parsing file:  ../data/heartbeat-sounds/set_a/Aunlabelledtest__201012172010.wav\n",
      "Error encountered while parsing file:  ../data/heartbeat-sounds/set_a/murmur__201102052338.wav\n",
      "Error encountered while parsing file:  ../data/heartbeat-sounds/set_a/artifact__201106040933.wav\n",
      "Error encountered while parsing file:  ../data/heartbeat-sounds/set_a/Aunlabelledtest__201105031730.wav\n",
      "Error encountered while parsing file:  ../data/heartbeat-sounds/set_a/Aunlabelledtest__201108222228.wav\n",
      "Error encountered while parsing file:  ../data/heartbeat-sounds/set_a/artifact__201106040722.wav\n",
      "Error encountered while parsing file:  ../data/heartbeat-sounds/set_a/extrahls__201102070251.wav\n",
      "Error encountered while parsing file:  ../data/heartbeat-sounds/set_a/normal__201106141148.wav\n",
      "Error encountered while parsing file:  ../data/heartbeat-sounds/set_a/normal__201106221418.wav\n",
      "Error encountered while parsing file:  ../data/heartbeat-sounds/set_a/extrahls__201101070953.wav\n",
      "Error encountered while parsing file:  ../data/heartbeat-sounds/set_a/artifact__201106212112.wav\n",
      "Error encountered while parsing file:  ../data/heartbeat-sounds/set_a/Aunlabelledtest__201106061215.wav\n",
      "Error encountered while parsing file:  ../data/heartbeat-sounds/set_a/normal__201108011114.wav\n",
      "Error encountered while parsing file:  ../data/heartbeat-sounds/set_a/Aunlabelledtest__201103241336.wav\n",
      "Error encountered while parsing file:  ../data/heartbeat-sounds/set_a/artifact__201105040918.wav\n",
      "Error encountered while parsing file:  ../data/heartbeat-sounds/set_a/murmur__201101051108.wav\n",
      "Error encountered while parsing file:  ../data/heartbeat-sounds/set_a/extrahls__201103182227.wav\n",
      "Error encountered while parsing file:  ../data/heartbeat-sounds/set_a/normal__201102201230.wav\n",
      "Error encountered while parsing file:  ../data/heartbeat-sounds/set_a/Aunlabelledtest__201101091156.wav\n",
      "Error encountered while parsing file:  ../data/heartbeat-sounds/set_a/Aunlabelledtest__201106100606.wav\n",
      "Error encountered while parsing file:  ../data/heartbeat-sounds/set_a/normal__201105021654.wav\n",
      "Error encountered while parsing file:  ../data/heartbeat-sounds/set_a/extrahls__201101161027.wav\n",
      "Error encountered while parsing file:  ../data/heartbeat-sounds/set_a/Aunlabelledtest__201102081045.wav\n",
      "Error encountered while parsing file:  ../data/heartbeat-sounds/set_a/murmur__201108222242.wav\n",
      "Error encountered while parsing file:  ../data/heartbeat-sounds/set_a/artifact__201106141701.wav\n",
      "Error encountered while parsing file:  ../data/heartbeat-sounds/set_a/artifact__201106010559.wav\n",
      "Error encountered while parsing file:  ../data/heartbeat-sounds/set_a/murmur__201108222224.wav\n",
      "Error encountered while parsing file:  ../data/heartbeat-sounds/set_a/Aunlabelledtest__201101152256.wav\n",
      "Error encountered while parsing file:  ../data/heartbeat-sounds/set_a/extrahls__201103150114.wav\n",
      "Error encountered while parsing file:  ../data/heartbeat-sounds/set_a/Aunlabelledtest__201106150614.wav\n",
      "Error encountered while parsing file:  ../data/heartbeat-sounds/set_a/artifact__201105061143.wav\n",
      "Error encountered while parsing file:  ../data/heartbeat-sounds/set_a/Aunlabelledtest__201101061552.wav\n",
      "Error encountered while parsing file:  ../data/heartbeat-sounds/set_a/Aunlabelledtest__201106130440.wav\n",
      "Error encountered while parsing file:  ../data/heartbeat-sounds/set_a/normal__201108011112.wav\n",
      "Error encountered while parsing file:  ../data/heartbeat-sounds/set_a/murmur__201104291843.wav\n",
      "Error encountered while parsing file:  ../data/heartbeat-sounds/set_a/artifact__201106131835.wav\n",
      "Error encountered while parsing file:  ../data/heartbeat-sounds/set_a/murmur__201108222221.wav\n",
      "Error encountered while parsing file:  ../data/heartbeat-sounds/set_a/murmur__201108222253.wav\n",
      "Error encountered while parsing file:  ../data/heartbeat-sounds/set_a/extrahls__201101241423.wav\n",
      "Error encountered while parsing file:  ../data/heartbeat-sounds/set_a/murmur__201108222243.wav\n",
      "Error encountered while parsing file:  ../data/heartbeat-sounds/set_a/normal__201105021804.wav\n",
      "Error encountered while parsing file:  ../data/heartbeat-sounds/set_a/Aunlabelledtest__201106170857.wav\n",
      "Error encountered while parsing file:  ../data/heartbeat-sounds/set_a/Aunlabelledtest__201108011111.wav\n",
      "Error encountered while parsing file:  ../data/heartbeat-sounds/set_a/artifact__201106121242.wav\n",
      "Error encountered while parsing file:  ../data/heartbeat-sounds/set_a/artifact__201106101314.wav\n",
      "Error encountered while parsing file:  ../data/heartbeat-sounds/set_a/Aunlabelledtest__201103140236.wav\n",
      "Error encountered while parsing file:  ../data/heartbeat-sounds/set_a/artifact__201106010602.wav\n",
      "Error encountered while parsing file:  ../data/heartbeat-sounds/set_a/normal__201101151127.wav\n",
      "Error encountered while parsing file:  ../data/heartbeat-sounds/set_a/Aunlabelledtest__201108222244.wav\n",
      "Error encountered while parsing file:  ../data/heartbeat-sounds/set_a/Aunlabelledtest__201106031556.wav\n",
      "Error encountered while parsing file:  ../data/heartbeat-sounds/set_a/artifact__201106070949.wav\n",
      "Error encountered while parsing file:  ../data/heartbeat-sounds/set_a/artifact__201105051017.wav\n",
      "Error encountered while parsing file:  ../data/heartbeat-sounds/set_a/normal__201103140135.wav\n",
      "Error encountered while parsing file:  ../data/heartbeat-sounds/set_a/murmur__201108222258.wav\n",
      "Error encountered while parsing file:  ../data/heartbeat-sounds/set_a/murmur__201104241315.wav\n"
     ]
    }
   ],
   "source": [
    "apple_sounds = []\n",
    "for file in all_sounds_a_cleaned:\n",
    "    \n",
    "    #class_label = i[\"class_name\"]\n",
    "    data = extract_sounds(file)\n",
    "    \n",
    "    apple_sounds.append(data)"
   ]
  },
  {
   "cell_type": "code",
   "execution_count": 57,
   "metadata": {},
   "outputs": [],
   "source": [
    "apple_sounds = np.asarray(apple_sounds)"
   ]
  },
  {
   "cell_type": "code",
   "execution_count": 58,
   "metadata": {},
   "outputs": [
    {
     "data": {
      "text/plain": [
       "(176,)"
      ]
     },
     "execution_count": 58,
     "metadata": {},
     "output_type": "execute_result"
    }
   ],
   "source": [
    "apple_sounds.shape"
   ]
  },
  {
   "cell_type": "markdown",
   "metadata": {},
   "source": [
    "<h3> Clinic dataset"
   ]
  },
  {
   "cell_type": "code",
   "execution_count": 59,
   "metadata": {},
   "outputs": [],
   "source": [
    "clinic_features = []\n",
    "\n",
    "\n",
    "for file in all_sounds_b:\n",
    "    \n",
    "    #class_label = i[\"class_name\"]\n",
    "    data = extract_features(file)\n",
    "    \n",
    "    clinic_features.append(data)\n",
    "\n",
    "\n",
    "features_clinic = pd.DataFrame(clinic_features)"
   ]
  },
  {
   "cell_type": "code",
   "execution_count": 60,
   "metadata": {},
   "outputs": [
    {
     "name": "stdout",
     "output_type": "stream",
     "text": [
      "Error encountered while parsing file:  ../data/heartbeat-sounds/set_b/extrastole__194_1308139824187_B.wav\n",
      "Error encountered while parsing file:  ../data/heartbeat-sounds/set_b/normal_noisynormal_157_1306937583792_A.wav\n",
      "Error encountered while parsing file:  ../data/heartbeat-sounds/set_b/normal_noisynormal_284_1311168471850_B.wav\n",
      "Error encountered while parsing file:  ../data/heartbeat-sounds/set_b/murmur__197_1308141235553_C.wav\n",
      "Error encountered while parsing file:  ../data/heartbeat-sounds/set_b/normal_noisynormal_144_1306522408528_C.wav\n",
      "Error encountered while parsing file:  ../data/heartbeat-sounds/set_b/normal_noisynormal_271_1309369876160_D.wav\n",
      "Error encountered while parsing file:  ../data/heartbeat-sounds/set_b/normal_noisynormal_129_1306344506305_C.wav\n",
      "Error encountered while parsing file:  ../data/heartbeat-sounds/set_b/normal_noisynormal_285_1311169246969_C.wav\n",
      "Error encountered while parsing file:  ../data/heartbeat-sounds/set_b/normal_noisynormal_181_1308052613891_A.wav\n",
      "Error encountered while parsing file:  ../data/heartbeat-sounds/set_b/normal__202_1308145175747_C.wav\n",
      "Error encountered while parsing file:  ../data/heartbeat-sounds/set_b/murmur__156_1306936373241_B.wav\n",
      "Error encountered while parsing file:  ../data/heartbeat-sounds/set_b/normal_noisynormal_137_1306764999211_D1.wav\n",
      "Error encountered while parsing file:  ../data/heartbeat-sounds/set_b/normal_noisynormal_134_1306428161797_D1.wav\n",
      "Error encountered while parsing file:  ../data/heartbeat-sounds/set_b/murmur_noisymurmur_240_1309201366049_D.wav\n",
      "Error encountered while parsing file:  ../data/heartbeat-sounds/set_b/normal__127_1306764300147_C1.wav\n",
      "Error encountered while parsing file:  ../data/heartbeat-sounds/set_b/normal_noisynormal_133_1306759619127_B1.wav\n",
      "Error encountered while parsing file:  ../data/heartbeat-sounds/set_b/normal__146_1306778707532_D4.wav\n",
      "Error encountered while parsing file:  ../data/heartbeat-sounds/set_b/normal_noisynormal_117_1306262456650_D.wav\n",
      "Error encountered while parsing file:  ../data/heartbeat-sounds/set_b/normal_noisynormal_141_1306520154450_C1.wav\n",
      "Error encountered while parsing file:  ../data/heartbeat-sounds/set_b/normal__184_1308073010307_D.wav\n",
      "Error encountered while parsing file:  ../data/heartbeat-sounds/set_b/normal_noisynormal_155_1306935902813_A.wav\n",
      "Error encountered while parsing file:  ../data/heartbeat-sounds/set_b/normal_noisynormal_101_1305030823364_B.wav\n",
      "Error encountered while parsing file:  ../data/heartbeat-sounds/set_b/normal__146_1306778707532_A.wav\n",
      "Error encountered while parsing file:  ../data/heartbeat-sounds/set_b/murmur__116_1306258689913_A.wav\n",
      "Error encountered while parsing file:  ../data/heartbeat-sounds/set_b/normal_noisynormal_125_1306332456645_D.wav\n",
      "Error encountered while parsing file:  ../data/heartbeat-sounds/set_b/murmur__242_1309197394064_D.wav\n",
      "Error encountered while parsing file:  ../data/heartbeat-sounds/set_b/normal_noisynormal_264_1309356143724_D.wav\n",
      "Error encountered while parsing file:  ../data/heartbeat-sounds/set_b/murmur_noisymurmur_156_1306936373241_B1.wav\n",
      "Error encountered while parsing file:  ../data/heartbeat-sounds/set_b/extrastole__294_1311681084248_C.wav\n",
      "Error encountered while parsing file:  ../data/heartbeat-sounds/set_b/normal_noisynormal_157_1306937583792_B.wav\n",
      "Error encountered while parsing file:  ../data/heartbeat-sounds/set_b/normal__148_1306768801551_D2.wav\n",
      "Error encountered while parsing file:  ../data/heartbeat-sounds/set_b/normal_noisynormal_138_1306762146980_A.wav\n",
      "Error encountered while parsing file:  ../data/heartbeat-sounds/set_b/normal_noisynormal_104_1305032492469_A.wav\n",
      "Error encountered while parsing file:  ../data/heartbeat-sounds/set_b/normal__184_1308073010307_B.wav\n",
      "Error encountered while parsing file:  ../data/heartbeat-sounds/set_b/normal__146_1306778707532_D1.wav\n",
      "Error encountered while parsing file:  ../data/heartbeat-sounds/set_b/normal_noisynormal_109_1305653972028_C.wav\n",
      "Error encountered while parsing file:  ../data/heartbeat-sounds/set_b/normal_noisynormal_110_1305655332337_A.wav\n",
      "Error encountered while parsing file:  ../data/heartbeat-sounds/set_b/murmur__116_1306258689913_C.wav\n",
      "Error encountered while parsing file:  ../data/heartbeat-sounds/set_b/murmur__112_1306243000964_B.wav\n",
      "Error encountered while parsing file:  ../data/heartbeat-sounds/set_b/normal_noisynormal_188_1308074301731_A.wav\n",
      "Error encountered while parsing file:  ../data/heartbeat-sounds/set_b/normal__140_1306519735121_D1.wav\n",
      "Error encountered while parsing file:  ../data/heartbeat-sounds/set_b/normal__115_1306259437619_C.wav\n",
      "Error encountered while parsing file:  ../data/heartbeat-sounds/set_b/murmur__276_1311162716489_C.wav\n",
      "Error encountered while parsing file:  ../data/heartbeat-sounds/set_b/normal__146_1306778707532_B.wav\n",
      "Error encountered while parsing file:  ../data/heartbeat-sounds/set_b/murmur__254_1309350589009_A1.wav\n",
      "Error encountered while parsing file:  ../data/heartbeat-sounds/set_b/extrastole__138_1306762146980_B.wav\n",
      "Error encountered while parsing file:  ../data/heartbeat-sounds/set_b/extrastole__261_1309353556003_C.wav\n",
      "Error encountered while parsing file:  ../data/heartbeat-sounds/set_b/murmur__122_1306325762831_C.wav\n",
      "Error encountered while parsing file:  ../data/heartbeat-sounds/set_b/murmur_noisymurmur_288_1311164615284_C.wav\n",
      "Error encountered while parsing file:  ../data/heartbeat-sounds/set_b/normal_noisynormal_118_1306262335509_D.wav\n",
      "Error encountered while parsing file:  ../data/heartbeat-sounds/set_b/murmur__164_1307106095995_B.wav\n",
      "Error encountered while parsing file:  ../data/heartbeat-sounds/set_b/normal__139_1306519274653_A.wav\n",
      "Error encountered while parsing file:  ../data/heartbeat-sounds/set_b/extrastole__179_1307990076841_C.wav\n",
      "Error encountered while parsing file:  ../data/heartbeat-sounds/set_b/murmur__122_1306325762831_D.wav\n",
      "Error encountered while parsing file:  ../data/heartbeat-sounds/set_b/normal_noisynormal_264_1309356143724_C.wav\n",
      "Error encountered while parsing file:  ../data/heartbeat-sounds/set_b/normal_noisynormal_129_1306344506305_A.wav\n",
      "Error encountered while parsing file:  ../data/heartbeat-sounds/set_b/normal__137_1306764999211_C.wav\n",
      "Error encountered while parsing file:  ../data/heartbeat-sounds/set_b/normal_noisynormal_136_1306429977501_D1.wav\n",
      "Error encountered while parsing file:  ../data/heartbeat-sounds/set_b/normal__170_1307970562729_A.wav\n",
      "Error encountered while parsing file:  ../data/heartbeat-sounds/set_b/normal_noisynormal_127_1306764300147_D1.wav\n",
      "Error encountered while parsing file:  ../data/heartbeat-sounds/set_b/extrastole__191_1308077299430_A.wav\n",
      "Error encountered while parsing file:  ../data/heartbeat-sounds/set_b/normal_noisynormal_130_1306347376079_B.wav\n",
      "Error encountered while parsing file:  ../data/heartbeat-sounds/set_b/normal__128_1306344005749_B.wav\n",
      "Error encountered while parsing file:  ../data/heartbeat-sounds/set_b/normal__126_1306777102824_B.wav\n",
      "Error encountered while parsing file:  ../data/heartbeat-sounds/set_b/normal__152_1306779561195_D.wav\n",
      "Error encountered while parsing file:  ../data/heartbeat-sounds/set_b/normal_noisynormal_121_1306263877235_D.wav\n",
      "Error encountered while parsing file:  ../data/heartbeat-sounds/set_b/murmur__160_1307100683334_A.wav\n",
      "Error encountered while parsing file:  ../data/heartbeat-sounds/set_b/normal__179_1307990076841_B.wav\n",
      "Error encountered while parsing file:  ../data/heartbeat-sounds/set_b/normal_noisynormal_109_1305653972028_E.wav\n",
      "Error encountered while parsing file:  ../data/heartbeat-sounds/set_b/normal_noisynormal_270_1309369533040_B.wav\n",
      "Error encountered while parsing file:  ../data/heartbeat-sounds/set_b/normal__170_1307970562729_B.wav\n",
      "Error encountered while parsing file:  ../data/heartbeat-sounds/set_b/normal_noisynormal_167_1307111318050_A1.wav\n",
      "Error encountered while parsing file:  ../data/heartbeat-sounds/set_b/normal_noisynormal_167_1307111318050_B.wav\n",
      "Error encountered while parsing file:  ../data/heartbeat-sounds/set_b/normal_noisynormal_121_1306263877235_A.wav\n",
      "Error encountered while parsing file:  ../data/heartbeat-sounds/set_b/murmur_noisymurmur_243_1309197760898_B.wav\n",
      "Error encountered while parsing file:  ../data/heartbeat-sounds/set_b/normal_noisynormal_296_1311682952647_C.wav\n",
      "Error encountered while parsing file:  ../data/heartbeat-sounds/set_b/normal_noisynormal_134_1306428161797_B1.wav\n"
     ]
    },
    {
     "name": "stdout",
     "output_type": "stream",
     "text": [
      "Error encountered while parsing file:  ../data/heartbeat-sounds/set_b/murmur__239_1309195730333_C.wav\n",
      "Error encountered while parsing file:  ../data/heartbeat-sounds/set_b/normal__172_1307971284351_B.wav\n",
      "Error encountered while parsing file:  ../data/heartbeat-sounds/set_b/normal__128_1306344005749_D1.wav\n",
      "Error encountered while parsing file:  ../data/heartbeat-sounds/set_b/murmur_noisymurmur_240_1309201366049_C.wav\n",
      "Error encountered while parsing file:  ../data/heartbeat-sounds/set_b/extrastole__213_1308245263936_D.wav\n",
      "Error encountered while parsing file:  ../data/heartbeat-sounds/set_b/normal__167_1307111318050_A.wav\n",
      "Error encountered while parsing file:  ../data/heartbeat-sounds/set_b/extrastole__184_1308073010307_A.wav\n",
      "Error encountered while parsing file:  ../data/heartbeat-sounds/set_b/normal__154_1306935608852_B.wav\n",
      "Error encountered while parsing file:  ../data/heartbeat-sounds/set_b/extrastole__198_1308141739338_B.wav\n",
      "Error encountered while parsing file:  ../data/heartbeat-sounds/set_b/murmur__239_1309195730333_B.wav\n",
      "Error encountered while parsing file:  ../data/heartbeat-sounds/set_b/normal_noisynormal_296_1311682952647_D.wav\n",
      "Error encountered while parsing file:  ../data/heartbeat-sounds/set_b/normal_noisynormal_109_1305653972028_A.wav\n",
      "Error encountered while parsing file:  ../data/heartbeat-sounds/set_b/murmur_noisymurmur_165_1307109069581_A.wav\n",
      "Error encountered while parsing file:  ../data/heartbeat-sounds/set_b/murmur__197_1308141235553_A.wav\n",
      "Error encountered while parsing file:  ../data/heartbeat-sounds/set_b/normal__183_1308072703477_B.wav\n",
      "Error encountered while parsing file:  ../data/heartbeat-sounds/set_b/murmur__185_1308073325396_B.wav\n",
      "Error encountered while parsing file:  ../data/heartbeat-sounds/set_b/murmur__162_1307101835989_A.wav\n",
      "Error encountered while parsing file:  ../data/heartbeat-sounds/set_b/murmur__288_1311164615284_D.wav\n",
      "Error encountered while parsing file:  ../data/heartbeat-sounds/set_b/normal__129_1306344506305_D.wav\n",
      "Error encountered while parsing file:  ../data/heartbeat-sounds/set_b/normal__194_1308139824187_A1.wav\n",
      "Error encountered while parsing file:  ../data/heartbeat-sounds/set_b/murmur__248_1309201683806_C.wav\n",
      "Error encountered while parsing file:  ../data/heartbeat-sounds/set_b/normal__213_1308245263936_C.wav\n",
      "Error encountered while parsing file:  ../data/heartbeat-sounds/set_b/normal_noisynormal_149_1306776016110_A.wav\n",
      "Error encountered while parsing file:  ../data/heartbeat-sounds/set_b/normal_noisynormal_159_1307018640315_A1.wav\n",
      "Error encountered while parsing file:  ../data/heartbeat-sounds/set_b/murmur__292_1311185449649_C.wav\n",
      "Error encountered while parsing file:  ../data/heartbeat-sounds/set_b/normal__103_1305031931979_B.wav\n",
      "Error encountered while parsing file:  ../data/heartbeat-sounds/set_b/normal_noisynormal_139_1306519274653_D.wav\n",
      "Error encountered while parsing file:  ../data/heartbeat-sounds/set_b/normal_noisynormal_142_1306763049574_B.wav\n",
      "Error encountered while parsing file:  ../data/heartbeat-sounds/set_b/murmur_noisymurmur_135_1306428972976_C.wav\n",
      "Error encountered while parsing file:  ../data/heartbeat-sounds/set_b/normal_noisynormal_169_1307970398039_A.wav\n",
      "Error encountered while parsing file:  ../data/heartbeat-sounds/set_b/normal__300_1311772096120_C1.wav\n",
      "Error encountered while parsing file:  ../data/heartbeat-sounds/set_b/normal__103_1305031931979_D1.wav\n",
      "Error encountered while parsing file:  ../data/heartbeat-sounds/set_b/normal__140_1306519735121_A.wav\n",
      "Error encountered while parsing file:  ../data/heartbeat-sounds/set_b/normal__224_1308337157445_C.wav\n",
      "Error encountered while parsing file:  ../data/heartbeat-sounds/set_b/normal_noisynormal_140_1306519735121_C.wav\n",
      "Error encountered while parsing file:  ../data/heartbeat-sounds/set_b/normal_noisynormal_136_1306429977501_B.wav\n",
      "Error encountered while parsing file:  ../data/heartbeat-sounds/set_b/murmur__281_1311165683454_A.wav\n",
      "Error encountered while parsing file:  ../data/heartbeat-sounds/set_b/murmur_noisymurmur_161_1307101199321_C.wav\n",
      "Error encountered while parsing file:  ../data/heartbeat-sounds/set_b/normal__153_1306848820671_B.wav\n",
      "Error encountered while parsing file:  ../data/heartbeat-sounds/set_b/extrastole__144_1306522408528_B.wav\n",
      "Error encountered while parsing file:  ../data/heartbeat-sounds/set_b/murmur__240_1309196119795_B.wav\n",
      "Error encountered while parsing file:  ../data/heartbeat-sounds/set_b/normal__168_1307970069434_A.wav\n",
      "Error encountered while parsing file:  ../data/heartbeat-sounds/set_b/normal_noisynormal_125_1306332456645_A2.wav\n",
      "Error encountered while parsing file:  ../data/heartbeat-sounds/set_b/extrastole__215_1308245664733_B.wav\n",
      "Error encountered while parsing file:  ../data/heartbeat-sounds/set_b/normal__141_1306520154450_B.wav\n",
      "Error encountered while parsing file:  ../data/heartbeat-sounds/set_b/murmur_noisymurmur_293_1311680805936_C.wav\n",
      "Error encountered while parsing file:  ../data/heartbeat-sounds/set_b/normal_noisynormal_109_1305653646620_A.wav\n",
      "Error encountered while parsing file:  ../data/heartbeat-sounds/set_b/extrastole__128_1306344005749_A.wav\n",
      "Error encountered while parsing file:  ../data/heartbeat-sounds/set_b/normal__294_1311681084248_B.wav\n",
      "Error encountered while parsing file:  ../data/heartbeat-sounds/set_b/normal_noisynormal_110_1305655332337_B.wav\n",
      "Error encountered while parsing file:  ../data/heartbeat-sounds/set_b/normal_noisynormal_144_1306522408528_A1.wav\n",
      "Error encountered while parsing file:  ../data/heartbeat-sounds/set_b/normal_noisynormal_182_1308053371395_B.wav\n",
      "Error encountered while parsing file:  ../data/heartbeat-sounds/set_b/normal_noisynormal_132_1306758754432_B1.wav\n",
      "Error encountered while parsing file:  ../data/heartbeat-sounds/set_b/normal_noisynormal_108_1305654420093_B.wav\n",
      "Error encountered while parsing file:  ../data/heartbeat-sounds/set_b/normal__145_1307987561278_C.wav\n",
      "Error encountered while parsing file:  ../data/heartbeat-sounds/set_b/normal__153_1306848820671_B1.wav\n",
      "Error encountered while parsing file:  ../data/heartbeat-sounds/set_b/normal_noisynormal_271_1309369876160_C.wav\n",
      "Error encountered while parsing file:  ../data/heartbeat-sounds/set_b/normal__140_1306519735121_B.wav\n",
      "Error encountered while parsing file:  ../data/heartbeat-sounds/set_b/extrastole__235_1308749032454_B.wav\n",
      "Error encountered while parsing file:  ../data/heartbeat-sounds/set_b/normal_noisynormal_133_1306759619127_A1.wav\n",
      "Error encountered while parsing file:  ../data/heartbeat-sounds/set_b/normal__198_1308141739338_C.wav\n",
      "Error encountered while parsing file:  ../data/heartbeat-sounds/set_b/murmur_noisymurmur_293_1311680805936_D.wav\n",
      "Error encountered while parsing file:  ../data/heartbeat-sounds/set_b/normal_noisynormal_136_1306429977501_C.wav\n",
      "Error encountered while parsing file:  ../data/heartbeat-sounds/set_b/normal_noisynormal_258_1309352253234_A.wav\n",
      "Error encountered while parsing file:  ../data/heartbeat-sounds/set_b/normal__235_1308749032454_D.wav\n",
      "Error encountered while parsing file:  ../data/heartbeat-sounds/set_b/murmur__116_1306258689913_D.wav\n",
      "Error encountered while parsing file:  ../data/heartbeat-sounds/set_b/normal_noisynormal_142_1306763049574_D.wav\n",
      "Error encountered while parsing file:  ../data/heartbeat-sounds/set_b/normal_noisynormal_123_1306331925797_B.wav\n",
      "Error encountered while parsing file:  ../data/heartbeat-sounds/set_b/extrastole__210_1308162935880_C.wav\n",
      "Error encountered while parsing file:  ../data/heartbeat-sounds/set_b/normal__103_1305031931979_D2.wav\n",
      "Error encountered while parsing file:  ../data/heartbeat-sounds/set_b/normal__127_1306764300147_B.wav\n",
      "Error encountered while parsing file:  ../data/heartbeat-sounds/set_b/murmur__281_1311165683454_B.wav\n",
      "Error encountered while parsing file:  ../data/heartbeat-sounds/set_b/normal__149_1306776016110_C1.wav\n",
      "Error encountered while parsing file:  ../data/heartbeat-sounds/set_b/normal_noisynormal_150_1306776340746_A.wav\n",
      "Error encountered while parsing file:  ../data/heartbeat-sounds/set_b/extrastole__207_1308159792607_B.wav\n",
      "Error encountered while parsing file:  ../data/heartbeat-sounds/set_b/murmur__242_1309197394064_B.wav\n",
      "Error encountered while parsing file:  ../data/heartbeat-sounds/set_b/normal__126_1306777102824_C.wav\n",
      "Error encountered while parsing file:  ../data/heartbeat-sounds/set_b/murmur__254_1309350589009_D.wav\n"
     ]
    },
    {
     "name": "stdout",
     "output_type": "stream",
     "text": [
      "Error encountered while parsing file:  ../data/heartbeat-sounds/set_b/normal_noisynormal_133_1306759619127_C.wav\n",
      "Error encountered while parsing file:  ../data/heartbeat-sounds/set_b/murmur__160_1307100683334_B.wav\n",
      "Error encountered while parsing file:  ../data/heartbeat-sounds/set_b/murmur_noisymurmur_185_1308073325396_D.wav\n",
      "Error encountered while parsing file:  ../data/heartbeat-sounds/set_b/normal__207_1308159792607_C.wav\n",
      "Error encountered while parsing file:  ../data/heartbeat-sounds/set_b/normal__175_1307987962616_D.wav\n",
      "Error encountered while parsing file:  ../data/heartbeat-sounds/set_b/normal__180_1307990956284_C.wav\n",
      "Error encountered while parsing file:  ../data/heartbeat-sounds/set_b/normal__178_1307989887769_B.wav\n",
      "Error encountered while parsing file:  ../data/heartbeat-sounds/set_b/normal_noisynormal_264_1309356143724_B.wav\n",
      "Error encountered while parsing file:  ../data/heartbeat-sounds/set_b/normal__150_1306776340746_B.wav\n",
      "Error encountered while parsing file:  ../data/heartbeat-sounds/set_b/normal__204_1308159229275_C.wav\n",
      "Error encountered while parsing file:  ../data/heartbeat-sounds/set_b/normal_noisynormal_118_1306262335509_B.wav\n",
      "Error encountered while parsing file:  ../data/heartbeat-sounds/set_b/normal__137_1306764999211_D.wav\n",
      "Error encountered while parsing file:  ../data/heartbeat-sounds/set_b/normal_noisynormal_115_1306259437619_A1.wav\n",
      "Error encountered while parsing file:  ../data/heartbeat-sounds/set_b/murmur__248_1309201683806_A.wav\n",
      "Error encountered while parsing file:  ../data/heartbeat-sounds/set_b/normal_noisynormal_125_1306332456645_C.wav\n",
      "Error encountered while parsing file:  ../data/heartbeat-sounds/set_b/normal_noisynormal_132_1306758754432_C.wav\n",
      "Error encountered while parsing file:  ../data/heartbeat-sounds/set_b/normal_noisynormal_172_1307971284351_A.wav\n",
      "Error encountered while parsing file:  ../data/heartbeat-sounds/set_b/normal__170_1307970562729_C.wav\n",
      "Error encountered while parsing file:  ../data/heartbeat-sounds/set_b/normal__294_1311681084248_D1.wav\n",
      "Error encountered while parsing file:  ../data/heartbeat-sounds/set_b/murmur__196_1308141034858_B.wav\n",
      "Error encountered while parsing file:  ../data/heartbeat-sounds/set_b/murmur_noisymurmur_243_1309197760898_C.wav\n",
      "Error encountered while parsing file:  ../data/heartbeat-sounds/set_b/extrastole__127_1306764300147_C2.wav\n",
      "Error encountered while parsing file:  ../data/heartbeat-sounds/set_b/murmur_noisymurmur_161_1307101199321_B.wav\n",
      "Error encountered while parsing file:  ../data/heartbeat-sounds/set_b/normal__151_1306779785624_A.wav\n",
      "Error encountered while parsing file:  ../data/heartbeat-sounds/set_b/normal__299_1311770522820_C.wav\n",
      "Error encountered while parsing file:  ../data/heartbeat-sounds/set_b/murmur__203_1308162026258_B.wav\n",
      "Error encountered while parsing file:  ../data/heartbeat-sounds/set_b/normal_noisynormal_130_1306347376079_C.wav\n",
      "Error encountered while parsing file:  ../data/heartbeat-sounds/set_b/murmur__112_1306243000964_D.wav\n",
      "Error encountered while parsing file:  ../data/heartbeat-sounds/set_b/normal_noisynormal_117_1306262456650_A.wav\n",
      "Error encountered while parsing file:  ../data/heartbeat-sounds/set_b/normal__103_1305031931979_D3.wav\n",
      "Error encountered while parsing file:  ../data/heartbeat-sounds/set_b/normal__109_1305653646620_C.wav\n",
      "Error encountered while parsing file:  ../data/heartbeat-sounds/set_b/murmur__193_1308078104592_B.wav\n",
      "Error encountered while parsing file:  ../data/heartbeat-sounds/set_b/extrastole__151_1306779785624_B.wav\n",
      "Error encountered while parsing file:  ../data/heartbeat-sounds/set_b/normal_noisynormal_146_1306778707532_D.wav\n",
      "Error encountered while parsing file:  ../data/heartbeat-sounds/set_b/murmur__281_1311165683454_D.wav\n",
      "Error encountered while parsing file:  ../data/heartbeat-sounds/set_b/murmur__240_1309201366049_B.wav\n",
      "Error encountered while parsing file:  ../data/heartbeat-sounds/set_b/normal_noisynormal_142_1306763049574_A.wav\n",
      "Error encountered while parsing file:  ../data/heartbeat-sounds/set_b/extrastole__229_1308594979317_B.wav\n",
      "Error encountered while parsing file:  ../data/heartbeat-sounds/set_b/normal__127_1306764300147_A.wav\n",
      "Error encountered while parsing file:  ../data/heartbeat-sounds/set_b/normal_noisynormal_118_1306262335509_C1.wav\n",
      "Error encountered while parsing file:  ../data/heartbeat-sounds/set_b/normal_noisynormal_270_1309369533040_A.wav\n",
      "Error encountered while parsing file:  ../data/heartbeat-sounds/set_b/normal_noisynormal_121_1306263877235_C.wav\n",
      "Error encountered while parsing file:  ../data/heartbeat-sounds/set_b/normal_noisynormal_105_1305033453095_C.wav\n",
      "Error encountered while parsing file:  ../data/heartbeat-sounds/set_b/normal__168_1307970069434_A2.wav\n",
      "Error encountered while parsing file:  ../data/heartbeat-sounds/set_b/normal_noisynormal_246_1309199278902_D.wav\n",
      "Error encountered while parsing file:  ../data/heartbeat-sounds/set_b/normal__146_1306778707532_D2.wav\n",
      "Error encountered while parsing file:  ../data/heartbeat-sounds/set_b/normal__178_1307989887769_D.wav\n",
      "Error encountered while parsing file:  ../data/heartbeat-sounds/set_b/normal_noisynormal_101_1305030823364_E.wav\n",
      "Error encountered while parsing file:  ../data/heartbeat-sounds/set_b/normal_noisynormal_113_1306244002866_B.wav\n",
      "Error encountered while parsing file:  ../data/heartbeat-sounds/set_b/murmur__165_1307109069581_C2.wav\n",
      "Error encountered while parsing file:  ../data/heartbeat-sounds/set_b/normal_noisynormal_117_1306262456650_C.wav\n",
      "Error encountered while parsing file:  ../data/heartbeat-sounds/set_b/extrastole__216_1308245839516_A.wav\n",
      "Error encountered while parsing file:  ../data/heartbeat-sounds/set_b/murmur__204_1308159229275_B.wav\n",
      "Error encountered while parsing file:  ../data/heartbeat-sounds/set_b/extrastole__207_1308159792607_B1.wav\n",
      "Error encountered while parsing file:  ../data/heartbeat-sounds/set_b/murmur_noisymurmur_200_1308144251434_D.wav\n",
      "Error encountered while parsing file:  ../data/heartbeat-sounds/set_b/murmur__161_1307101199321_A.wav\n",
      "Error encountered while parsing file:  ../data/heartbeat-sounds/set_b/normal_noisynormal_123_1306331925797_C.wav\n",
      "Error encountered while parsing file:  ../data/heartbeat-sounds/set_b/normal__294_1311681084248_A.wav\n",
      "Error encountered while parsing file:  ../data/heartbeat-sounds/set_b/normal__183_1308072703477_C.wav\n",
      "Error encountered while parsing file:  ../data/heartbeat-sounds/set_b/normal_noisynormal_271_1309369876160_A.wav\n",
      "Error encountered while parsing file:  ../data/heartbeat-sounds/set_b/normal__117_1306262456650_B.wav\n",
      "Error encountered while parsing file:  ../data/heartbeat-sounds/set_b/normal_noisynormal_147_1306523973811_B.wav\n",
      "Error encountered while parsing file:  ../data/heartbeat-sounds/set_b/extrastole__153_1306848820671_C.wav\n",
      "Error encountered while parsing file:  ../data/heartbeat-sounds/set_b/normal_noisynormal_125_1306332456645_B1.wav\n",
      "Error encountered while parsing file:  ../data/heartbeat-sounds/set_b/normal__298_1311685888900_B.wav\n",
      "Error encountered while parsing file:  ../data/heartbeat-sounds/set_b/normal__204_1308159229275_D.wav\n",
      "Error encountered while parsing file:  ../data/heartbeat-sounds/set_b/normal_noisynormal_108_1305654420093_A.wav\n",
      "Error encountered while parsing file:  ../data/heartbeat-sounds/set_b/normal_noisynormal_154_1306935608852_C.wav\n",
      "Error encountered while parsing file:  ../data/heartbeat-sounds/set_b/extrastole__275_1310990852160_B.wav\n",
      "Error encountered while parsing file:  ../data/heartbeat-sounds/set_b/murmur__195_1308140095331_C1.wav\n",
      "Error encountered while parsing file:  ../data/heartbeat-sounds/set_b/murmur_noisymurmur_135_1306428972976_A.wav\n",
      "Error encountered while parsing file:  ../data/heartbeat-sounds/set_b/extrastole__265_1309367698923_C.wav\n",
      "Error encountered while parsing file:  ../data/heartbeat-sounds/set_b/extrastole__298_1311685888900_C.wav\n",
      "Error encountered while parsing file:  ../data/heartbeat-sounds/set_b/normal_noisynormal_155_1306935902813_C.wav\n",
      "Error encountered while parsing file:  ../data/heartbeat-sounds/set_b/murmur__287_1311170903290_C.wav\n",
      "Error encountered while parsing file:  ../data/heartbeat-sounds/set_b/normal__149_1306776016110_B.wav\n",
      "Error encountered while parsing file:  ../data/heartbeat-sounds/set_b/normal_noisynormal_151_1306779785624_C.wav\n"
     ]
    },
    {
     "name": "stdout",
     "output_type": "stream",
     "text": [
      "Error encountered while parsing file:  ../data/heartbeat-sounds/set_b/normal_noisynormal_207_1308159792607_D.wav\n",
      "Error encountered while parsing file:  ../data/heartbeat-sounds/set_b/normal_noisynormal_143_1306763822290_A.wav\n",
      "Error encountered while parsing file:  ../data/heartbeat-sounds/set_b/normal__217_1308246111629_C.wav\n",
      "Error encountered while parsing file:  ../data/heartbeat-sounds/set_b/normal__177_1307989650056_B.wav\n",
      "Error encountered while parsing file:  ../data/heartbeat-sounds/set_b/murmur__112_1306243000964_A.wav\n",
      "Error encountered while parsing file:  ../data/heartbeat-sounds/set_b/normal_noisynormal_141_1306520154450_A1.wav\n",
      "Error encountered while parsing file:  ../data/heartbeat-sounds/set_b/normal__106_1306776721273_D2.wav\n",
      "Error encountered while parsing file:  ../data/heartbeat-sounds/set_b/normal_noisynormal_113_1306244002866_A.wav\n",
      "Error encountered while parsing file:  ../data/heartbeat-sounds/set_b/normal_noisynormal_216_1308245839516_D.wav\n",
      "Error encountered while parsing file:  ../data/heartbeat-sounds/set_b/murmur_noisymurmur_162_1307101835989_B_1.wav\n",
      "Error encountered while parsing file:  ../data/heartbeat-sounds/set_b/normal__126_1306777102824_D.wav\n",
      "Error encountered while parsing file:  ../data/heartbeat-sounds/set_b/extrastole__209_1308162216750_D.wav\n",
      "Error encountered while parsing file:  ../data/heartbeat-sounds/set_b/normal_noisynormal_158_1306947254705_D.wav\n",
      "Error encountered while parsing file:  ../data/heartbeat-sounds/set_b/normal_noisynormal_109_1305653972028_F.wav\n",
      "Error encountered while parsing file:  ../data/heartbeat-sounds/set_b/normal_noisynormal_284_1311168471850_A.wav\n",
      "Error encountered while parsing file:  ../data/heartbeat-sounds/set_b/extrastole__140_1306519735121_D.wav\n",
      "Error encountered while parsing file:  ../data/heartbeat-sounds/set_b/murmur_noisymurmur_165_1307109069581_D.wav\n",
      "Error encountered while parsing file:  ../data/heartbeat-sounds/set_b/normal__107_1305654946865_C1.wav\n",
      "Error encountered while parsing file:  ../data/heartbeat-sounds/set_b/murmur_noisymurmur_162_1307101835989_D.wav\n",
      "Error encountered while parsing file:  ../data/heartbeat-sounds/set_b/normal_noisynormal_168_1307970069434_A1.wav\n",
      "Error encountered while parsing file:  ../data/heartbeat-sounds/set_b/normal_noisynormal_107_1305654946865_A.wav\n",
      "Error encountered while parsing file:  ../data/heartbeat-sounds/set_b/murmur__254_1309350589009_C.wav\n",
      "Error encountered while parsing file:  ../data/heartbeat-sounds/set_b/normal_noisynormal_278_1311163365896_B.wav\n",
      "Error encountered while parsing file:  ../data/heartbeat-sounds/set_b/murmur_noisymurmur_288_1311164615284_B1.wav\n",
      "Error encountered while parsing file:  ../data/heartbeat-sounds/set_b/normal_noisynormal_106_1306776721273_A.wav\n",
      "Error encountered while parsing file:  ../data/heartbeat-sounds/set_b/normal__220_1308250132896_C.wav\n",
      "Error encountered while parsing file:  ../data/heartbeat-sounds/set_b/normal_noisynormal_115_1306259437619_B.wav\n",
      "Error encountered while parsing file:  ../data/heartbeat-sounds/set_b/normal__194_1308139824187_A.wav\n",
      "Error encountered while parsing file:  ../data/heartbeat-sounds/set_b/murmur_noisymurmur_160_1307100683334_D.wav\n",
      "Error encountered while parsing file:  ../data/heartbeat-sounds/set_b/extrastole__286_1311170606028_D.wav\n",
      "Error encountered while parsing file:  ../data/heartbeat-sounds/set_b/normal__260_1309353164458_C.wav\n",
      "Error encountered while parsing file:  ../data/heartbeat-sounds/set_b/normal__152_1306779561195_B1.wav\n",
      "Error encountered while parsing file:  ../data/heartbeat-sounds/set_b/extrastole__163_1307104470471_C.wav\n",
      "Error encountered while parsing file:  ../data/heartbeat-sounds/set_b/murmur__185_1308073325396_C.wav\n",
      "Error encountered while parsing file:  ../data/heartbeat-sounds/set_b/normal_noisynormal_198_1308141739338_D.wav\n",
      "Error encountered while parsing file:  ../data/heartbeat-sounds/set_b/normal_noisynormal_105_1305033453095_A.wav\n",
      "Error encountered while parsing file:  ../data/heartbeat-sounds/set_b/normal__286_1311170606028_C.wav\n",
      "Error encountered while parsing file:  ../data/heartbeat-sounds/set_b/normal__188_1308074301731_C.wav\n",
      "Error encountered while parsing file:  ../data/heartbeat-sounds/set_b/murmur__196_1308141034858_C.wav\n",
      "Error encountered while parsing file:  ../data/heartbeat-sounds/set_b/normal__145_1307987561278_B.wav\n",
      "Error encountered while parsing file:  ../data/heartbeat-sounds/set_b/murmur_noisymurmur_156_1306936373241_A.wav\n",
      "Error encountered while parsing file:  ../data/heartbeat-sounds/set_b/murmur__203_1308162026258_C1.wav\n",
      "Error encountered while parsing file:  ../data/heartbeat-sounds/set_b/normal__191_1308077299430_B.wav\n",
      "Error encountered while parsing file:  ../data/heartbeat-sounds/set_b/normal__150_1306776340746_C.wav\n",
      "Error encountered while parsing file:  ../data/heartbeat-sounds/set_b/normal_noisynormal_138_1306762146980_D.wav\n",
      "Error encountered while parsing file:  ../data/heartbeat-sounds/set_b/extrastole__198_1308141739338_B1.wav\n",
      "Error encountered while parsing file:  ../data/heartbeat-sounds/set_b/murmur__200_1308144251434_D.wav\n",
      "Error encountered while parsing file:  ../data/heartbeat-sounds/set_b/normal_noisynormal_159_1307018640315_B.wav\n",
      "Error encountered while parsing file:  ../data/heartbeat-sounds/set_b/murmur__240_1309196119795_C.wav\n",
      "Error encountered while parsing file:  ../data/heartbeat-sounds/set_b/extrastole__220_1308250132896_B.wav\n",
      "Error encountered while parsing file:  ../data/heartbeat-sounds/set_b/murmur_noisymurmur_135_1306428972976_B.wav\n",
      "Error encountered while parsing file:  ../data/heartbeat-sounds/set_b/murmur__197_1308141235553_D.wav\n",
      "Error encountered while parsing file:  ../data/heartbeat-sounds/set_b/normal__201_1308144942432_A1.wav\n"
     ]
    }
   ],
   "source": [
    "clinic_sounds = []\n",
    "for file in all_sounds_b:\n",
    "    \n",
    "    #class_label = i[\"class_name\"]\n",
    "    data = extract_sounds(file)\n",
    "    \n",
    "    clinic_sounds.append(data)"
   ]
  },
  {
   "cell_type": "code",
   "execution_count": 61,
   "metadata": {},
   "outputs": [],
   "source": [
    "clinic_sounds = np.array(clinic_sounds)"
   ]
  },
  {
   "cell_type": "code",
   "execution_count": 62,
   "metadata": {},
   "outputs": [
    {
     "data": {
      "text/plain": [
       "(461,)"
      ]
     },
     "execution_count": 62,
     "metadata": {},
     "output_type": "execute_result"
    }
   ],
   "source": [
    "clinic_sounds.shape"
   ]
  },
  {
   "cell_type": "markdown",
   "metadata": {},
   "source": [
    "<h3> Plot Apple sounds for a first look"
   ]
  },
  {
   "cell_type": "code",
   "execution_count": 63,
   "metadata": {},
   "outputs": [],
   "source": [
    "all_features = np.concatenate((features,clinic_features))"
   ]
  },
  {
   "cell_type": "code",
   "execution_count": 64,
   "metadata": {},
   "outputs": [
    {
     "data": {
      "text/plain": [
       "283"
      ]
     },
     "execution_count": 64,
     "metadata": {},
     "output_type": "execute_result"
    }
   ],
   "source": [
    "i = np.random.randint(len(all_features))\n",
    "i"
   ]
  },
  {
   "cell_type": "code",
   "execution_count": 65,
   "metadata": {},
   "outputs": [],
   "source": [
    "import librosa.display"
   ]
  },
  {
   "cell_type": "code",
   "execution_count": 66,
   "metadata": {},
   "outputs": [
    {
     "data": {
      "text/plain": [
       "[<matplotlib.lines.Line2D at 0x7f7a492e9dd0>]"
      ]
     },
     "execution_count": 66,
     "metadata": {},
     "output_type": "execute_result"
    },
    {
     "data": {
      "image/png": "[encoded data removed]",
      "text/plain": [
       "<Figure size 864x432 with 1 Axes>"
      ]
     },
     "metadata": {
      "needs_background": "light"
     },
     "output_type": "display_data"
    }
   ],
   "source": [
    "plt.show()\n",
    "plt.figure(figsize=(12,6))\n",
    "plt.ylabel('Time')\n",
    "plt.xlabel('Frequency')\n",
    "plt.plot(sounds_a[3])"
   ]
  },
  {
   "cell_type": "code",
   "execution_count": 67,
   "metadata": {},
   "outputs": [
    {
     "data": {
      "image/png": "[encoded data removed]",
      "text/plain": [
       "<Figure size 720x288 with 2 Axes>"
      ]
     },
     "metadata": {
      "needs_background": "light"
     },
     "output_type": "display_data"
    }
   ],
   "source": [
    "plt.figure(figsize=(10, 4))\n",
    "S = librosa.feature.melspectrogram(all_features[i])\n",
    "S_dB = librosa.power_to_db(S, ref=np.max)\n",
    "librosa.display.specshow(S_dB, x_axis='time',\n",
    "                         y_axis='mel',\n",
    "                         fmax=8000)\n",
    "plt.colorbar(format='%+2.0f dB')\n",
    "plt.title('Mel-frequency spectrogram')\n",
    "plt.tight_layout()\n",
    "plt.show()"
   ]
  },
  {
   "cell_type": "code",
   "execution_count": 68,
   "metadata": {},
   "outputs": [
    {
     "data": {
      "image/png": "[encoded data removed]",
      "text/plain": [
       "<Figure size 720x288 with 2 Axes>"
      ]
     },
     "metadata": {
      "needs_background": "light"
     },
     "output_type": "display_data"
    }
   ],
   "source": [
    "S2 = librosa.feature.melspectrogram(all_features[i])\n",
    "plt.figure(figsize=(10, 4))\n",
    "S2_dB = librosa.power_to_db(S2, ref=np.max)\n",
    "librosa.display.specshow(S2_dB, x_axis='time',\n",
    "                         y_axis='mel',\n",
    "                         fmax=8000)\n",
    "plt.colorbar(format='%+2.0f dB')\n",
    "plt.title('Mel-frequency spectrogram')\n",
    "plt.tight_layout()\n",
    "plt.show()"
   ]
  },
  {
   "cell_type": "markdown",
   "metadata": {},
   "source": [
    "<h2> Machine Learning"
   ]
  },
  {
   "cell_type": "markdown",
   "metadata": {},
   "source": [
    "<h3> Supervised"
   ]
  },
  {
   "cell_type": "code",
   "execution_count": 69,
   "metadata": {},
   "outputs": [],
   "source": [
    "df_all_features = pd.concat([featuresdf, features_clinic])"
   ]
  },
  {
   "cell_type": "code",
   "execution_count": 70,
   "metadata": {},
   "outputs": [],
   "source": [
    "X = df_all_features"
   ]
  },
  {
   "cell_type": "code",
   "execution_count": 71,
   "metadata": {},
   "outputs": [],
   "source": [
    "y_a = set_a['label']"
   ]
  },
  {
   "cell_type": "code",
   "execution_count": 72,
   "metadata": {},
   "outputs": [],
   "source": [
    "y_b = set_b['label']"
   ]
  },
  {
   "cell_type": "code",
   "execution_count": 73,
   "metadata": {},
   "outputs": [],
   "source": [
    "y = pd.concat([y_a, y_b])"
   ]
  },
  {
   "cell_type": "code",
   "execution_count": 74,
   "metadata": {
    "scrolled": true
   },
   "outputs": [
    {
     "data": {
      "text/plain": [
       "normal        351\n",
       "murmur        129\n",
       "extrastole     46\n",
       "artifact       40\n",
       "extrahls       19\n",
       "Name: label, dtype: int64"
      ]
     },
     "execution_count": 74,
     "metadata": {},
     "output_type": "execute_result"
    }
   ],
   "source": [
    "y.value_counts()"
   ]
  },
  {
   "cell_type": "code",
   "execution_count": 75,
   "metadata": {
    "scrolled": false
   },
   "outputs": [
    {
     "data": {
      "image/png": "[encoded data removed]",
      "text/plain": [
       "<Figure size 864x432 with 1 Axes>"
      ]
     },
     "metadata": {
      "needs_background": "light"
     },
     "output_type": "display_data"
    }
   ],
   "source": [
    "plt.figure(figsize=(12,6))\n",
    "plt.hist(y.value_counts())\n",
    "plt.show()"
   ]
  },
  {
   "cell_type": "markdown",
   "metadata": {},
   "source": [
    "<h3> Logistic Regression"
   ]
  },
  {
   "cell_type": "code",
   "execution_count": 76,
   "metadata": {},
   "outputs": [],
   "source": [
    "# Let's create a binary version of y (0 == normal, 1 == anormal) to perform Logistic regression"
   ]
  },
  {
   "cell_type": "code",
   "execution_count": 77,
   "metadata": {},
   "outputs": [],
   "source": [
    "def get_class(X):\n",
    "    if X == 'normal':\n",
    "        return 0\n",
    "    else:\n",
    "        return 1"
   ]
  },
  {
   "cell_type": "code",
   "execution_count": 78,
   "metadata": {},
   "outputs": [],
   "source": [
    "y_binary = y.apply(get_class)"
   ]
  },
  {
   "cell_type": "code",
   "execution_count": 79,
   "metadata": {},
   "outputs": [
    {
     "data": {
      "text/plain": [
       "0    351\n",
       "1    234\n",
       "Name: label, dtype: int64"
      ]
     },
     "execution_count": 79,
     "metadata": {},
     "output_type": "execute_result"
    }
   ],
   "source": [
    "y_binary.value_counts()"
   ]
  },
  {
   "cell_type": "code",
   "execution_count": 80,
   "metadata": {},
   "outputs": [],
   "source": [
    "from sklearn.model_selection import train_test_split"
   ]
  },
  {
   "cell_type": "code",
   "execution_count": 81,
   "metadata": {},
   "outputs": [
    {
     "data": {
      "text/plain": [
       "637"
      ]
     },
     "execution_count": 81,
     "metadata": {},
     "output_type": "execute_result"
    }
   ],
   "source": [
    "len(X)"
   ]
  },
  {
   "cell_type": "code",
   "execution_count": 82,
   "metadata": {},
   "outputs": [
    {
     "data": {
      "text/plain": [
       "585"
      ]
     },
     "execution_count": 82,
     "metadata": {},
     "output_type": "execute_result"
    }
   ],
   "source": [
    "len(y)"
   ]
  },
  {
   "cell_type": "code",
   "execution_count": 83,
   "metadata": {},
   "outputs": [
    {
     "ename": "ValueError",
     "evalue": "Found input variables with inconsistent numbers of samples: [637, 585]",
     "output_type": "error",
     "traceback": [
      "\u001b[0;31m---------------------------------------------------------------------------\u001b[0m",
      "\u001b[0;31mValueError\u001b[0m                                Traceback (most recent call last)",
      "\u001b[0;32m<ipython-input-83-2ede74879af3>\u001b[0m in \u001b[0;36m<module>\u001b[0;34m\u001b[0m\n\u001b[0;32m----> 1\u001b[0;31m \u001b[0mX_train\u001b[0m\u001b[0;34m,\u001b[0m \u001b[0mX_test\u001b[0m\u001b[0;34m,\u001b[0m \u001b[0my_train\u001b[0m\u001b[0;34m,\u001b[0m \u001b[0my_test\u001b[0m \u001b[0;34m=\u001b[0m \u001b[0mtrain_test_split\u001b[0m\u001b[0;34m(\u001b[0m\u001b[0mX\u001b[0m\u001b[0;34m,\u001b[0m \u001b[0my_binary\u001b[0m\u001b[0;34m,\u001b[0m \u001b[0mtest_size\u001b[0m \u001b[0;34m=\u001b[0m \u001b[0;36m0.2\u001b[0m\u001b[0;34m,\u001b[0m \u001b[0mrandom_state\u001b[0m \u001b[0;34m=\u001b[0m \u001b[0;36m0\u001b[0m\u001b[0;34m)\u001b[0m\u001b[0;34m\u001b[0m\u001b[0;34m\u001b[0m\u001b[0m\n\u001b[0m",
      "\u001b[0;32m~/anaconda3/lib/python3.7/site-packages/sklearn/model_selection/_split.py\u001b[0m in \u001b[0;36mtrain_test_split\u001b[0;34m(*arrays, **options)\u001b[0m\n\u001b[1;32m   2094\u001b[0m         \u001b[0;32mraise\u001b[0m \u001b[0mTypeError\u001b[0m\u001b[0;34m(\u001b[0m\u001b[0;34m\"Invalid parameters passed: %s\"\u001b[0m \u001b[0;34m%\u001b[0m \u001b[0mstr\u001b[0m\u001b[0;34m(\u001b[0m\u001b[0moptions\u001b[0m\u001b[0;34m)\u001b[0m\u001b[0;34m)\u001b[0m\u001b[0;34m\u001b[0m\u001b[0;34m\u001b[0m\u001b[0m\n\u001b[1;32m   2095\u001b[0m \u001b[0;34m\u001b[0m\u001b[0m\n\u001b[0;32m-> 2096\u001b[0;31m     \u001b[0marrays\u001b[0m \u001b[0;34m=\u001b[0m \u001b[0mindexable\u001b[0m\u001b[0;34m(\u001b[0m\u001b[0;34m*\u001b[0m\u001b[0marrays\u001b[0m\u001b[0;34m)\u001b[0m\u001b[0;34m\u001b[0m\u001b[0;34m\u001b[0m\u001b[0m\n\u001b[0m\u001b[1;32m   2097\u001b[0m \u001b[0;34m\u001b[0m\u001b[0m\n\u001b[1;32m   2098\u001b[0m     \u001b[0mn_samples\u001b[0m \u001b[0;34m=\u001b[0m \u001b[0m_num_samples\u001b[0m\u001b[0;34m(\u001b[0m\u001b[0marrays\u001b[0m\u001b[0;34m[\u001b[0m\u001b[0;36m0\u001b[0m\u001b[0;34m]\u001b[0m\u001b[0;34m)\u001b[0m\u001b[0;34m\u001b[0m\u001b[0;34m\u001b[0m\u001b[0m\n",
      "\u001b[0;32m~/anaconda3/lib/python3.7/site-packages/sklearn/utils/validation.py\u001b[0m in \u001b[0;36mindexable\u001b[0;34m(*iterables)\u001b[0m\n\u001b[1;32m    228\u001b[0m         \u001b[0;32melse\u001b[0m\u001b[0;34m:\u001b[0m\u001b[0;34m\u001b[0m\u001b[0;34m\u001b[0m\u001b[0m\n\u001b[1;32m    229\u001b[0m             \u001b[0mresult\u001b[0m\u001b[0;34m.\u001b[0m\u001b[0mappend\u001b[0m\u001b[0;34m(\u001b[0m\u001b[0mnp\u001b[0m\u001b[0;34m.\u001b[0m\u001b[0marray\u001b[0m\u001b[0;34m(\u001b[0m\u001b[0mX\u001b[0m\u001b[0;34m)\u001b[0m\u001b[0;34m)\u001b[0m\u001b[0;34m\u001b[0m\u001b[0;34m\u001b[0m\u001b[0m\n\u001b[0;32m--> 230\u001b[0;31m     \u001b[0mcheck_consistent_length\u001b[0m\u001b[0;34m(\u001b[0m\u001b[0;34m*\u001b[0m\u001b[0mresult\u001b[0m\u001b[0;34m)\u001b[0m\u001b[0;34m\u001b[0m\u001b[0;34m\u001b[0m\u001b[0m\n\u001b[0m\u001b[1;32m    231\u001b[0m     \u001b[0;32mreturn\u001b[0m \u001b[0mresult\u001b[0m\u001b[0;34m\u001b[0m\u001b[0;34m\u001b[0m\u001b[0m\n\u001b[1;32m    232\u001b[0m \u001b[0;34m\u001b[0m\u001b[0m\n",
      "\u001b[0;32m~/anaconda3/lib/python3.7/site-packages/sklearn/utils/validation.py\u001b[0m in \u001b[0;36mcheck_consistent_length\u001b[0;34m(*arrays)\u001b[0m\n\u001b[1;32m    203\u001b[0m     \u001b[0;32mif\u001b[0m \u001b[0mlen\u001b[0m\u001b[0;34m(\u001b[0m\u001b[0muniques\u001b[0m\u001b[0;34m)\u001b[0m \u001b[0;34m>\u001b[0m \u001b[0;36m1\u001b[0m\u001b[0;34m:\u001b[0m\u001b[0;34m\u001b[0m\u001b[0;34m\u001b[0m\u001b[0m\n\u001b[1;32m    204\u001b[0m         raise ValueError(\"Found input variables with inconsistent numbers of\"\n\u001b[0;32m--> 205\u001b[0;31m                          \" samples: %r\" % [int(l) for l in lengths])\n\u001b[0m\u001b[1;32m    206\u001b[0m \u001b[0;34m\u001b[0m\u001b[0m\n\u001b[1;32m    207\u001b[0m \u001b[0;34m\u001b[0m\u001b[0m\n",
      "\u001b[0;31mValueError\u001b[0m: Found input variables with inconsistent numbers of samples: [637, 585]"
     ]
    }
   ],
   "source": [
    "X_train, X_test, y_train, y_test = train_test_split(X, y_binary, test_size = 0.2, random_state = 0)"
   ]
  },
  {
   "cell_type": "code",
   "execution_count": null,
   "metadata": {},
   "outputs": [],
   "source": [
    "from sklearn.linear_model import LogisticRegression"
   ]
  },
  {
   "cell_type": "code",
   "execution_count": null,
   "metadata": {},
   "outputs": [],
   "source": [
    "log = LogisticRegression()"
   ]
  },
  {
   "cell_type": "code",
   "execution_count": null,
   "metadata": {},
   "outputs": [],
   "source": [
    "log.fit(X_train, y_train)"
   ]
  },
  {
   "cell_type": "code",
   "execution_count": null,
   "metadata": {},
   "outputs": [],
   "source": [
    "y_pred_train = log.predict(X_train)"
   ]
  },
  {
   "cell_type": "code",
   "execution_count": null,
   "metadata": {},
   "outputs": [],
   "source": [
    "y_pred = log.predict(X_test)"
   ]
  },
  {
   "cell_type": "code",
   "execution_count": null,
   "metadata": {},
   "outputs": [],
   "source": [
    "from sklearn.metrics import classification_report"
   ]
  },
  {
   "cell_type": "code",
   "execution_count": null,
   "metadata": {},
   "outputs": [],
   "source": [
    "print(classification_report(y_test, y_pred))"
   ]
  },
  {
   "cell_type": "code",
   "execution_count": null,
   "metadata": {},
   "outputs": [],
   "source": [
    "print(classification_report(y_train, y_pred_train))"
   ]
  },
  {
   "cell_type": "markdown",
   "metadata": {},
   "source": [
    "<h3> XGBOOST"
   ]
  },
  {
   "cell_type": "code",
   "execution_count": null,
   "metadata": {},
   "outputs": [],
   "source": [
    "from xgboost import XGBClassifier"
   ]
  },
  {
   "cell_type": "code",
   "execution_count": null,
   "metadata": {},
   "outputs": [],
   "source": [
    "xgb = XGBClassifier()"
   ]
  },
  {
   "cell_type": "code",
   "execution_count": null,
   "metadata": {},
   "outputs": [],
   "source": [
    "X_train2, X_test2, y_train2, y_test2 = train_test_split(X, y, test_size = 0.2, random_state = 0)"
   ]
  },
  {
   "cell_type": "code",
   "execution_count": null,
   "metadata": {},
   "outputs": [],
   "source": [
    "xgb.fit(X_train2, y_train2)"
   ]
  },
  {
   "cell_type": "code",
   "execution_count": null,
   "metadata": {},
   "outputs": [],
   "source": [
    "y_pred_xgb = xgb.predict(X_test2)"
   ]
  },
  {
   "cell_type": "code",
   "execution_count": null,
   "metadata": {
    "scrolled": true
   },
   "outputs": [],
   "source": [
    "print(classification_report(y_test2, y_pred_xgb))"
   ]
  },
  {
   "cell_type": "code",
   "execution_count": null,
   "metadata": {},
   "outputs": [],
   "source": [
    "import lightgbm as lgb\n",
    "\n",
    "lgb = lgb.LGBMClassifier(silent=False)"
   ]
  },
  {
   "cell_type": "code",
   "execution_count": null,
   "metadata": {},
   "outputs": [],
   "source": [
    "lgb.fit(X_train2, y_train2)"
   ]
  },
  {
   "cell_type": "code",
   "execution_count": null,
   "metadata": {},
   "outputs": [],
   "source": [
    "y_pred_lgb = lgb.predict(X_test2)"
   ]
  },
  {
   "cell_type": "code",
   "execution_count": null,
   "metadata": {},
   "outputs": [],
   "source": [
    "print(classification_report(y_test2, y_pred_lgb))"
   ]
  },
  {
   "cell_type": "markdown",
   "metadata": {},
   "source": [
    "<h3> LIGHTGBM"
   ]
  },
  {
   "cell_type": "code",
   "execution_count": null,
   "metadata": {},
   "outputs": [],
   "source": [
    "import lightgbm as lgb\n",
    "\n",
    "lgm = lgb.LGBMClassifier(silent=False)"
   ]
  },
  {
   "cell_type": "code",
   "execution_count": null,
   "metadata": {},
   "outputs": [],
   "source": [
    "lgm.fit(X_train2, y_train2)"
   ]
  },
  {
   "cell_type": "code",
   "execution_count": null,
   "metadata": {},
   "outputs": [],
   "source": [
    "y_pred_lgm = lgm.predict(X_test2)"
   ]
  },
  {
   "cell_type": "code",
   "execution_count": null,
   "metadata": {},
   "outputs": [],
   "source": [
    "print(classification_report(y_test2, y_pred_lgm))"
   ]
  },
  {
   "cell_type": "markdown",
   "metadata": {},
   "source": [
    "<h2> Feature engineering"
   ]
  },
  {
   "cell_type": "markdown",
   "metadata": {},
   "source": [
    "<h3> Length of each row"
   ]
  },
  {
   "cell_type": "code",
   "execution_count": null,
   "metadata": {},
   "outputs": [],
   "source": [
    "X.shape"
   ]
  },
  {
   "cell_type": "code",
   "execution_count": null,
   "metadata": {
    "scrolled": true
   },
   "outputs": [],
   "source": [
    "X.iloc[5, 1:].sum()"
   ]
  },
  {
   "cell_type": "code",
   "execution_count": null,
   "metadata": {
    "scrolled": true
   },
   "outputs": [],
   "source": [
    "X.head()"
   ]
  },
  {
   "cell_type": "code",
   "execution_count": null,
   "metadata": {},
   "outputs": [],
   "source": [
    "Xx = X.drop(columns = 0)"
   ]
  },
  {
   "cell_type": "code",
   "execution_count": null,
   "metadata": {},
   "outputs": [],
   "source": [
    "Xx['sum'] = Xx.sum(axis = 1)"
   ]
  },
  {
   "cell_type": "code",
   "execution_count": null,
   "metadata": {},
   "outputs": [],
   "source": [
    "Xx['mean'] = Xx.mean(axis = 1)"
   ]
  },
  {
   "cell_type": "code",
   "execution_count": null,
   "metadata": {},
   "outputs": [],
   "source": [
    "Xx.head()"
   ]
  },
  {
   "cell_type": "code",
   "execution_count": null,
   "metadata": {},
   "outputs": [],
   "source": [
    "lgb2 = lgb.LGBMClassifier(silent=False)"
   ]
  },
  {
   "cell_type": "code",
   "execution_count": null,
   "metadata": {},
   "outputs": [],
   "source": [
    "X_train3, X_test3, y_train3, y_test3 = train_test_split(Xx, y, test_size = 0.2, random_state = 5)"
   ]
  },
  {
   "cell_type": "code",
   "execution_count": null,
   "metadata": {},
   "outputs": [],
   "source": [
    "lgb2.fit(X_train3, y_train3)"
   ]
  },
  {
   "cell_type": "code",
   "execution_count": null,
   "metadata": {},
   "outputs": [],
   "source": [
    "y_pred_lgb2 = lgb2.predict(X_test3)"
   ]
  },
  {
   "cell_type": "code",
   "execution_count": null,
   "metadata": {},
   "outputs": [],
   "source": [
    "print(classification_report(y_test3, y_pred_lgb2))"
   ]
  },
  {
   "cell_type": "code",
   "execution_count": null,
   "metadata": {},
   "outputs": [],
   "source": [
    "print(classification_report(y_test2, y_pred_lgb))"
   ]
  },
  {
   "cell_type": "markdown",
   "metadata": {},
   "source": [
    "<h2> Deep Learning"
   ]
  },
  {
   "cell_type": "markdown",
   "metadata": {},
   "source": [
    "<h3> CNN"
   ]
  },
  {
   "cell_type": "code",
   "execution_count": 84,
   "metadata": {},
   "outputs": [],
   "source": [
    "import tensorflow as tf\n",
    "from tensorflow import feature_column"
   ]
  },
  {
   "cell_type": "code",
   "execution_count": null,
   "metadata": {},
   "outputs": [],
   "source": [
    "X_train.head()"
   ]
  },
  {
   "cell_type": "code",
   "execution_count": null,
   "metadata": {},
   "outputs": [],
   "source": [
    "model = tf.keras.models.Sequential()"
   ]
  },
  {
   "cell_type": "code",
   "execution_count": null,
   "metadata": {},
   "outputs": [],
   "source": [
    "input_dim = X_train.shape[1]"
   ]
  },
  {
   "cell_type": "code",
   "execution_count": null,
   "metadata": {},
   "outputs": [],
   "source": [
    "np.unique(y_train)"
   ]
  },
  {
   "cell_type": "code",
   "execution_count": 85,
   "metadata": {},
   "outputs": [],
   "source": [
    "from tensorflow.keras.utils import to_categorical"
   ]
  },
  {
   "cell_type": "code",
   "execution_count": null,
   "metadata": {},
   "outputs": [],
   "source": [
    "y_train_CNN = to_categorical(y_train, num_classes=2)\n",
    "y_test_CNN = to_categorical(y_test, num_classes=2)"
   ]
  },
  {
   "cell_type": "code",
   "execution_count": null,
   "metadata": {},
   "outputs": [],
   "source": [
    "model.add(tf.keras.layers.Dense(100, input_dim=input_dim, activation='tanh'))  \n",
    "model.add(tf.keras.layers.Dense(100, input_dim= input_dim, activation='tanh'))\n",
    "model.add(tf.keras.layers.Dense(100, input_dim= input_dim, activation='tanh'))\n",
    "model.add(tf.keras.layers.Dense(2, activation='sigmoid'))"
   ]
  },
  {
   "cell_type": "code",
   "execution_count": null,
   "metadata": {},
   "outputs": [],
   "source": [
    "model.compile(optimizer='adam', loss='binary_crossentropy', metrics=['accuracy'])"
   ]
  },
  {
   "cell_type": "code",
   "execution_count": null,
   "metadata": {},
   "outputs": [],
   "source": [
    "model.fit(x=X_train, y=y_train_CNN, validation_data=(X_test, y_test_CNN), epochs=100, batch_size=64)"
   ]
  },
  {
   "cell_type": "code",
   "execution_count": null,
   "metadata": {},
   "outputs": [],
   "source": [
    "x = np.concatenate((apple_sounds, clinic_sounds))"
   ]
  },
  {
   "cell_type": "code",
   "execution_count": null,
   "metadata": {},
   "outputs": [],
   "source": [
    "apple_sounds.shape"
   ]
  },
  {
   "cell_type": "code",
   "execution_count": null,
   "metadata": {},
   "outputs": [],
   "source": [
    "yy = np.array(y)"
   ]
  },
  {
   "cell_type": "code",
   "execution_count": null,
   "metadata": {},
   "outputs": [],
   "source": [
    "yy.shape"
   ]
  },
  {
   "cell_type": "code",
   "execution_count": 86,
   "metadata": {},
   "outputs": [],
   "source": [
    "from sklearn.preprocessing import LabelEncoder,OneHotEncoder"
   ]
  },
  {
   "cell_type": "code",
   "execution_count": null,
   "metadata": {},
   "outputs": [],
   "source": [
    "categorical_values = LabelEncoder().fit_transform(yy)"
   ]
  },
  {
   "cell_type": "code",
   "execution_count": null,
   "metadata": {},
   "outputs": [],
   "source": [
    "x_train, x_test, y_train, y_test = train_test_split(x, categorical_values, test_size = 0.1, random_state = 42, stratify = y)"
   ]
  },
  {
   "cell_type": "code",
   "execution_count": 87,
   "metadata": {},
   "outputs": [],
   "source": [
    "from tensorflow.keras.models import Sequential\n",
    "from tensorflow.keras.layers import Dense, Dropout, Activation, Flatten\n",
    "from tensorflow.keras.layers import Convolution2D, Conv2D, MaxPooling2D, GlobalAveragePooling2D\n",
    "from tensorflow.keras.optimizers import Adam\n",
    "from sklearn import metrics "
   ]
  },
  {
   "cell_type": "code",
   "execution_count": null,
   "metadata": {},
   "outputs": [],
   "source": [
    "x_train.shape"
   ]
  },
  {
   "cell_type": "code",
   "execution_count": null,
   "metadata": {},
   "outputs": [],
   "source": [
    "x_train = x_train.reshape(x_train.shape[0], x_train.shape[1], x_train.shape[2], 1)\n",
    "x_test = x_test.reshape(x_test.shape[0], x_test.shape[1], x_test.shape[2], 1)"
   ]
  },
  {
   "cell_type": "code",
   "execution_count": null,
   "metadata": {},
   "outputs": [],
   "source": [
    "y_train_cat = to_categorical(y_train, num_classes=5)\n",
    "y_test_cat = to_categorical(y_test, num_classes=5)"
   ]
  },
  {
   "cell_type": "code",
   "execution_count": null,
   "metadata": {},
   "outputs": [],
   "source": [
    "x_train.shape"
   ]
  },
  {
   "cell_type": "code",
   "execution_count": null,
   "metadata": {
    "scrolled": true
   },
   "outputs": [],
   "source": [
    "\n",
    "model = Sequential()\n",
    "model.add(Conv2D(filters=16, kernel_size=2, input_shape=(x_train.shape[1],x_train.shape[2],x_train.shape[3]), \n",
    "                 activation='relu'))\n",
    "model.add(MaxPooling2D(pool_size=2))\n",
    "model.add(Dropout(0.2))\n",
    "\n",
    "model.add(Conv2D(filters=32, kernel_size=2, activation='relu'))\n",
    "model.add(MaxPooling2D(pool_size=2))\n",
    "model.add(Dropout(0.2))\n",
    "\n",
    "model.add(Conv2D(filters=64, kernel_size=2, activation='relu'))\n",
    "model.add(MaxPooling2D(pool_size=2))\n",
    "model.add(Dropout(0.2))\n",
    "\n",
    "model.add(Conv2D(filters=128, kernel_size=2, activation='relu'))\n",
    "model.add(MaxPooling2D(pool_size=2))\n",
    "model.add(Dropout(0.2))\n",
    "model.add(GlobalAveragePooling2D())\n",
    "\n",
    "model.add(Dense(5, activation='softmax'))"
   ]
  },
  {
   "cell_type": "code",
   "execution_count": null,
   "metadata": {},
   "outputs": [],
   "source": [
    "model.compile(optimizer='adam', loss='categorical_crossentropy', metrics=['accuracy'])"
   ]
  },
  {
   "cell_type": "code",
   "execution_count": null,
   "metadata": {},
   "outputs": [],
   "source": [
    "history = model.fit(x=x_train, y=y_train_cat, validation_data=(x_test, y_test_cat), epochs=200, batch_size=256)"
   ]
  },
  {
   "cell_type": "code",
   "execution_count": null,
   "metadata": {
    "scrolled": false
   },
   "outputs": [],
   "source": [
    "# Loss Curves\n",
    "plt.figure(figsize=[14,10])\n",
    "plt.subplot(211)\n",
    "plt.plot(history.history['loss'],'r',linewidth=3.0)\n",
    "plt.plot(history.history['val_loss'],'b',linewidth=3.0)\n",
    "plt.legend(['Training loss', 'Validation Loss'],fontsize=18)\n",
    "plt.xlabel('Epochs ',fontsize=16)\n",
    "plt.ylabel('Loss',fontsize=16)\n",
    "plt.title('Loss Curves',fontsize=16)\n",
    " \n",
    "# Accuracy Curves\n",
    "plt.figure(figsize=[14,10])\n",
    "plt.subplot(212)\n",
    "plt.plot(history.history['accuracy'],'r',linewidth=3.0)\n",
    "plt.plot(history.history['val_accuracy'],'b',linewidth=3.0)\n",
    "plt.legend(['Training Accuracy', 'Validation Accuracy'],fontsize=18)\n",
    "plt.xlabel('Epochs ',fontsize=16)\n",
    "plt.ylabel('Accuracy',fontsize=16)\n",
    "plt.title('Accuracy Curves',fontsize=16)"
   ]
  },
  {
   "cell_type": "markdown",
   "metadata": {},
   "source": [
    "<h2> Additional Sounds"
   ]
  },
  {
   "cell_type": "code",
   "execution_count": 88,
   "metadata": {},
   "outputs": [],
   "source": [
    "filepath_1 = os.path.join('..', 'data', 'Atraining_artifact')\n",
    "filepath_2 = os.path.join('..', 'data', 'Atraining_extrahs')\n",
    "filepath_3 = os.path.join('..', 'data', 'Atraining_murmur')\n",
    "filepath_4 = os.path.join('..', 'data', 'Atraining_normal')\n",
    "filepath_5 = os.path.join('..', 'data', 'Btraining_extrasystole')\n",
    "filepath_6 = os.path.join('..', 'data', 'Btraining_murmur')\n",
    "filepath_7 = os.path.join('..', 'data', 'Btraining_normal')"
   ]
  },
  {
   "cell_type": "code",
   "execution_count": 89,
   "metadata": {
    "scrolled": true
   },
   "outputs": [],
   "source": [
    "sounds_1 = getListOfFiles(filepath_1)\n",
    "sounds_2 = getListOfFiles(filepath_2)\n",
    "sounds_3 = getListOfFiles(filepath_3)\n",
    "sounds_4 = getListOfFiles(filepath_4)\n",
    "sounds_5 = getListOfFiles(filepath_5)\n",
    "sounds_6 = getListOfFiles(filepath_6)\n",
    "sounds_7 = getListOfFiles(filepath_7)"
   ]
  },
  {
   "cell_type": "code",
   "execution_count": 90,
   "metadata": {},
   "outputs": [
    {
     "data": {
      "text/plain": [
       "'../data/Atraining_artifact/__MACOSX/Atraining_artifact/._201105040918.wav'"
      ]
     },
     "execution_count": 90,
     "metadata": {},
     "output_type": "execute_result"
    }
   ],
   "source": [
    "sounds_1[3]"
   ]
  },
  {
   "cell_type": "code",
   "execution_count": 91,
   "metadata": {},
   "outputs": [
    {
     "data": {
      "text/plain": [
       "'../data/Atraining_murmur/__MACOSX/Atraining_murmur/._201108222221.wav'"
      ]
     },
     "execution_count": 91,
     "metadata": {},
     "output_type": "execute_result"
    }
   ],
   "source": [
    "sounds_3[7]"
   ]
  },
  {
   "cell_type": "code",
   "execution_count": 92,
   "metadata": {},
   "outputs": [
    {
     "data": {
      "text/plain": [
       "'../data/Atraining_normal/__MACOSX/Atraining_normal/._201103221214.wav'"
      ]
     },
     "execution_count": 92,
     "metadata": {},
     "output_type": "execute_result"
    }
   ],
   "source": [
    "sounds_4[8]"
   ]
  },
  {
   "cell_type": "code",
   "execution_count": 93,
   "metadata": {
    "scrolled": true
   },
   "outputs": [
    {
     "data": {
      "text/plain": [
       "'../data/Btraining_extrasystole/__MACOSX/Btraining_extrastole/._220_1308250132896_B.wav'"
      ]
     },
     "execution_count": 93,
     "metadata": {},
     "output_type": "execute_result"
    }
   ],
   "source": [
    "sounds_5[3]"
   ]
  },
  {
   "cell_type": "code",
   "execution_count": 94,
   "metadata": {},
   "outputs": [
    {
     "data": {
      "text/plain": [
       "'../data/Btraining_murmur/__MACOSX/Btraining_murmur/._116_1306258689913_D.wav'"
      ]
     },
     "execution_count": 94,
     "metadata": {},
     "output_type": "execute_result"
    }
   ],
   "source": [
    "sounds_6[15]"
   ]
  },
  {
   "cell_type": "code",
   "execution_count": 95,
   "metadata": {},
   "outputs": [
    {
     "data": {
      "text/plain": [
       "'../data/Btraining_normal/__MACOSX/Training B Normal/._147_1306523973811_C.wav'"
      ]
     },
     "execution_count": 95,
     "metadata": {},
     "output_type": "execute_result"
    }
   ],
   "source": [
    "sounds_7[32]"
   ]
  },
  {
   "cell_type": "code",
   "execution_count": null,
   "metadata": {},
   "outputs": [],
   "source": [
    "sounds_1.remove(sounds_1[3])\n",
    "sounds_3.remove(sounds_3[7])\n",
    "sounds_4.remove(sounds_4[8])\n",
    "sounds_5.remove(sounds_5[3])\n",
    "sounds_6.remove(sounds_6[15])"
   ]
  },
  {
   "cell_type": "code",
   "execution_count": null,
   "metadata": {},
   "outputs": [],
   "source": [
    "sounds_7.remove(sounds_7[32])"
   ]
  },
  {
   "cell_type": "code",
   "execution_count": null,
   "metadata": {
    "scrolled": true
   },
   "outputs": [
    {
     "name": "stderr",
     "output_type": "stream",
     "text": [
      "/home/julien/anaconda3/lib/python3.7/site-packages/librosa/core/audio.py:146: UserWarning: PySoundFile failed. Trying audioread instead.\n",
      "  warnings.warn('PySoundFile failed. Trying audioread instead.')\n"
     ]
    },
    {
     "name": "stdout",
     "output_type": "stream",
     "text": [
      "Error encountered while parsing file:  ../data/Atraining_artifact/__MACOSX/Atraining_artifact/._201106211430.wav\n",
      "Error encountered while parsing file:  ../data/Atraining_artifact/__MACOSX/Atraining_artifact/._201106220340.wav\n",
      "Error encountered while parsing file:  ../data/Atraining_artifact/__MACOSX/Atraining_artifact/._201105061143.wav\n"
     ]
    },
    {
     "name": "stderr",
     "output_type": "stream",
     "text": [
      "/home/julien/anaconda3/lib/python3.7/site-packages/librosa/core/audio.py:146: UserWarning: PySoundFile failed. Trying audioread instead.\n",
      "  warnings.warn('PySoundFile failed. Trying audioread instead.')\n",
      "/home/julien/anaconda3/lib/python3.7/site-packages/librosa/core/audio.py:146: UserWarning: PySoundFile failed. Trying audioread instead.\n",
      "  warnings.warn('PySoundFile failed. Trying audioread instead.')\n",
      "/home/julien/anaconda3/lib/python3.7/site-packages/librosa/core/audio.py:146: UserWarning: PySoundFile failed. Trying audioread instead.\n",
      "  warnings.warn('PySoundFile failed. Trying audioread instead.')\n"
     ]
    },
    {
     "name": "stdout",
     "output_type": "stream",
     "text": [
      "Error encountered while parsing file:  ../data/Atraining_artifact/__MACOSX/Atraining_artifact/._201105040918.wav\n",
      "Error encountered while parsing file:  ../data/Atraining_artifact/__MACOSX/Atraining_artifact/._201106190520.wav\n",
      "Error encountered while parsing file:  ../data/Atraining_artifact/__MACOSX/Atraining_artifact/._201012172012.wav\n"
     ]
    },
    {
     "name": "stderr",
     "output_type": "stream",
     "text": [
      "/home/julien/anaconda3/lib/python3.7/site-packages/librosa/core/audio.py:146: UserWarning: PySoundFile failed. Trying audioread instead.\n",
      "  warnings.warn('PySoundFile failed. Trying audioread instead.')\n",
      "/home/julien/anaconda3/lib/python3.7/site-packages/librosa/core/audio.py:146: UserWarning: PySoundFile failed. Trying audioread instead.\n",
      "  warnings.warn('PySoundFile failed. Trying audioread instead.')\n",
      "/home/julien/anaconda3/lib/python3.7/site-packages/librosa/core/audio.py:146: UserWarning: PySoundFile failed. Trying audioread instead.\n",
      "  warnings.warn('PySoundFile failed. Trying audioread instead.')\n"
     ]
    },
    {
     "name": "stdout",
     "output_type": "stream",
     "text": [
      "Error encountered while parsing file:  ../data/Atraining_artifact/__MACOSX/Atraining_artifact/._201106070949.wav\n"
     ]
    },
    {
     "name": "stderr",
     "output_type": "stream",
     "text": [
      "/home/julien/anaconda3/lib/python3.7/site-packages/librosa/core/audio.py:146: UserWarning: PySoundFile failed. Trying audioread instead.\n",
      "  warnings.warn('PySoundFile failed. Trying audioread instead.')\n"
     ]
    },
    {
     "name": "stdout",
     "output_type": "stream",
     "text": [
      "Error encountered while parsing file:  ../data/Atraining_artifact/__MACOSX/Atraining_artifact/._201106030612.wav\n",
      "Error encountered while parsing file:  ../data/Atraining_artifact/__MACOSX/Atraining_artifact/._201106111119.wav\n"
     ]
    },
    {
     "name": "stderr",
     "output_type": "stream",
     "text": [
      "/home/julien/anaconda3/lib/python3.7/site-packages/librosa/core/audio.py:146: UserWarning: PySoundFile failed. Trying audioread instead.\n",
      "  warnings.warn('PySoundFile failed. Trying audioread instead.')\n",
      "/home/julien/anaconda3/lib/python3.7/site-packages/librosa/core/audio.py:146: UserWarning: PySoundFile failed. Trying audioread instead.\n",
      "  warnings.warn('PySoundFile failed. Trying audioread instead.')\n"
     ]
    },
    {
     "name": "stdout",
     "output_type": "stream",
     "text": [
      "Error encountered while parsing file:  ../data/Atraining_artifact/__MACOSX/Atraining_artifact/._201106121242.wav\n",
      "Error encountered while parsing file:  ../data/Atraining_artifact/__MACOSX/Atraining_artifact/._201106040933.wav\n"
     ]
    },
    {
     "name": "stderr",
     "output_type": "stream",
     "text": [
      "/home/julien/anaconda3/lib/python3.7/site-packages/librosa/core/audio.py:146: UserWarning: PySoundFile failed. Trying audioread instead.\n",
      "  warnings.warn('PySoundFile failed. Trying audioread instead.')\n",
      "/home/julien/anaconda3/lib/python3.7/site-packages/librosa/core/audio.py:146: UserWarning: PySoundFile failed. Trying audioread instead.\n",
      "  warnings.warn('PySoundFile failed. Trying audioread instead.')\n"
     ]
    },
    {
     "name": "stdout",
     "output_type": "stream",
     "text": [
      "Error encountered while parsing file:  ../data/Atraining_artifact/__MACOSX/Atraining_artifact/._201105051017.wav\n",
      "Error encountered while parsing file:  ../data/Atraining_artifact/__MACOSX/Atraining_artifact/._201105190800.wav\n",
      "Error encountered while parsing file:  ../data/Atraining_artifact/__MACOSX/Atraining_artifact/._201106031558.wav\n"
     ]
    },
    {
     "name": "stderr",
     "output_type": "stream",
     "text": [
      "/home/julien/anaconda3/lib/python3.7/site-packages/librosa/core/audio.py:146: UserWarning: PySoundFile failed. Trying audioread instead.\n",
      "  warnings.warn('PySoundFile failed. Trying audioread instead.')\n",
      "/home/julien/anaconda3/lib/python3.7/site-packages/librosa/core/audio.py:146: UserWarning: PySoundFile failed. Trying audioread instead.\n",
      "  warnings.warn('PySoundFile failed. Trying audioread instead.')\n",
      "/home/julien/anaconda3/lib/python3.7/site-packages/librosa/core/audio.py:146: UserWarning: PySoundFile failed. Trying audioread instead.\n",
      "  warnings.warn('PySoundFile failed. Trying audioread instead.')\n"
     ]
    },
    {
     "name": "stdout",
     "output_type": "stream",
     "text": [
      "Error encountered while parsing file:  ../data/Atraining_artifact/__MACOSX/Atraining_artifact/._201106211041.wav\n",
      "Error encountered while parsing file:  ../data/Atraining_artifact/__MACOSX/Atraining_artifact/._201106101314.wav\n",
      "Error encountered while parsing file:  ../data/Atraining_artifact/__MACOSX/Atraining_artifact/._201106131835.wav\n"
     ]
    },
    {
     "name": "stderr",
     "output_type": "stream",
     "text": [
      "/home/julien/anaconda3/lib/python3.7/site-packages/librosa/core/audio.py:146: UserWarning: PySoundFile failed. Trying audioread instead.\n",
      "  warnings.warn('PySoundFile failed. Trying audioread instead.')\n",
      "/home/julien/anaconda3/lib/python3.7/site-packages/librosa/core/audio.py:146: UserWarning: PySoundFile failed. Trying audioread instead.\n",
      "  warnings.warn('PySoundFile failed. Trying audioread instead.')\n",
      "/home/julien/anaconda3/lib/python3.7/site-packages/librosa/core/audio.py:146: UserWarning: PySoundFile failed. Trying audioread instead.\n",
      "  warnings.warn('PySoundFile failed. Trying audioread instead.')\n"
     ]
    },
    {
     "name": "stdout",
     "output_type": "stream",
     "text": [
      "Error encountered while parsing file:  ../data/Atraining_artifact/__MACOSX/Atraining_artifact/._.DS_Store\n",
      "Error encountered while parsing file:  ../data/Atraining_artifact/__MACOSX/Atraining_artifact/._201106070537.wav\n",
      "Error encountered while parsing file:  ../data/Atraining_artifact/__MACOSX/Atraining_artifact/._201106221254.wav\n"
     ]
    },
    {
     "name": "stderr",
     "output_type": "stream",
     "text": [
      "/home/julien/anaconda3/lib/python3.7/site-packages/librosa/core/audio.py:146: UserWarning: PySoundFile failed. Trying audioread instead.\n",
      "  warnings.warn('PySoundFile failed. Trying audioread instead.')\n",
      "/home/julien/anaconda3/lib/python3.7/site-packages/librosa/core/audio.py:146: UserWarning: PySoundFile failed. Trying audioread instead.\n",
      "  warnings.warn('PySoundFile failed. Trying audioread instead.')\n",
      "/home/julien/anaconda3/lib/python3.7/site-packages/librosa/core/audio.py:146: UserWarning: PySoundFile failed. Trying audioread instead.\n",
      "  warnings.warn('PySoundFile failed. Trying audioread instead.')\n"
     ]
    },
    {
     "name": "stdout",
     "output_type": "stream",
     "text": [
      "Error encountered while parsing file:  ../data/Atraining_artifact/__MACOSX/Atraining_artifact/._201106161016.wav\n",
      "Error encountered while parsing file:  ../data/Atraining_artifact/__MACOSX/Atraining_artifact/._201106121445.wav\n",
      "Error encountered while parsing file:  ../data/Atraining_artifact/__MACOSX/Atraining_artifact/._201105280851.wav\n"
     ]
    },
    {
     "name": "stderr",
     "output_type": "stream",
     "text": [
      "/home/julien/anaconda3/lib/python3.7/site-packages/librosa/core/audio.py:146: UserWarning: PySoundFile failed. Trying audioread instead.\n",
      "  warnings.warn('PySoundFile failed. Trying audioread instead.')\n",
      "/home/julien/anaconda3/lib/python3.7/site-packages/librosa/core/audio.py:146: UserWarning: PySoundFile failed. Trying audioread instead.\n",
      "  warnings.warn('PySoundFile failed. Trying audioread instead.')\n",
      "/home/julien/anaconda3/lib/python3.7/site-packages/librosa/core/audio.py:146: UserWarning: PySoundFile failed. Trying audioread instead.\n",
      "  warnings.warn('PySoundFile failed. Trying audioread instead.')\n"
     ]
    },
    {
     "name": "stdout",
     "output_type": "stream",
     "text": [
      "Error encountered while parsing file:  ../data/Atraining_artifact/__MACOSX/Atraining_artifact/._201106101955.wav\n",
      "Error encountered while parsing file:  ../data/Atraining_artifact/__MACOSX/Atraining_artifact/._201106161019.wav\n",
      "Error encountered while parsing file:  ../data/Atraining_artifact/__MACOSX/Atraining_artifact/._201106061233.wav\n"
     ]
    },
    {
     "name": "stderr",
     "output_type": "stream",
     "text": [
      "/home/julien/anaconda3/lib/python3.7/site-packages/librosa/core/audio.py:146: UserWarning: PySoundFile failed. Trying audioread instead.\n",
      "  warnings.warn('PySoundFile failed. Trying audioread instead.')\n",
      "/home/julien/anaconda3/lib/python3.7/site-packages/librosa/core/audio.py:146: UserWarning: PySoundFile failed. Trying audioread instead.\n",
      "  warnings.warn('PySoundFile failed. Trying audioread instead.')\n",
      "/home/julien/anaconda3/lib/python3.7/site-packages/librosa/core/audio.py:146: UserWarning: PySoundFile failed. Trying audioread instead.\n",
      "  warnings.warn('PySoundFile failed. Trying audioread instead.')\n"
     ]
    },
    {
     "name": "stdout",
     "output_type": "stream",
     "text": [
      "Error encountered while parsing file:  ../data/Atraining_artifact/__MACOSX/Atraining_artifact/._201106040722.wav\n",
      "Error encountered while parsing file:  ../data/Atraining_artifact/__MACOSX/Atraining_artifact/._201106161219.wav\n",
      "Error encountered while parsing file:  ../data/Atraining_artifact/__MACOSX/Atraining_artifact/._201106040947.wav\n"
     ]
    },
    {
     "name": "stderr",
     "output_type": "stream",
     "text": [
      "/home/julien/anaconda3/lib/python3.7/site-packages/librosa/core/audio.py:146: UserWarning: PySoundFile failed. Trying audioread instead.\n",
      "  warnings.warn('PySoundFile failed. Trying audioread instead.')\n",
      "/home/julien/anaconda3/lib/python3.7/site-packages/librosa/core/audio.py:146: UserWarning: PySoundFile failed. Trying audioread instead.\n",
      "  warnings.warn('PySoundFile failed. Trying audioread instead.')\n",
      "/home/julien/anaconda3/lib/python3.7/site-packages/librosa/core/audio.py:146: UserWarning: PySoundFile failed. Trying audioread instead.\n",
      "  warnings.warn('PySoundFile failed. Trying audioread instead.')\n"
     ]
    },
    {
     "name": "stdout",
     "output_type": "stream",
     "text": [
      "Error encountered while parsing file:  ../data/Atraining_artifact/__MACOSX/Atraining_artifact/._201106021541.wav\n",
      "Error encountered while parsing file:  ../data/Atraining_artifact/__MACOSX/Atraining_artifact/._201106041452.wav\n",
      "Error encountered while parsing file:  ../data/Atraining_artifact/__MACOSX/Atraining_artifact/._201105060108.wav\n"
     ]
    },
    {
     "name": "stderr",
     "output_type": "stream",
     "text": [
      "/home/julien/anaconda3/lib/python3.7/site-packages/librosa/core/audio.py:146: UserWarning: PySoundFile failed. Trying audioread instead.\n",
      "  warnings.warn('PySoundFile failed. Trying audioread instead.')\n",
      "/home/julien/anaconda3/lib/python3.7/site-packages/librosa/core/audio.py:146: UserWarning: PySoundFile failed. Trying audioread instead.\n",
      "  warnings.warn('PySoundFile failed. Trying audioread instead.')\n",
      "/home/julien/anaconda3/lib/python3.7/site-packages/librosa/core/audio.py:146: UserWarning: PySoundFile failed. Trying audioread instead.\n",
      "  warnings.warn('PySoundFile failed. Trying audioread instead.')\n"
     ]
    },
    {
     "name": "stdout",
     "output_type": "stream",
     "text": [
      "Error encountered while parsing file:  ../data/Atraining_artifact/__MACOSX/Atraining_artifact/._201106131834.wav\n",
      "Error encountered while parsing file:  ../data/Atraining_artifact/__MACOSX/Atraining_artifact/._201106212112.wav\n",
      "Error encountered while parsing file:  ../data/Atraining_artifact/__MACOSX/Atraining_artifact/._201106171003.wav\n"
     ]
    },
    {
     "name": "stderr",
     "output_type": "stream",
     "text": [
      "/home/julien/anaconda3/lib/python3.7/site-packages/librosa/core/audio.py:146: UserWarning: PySoundFile failed. Trying audioread instead.\n",
      "  warnings.warn('PySoundFile failed. Trying audioread instead.')\n",
      "/home/julien/anaconda3/lib/python3.7/site-packages/librosa/core/audio.py:146: UserWarning: PySoundFile failed. Trying audioread instead.\n",
      "  warnings.warn('PySoundFile failed. Trying audioread instead.')\n",
      "/home/julien/anaconda3/lib/python3.7/site-packages/librosa/core/audio.py:146: UserWarning: PySoundFile failed. Trying audioread instead.\n",
      "  warnings.warn('PySoundFile failed. Trying audioread instead.')\n"
     ]
    },
    {
     "name": "stdout",
     "output_type": "stream",
     "text": [
      "Error encountered while parsing file:  ../data/Atraining_artifact/__MACOSX/Atraining_artifact/._201106141701.wav\n",
      "Error encountered while parsing file:  ../data/Atraining_artifact/__MACOSX/Atraining_artifact/._201105041959.wav\n",
      "Error encountered while parsing file:  ../data/Atraining_artifact/__MACOSX/Atraining_artifact/._201106050353.wav\n"
     ]
    },
    {
     "name": "stderr",
     "output_type": "stream",
     "text": [
      "/home/julien/anaconda3/lib/python3.7/site-packages/librosa/core/audio.py:146: UserWarning: PySoundFile failed. Trying audioread instead.\n",
      "  warnings.warn('PySoundFile failed. Trying audioread instead.')\n",
      "/home/julien/anaconda3/lib/python3.7/site-packages/librosa/core/audio.py:146: UserWarning: PySoundFile failed. Trying audioread instead.\n",
      "  warnings.warn('PySoundFile failed. Trying audioread instead.')\n",
      "/home/julien/anaconda3/lib/python3.7/site-packages/librosa/core/audio.py:146: UserWarning: PySoundFile failed. Trying audioread instead.\n",
      "  warnings.warn('PySoundFile failed. Trying audioread instead.')\n"
     ]
    },
    {
     "name": "stdout",
     "output_type": "stream",
     "text": [
      "Error encountered while parsing file:  ../data/Atraining_artifact/__MACOSX/Atraining_artifact/._201106110909.wav\n",
      "Error encountered while parsing file:  ../data/Atraining_artifact/__MACOSX/Atraining_artifact/._201106010602.wav\n",
      "Error encountered while parsing file:  ../data/Atraining_artifact/__MACOSX/Atraining_artifact/._201106010559.wav\n"
     ]
    },
    {
     "name": "stderr",
     "output_type": "stream",
     "text": [
      "/home/julien/anaconda3/lib/python3.7/site-packages/librosa/core/audio.py:146: UserWarning: PySoundFile failed. Trying audioread instead.\n",
      "  warnings.warn('PySoundFile failed. Trying audioread instead.')\n",
      "/home/julien/anaconda3/lib/python3.7/site-packages/librosa/core/audio.py:146: UserWarning: PySoundFile failed. Trying audioread instead.\n",
      "  warnings.warn('PySoundFile failed. Trying audioread instead.')\n"
     ]
    },
    {
     "name": "stdout",
     "output_type": "stream",
     "text": [
      "Error encountered while parsing file:  ../data/Atraining_artifact/Atraining_artifact/201105040918.wav\n",
      "Error encountered while parsing file:  ../data/Atraining_artifact/Atraining_artifact/201106070537.wav\n",
      "Error encountered while parsing file:  ../data/Atraining_artifact/Atraining_artifact/201106220340.wav\n",
      "Error encountered while parsing file:  ../data/Atraining_artifact/Atraining_artifact/201106031558.wav\n",
      "Error encountered while parsing file:  ../data/Atraining_artifact/Atraining_artifact/201106121445.wav\n",
      "Error encountered while parsing file:  ../data/Atraining_artifact/Atraining_artifact/201106070949.wav\n",
      "Error encountered while parsing file:  ../data/Atraining_artifact/Atraining_artifact/201105060108.wav\n",
      "Error encountered while parsing file:  ../data/Atraining_artifact/Atraining_artifact/201106212112.wav\n",
      "Error encountered while parsing file:  ../data/Atraining_artifact/Atraining_artifact/201106010602.wav\n",
      "Error encountered while parsing file:  ../data/Atraining_artifact/Atraining_artifact/201106110909.wav\n",
      "Error encountered while parsing file:  ../data/Atraining_artifact/Atraining_artifact/201106101314.wav\n",
      "Error encountered while parsing file:  ../data/Atraining_artifact/Atraining_artifact/201106050353.wav\n",
      "Error encountered while parsing file:  ../data/Atraining_artifact/Atraining_artifact/201106161019.wav\n",
      "Error encountered while parsing file:  ../data/Atraining_artifact/Atraining_artifact/201106010559.wav\n",
      "Error encountered while parsing file:  ../data/Atraining_artifact/Atraining_artifact/201105051017.wav\n",
      "Error encountered while parsing file:  ../data/Atraining_artifact/Atraining_artifact/201106131834.wav\n",
      "Error encountered while parsing file:  ../data/Atraining_artifact/Atraining_artifact/201106061233.wav\n",
      "Error encountered while parsing file:  ../data/Atraining_artifact/Atraining_artifact/201106121242.wav\n",
      "Error encountered while parsing file:  ../data/Atraining_artifact/Atraining_artifact/201106101955.wav\n",
      "Error encountered while parsing file:  ../data/Atraining_artifact/Atraining_artifact/201106161016.wav\n",
      "Error encountered while parsing file:  ../data/Atraining_artifact/Atraining_artifact/201106021541.wav\n",
      "Error encountered while parsing file:  ../data/Atraining_artifact/Atraining_artifact/201106161219.wav\n",
      "Error encountered while parsing file:  ../data/Atraining_artifact/Atraining_artifact/201106111119.wav\n"
     ]
    },
    {
     "name": "stderr",
     "output_type": "stream",
     "text": [
      "/home/julien/anaconda3/lib/python3.7/site-packages/librosa/core/audio.py:146: UserWarning: PySoundFile failed. Trying audioread instead.\n",
      "  warnings.warn('PySoundFile failed. Trying audioread instead.')\n"
     ]
    },
    {
     "name": "stdout",
     "output_type": "stream",
     "text": [
      "Error encountered while parsing file:  ../data/Atraining_artifact/Atraining_artifact/.DS_Store\n",
      "Error encountered while parsing file:  ../data/Atraining_artifact/Atraining_artifact/201105190800.wav\n",
      "Error encountered while parsing file:  ../data/Atraining_artifact/Atraining_artifact/201106040947.wav\n"
     ]
    }
   ],
   "source": [
    "sounds_a1 = []\n",
    "\n",
    "for file in sounds_1:\n",
    "    data = extract_sounds(file)\n",
    "    sounds_a1.append(data)"
   ]
  },
  {
   "cell_type": "code",
   "execution_count": null,
   "metadata": {},
   "outputs": [],
   "source": [
    "sounds_a1 = np.array(sounds_a1)"
   ]
  },
  {
   "cell_type": "code",
   "execution_count": null,
   "metadata": {},
   "outputs": [],
   "source": [
    "sounds_a1.shape"
   ]
  },
  {
   "cell_type": "code",
   "execution_count": null,
   "metadata": {
    "scrolled": true
   },
   "outputs": [],
   "source": [
    "sounds_a2 = []\n",
    "\n",
    "for file in sounds_2:\n",
    "    data = extract_sounds(file)\n",
    "    sounds_a2.append(data)\n",
    "\n",
    "sounds_a2 = np.array(sounds_a2)\n",
    "sounds_a2.shape"
   ]
  },
  {
   "cell_type": "code",
   "execution_count": null,
   "metadata": {},
   "outputs": [],
   "source": [
    "sounds_a3 = []\n",
    "\n",
    "for file in sounds_3:\n",
    "    data = extract_sounds(file)\n",
    "    sounds_a3.append(data)\n",
    "\n",
    "sounds_a3 = np.array(sounds_a3)\n",
    "sounds_a3.shape"
   ]
  },
  {
   "cell_type": "code",
   "execution_count": null,
   "metadata": {},
   "outputs": [],
   "source": [
    "sounds_a4 = []\n",
    "\n",
    "for file in sounds_4:\n",
    "    data = extract_sounds(file)\n",
    "    sounds_a4.append(data)\n",
    "\n",
    "sounds_a4 = np.array(sounds_a4)\n",
    "sounds_a4.shape"
   ]
  },
  {
   "cell_type": "code",
   "execution_count": null,
   "metadata": {},
   "outputs": [],
   "source": [
    "sounds_a5 = []\n",
    "\n",
    "for file in sounds_5:\n",
    "    data = extract_sounds(file)\n",
    "    sounds_a5.append(data)\n",
    "\n",
    "sounds_a5 = np.array(sounds_a5)\n",
    "sounds_a5.shape"
   ]
  },
  {
   "cell_type": "code",
   "execution_count": null,
   "metadata": {},
   "outputs": [],
   "source": [
    "sounds_a6 = []\n",
    "\n",
    "for file in sounds_6:\n",
    "    data = extract_sounds(file)\n",
    "    sounds_a6.append(data)\n",
    "\n",
    "sounds_a6 = np.array(sounds_a6)\n",
    "sounds_a6.shape"
   ]
  },
  {
   "cell_type": "code",
   "execution_count": null,
   "metadata": {},
   "outputs": [],
   "source": [
    "sounds_a7 = []\n",
    "\n",
    "for file in sounds_7:\n",
    "    data = extract_sounds(file)\n",
    "    sounds_a7.append(data)\n",
    "\n",
    "sounds_a7 = np.array(sounds_a7)\n",
    "sounds_a7.shape"
   ]
  },
  {
   "cell_type": "code",
   "execution_count": null,
   "metadata": {},
   "outputs": [],
   "source": [
    "sounds_a1.shape[0]+sounds_a2.shape[0]+sounds_a3.shape[0]+sounds_a4.shape[0]+sounds_a5.shape[0]+sounds_a6.shape[0]+sounds_a7.shape[0]"
   ]
  },
  {
   "cell_type": "code",
   "execution_count": null,
   "metadata": {},
   "outputs": [],
   "source": [
    "print(sounds_a1.shape)\n",
    "print(sounds_a2.shape)\n",
    "print(sounds_a3.shape)\n",
    "print(sounds_a4.shape)\n",
    "print(sounds_a5.shape)\n",
    "print(sounds_a6.shape)\n",
    "print(sounds_a7.shape)"
   ]
  },
  {
   "cell_type": "markdown",
   "metadata": {},
   "source": [
    "artifact = 1\n",
    "extrahls = 2\n",
    "murmur = 3\n",
    "normal = 0\n",
    "extrastole = 4\n",
    "murmur\n",
    "normal"
   ]
  },
  {
   "cell_type": "code",
   "execution_count": null,
   "metadata": {},
   "outputs": [],
   "source": [
    "y_1 = np.zeros(81,)\n",
    "y_2 = np.zeros(38,)\n",
    "y_3 = np.zeros(69,)\n",
    "y_4 = np.zeros(63,)\n",
    "y_5 = np.zeros(93,)\n",
    "y_6 = np.zeros(191,)\n",
    "y_7 = np.zeros(641,)"
   ]
  },
  {
   "cell_type": "code",
   "execution_count": null,
   "metadata": {},
   "outputs": [],
   "source": [
    "y_1[:]=1\n",
    "y_2[:]=2\n",
    "y_3[:]=3\n",
    "y_4[:]=0\n",
    "y_5[:] = 4\n",
    "y_6[:]=3\n",
    "y_7[:]=0"
   ]
  },
  {
   "cell_type": "code",
   "execution_count": null,
   "metadata": {},
   "outputs": [],
   "source": [
    "Y = np.concatenate((y_1,y_2,y_3,y_4,y_5,y_6,y_7))"
   ]
  },
  {
   "cell_type": "code",
   "execution_count": null,
   "metadata": {},
   "outputs": [],
   "source": [
    "SOUNDS = np.concatenate((sounds_a1, sounds_a2, sounds_a3, sounds_a4, sounds_a5, sounds_a6, sounds_a7))"
   ]
  },
  {
   "cell_type": "code",
   "execution_count": null,
   "metadata": {},
   "outputs": [],
   "source": [
    "xx_train, xx_test, yy_train, yy_test = train_test_split(SOUNDS, Y, test_size=0.2, random_state = 48)"
   ]
  },
  {
   "cell_type": "code",
   "execution_count": null,
   "metadata": {},
   "outputs": [],
   "source": [
    "yy_train = to_categorical(yy_train, num_classes = 5)\n",
    "yy_test = to_categorical(yy_test, num_classes = 5)"
   ]
  },
  {
   "cell_type": "code",
   "execution_count": null,
   "metadata": {},
   "outputs": [],
   "source": [
    "xx_train.shape"
   ]
  },
  {
   "cell_type": "code",
   "execution_count": null,
   "metadata": {},
   "outputs": [],
   "source": [
    "xx_train = xx_train.reshape(xx_train.shape[0], xx_train.shape[1], xx_train.shape[2], 1)\n",
    "xx_test = xx_test.reshape(xx_test.shape[0], xx_test.shape[1], xx_test.shape[2], 1)"
   ]
  },
  {
   "cell_type": "code",
   "execution_count": null,
   "metadata": {},
   "outputs": [],
   "source": [
    "\n",
    "vanak = Sequential()\n",
    "vanak.add(Conv2D(filters=16, kernel_size=2, input_shape=(x_train.shape[1],x_train.shape[2],x_train.shape[3]), \n",
    "                 activation='relu'))\n",
    "vanak.add(MaxPooling2D(pool_size=2))\n",
    "\n",
    "vanak.add(Conv2D(filters=32, kernel_size=2, activation='relu'))\n",
    "vanak.add(MaxPooling2D(pool_size=2))\n",
    "vanak.add(Dropout(0.2))\n",
    "\n",
    "vanak.add(Conv2D(filters=64, kernel_size=2, activation='relu'))\n",
    "vanak.add(MaxPooling2D(pool_size=2))\n",
    "vanak.add(Dropout(0.2))\n",
    "\n",
    "vanak.add(Conv2D(filters=128, kernel_size=2, activation='relu'))\n",
    "vanak.add(MaxPooling2D(pool_size=2))\n",
    "vanak.add(Dropout(0.2))\n",
    "vanak.add(GlobalAveragePooling2D())\n",
    "\n",
    "vanak.add(Dense(5, activation='softmax'))"
   ]
  },
  {
   "cell_type": "code",
   "execution_count": null,
   "metadata": {},
   "outputs": [],
   "source": [
    "vanak.compile(optimizer='adam', loss='categorical_crossentropy', metrics=['accuracy'])"
   ]
  },
  {
   "cell_type": "code",
   "execution_count": null,
   "metadata": {
    "scrolled": true
   },
   "outputs": [],
   "source": [
    "history = vanak.fit(x=xx_train, y=yy_train, validation_data=(xx_test, yy_test), epochs=500, batch_size=256)"
   ]
  },
  {
   "cell_type": "code",
   "execution_count": null,
   "metadata": {},
   "outputs": [],
   "source": [
    "# Loss Curves\n",
    "plt.figure(figsize=[14,10])\n",
    "plt.subplot(211)\n",
    "plt.plot(history.history['loss'],'r',linewidth=3.0)\n",
    "plt.plot(history.history['val_loss'],'b',linewidth=3.0)\n",
    "plt.legend(['Training loss', 'Validation Loss'],fontsize=18)\n",
    "plt.xlabel('Epochs ',fontsize=16)\n",
    "plt.ylabel('Loss',fontsize=16)\n",
    "plt.title('Loss Curves',fontsize=16)\n",
    " \n",
    "# Accuracy Curves\n",
    "plt.figure(figsize=[14,10])\n",
    "plt.subplot(212)\n",
    "plt.plot(history.history['accuracy'],'r',linewidth=3.0)\n",
    "plt.plot(history.history['val_accuracy'],'b',linewidth=3.0)\n",
    "plt.legend(['Training Accuracy', 'Validation Accuracy'],fontsize=18)\n",
    "plt.xlabel('Epochs ',fontsize=16)\n",
    "plt.ylabel('Accuracy',fontsize=16)\n",
    "plt.title('Accuracy Curves',fontsize=16)"
   ]
  },
  {
   "cell_type": "code",
   "execution_count": null,
   "metadata": {},
   "outputs": [],
   "source": [
    "print(vanak.evaluate(xx_train, yy_train, verbose=0)[1])\n",
    "print(vanak.evaluate(xx_test, yy_test, verbose=0)[1])"
   ]
  },
  {
   "cell_type": "code",
   "execution_count": null,
   "metadata": {},
   "outputs": [],
   "source": [
    "print(model.evaluate(x_train, y_train_cat, verbose=0)[1])\n",
    "print(model.evaluate(x_test, y_test_cat, verbose=0)[1])"
   ]
  },
  {
   "cell_type": "code",
   "execution_count": null,
   "metadata": {},
   "outputs": [],
   "source": [
    "x_train.shape"
   ]
  },
  {
   "cell_type": "code",
   "execution_count": null,
   "metadata": {},
   "outputs": [],
   "source": [
    "yy_train.shape"
   ]
  },
  {
   "cell_type": "code",
   "execution_count": null,
   "metadata": {},
   "outputs": [],
   "source": [
    "new_sounds_arr = []"
   ]
  },
  {
   "cell_type": "code",
   "execution_count": null,
   "metadata": {},
   "outputs": [],
   "source": [
    "\n",
    "\n",
    "for file in sounds_1:\n",
    "    new_sounds_arr.append(extract_sounds(file))\n",
    "\n",
    "for file in sounds_2:\n",
    "    new_sounds_arr.append(extract_sounds(file))\n",
    "\n",
    "for file in sounds_3:\n",
    "    new_sounds_arr.append(extract_sounds(file))\n",
    "    \n",
    "for file in sounds_4:\n",
    "    new_sounds_arr.append(extract_sounds(file))\n",
    "    \n",
    "for file in sounds_5:\n",
    "    new_sounds_arr.append(extract_sounds(file))\n",
    "\n",
    "for file in sounds_6:\n",
    "    new_sounds_arr.append(extract_sounds(file))\n",
    "    \n",
    "for file in sounds_7:\n",
    "    new_sounds_arr.append(extract_sounds(file))"
   ]
  },
  {
   "cell_type": "code",
   "execution_count": null,
   "metadata": {},
   "outputs": [],
   "source": [
    "from tensorflow.keras.preprocessing import sequence\n",
    "from tensorflow.keras.layers import Dense, Embedding, GRU, LSTM, Bidirectional"
   ]
  },
  {
   "cell_type": "code",
   "execution_count": null,
   "metadata": {},
   "outputs": [],
   "source": [
    "new_sounds_arr = np.array(new_sounds_arr)"
   ]
  },
  {
   "cell_type": "code",
   "execution_count": null,
   "metadata": {},
   "outputs": [],
   "source": [
    "new_sounds_arr.shape"
   ]
  },
  {
   "cell_type": "code",
   "execution_count": null,
   "metadata": {},
   "outputs": [],
   "source": [
    "XX_train, XX_test, YY_train, YY_test = train_test_split(new_sounds_arr, Y, test_size = 0.2, random_state = 50)"
   ]
  },
  {
   "cell_type": "code",
   "execution_count": null,
   "metadata": {},
   "outputs": [],
   "source": [
    "YY_train = to_categorical(YY_train, num_classes=5)\n",
    "YY_test = to_categorical(YY_test, num_classes=5)"
   ]
  },
  {
   "cell_type": "code",
   "execution_count": null,
   "metadata": {},
   "outputs": [],
   "source": [
    "GRU"
   ]
  },
  {
   "cell_type": "code",
   "execution_count": null,
   "metadata": {},
   "outputs": [],
   "source": [
    "def my_RNN():\n",
    "\n",
    "    model = Sequential()\n",
    "    #model.add(Embedding(input_dim=10000, output_dim=32, input_length=256))\n",
    "\n",
    "    # We add two layers of GRU \n",
    "    model.add(Bidirectional(GRU(units=8, return_sequences=True, input_shape=XX_train.shape[1:])))\n",
    "    model.add(Dropout(0.2))\n",
    "    model.add(Bidirectional(GRU(units=12, return_sequences=False)))\n",
    "    model.add(Dropout(0.2))\n",
    "\n",
    "    model.add(Dense(units=5, activation='softmax'))\n",
    "\n",
    "    return model"
   ]
  },
  {
   "cell_type": "code",
   "execution_count": null,
   "metadata": {},
   "outputs": [],
   "source": [
    "def my_LSTM():\n",
    "\n",
    "    model = Sequential()\n",
    "\n",
    "    model.add(Bidirectional(LSTM(units=4, return_sequences=True, input_shape=XX_train.shape[1:])))\n",
    "    model.add(Dropout(0.5))\n",
    "    model.add(Bidirectional(LSTM(units=4, return_sequences=False)))\n",
    "    model.add(Dropout(0.5))\n",
    "\n",
    "    model.add(Dense(units=5, activation='softmax'))\n",
    "\n",
    "    return model"
   ]
  },
  {
   "cell_type": "code",
   "execution_count": null,
   "metadata": {},
   "outputs": [],
   "source": [
    "model = my_RNN()\n",
    "\n",
    "model.compile(optimizer='adam',\n",
    "              loss='categorical_crossentropy',\n",
    "              metrics=['accuracy'])"
   ]
  },
  {
   "cell_type": "code",
   "execution_count": null,
   "metadata": {},
   "outputs": [],
   "source": [
    "print(XX_train.shape)\n",
    "print(YY_train.shape)"
   ]
  },
  {
   "cell_type": "code",
   "execution_count": null,
   "metadata": {},
   "outputs": [],
   "source": [
    "from sklearn.preprocessing import StandardScaler"
   ]
  },
  {
   "cell_type": "code",
   "execution_count": null,
   "metadata": {
    "scrolled": true
   },
   "outputs": [],
   "source": [
    "model.fit(x=XX_train, y=YY_train, validation_data=(XX_test, YY_test), epochs=100, batch_size=128)"
   ]
  },
  {
   "cell_type": "code",
   "execution_count": null,
   "metadata": {},
   "outputs": [],
   "source": [
    "model2 = my_LSTM()"
   ]
  },
  {
   "cell_type": "code",
   "execution_count": null,
   "metadata": {},
   "outputs": [],
   "source": [
    "model2.compile(optimizer='adam',\n",
    "              loss='categorical_crossentropy',\n",
    "              metrics=['accuracy'])"
   ]
  },
  {
   "cell_type": "code",
   "execution_count": null,
   "metadata": {},
   "outputs": [],
   "source": [
    "history2 = model2.fit(x=XX_train, y=YY_train, validation_data=(XX_test, YY_test), epochs=100, batch_size=128)"
   ]
  },
  {
   "cell_type": "code",
   "execution_count": null,
   "metadata": {},
   "outputs": [],
   "source": [
    "# Loss Curves\n",
    "plt.figure(figsize=[14,10])\n",
    "plt.subplot(211)\n",
    "plt.plot(history2.history['loss'],'r',linewidth=3.0)\n",
    "plt.plot(history2.history['val_loss'],'b',linewidth=3.0)\n",
    "plt.legend(['Training loss', 'Validation Loss'],fontsize=18)\n",
    "plt.xlabel('Epochs ',fontsize=16)\n",
    "plt.ylabel('Loss',fontsize=16)\n",
    "plt.title('Loss Curves',fontsize=16)\n",
    " \n",
    "# Accuracy Curves\n",
    "plt.figure(figsize=[14,10])\n",
    "plt.subplot(212)\n",
    "plt.plot(history2.history['accuracy'],'r',linewidth=3.0)\n",
    "plt.plot(history2.history['val_accuracy'],'b',linewidth=3.0)\n",
    "plt.legend(['Training Accuracy', 'Validation Accuracy'],fontsize=18)\n",
    "plt.xlabel('Epochs ',fontsize=16)\n",
    "plt.ylabel('Accuracy',fontsize=16)\n",
    "plt.title('Accuracy Curves',fontsize=16)"
   ]
  },
  {
   "cell_type": "code",
   "execution_count": null,
   "metadata": {},
   "outputs": [],
   "source": [
    "XX_train.shape"
   ]
  },
  {
   "cell_type": "code",
   "execution_count": null,
   "metadata": {},
   "outputs": [],
   "source": [
    "XX_test.shape"
   ]
  }
 ],
 "metadata": {
  "kernelspec": {
   "display_name": "Python 3",
   "language": "python",
   "name": "python3"
  },
  "language_info": {
   "codemirror_mode": {
    "name": "ipython",
    "version": 3
   },
   "file_extension": ".py",
   "mimetype": "text/x-python",
   "name": "python",
   "nbconvert_exporter": "python",
   "pygments_lexer": "ipython3",
   "version": "3.7.4"
  }
 },
 "nbformat": 4,
 "nbformat_minor": 2
}
